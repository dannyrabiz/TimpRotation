{
 "cells": [
  {
   "cell_type": "code",
   "execution_count": 1,
   "id": "239ad04f",
   "metadata": {},
   "outputs": [
    {
     "name": "stdout",
     "output_type": "stream",
     "text": [
      "Populating the interactive namespace from numpy and matplotlib\n"
     ]
    }
   ],
   "source": [
    "%pylab inline \n",
    "import pandas as pd \n",
    "import pysam\n",
    "import plotly.express as px\n"
   ]
  },
  {
   "cell_type": "code",
   "execution_count": 27,
   "id": "6769d1dc",
   "metadata": {},
   "outputs": [],
   "source": [
    "samples = !ls *sam"
   ]
  },
  {
   "cell_type": "code",
   "execution_count": 3,
   "id": "68d0f5ee",
   "metadata": {},
   "outputs": [],
   "source": [
    "def Parm_Telo(text, pattern):\n",
    "\n",
    "    # Find the rightmost occurrence of the repeat\n",
    "    rightmost_index = text.rfind(pattern)\n",
    "\n",
    "    # If the pattern is not found, return -1\n",
    "    if rightmost_index == -1:\n",
    "        return -1\n",
    "\n",
    "    # Count the number of letters to the left of the pattern\n",
    "    return rightmost_index\n",
    "\n",
    "\n"
   ]
  },
  {
   "cell_type": "code",
   "execution_count": 4,
   "id": "5f4b5f80",
   "metadata": {},
   "outputs": [],
   "source": [
    "def Qarm_Telo(text, pattern):\n",
    "\n",
    "    # Find the leftmost occurrence of the repeat\n",
    "    leftmost_index = text.find(pattern)\n",
    "\n",
    "    # If the pattern is not found, return -1\n",
    "    if leftmost_index == -1:\n",
    "        return -1\n",
    "\n",
    "    # Count the number of letters to the right of the pattern\n",
    "    return len(text) - (leftmost_index + len(pattern))\n"
   ]
  },
  {
   "cell_type": "code",
   "execution_count": 5,
   "id": "32bfdc8e",
   "metadata": {},
   "outputs": [],
   "source": [
    "def get_length(chrom, read):\n",
    "    if 'p' in chrom:\n",
    "        a = Parm_Telo(read, 'CCCTAACCCTAA') #this is the desired repeatx2 \n",
    "        b = Parm_Telo(read,'CCCTGGCCCTGG') #error repeat \n",
    "        if (a==-1) and (b==-1):\n",
    "            print('Ran on P')\n",
    "            return('B')\n",
    "        elif (a==-1):\n",
    "            return b \n",
    "        elif (b==-1):\n",
    "            return a \n",
    "        elif a>=b:\n",
    "            return a\n",
    "        else:\n",
    "            return b \n",
    "    elif 'q' in chrom:\n",
    "        a = Qarm_Telo(read,'GGGTTAGGGTTA') #this is the desired repeatx2\n",
    "        b = Qarm_Telo(read,'GGGCCAGGGCCA') #error repeat \n",
    "        if (a==-1) and (b==-1):\n",
    "            print('Ran on Q')\n",
    "            return('B')\n",
    "        elif (a==-1):\n",
    "            return b \n",
    "        elif (b==-1):\n",
    "            return a \n",
    "        elif a>=b:\n",
    "            return a\n",
    "        else:\n",
    "            return b \n",
    "        "
   ]
  },
  {
   "cell_type": "code",
   "execution_count": 48,
   "id": "b35da53f",
   "metadata": {
    "collapsed": true
   },
   "outputs": [
    {
     "name": "stdout",
     "output_type": "stream",
     "text": [
      "JH100.sorted.sam\n",
      "Ran on P\n",
      "Ran on P\n",
      "JH101.sorted.sam\n",
      "JH102.sorted.sam\n",
      "Ran on P\n",
      "Ran on P\n",
      "JH103.sorted.sam\n",
      "Ran on P\n",
      "JH104.sorted.sam\n",
      "Ran on P\n",
      "Ran on Q\n",
      "Ran on P\n",
      "Ran on Q\n",
      "JH76.sorted.sam\n",
      "Ran on P\n",
      "Ran on Q\n",
      "JH77.sorted.sam\n",
      "Ran on P\n",
      "Ran on P\n",
      "Ran on P\n",
      "JH80.sorted.sam\n",
      "Ran on P\n",
      "Ran on Q\n",
      "Ran on P\n",
      "Ran on P\n",
      "JH81.sorted.sam\n",
      "Ran on P\n",
      "Ran on P\n",
      "Ran on Q\n",
      "Ran on P\n",
      "Ran on P\n",
      "JH82.sorted.sam\n",
      "Ran on P\n",
      "Ran on P\n",
      "Ran on P\n",
      "Ran on P\n",
      "JH88.sorted.sam\n",
      "Ran on P\n",
      "Ran on P\n",
      "Ran on P\n",
      "Ran on P\n",
      "JH89.sorted.sam\n",
      "Ran on P\n",
      "Ran on P\n",
      "Ran on P\n",
      "Ran on P\n",
      "Ran on P\n",
      "Ran on P\n",
      "Ran on P\n",
      "Ran on P\n",
      "Ran on P\n",
      "JH90.sorted.sam\n",
      "Ran on P\n",
      "Ran on Q\n",
      "Ran on P\n",
      "Ran on P\n",
      "JH91.sorted.sam\n",
      "Ran on P\n",
      "Ran on P\n",
      "Ran on Q\n",
      "JH93.sorted.sam\n",
      "Ran on P\n",
      "Ran on P\n",
      "JH94.sorted.sam\n",
      "Ran on P\n",
      "Ran on Q\n",
      "JH95.sorted.sam\n",
      "Ran on P\n",
      "Ran on P\n",
      "JH96.sorted.sam\n",
      "Ran on P\n",
      "Ran on P\n",
      "Ran on P\n",
      "Ran on P\n",
      "Ran on P\n",
      "JH97.sorted.sam\n",
      "Ran on P\n",
      "Ran on P\n",
      "Ran on P\n",
      "Ran on P\n",
      "JH98.sorted.sam\n"
     ]
    }
   ],
   "source": [
    "masterdf = pd.DataFrame()\n",
    "for sample in samples:\n",
    "    chrom = []\n",
    "    length = []\n",
    "    total_length = []\n",
    "    QD = []\n",
    "    df = pd.read_csv(sample, sep ='\\t',header= None,names=range(24) )\n",
    "    for i in range(df.shape[0]):\n",
    "        telo_length = get_length(df.loc[i][2],df.loc[i][9])\n",
    "        if telo_length !='B':   \n",
    "            if df.loc[i][2]!= '*':\n",
    "                length.append(telo_length)\n",
    "                chrom.append(df.loc[i][2])\n",
    "                QD.append(df.loc[i][4])\n",
    "                total_length.append(len(df.loc[i][9]))\n",
    "            \n",
    "        \n",
    "    DF = pd.DataFrame()\n",
    "    DF['chrom'] = chrom\n",
    "    DF['length'] = length\n",
    "    DF['Qual'] = QD\n",
    "    DF['Read_length'] = total_length\n",
    "    DF = DF.groupby(['chrom']).median()\n",
    "    DF['Sample'] = [sample.split('.')[0] for i in range(DF.shape[0])]\n",
    "    masterdf = pd.concat([masterdf, DF])\n",
    "    print(sample)\n",
    "masterdf = masterdf.reset_index()"
   ]
  },
  {
   "cell_type": "code",
   "execution_count": 77,
   "id": "c01771b2",
   "metadata": {},
   "outputs": [
    {
     "data": {
      "application/vnd.plotly.v1+json": {
       "config": {
        "plotlyServerURL": "https://plot.ly"
       },
       "data": [
        {
         "hovertemplate": "chrom=%{x}<br>length=%{y}<extra></extra>",
         "legendgroup": "chr06p",
         "marker": {
          "color": "#636efa",
          "symbol": "circle"
         },
         "mode": "markers",
         "name": "chr06p",
         "orientation": "v",
         "showlegend": true,
         "type": "scatter",
         "x": [
          "chr06p",
          "chr06p",
          "chr06p",
          "chr06p",
          "chr06p",
          "chr06p",
          "chr06p"
         ],
         "xaxis": "x",
         "y": [
          70,
          119,
          120,
          4981.5,
          8651,
          13583,
          14321
         ],
         "yaxis": "y"
        },
        {
         "hovertemplate": "chrom=%{x}<br>length=%{y}<extra></extra>",
         "legendgroup": "chrYq",
         "marker": {
          "color": "#EF553B",
          "symbol": "circle"
         },
         "mode": "markers",
         "name": "chrYq",
         "orientation": "v",
         "showlegend": true,
         "type": "scatter",
         "x": [
          "chrYq",
          "chrYq",
          "chrYq",
          "chrYq",
          "chrYq",
          "chrYq",
          "chrYq",
          "chrYq",
          "chrYq",
          "chrYq",
          "chrYq",
          "chrYq",
          "chrYq",
          "chrYq",
          "chrYq",
          "chrYq",
          "chrYq",
          "chrYq",
          "chrYq",
          "chrYq"
         ],
         "xaxis": "x",
         "y": [
          93,
          4224,
          4340,
          4447.5,
          4481,
          4819,
          4849,
          4979.5,
          5056,
          5171,
          5224,
          5593,
          5751,
          6262,
          6460.5,
          6893,
          6909,
          7269,
          8224.5,
          9648
         ],
         "yaxis": "y"
        },
        {
         "hovertemplate": "chrom=%{x}<br>length=%{y}<extra></extra>",
         "legendgroup": "chr18p",
         "marker": {
          "color": "#00cc96",
          "symbol": "circle"
         },
         "mode": "markers",
         "name": "chr18p",
         "orientation": "v",
         "showlegend": true,
         "type": "scatter",
         "x": [
          "chr18p",
          "chr18p",
          "chr18p",
          "chr18p",
          "chr18p",
          "chr18p",
          "chr18p",
          "chr18p",
          "chr18p",
          "chr18p",
          "chr18p",
          "chr18p",
          "chr18p",
          "chr18p",
          "chr18p",
          "chr18p",
          "chr18p",
          "chr18p",
          "chr18p",
          "chr18p"
         ],
         "xaxis": "x",
         "y": [
          1284,
          1537,
          1721,
          1864,
          1905,
          1917,
          2008.5,
          2096.5,
          2399,
          2896.5,
          3058,
          3602.5,
          4300,
          4472,
          4519,
          4676,
          5012,
          5083.5,
          5915.5,
          6343
         ],
         "yaxis": "y"
        },
        {
         "hovertemplate": "chrom=%{x}<br>length=%{y}<extra></extra>",
         "legendgroup": "chr08q",
         "marker": {
          "color": "#ab63fa",
          "symbol": "circle"
         },
         "mode": "markers",
         "name": "chr08q",
         "orientation": "v",
         "showlegend": true,
         "type": "scatter",
         "x": [
          "chr08q",
          "chr08q",
          "chr08q",
          "chr08q",
          "chr08q",
          "chr08q",
          "chr08q",
          "chr08q",
          "chr08q",
          "chr08q",
          "chr08q",
          "chr08q"
         ],
         "xaxis": "x",
         "y": [
          2080,
          2195,
          3848,
          3899,
          3936,
          3998,
          4748,
          4928,
          5055,
          5335.5,
          5544,
          6364.5
         ],
         "yaxis": "y"
        },
        {
         "hovertemplate": "chrom=%{x}<br>length=%{y}<extra></extra>",
         "legendgroup": "chr13p",
         "marker": {
          "color": "#FFA15A",
          "symbol": "circle"
         },
         "mode": "markers",
         "name": "chr13p",
         "orientation": "v",
         "showlegend": true,
         "type": "scatter",
         "x": [
          "chr13p",
          "chr13p",
          "chr13p",
          "chr13p",
          "chr13p",
          "chr13p",
          "chr13p",
          "chr13p",
          "chr13p",
          "chr13p",
          "chr13p"
         ],
         "xaxis": "x",
         "y": [
          3155.5,
          3431,
          3864,
          3872,
          5175.5,
          5216,
          6257,
          6375,
          6771.5,
          7491,
          9339
         ],
         "yaxis": "y"
        },
        {
         "hovertemplate": "chrom=%{x}<br>length=%{y}<extra></extra>",
         "legendgroup": "chr10p",
         "marker": {
          "color": "#19d3f3",
          "symbol": "circle"
         },
         "mode": "markers",
         "name": "chr10p",
         "orientation": "v",
         "showlegend": true,
         "type": "scatter",
         "x": [
          "chr10p",
          "chr10p",
          "chr10p",
          "chr10p",
          "chr10p",
          "chr10p",
          "chr10p",
          "chr10p",
          "chr10p",
          "chr10p",
          "chr10p",
          "chr10p",
          "chr10p",
          "chr10p",
          "chr10p",
          "chr10p",
          "chr10p",
          "chr10p",
          "chr10p",
          "chr10p"
         ],
         "xaxis": "x",
         "y": [
          3503,
          3650,
          3728,
          4249.5,
          4549,
          4661,
          4693.5,
          4818,
          6497,
          6628,
          6636,
          6705.5,
          6927,
          7268.5,
          7435.5,
          7745,
          8199,
          8383,
          8443,
          9573
         ],
         "yaxis": "y"
        },
        {
         "hovertemplate": "chrom=%{x}<br>length=%{y}<extra></extra>",
         "legendgroup": "chr17q",
         "marker": {
          "color": "#FF6692",
          "symbol": "circle"
         },
         "mode": "markers",
         "name": "chr17q",
         "orientation": "v",
         "showlegend": true,
         "type": "scatter",
         "x": [
          "chr17q",
          "chr17q",
          "chr17q",
          "chr17q",
          "chr17q",
          "chr17q",
          "chr17q",
          "chr17q",
          "chr17q",
          "chr17q",
          "chr17q",
          "chr17q",
          "chr17q",
          "chr17q",
          "chr17q",
          "chr17q",
          "chr17q",
          "chr17q",
          "chr17q",
          "chr17q"
         ],
         "xaxis": "x",
         "y": [
          3591,
          4152,
          4463,
          4496,
          4517,
          4518,
          4633,
          4641,
          4645,
          4874,
          4896,
          5140.5,
          5171.5,
          5376,
          5680.5,
          5914.5,
          5965,
          6373.5,
          6738.5,
          6918
         ],
         "yaxis": "y"
        },
        {
         "hovertemplate": "chrom=%{x}<br>length=%{y}<extra></extra>",
         "legendgroup": "chr16p",
         "marker": {
          "color": "#B6E880",
          "symbol": "circle"
         },
         "mode": "markers",
         "name": "chr16p",
         "orientation": "v",
         "showlegend": true,
         "type": "scatter",
         "x": [
          "chr16p",
          "chr16p",
          "chr16p",
          "chr16p",
          "chr16p",
          "chr16p",
          "chr16p",
          "chr16p",
          "chr16p",
          "chr16p",
          "chr16p",
          "chr16p",
          "chr16p",
          "chr16p",
          "chr16p",
          "chr16p",
          "chr16p",
          "chr16p",
          "chr16p",
          "chr16p"
         ],
         "xaxis": "x",
         "y": [
          3623,
          4452,
          4609,
          4630,
          4715,
          4878,
          4904,
          5182,
          5248.5,
          5295.5,
          5460,
          5619.5,
          5743,
          5767,
          5984,
          6501.5,
          6646.5,
          7217,
          7353,
          7522
         ],
         "yaxis": "y"
        },
        {
         "hovertemplate": "chrom=%{x}<br>length=%{y}<extra></extra>",
         "legendgroup": "chr14p",
         "marker": {
          "color": "#FF97FF",
          "symbol": "circle"
         },
         "mode": "markers",
         "name": "chr14p",
         "orientation": "v",
         "showlegend": true,
         "type": "scatter",
         "x": [
          "chr14p",
          "chr14p",
          "chr14p",
          "chr14p",
          "chr14p",
          "chr14p"
         ],
         "xaxis": "x",
         "y": [
          3630,
          3762,
          4470,
          4806,
          5623,
          7255
         ],
         "yaxis": "y"
        },
        {
         "hovertemplate": "chrom=%{x}<br>length=%{y}<extra></extra>",
         "legendgroup": "chr11p",
         "marker": {
          "color": "#FECB52",
          "symbol": "circle"
         },
         "mode": "markers",
         "name": "chr11p",
         "orientation": "v",
         "showlegend": true,
         "type": "scatter",
         "x": [
          "chr11p",
          "chr11p",
          "chr11p",
          "chr11p",
          "chr11p",
          "chr11p",
          "chr11p",
          "chr11p",
          "chr11p",
          "chr11p",
          "chr11p",
          "chr11p",
          "chr11p",
          "chr11p",
          "chr11p",
          "chr11p",
          "chr11p",
          "chr11p",
          "chr11p",
          "chr11p"
         ],
         "xaxis": "x",
         "y": [
          3735,
          4306,
          4479,
          4598,
          4658.5,
          4720.5,
          4797,
          4934,
          4947,
          5012,
          5143.5,
          5172,
          5225.5,
          5607,
          5631.5,
          5801,
          6479,
          6723.5,
          7054,
          7238
         ],
         "yaxis": "y"
        },
        {
         "hovertemplate": "chrom=%{x}<br>length=%{y}<extra></extra>",
         "legendgroup": "chr12q",
         "marker": {
          "color": "#636efa",
          "symbol": "circle"
         },
         "mode": "markers",
         "name": "chr12q",
         "orientation": "v",
         "showlegend": true,
         "type": "scatter",
         "x": [
          "chr12q",
          "chr12q",
          "chr12q",
          "chr12q",
          "chr12q",
          "chr12q",
          "chr12q",
          "chr12q",
          "chr12q",
          "chr12q",
          "chr12q",
          "chr12q",
          "chr12q",
          "chr12q",
          "chr12q",
          "chr12q",
          "chr12q",
          "chr12q",
          "chr12q",
          "chr12q"
         ],
         "xaxis": "x",
         "y": [
          3759,
          5189,
          5558,
          5840,
          6352.5,
          6581,
          6703,
          6753,
          7887,
          8168,
          8408,
          8410.5,
          8567.5,
          8694,
          9102,
          9122,
          9264,
          9503,
          10071,
          11408
         ],
         "yaxis": "y"
        },
        {
         "hovertemplate": "chrom=%{x}<br>length=%{y}<extra></extra>",
         "legendgroup": "chr12p",
         "marker": {
          "color": "#EF553B",
          "symbol": "circle"
         },
         "mode": "markers",
         "name": "chr12p",
         "orientation": "v",
         "showlegend": true,
         "type": "scatter",
         "x": [
          "chr12p",
          "chr12p",
          "chr12p",
          "chr12p",
          "chr12p",
          "chr12p",
          "chr12p",
          "chr12p",
          "chr12p",
          "chr12p",
          "chr12p",
          "chr12p",
          "chr12p",
          "chr12p",
          "chr12p",
          "chr12p",
          "chr12p",
          "chr12p",
          "chr12p",
          "chr12p"
         ],
         "xaxis": "x",
         "y": [
          3890,
          4046,
          4219,
          4332.5,
          5033.5,
          5053,
          5086,
          5197,
          5239,
          5311,
          5327,
          5472.5,
          5576.5,
          5737,
          5852,
          5991,
          6107,
          6442.5,
          6887.5,
          7475
         ],
         "yaxis": "y"
        },
        {
         "hovertemplate": "chrom=%{x}<br>length=%{y}<extra></extra>",
         "legendgroup": "chr09p",
         "marker": {
          "color": "#00cc96",
          "symbol": "circle"
         },
         "mode": "markers",
         "name": "chr09p",
         "orientation": "v",
         "showlegend": true,
         "type": "scatter",
         "x": [
          "chr09p",
          "chr09p",
          "chr09p",
          "chr09p",
          "chr09p",
          "chr09p",
          "chr09p",
          "chr09p",
          "chr09p",
          "chr09p",
          "chr09p",
          "chr09p",
          "chr09p",
          "chr09p",
          "chr09p",
          "chr09p",
          "chr09p",
          "chr09p",
          "chr09p",
          "chr09p"
         ],
         "xaxis": "x",
         "y": [
          3997,
          4071,
          4085,
          4635,
          4675,
          4677,
          4945.5,
          5067,
          5136.5,
          5151,
          5264.5,
          5299,
          5465,
          5480,
          5577,
          5757.5,
          5938.5,
          6631.5,
          6816.5,
          6916
         ],
         "yaxis": "y"
        },
        {
         "hovertemplate": "chrom=%{x}<br>length=%{y}<extra></extra>",
         "legendgroup": "chr17p",
         "marker": {
          "color": "#ab63fa",
          "symbol": "circle"
         },
         "mode": "markers",
         "name": "chr17p",
         "orientation": "v",
         "showlegend": true,
         "type": "scatter",
         "x": [
          "chr17p",
          "chr17p",
          "chr17p",
          "chr17p",
          "chr17p",
          "chr17p",
          "chr17p",
          "chr17p",
          "chr17p",
          "chr17p",
          "chr17p",
          "chr17p",
          "chr17p",
          "chr17p",
          "chr17p",
          "chr17p",
          "chr17p",
          "chr17p"
         ],
         "xaxis": "x",
         "y": [
          4006.5,
          4161,
          4305.5,
          4490,
          4616.5,
          4626.5,
          4664,
          4769,
          4969.5,
          5013.5,
          5159,
          5435.5,
          5499.5,
          5789,
          6193,
          6225.5,
          6486,
          10682
         ],
         "yaxis": "y"
        },
        {
         "hovertemplate": "chrom=%{x}<br>length=%{y}<extra></extra>",
         "legendgroup": "chr19p",
         "marker": {
          "color": "#FFA15A",
          "symbol": "circle"
         },
         "mode": "markers",
         "name": "chr19p",
         "orientation": "v",
         "showlegend": true,
         "type": "scatter",
         "x": [
          "chr19p",
          "chr19p",
          "chr19p",
          "chr19p",
          "chr19p",
          "chr19p",
          "chr19p",
          "chr19p",
          "chr19p",
          "chr19p",
          "chr19p",
          "chr19p",
          "chr19p",
          "chr19p",
          "chr19p",
          "chr19p",
          "chr19p",
          "chr19p",
          "chr19p",
          "chr19p"
         ],
         "xaxis": "x",
         "y": [
          4094,
          4223,
          4262,
          4442,
          4461,
          4937,
          4979,
          5284.5,
          5378,
          5386.5,
          5551,
          5595,
          5847,
          5854,
          5934.5,
          6116,
          6158,
          6163.5,
          6270,
          7644
         ],
         "yaxis": "y"
        },
        {
         "hovertemplate": "chrom=%{x}<br>length=%{y}<extra></extra>",
         "legendgroup": "chr03q",
         "marker": {
          "color": "#19d3f3",
          "symbol": "circle"
         },
         "mode": "markers",
         "name": "chr03q",
         "orientation": "v",
         "showlegend": true,
         "type": "scatter",
         "x": [
          "chr03q",
          "chr03q",
          "chr03q",
          "chr03q",
          "chr03q",
          "chr03q",
          "chr03q",
          "chr03q",
          "chr03q",
          "chr03q",
          "chr03q",
          "chr03q",
          "chr03q",
          "chr03q",
          "chr03q",
          "chr03q",
          "chr03q",
          "chr03q",
          "chr03q",
          "chr03q"
         ],
         "xaxis": "x",
         "y": [
          4132,
          4584,
          4818,
          4869,
          4909,
          4914,
          4961,
          4979,
          5027,
          5159,
          5232.5,
          5281,
          5307,
          5426,
          6641.5,
          6738,
          6857,
          6884,
          6887.5,
          7264
         ],
         "yaxis": "y"
        },
        {
         "hovertemplate": "chrom=%{x}<br>length=%{y}<extra></extra>",
         "legendgroup": "chrXq",
         "marker": {
          "color": "#FF6692",
          "symbol": "circle"
         },
         "mode": "markers",
         "name": "chrXq",
         "orientation": "v",
         "showlegend": true,
         "type": "scatter",
         "x": [
          "chrXq",
          "chrXq",
          "chrXq",
          "chrXq",
          "chrXq",
          "chrXq",
          "chrXq",
          "chrXq",
          "chrXq",
          "chrXq",
          "chrXq",
          "chrXq",
          "chrXq",
          "chrXq",
          "chrXq",
          "chrXq",
          "chrXq",
          "chrXq",
          "chrXq",
          "chrXq"
         ],
         "xaxis": "x",
         "y": [
          4133,
          4502,
          4510,
          4835,
          4859.5,
          4952,
          5023,
          5032.5,
          5086,
          5289,
          5416.5,
          5552,
          5587.5,
          5644,
          5851,
          6031,
          6576.5,
          6862,
          7250.5,
          8331
         ],
         "yaxis": "y"
        },
        {
         "hovertemplate": "chrom=%{x}<br>length=%{y}<extra></extra>",
         "legendgroup": "chr20q",
         "marker": {
          "color": "#B6E880",
          "symbol": "circle"
         },
         "mode": "markers",
         "name": "chr20q",
         "orientation": "v",
         "showlegend": true,
         "type": "scatter",
         "x": [
          "chr20q",
          "chr20q",
          "chr20q",
          "chr20q",
          "chr20q",
          "chr20q",
          "chr20q",
          "chr20q",
          "chr20q",
          "chr20q",
          "chr20q",
          "chr20q",
          "chr20q",
          "chr20q",
          "chr20q",
          "chr20q",
          "chr20q",
          "chr20q",
          "chr20q",
          "chr20q"
         ],
         "xaxis": "x",
         "y": [
          4169,
          4196,
          4574,
          4596,
          4717,
          4726,
          4841,
          4997,
          5250,
          5342,
          5374,
          5452.5,
          5504,
          5524,
          5927.5,
          5955.5,
          6136,
          6304.5,
          7134,
          7768
         ],
         "yaxis": "y"
        },
        {
         "hovertemplate": "chrom=%{x}<br>length=%{y}<extra></extra>",
         "legendgroup": "chr15q",
         "marker": {
          "color": "#FF97FF",
          "symbol": "circle"
         },
         "mode": "markers",
         "name": "chr15q",
         "orientation": "v",
         "showlegend": true,
         "type": "scatter",
         "x": [
          "chr15q",
          "chr15q",
          "chr15q",
          "chr15q",
          "chr15q",
          "chr15q",
          "chr15q",
          "chr15q",
          "chr15q",
          "chr15q",
          "chr15q",
          "chr15q",
          "chr15q",
          "chr15q",
          "chr15q",
          "chr15q",
          "chr15q",
          "chr15q",
          "chr15q",
          "chr15q"
         ],
         "xaxis": "x",
         "y": [
          4208.5,
          4395.5,
          4401,
          4440,
          4554.5,
          4727,
          4772,
          4774,
          4909,
          5058,
          5098,
          5200.5,
          5598,
          5811,
          5813.5,
          5889.5,
          6775,
          7436,
          7736,
          8847
         ],
         "yaxis": "y"
        },
        {
         "hovertemplate": "chrom=%{x}<br>length=%{y}<extra></extra>",
         "legendgroup": "chr01q",
         "marker": {
          "color": "#FECB52",
          "symbol": "circle"
         },
         "mode": "markers",
         "name": "chr01q",
         "orientation": "v",
         "showlegend": true,
         "type": "scatter",
         "x": [
          "chr01q",
          "chr01q",
          "chr01q",
          "chr01q",
          "chr01q",
          "chr01q",
          "chr01q",
          "chr01q",
          "chr01q",
          "chr01q",
          "chr01q",
          "chr01q",
          "chr01q",
          "chr01q",
          "chr01q",
          "chr01q",
          "chr01q",
          "chr01q",
          "chr01q",
          "chr01q"
         ],
         "xaxis": "x",
         "y": [
          4240,
          4261,
          4709,
          4759,
          5204,
          5262,
          5612,
          5652,
          5755,
          5780.5,
          5835,
          5865,
          5907,
          6400,
          6649,
          6721,
          7932,
          7996,
          8536.5,
          8914.5
         ],
         "yaxis": "y"
        },
        {
         "hovertemplate": "chrom=%{x}<br>length=%{y}<extra></extra>",
         "legendgroup": "chr01p",
         "marker": {
          "color": "#636efa",
          "symbol": "circle"
         },
         "mode": "markers",
         "name": "chr01p",
         "orientation": "v",
         "showlegend": true,
         "type": "scatter",
         "x": [
          "chr01p",
          "chr01p",
          "chr01p",
          "chr01p",
          "chr01p",
          "chr01p",
          "chr01p",
          "chr01p",
          "chr01p",
          "chr01p",
          "chr01p",
          "chr01p",
          "chr01p",
          "chr01p",
          "chr01p",
          "chr01p",
          "chr01p",
          "chr01p",
          "chr01p",
          "chr01p"
         ],
         "xaxis": "x",
         "y": [
          4309.5,
          5064,
          5154,
          5189,
          5553,
          5556,
          5646,
          5718,
          5815.5,
          5818,
          5819,
          5855,
          6049,
          6101.5,
          6333,
          6426,
          7125,
          7723,
          7897.5,
          8139.5
         ],
         "yaxis": "y"
        },
        {
         "hovertemplate": "chrom=%{x}<br>length=%{y}<extra></extra>",
         "legendgroup": "chr20p",
         "marker": {
          "color": "#EF553B",
          "symbol": "circle"
         },
         "mode": "markers",
         "name": "chr20p",
         "orientation": "v",
         "showlegend": true,
         "type": "scatter",
         "x": [
          "chr20p",
          "chr20p",
          "chr20p",
          "chr20p",
          "chr20p",
          "chr20p",
          "chr20p",
          "chr20p",
          "chr20p",
          "chr20p",
          "chr20p",
          "chr20p",
          "chr20p",
          "chr20p",
          "chr20p",
          "chr20p",
          "chr20p",
          "chr20p",
          "chr20p",
          "chr20p"
         ],
         "xaxis": "x",
         "y": [
          4439,
          4740.5,
          4749,
          4788,
          4861,
          5006.5,
          5076,
          5174,
          5176.5,
          5415,
          5421.5,
          5499.5,
          5500.5,
          6235,
          6251,
          6401,
          6431,
          6437.5,
          7119,
          7399.5
         ],
         "yaxis": "y"
        },
        {
         "hovertemplate": "chrom=%{x}<br>length=%{y}<extra></extra>",
         "legendgroup": "chr07p",
         "marker": {
          "color": "#00cc96",
          "symbol": "circle"
         },
         "mode": "markers",
         "name": "chr07p",
         "orientation": "v",
         "showlegend": true,
         "type": "scatter",
         "x": [
          "chr07p",
          "chr07p",
          "chr07p",
          "chr07p",
          "chr07p",
          "chr07p",
          "chr07p",
          "chr07p",
          "chr07p",
          "chr07p",
          "chr07p",
          "chr07p",
          "chr07p",
          "chr07p",
          "chr07p",
          "chr07p",
          "chr07p",
          "chr07p",
          "chr07p",
          "chr07p"
         ],
         "xaxis": "x",
         "y": [
          4443,
          4507,
          4719,
          4866,
          4919,
          4942,
          5018,
          5053,
          5079,
          5198,
          5296,
          5702,
          5723,
          5856,
          5918,
          6016,
          6024,
          6201,
          7687,
          7711
         ],
         "yaxis": "y"
        },
        {
         "hovertemplate": "chrom=%{x}<br>length=%{y}<extra></extra>",
         "legendgroup": "chr11q",
         "marker": {
          "color": "#ab63fa",
          "symbol": "circle"
         },
         "mode": "markers",
         "name": "chr11q",
         "orientation": "v",
         "showlegend": true,
         "type": "scatter",
         "x": [
          "chr11q",
          "chr11q",
          "chr11q",
          "chr11q",
          "chr11q",
          "chr11q",
          "chr11q",
          "chr11q",
          "chr11q",
          "chr11q",
          "chr11q",
          "chr11q",
          "chr11q",
          "chr11q",
          "chr11q",
          "chr11q",
          "chr11q",
          "chr11q",
          "chr11q",
          "chr11q"
         ],
         "xaxis": "x",
         "y": [
          4450,
          4781,
          4810,
          4877,
          4946,
          4962,
          5224,
          5379.5,
          5457,
          5457.5,
          5546,
          5664,
          5689,
          5922,
          6064,
          7178,
          7227,
          7701,
          7748,
          7767
         ],
         "yaxis": "y"
        },
        {
         "hovertemplate": "chrom=%{x}<br>length=%{y}<extra></extra>",
         "legendgroup": "chr09q",
         "marker": {
          "color": "#FFA15A",
          "symbol": "circle"
         },
         "mode": "markers",
         "name": "chr09q",
         "orientation": "v",
         "showlegend": true,
         "type": "scatter",
         "x": [
          "chr09q",
          "chr09q",
          "chr09q",
          "chr09q",
          "chr09q",
          "chr09q",
          "chr09q",
          "chr09q",
          "chr09q",
          "chr09q",
          "chr09q",
          "chr09q",
          "chr09q",
          "chr09q",
          "chr09q",
          "chr09q",
          "chr09q",
          "chr09q",
          "chr09q",
          "chr09q"
         ],
         "xaxis": "x",
         "y": [
          4456,
          4615,
          4738,
          4807,
          4809.5,
          4993,
          5053.5,
          5201.5,
          5372,
          5472,
          5543.5,
          5627,
          5787,
          6253,
          6294.5,
          6314,
          6589,
          7039,
          7040,
          7734
         ],
         "yaxis": "y"
        },
        {
         "hovertemplate": "chrom=%{x}<br>length=%{y}<extra></extra>",
         "legendgroup": "chr05p",
         "marker": {
          "color": "#19d3f3",
          "symbol": "circle"
         },
         "mode": "markers",
         "name": "chr05p",
         "orientation": "v",
         "showlegend": true,
         "type": "scatter",
         "x": [
          "chr05p",
          "chr05p",
          "chr05p",
          "chr05p",
          "chr05p",
          "chr05p",
          "chr05p",
          "chr05p",
          "chr05p",
          "chr05p",
          "chr05p",
          "chr05p",
          "chr05p",
          "chr05p",
          "chr05p",
          "chr05p",
          "chr05p",
          "chr05p",
          "chr05p",
          "chr05p"
         ],
         "xaxis": "x",
         "y": [
          4474,
          4739.5,
          5710,
          5935.5,
          5985,
          6075,
          6107,
          6277,
          6658.5,
          6870,
          7136.5,
          7166,
          7181,
          7185,
          7197,
          7649,
          7810,
          7980,
          8122,
          8883
         ],
         "yaxis": "y"
        },
        {
         "hovertemplate": "chrom=%{x}<br>length=%{y}<extra></extra>",
         "legendgroup": "chr04q",
         "marker": {
          "color": "#FF6692",
          "symbol": "circle"
         },
         "mode": "markers",
         "name": "chr04q",
         "orientation": "v",
         "showlegend": true,
         "type": "scatter",
         "x": [
          "chr04q",
          "chr04q",
          "chr04q",
          "chr04q",
          "chr04q",
          "chr04q",
          "chr04q",
          "chr04q",
          "chr04q",
          "chr04q",
          "chr04q",
          "chr04q",
          "chr04q",
          "chr04q",
          "chr04q",
          "chr04q",
          "chr04q",
          "chr04q",
          "chr04q",
          "chr04q"
         ],
         "xaxis": "x",
         "y": [
          4675.5,
          5206,
          5330,
          5343,
          5656,
          5750.5,
          6198.5,
          6947,
          6964,
          7990,
          8264,
          10091,
          10259,
          14680.5,
          15565.5,
          16552,
          17149,
          19605,
          23649.5,
          24890.5
         ],
         "yaxis": "y"
        },
        {
         "hovertemplate": "chrom=%{x}<br>length=%{y}<extra></extra>",
         "legendgroup": "chr03p",
         "marker": {
          "color": "#B6E880",
          "symbol": "circle"
         },
         "mode": "markers",
         "name": "chr03p",
         "orientation": "v",
         "showlegend": true,
         "type": "scatter",
         "x": [
          "chr03p",
          "chr03p",
          "chr03p",
          "chr03p",
          "chr03p",
          "chr03p",
          "chr03p",
          "chr03p",
          "chr03p",
          "chr03p",
          "chr03p",
          "chr03p",
          "chr03p",
          "chr03p",
          "chr03p",
          "chr03p",
          "chr03p",
          "chr03p",
          "chr03p",
          "chr03p"
         ],
         "xaxis": "x",
         "y": [
          4678,
          4842,
          5211,
          5386.5,
          5837,
          5968,
          6070,
          6187.5,
          6391,
          6464.5,
          6901.5,
          7010.5,
          7025.5,
          7082.5,
          7273,
          7973.5,
          8657,
          8693.5,
          9040,
          9864
         ],
         "yaxis": "y"
        },
        {
         "hovertemplate": "chrom=%{x}<br>length=%{y}<extra></extra>",
         "legendgroup": "chr07q",
         "marker": {
          "color": "#FF97FF",
          "symbol": "circle"
         },
         "mode": "markers",
         "name": "chr07q",
         "orientation": "v",
         "showlegend": true,
         "type": "scatter",
         "x": [
          "chr07q",
          "chr07q",
          "chr07q",
          "chr07q",
          "chr07q",
          "chr07q",
          "chr07q",
          "chr07q",
          "chr07q",
          "chr07q",
          "chr07q",
          "chr07q",
          "chr07q",
          "chr07q",
          "chr07q",
          "chr07q",
          "chr07q",
          "chr07q",
          "chr07q",
          "chr07q"
         ],
         "xaxis": "x",
         "y": [
          4823.5,
          4984.5,
          5145,
          5168,
          5679.5,
          5850.5,
          5862,
          5933,
          6137.5,
          6173,
          6206.5,
          6443,
          6659,
          6722,
          6724,
          6809,
          6871.5,
          6990.5,
          7624,
          7837
         ],
         "yaxis": "y"
        },
        {
         "hovertemplate": "chrom=%{x}<br>length=%{y}<extra></extra>",
         "legendgroup": "chr02q",
         "marker": {
          "color": "#FECB52",
          "symbol": "circle"
         },
         "mode": "markers",
         "name": "chr02q",
         "orientation": "v",
         "showlegend": true,
         "type": "scatter",
         "x": [
          "chr02q",
          "chr02q",
          "chr02q",
          "chr02q",
          "chr02q",
          "chr02q",
          "chr02q",
          "chr02q",
          "chr02q",
          "chr02q",
          "chr02q",
          "chr02q",
          "chr02q",
          "chr02q",
          "chr02q",
          "chr02q",
          "chr02q",
          "chr02q",
          "chr02q",
          "chr02q"
         ],
         "xaxis": "x",
         "y": [
          4851,
          4923.5,
          4964,
          5054,
          5063,
          5191.5,
          5292,
          5342,
          5460,
          5747,
          6469,
          6766,
          6810.5,
          6864,
          7665,
          8218,
          9374,
          15049.5,
          16198,
          18246
         ],
         "yaxis": "y"
        },
        {
         "hovertemplate": "chrom=%{x}<br>length=%{y}<extra></extra>",
         "legendgroup": "chr05q",
         "marker": {
          "color": "#636efa",
          "symbol": "circle"
         },
         "mode": "markers",
         "name": "chr05q",
         "orientation": "v",
         "showlegend": true,
         "type": "scatter",
         "x": [
          "chr05q",
          "chr05q",
          "chr05q",
          "chr05q",
          "chr05q",
          "chr05q",
          "chr05q",
          "chr05q",
          "chr05q",
          "chr05q",
          "chr05q",
          "chr05q",
          "chr05q",
          "chr05q",
          "chr05q",
          "chr05q",
          "chr05q",
          "chr05q",
          "chr05q",
          "chr05q"
         ],
         "xaxis": "x",
         "y": [
          4947,
          5259,
          5477,
          5482,
          5525.5,
          5676,
          5948,
          6173,
          6227,
          6525,
          6552,
          6611,
          6990,
          7080,
          7119,
          7150.5,
          7368,
          7930,
          8284,
          8655
         ],
         "yaxis": "y"
        },
        {
         "hovertemplate": "chrom=%{x}<br>length=%{y}<extra></extra>",
         "legendgroup": "chr16q",
         "marker": {
          "color": "#EF553B",
          "symbol": "circle"
         },
         "mode": "markers",
         "name": "chr16q",
         "orientation": "v",
         "showlegend": true,
         "type": "scatter",
         "x": [
          "chr16q",
          "chr16q",
          "chr16q",
          "chr16q",
          "chr16q",
          "chr16q",
          "chr16q",
          "chr16q",
          "chr16q",
          "chr16q",
          "chr16q",
          "chr16q",
          "chr16q",
          "chr16q",
          "chr16q",
          "chr16q",
          "chr16q",
          "chr16q",
          "chr16q",
          "chr16q"
         ],
         "xaxis": "x",
         "y": [
          4955.5,
          5401,
          5799,
          5914,
          6059,
          6338.5,
          6408,
          6454,
          6823,
          6923.5,
          7229,
          7655,
          7718,
          7744,
          8086,
          8101,
          8144.5,
          8517.5,
          9827,
          16847
         ],
         "yaxis": "y"
        },
        {
         "hovertemplate": "chrom=%{x}<br>length=%{y}<extra></extra>",
         "legendgroup": "chr02p",
         "marker": {
          "color": "#00cc96",
          "symbol": "circle"
         },
         "mode": "markers",
         "name": "chr02p",
         "orientation": "v",
         "showlegend": true,
         "type": "scatter",
         "x": [
          "chr02p",
          "chr02p",
          "chr02p",
          "chr02p",
          "chr02p",
          "chr02p",
          "chr02p",
          "chr02p",
          "chr02p",
          "chr02p",
          "chr02p",
          "chr02p",
          "chr02p",
          "chr02p",
          "chr02p",
          "chr02p",
          "chr02p",
          "chr02p",
          "chr02p",
          "chr02p"
         ],
         "xaxis": "x",
         "y": [
          5110,
          5411,
          5521,
          5698,
          5699,
          5784.5,
          5842,
          5962.5,
          5974,
          6003.5,
          6099.5,
          6133,
          6199,
          6287,
          6326,
          7547,
          7646.5,
          7857.5,
          8352,
          8507
         ],
         "yaxis": "y"
        },
        {
         "hovertemplate": "chrom=%{x}<br>length=%{y}<extra></extra>",
         "legendgroup": "chr13q",
         "marker": {
          "color": "#ab63fa",
          "symbol": "circle"
         },
         "mode": "markers",
         "name": "chr13q",
         "orientation": "v",
         "showlegend": true,
         "type": "scatter",
         "x": [
          "chr13q",
          "chr13q",
          "chr13q",
          "chr13q",
          "chr13q",
          "chr13q",
          "chr13q",
          "chr13q",
          "chr13q",
          "chr13q",
          "chr13q",
          "chr13q",
          "chr13q",
          "chr13q",
          "chr13q",
          "chr13q",
          "chr13q",
          "chr13q",
          "chr13q",
          "chr13q"
         ],
         "xaxis": "x",
         "y": [
          5119,
          5165,
          5278,
          5282.5,
          5480,
          5515,
          5551,
          5733,
          5822.5,
          5892,
          6018,
          6207,
          6227,
          6491,
          6926.5,
          7056,
          7835,
          7997,
          8340,
          10365
         ],
         "yaxis": "y"
        },
        {
         "hovertemplate": "chrom=%{x}<br>length=%{y}<extra></extra>",
         "legendgroup": "chr06q",
         "marker": {
          "color": "#FFA15A",
          "symbol": "circle"
         },
         "mode": "markers",
         "name": "chr06q",
         "orientation": "v",
         "showlegend": true,
         "type": "scatter",
         "x": [
          "chr06q",
          "chr06q",
          "chr06q",
          "chr06q",
          "chr06q",
          "chr06q",
          "chr06q",
          "chr06q",
          "chr06q",
          "chr06q",
          "chr06q",
          "chr06q",
          "chr06q",
          "chr06q",
          "chr06q",
          "chr06q",
          "chr06q",
          "chr06q",
          "chr06q",
          "chr06q"
         ],
         "xaxis": "x",
         "y": [
          5303.5,
          5701,
          5775.5,
          5932,
          6134.5,
          6245,
          6282,
          6549,
          6602,
          6782.5,
          6976,
          6992,
          7000,
          7086,
          7183,
          7287.5,
          7471,
          8421,
          9115,
          9201.5
         ],
         "yaxis": "y"
        },
        {
         "hovertemplate": "chrom=%{x}<br>length=%{y}<extra></extra>",
         "legendgroup": "chr10q",
         "marker": {
          "color": "#19d3f3",
          "symbol": "circle"
         },
         "mode": "markers",
         "name": "chr10q",
         "orientation": "v",
         "showlegend": true,
         "type": "scatter",
         "x": [
          "chr10q",
          "chr10q",
          "chr10q",
          "chr10q",
          "chr10q",
          "chr10q",
          "chr10q",
          "chr10q",
          "chr10q",
          "chr10q",
          "chr10q",
          "chr10q",
          "chr10q",
          "chr10q",
          "chr10q",
          "chr10q",
          "chr10q",
          "chr10q",
          "chr10q",
          "chr10q"
         ],
         "xaxis": "x",
         "y": [
          5625,
          5901,
          6087,
          6448,
          6488.5,
          6519,
          6531,
          7616.5,
          7773,
          8015,
          8589,
          8630,
          9114.5,
          9225,
          9763,
          9942,
          9943.5,
          10861,
          20116,
          23712
         ],
         "yaxis": "y"
        },
        {
         "hovertemplate": "chrom=%{x}<br>length=%{y}<extra></extra>",
         "legendgroup": "chr21p",
         "marker": {
          "color": "#FF6692",
          "symbol": "circle"
         },
         "mode": "markers",
         "name": "chr21p",
         "orientation": "v",
         "showlegend": true,
         "type": "scatter",
         "x": [
          "chr21p",
          "chr21p",
          "chr21p",
          "chr21p",
          "chr21p",
          "chr21p",
          "chr21p",
          "chr21p",
          "chr21p",
          "chr21p",
          "chr21p",
          "chr21p",
          "chr21p",
          "chr21p",
          "chr21p",
          "chr21p",
          "chr21p",
          "chr21p",
          "chr21p",
          "chr21p"
         ],
         "xaxis": "x",
         "y": [
          5632.5,
          6298,
          6504.5,
          6800,
          6924,
          7142,
          7402.5,
          7623.5,
          7693,
          7941,
          8025.5,
          8117,
          8428,
          8548,
          8710,
          8807,
          8963,
          9211,
          9366,
          11188
         ],
         "yaxis": "y"
        },
        {
         "hovertemplate": "chrom=%{x}<br>length=%{y}<extra></extra>",
         "legendgroup": "chr15p",
         "marker": {
          "color": "#B6E880",
          "symbol": "circle"
         },
         "mode": "markers",
         "name": "chr15p",
         "orientation": "v",
         "showlegend": true,
         "type": "scatter",
         "x": [
          "chr15p",
          "chr15p",
          "chr15p",
          "chr15p",
          "chr15p",
          "chr15p",
          "chr15p",
          "chr15p",
          "chr15p",
          "chr15p",
          "chr15p",
          "chr15p",
          "chr15p",
          "chr15p",
          "chr15p",
          "chr15p",
          "chr15p",
          "chr15p",
          "chr15p",
          "chr15p"
         ],
         "xaxis": "x",
         "y": [
          5841.5,
          6603,
          6911,
          7128.5,
          7425,
          7657,
          7748.5,
          7828,
          7911.5,
          8345,
          8782,
          9183,
          9242,
          9431,
          9495,
          10503.5,
          11171.5,
          11483.5,
          11945,
          15668.5
         ],
         "yaxis": "y"
        },
        {
         "hovertemplate": "chrom=%{x}<br>length=%{y}<extra></extra>",
         "legendgroup": "chrXp",
         "marker": {
          "color": "#FF97FF",
          "symbol": "circle"
         },
         "mode": "markers",
         "name": "chrXp",
         "orientation": "v",
         "showlegend": true,
         "type": "scatter",
         "x": [
          "chrXp",
          "chrXp",
          "chrXp",
          "chrXp",
          "chrXp",
          "chrXp",
          "chrXp",
          "chrXp",
          "chrXp",
          "chrXp",
          "chrXp",
          "chrXp",
          "chrXp",
          "chrXp",
          "chrXp",
          "chrXp",
          "chrXp",
          "chrXp",
          "chrXp",
          "chrXp"
         ],
         "xaxis": "x",
         "y": [
          5927,
          6455.5,
          6943,
          7310,
          8081,
          8304,
          8607,
          9901,
          10471,
          10517.5,
          10806,
          11026,
          11104,
          11329,
          11922,
          11945,
          12542,
          12633,
          13204,
          16246.5
         ],
         "yaxis": "y"
        },
        {
         "hovertemplate": "chrom=%{x}<br>length=%{y}<extra></extra>",
         "legendgroup": "chr04p",
         "marker": {
          "color": "#FECB52",
          "symbol": "circle"
         },
         "mode": "markers",
         "name": "chr04p",
         "orientation": "v",
         "showlegend": true,
         "type": "scatter",
         "x": [
          "chr04p",
          "chr04p",
          "chr04p",
          "chr04p",
          "chr04p",
          "chr04p",
          "chr04p",
          "chr04p",
          "chr04p",
          "chr04p",
          "chr04p",
          "chr04p",
          "chr04p",
          "chr04p",
          "chr04p",
          "chr04p",
          "chr04p",
          "chr04p",
          "chr04p",
          "chr04p"
         ],
         "xaxis": "x",
         "y": [
          6609,
          6645,
          6675.5,
          6837,
          7086,
          7111,
          7312,
          7463,
          7522,
          7621,
          7698.5,
          8734,
          8877,
          10514,
          10629,
          10767,
          11020,
          16680.5,
          16792,
          17368.5
         ],
         "yaxis": "y"
        },
        {
         "hovertemplate": "chrom=%{x}<br>length=%{y}<extra></extra>",
         "legendgroup": "chr22p",
         "marker": {
          "color": "#636efa",
          "symbol": "circle"
         },
         "mode": "markers",
         "name": "chr22p",
         "orientation": "v",
         "showlegend": true,
         "type": "scatter",
         "x": [
          "chr22p",
          "chr22p",
          "chr22p",
          "chr22p",
          "chr22p",
          "chr22p",
          "chr22p",
          "chr22p",
          "chr22p",
          "chr22p",
          "chr22p",
          "chr22p",
          "chr22p",
          "chr22p",
          "chr22p",
          "chr22p",
          "chr22p",
          "chr22p",
          "chr22p",
          "chr22p"
         ],
         "xaxis": "x",
         "y": [
          6915,
          7821.5,
          8709.5,
          13594.5,
          16078.5,
          17932.5,
          19257,
          19362,
          19653,
          19847,
          20013,
          20194,
          20194,
          20940.5,
          21118.5,
          21714.5,
          22748,
          22882.5,
          22899,
          23837.5
         ],
         "yaxis": "y"
        },
        {
         "hovertemplate": "chrom=%{x}<br>length=%{y}<extra></extra>",
         "legendgroup": "chr14q",
         "marker": {
          "color": "#EF553B",
          "symbol": "circle"
         },
         "mode": "markers",
         "name": "chr14q",
         "orientation": "v",
         "showlegend": true,
         "type": "scatter",
         "x": [
          "chr14q",
          "chr14q",
          "chr14q",
          "chr14q",
          "chr14q",
          "chr14q",
          "chr14q",
          "chr14q",
          "chr14q",
          "chr14q",
          "chr14q",
          "chr14q",
          "chr14q",
          "chr14q",
          "chr14q",
          "chr14q",
          "chr14q",
          "chr14q",
          "chr14q",
          "chr14q"
         ],
         "xaxis": "x",
         "y": [
          7017,
          7592.5,
          7622,
          7918.5,
          7972.5,
          8181,
          8201,
          8225,
          8457,
          8684.5,
          8693,
          8825,
          8901,
          9217.5,
          9253,
          9291,
          9874.5,
          10070,
          10337,
          10827
         ],
         "yaxis": "y"
        },
        {
         "hovertemplate": "chrom=%{x}<br>length=%{y}<extra></extra>",
         "legendgroup": "chr22q",
         "marker": {
          "color": "#00cc96",
          "symbol": "circle"
         },
         "mode": "markers",
         "name": "chr22q",
         "orientation": "v",
         "showlegend": true,
         "type": "scatter",
         "x": [
          "chr22q",
          "chr22q",
          "chr22q",
          "chr22q",
          "chr22q",
          "chr22q",
          "chr22q",
          "chr22q",
          "chr22q",
          "chr22q",
          "chr22q",
          "chr22q",
          "chr22q",
          "chr22q",
          "chr22q",
          "chr22q",
          "chr22q",
          "chr22q",
          "chr22q",
          "chr22q"
         ],
         "xaxis": "x",
         "y": [
          7031,
          7369.5,
          7796,
          8346.5,
          8739,
          8824,
          10196,
          10909,
          13135.5,
          16527,
          18760,
          20581,
          20764,
          20849,
          21532,
          21635,
          23025,
          23858,
          23923.5,
          27326
         ],
         "yaxis": "y"
        },
        {
         "hovertemplate": "chrom=%{x}<br>length=%{y}<extra></extra>",
         "legendgroup": "chr18q",
         "marker": {
          "color": "#ab63fa",
          "symbol": "circle"
         },
         "mode": "markers",
         "name": "chr18q",
         "orientation": "v",
         "showlegend": true,
         "type": "scatter",
         "x": [
          "chr18q",
          "chr18q",
          "chr18q",
          "chr18q",
          "chr18q",
          "chr18q",
          "chr18q",
          "chr18q",
          "chr18q",
          "chr18q",
          "chr18q",
          "chr18q",
          "chr18q",
          "chr18q",
          "chr18q",
          "chr18q",
          "chr18q",
          "chr18q",
          "chr18q",
          "chr18q"
         ],
         "xaxis": "x",
         "y": [
          8363,
          9120,
          9349,
          9386.5,
          9833,
          9909,
          9916,
          9921,
          9933,
          10057,
          10167.5,
          10313,
          10338,
          10429,
          10719,
          11028,
          11176.5,
          11421,
          11784,
          12521
         ],
         "yaxis": "y"
        },
        {
         "hovertemplate": "chrom=%{x}<br>length=%{y}<extra></extra>",
         "legendgroup": "chrYp",
         "marker": {
          "color": "#FFA15A",
          "symbol": "circle"
         },
         "mode": "markers",
         "name": "chrYp",
         "orientation": "v",
         "showlegend": true,
         "type": "scatter",
         "x": [
          "chrYp",
          "chrYp",
          "chrYp",
          "chrYp",
          "chrYp",
          "chrYp",
          "chrYp",
          "chrYp",
          "chrYp",
          "chrYp",
          "chrYp",
          "chrYp",
          "chrYp",
          "chrYp",
          "chrYp",
          "chrYp",
          "chrYp",
          "chrYp",
          "chrYp",
          "chrYp"
         ],
         "xaxis": "x",
         "y": [
          9323,
          9476.5,
          9892,
          9999,
          10411.5,
          10509.5,
          10685.5,
          10938.5,
          10941,
          10956.5,
          11214.5,
          11571,
          11917.5,
          12363,
          12518.5,
          12805,
          13299.5,
          13705,
          14383,
          14944
         ],
         "yaxis": "y"
        },
        {
         "hovertemplate": "chrom=%{x}<br>length=%{y}<extra></extra>",
         "legendgroup": "chr21q",
         "marker": {
          "color": "#19d3f3",
          "symbol": "circle"
         },
         "mode": "markers",
         "name": "chr21q",
         "orientation": "v",
         "showlegend": true,
         "type": "scatter",
         "x": [
          "chr21q",
          "chr21q",
          "chr21q",
          "chr21q",
          "chr21q",
          "chr21q",
          "chr21q",
          "chr21q",
          "chr21q",
          "chr21q",
          "chr21q",
          "chr21q",
          "chr21q",
          "chr21q",
          "chr21q",
          "chr21q",
          "chr21q",
          "chr21q",
          "chr21q",
          "chr21q"
         ],
         "xaxis": "x",
         "y": [
          11115,
          11141,
          17246,
          19555,
          20548,
          20856,
          21205.5,
          21242,
          21246.5,
          21327,
          21339,
          21690,
          22016,
          22330,
          22704,
          22939.5,
          23309,
          24022,
          24367,
          24409
         ],
         "yaxis": "y"
        },
        {
         "hovertemplate": "chrom=%{x}<br>length=%{y}<extra></extra>",
         "legendgroup": "chr08p",
         "marker": {
          "color": "#FF6692",
          "symbol": "circle"
         },
         "mode": "markers",
         "name": "chr08p",
         "orientation": "v",
         "showlegend": true,
         "type": "scatter",
         "x": [
          "chr08p",
          "chr08p",
          "chr08p",
          "chr08p",
          "chr08p",
          "chr08p",
          "chr08p",
          "chr08p",
          "chr08p",
          "chr08p",
          "chr08p",
          "chr08p",
          "chr08p",
          "chr08p",
          "chr08p",
          "chr08p"
         ],
         "xaxis": "x",
         "y": [
          16956.5,
          18044,
          18456,
          18843,
          19074.5,
          19655,
          19913.5,
          19934,
          20143,
          20206,
          20381,
          21686,
          21783.5,
          21998,
          22626,
          23403
         ],
         "yaxis": "y"
        },
        {
         "hovertemplate": "chrom=%{x}<br>length=%{y}<extra></extra>",
         "legendgroup": "chr19q",
         "marker": {
          "color": "#B6E880",
          "symbol": "circle"
         },
         "mode": "markers",
         "name": "chr19q",
         "orientation": "v",
         "showlegend": true,
         "type": "scatter",
         "x": [
          "chr19q",
          "chr19q",
          "chr19q",
          "chr19q",
          "chr19q",
          "chr19q",
          "chr19q",
          "chr19q",
          "chr19q",
          "chr19q",
          "chr19q",
          "chr19q",
          "chr19q",
          "chr19q",
          "chr19q",
          "chr19q",
          "chr19q",
          "chr19q",
          "chr19q",
          "chr19q"
         ],
         "xaxis": "x",
         "y": [
          19743.5,
          20354,
          22393,
          22530.5,
          22852.5,
          23097,
          23872,
          24421,
          24528,
          25020,
          25227.5,
          25330,
          25605,
          25759,
          26660.5,
          27651,
          27740,
          29048,
          29574,
          31483
         ],
         "yaxis": "y"
        }
       ],
       "layout": {
        "legend": {
         "title": {
          "text": "chrom"
         },
         "tracegroupgap": 0
        },
        "template": {
         "data": {
          "bar": [
           {
            "error_x": {
             "color": "#2a3f5f"
            },
            "error_y": {
             "color": "#2a3f5f"
            },
            "marker": {
             "line": {
              "color": "#E5ECF6",
              "width": 0.5
             },
             "pattern": {
              "fillmode": "overlay",
              "size": 10,
              "solidity": 0.2
             }
            },
            "type": "bar"
           }
          ],
          "barpolar": [
           {
            "marker": {
             "line": {
              "color": "#E5ECF6",
              "width": 0.5
             },
             "pattern": {
              "fillmode": "overlay",
              "size": 10,
              "solidity": 0.2
             }
            },
            "type": "barpolar"
           }
          ],
          "carpet": [
           {
            "aaxis": {
             "endlinecolor": "#2a3f5f",
             "gridcolor": "white",
             "linecolor": "white",
             "minorgridcolor": "white",
             "startlinecolor": "#2a3f5f"
            },
            "baxis": {
             "endlinecolor": "#2a3f5f",
             "gridcolor": "white",
             "linecolor": "white",
             "minorgridcolor": "white",
             "startlinecolor": "#2a3f5f"
            },
            "type": "carpet"
           }
          ],
          "choropleth": [
           {
            "colorbar": {
             "outlinewidth": 0,
             "ticks": ""
            },
            "type": "choropleth"
           }
          ],
          "contour": [
           {
            "colorbar": {
             "outlinewidth": 0,
             "ticks": ""
            },
            "colorscale": [
             [
              0,
              "#0d0887"
             ],
             [
              0.1111111111111111,
              "#46039f"
             ],
             [
              0.2222222222222222,
              "#7201a8"
             ],
             [
              0.3333333333333333,
              "#9c179e"
             ],
             [
              0.4444444444444444,
              "#bd3786"
             ],
             [
              0.5555555555555556,
              "#d8576b"
             ],
             [
              0.6666666666666666,
              "#ed7953"
             ],
             [
              0.7777777777777778,
              "#fb9f3a"
             ],
             [
              0.8888888888888888,
              "#fdca26"
             ],
             [
              1,
              "#f0f921"
             ]
            ],
            "type": "contour"
           }
          ],
          "contourcarpet": [
           {
            "colorbar": {
             "outlinewidth": 0,
             "ticks": ""
            },
            "type": "contourcarpet"
           }
          ],
          "heatmap": [
           {
            "colorbar": {
             "outlinewidth": 0,
             "ticks": ""
            },
            "colorscale": [
             [
              0,
              "#0d0887"
             ],
             [
              0.1111111111111111,
              "#46039f"
             ],
             [
              0.2222222222222222,
              "#7201a8"
             ],
             [
              0.3333333333333333,
              "#9c179e"
             ],
             [
              0.4444444444444444,
              "#bd3786"
             ],
             [
              0.5555555555555556,
              "#d8576b"
             ],
             [
              0.6666666666666666,
              "#ed7953"
             ],
             [
              0.7777777777777778,
              "#fb9f3a"
             ],
             [
              0.8888888888888888,
              "#fdca26"
             ],
             [
              1,
              "#f0f921"
             ]
            ],
            "type": "heatmap"
           }
          ],
          "heatmapgl": [
           {
            "colorbar": {
             "outlinewidth": 0,
             "ticks": ""
            },
            "colorscale": [
             [
              0,
              "#0d0887"
             ],
             [
              0.1111111111111111,
              "#46039f"
             ],
             [
              0.2222222222222222,
              "#7201a8"
             ],
             [
              0.3333333333333333,
              "#9c179e"
             ],
             [
              0.4444444444444444,
              "#bd3786"
             ],
             [
              0.5555555555555556,
              "#d8576b"
             ],
             [
              0.6666666666666666,
              "#ed7953"
             ],
             [
              0.7777777777777778,
              "#fb9f3a"
             ],
             [
              0.8888888888888888,
              "#fdca26"
             ],
             [
              1,
              "#f0f921"
             ]
            ],
            "type": "heatmapgl"
           }
          ],
          "histogram": [
           {
            "marker": {
             "pattern": {
              "fillmode": "overlay",
              "size": 10,
              "solidity": 0.2
             }
            },
            "type": "histogram"
           }
          ],
          "histogram2d": [
           {
            "colorbar": {
             "outlinewidth": 0,
             "ticks": ""
            },
            "colorscale": [
             [
              0,
              "#0d0887"
             ],
             [
              0.1111111111111111,
              "#46039f"
             ],
             [
              0.2222222222222222,
              "#7201a8"
             ],
             [
              0.3333333333333333,
              "#9c179e"
             ],
             [
              0.4444444444444444,
              "#bd3786"
             ],
             [
              0.5555555555555556,
              "#d8576b"
             ],
             [
              0.6666666666666666,
              "#ed7953"
             ],
             [
              0.7777777777777778,
              "#fb9f3a"
             ],
             [
              0.8888888888888888,
              "#fdca26"
             ],
             [
              1,
              "#f0f921"
             ]
            ],
            "type": "histogram2d"
           }
          ],
          "histogram2dcontour": [
           {
            "colorbar": {
             "outlinewidth": 0,
             "ticks": ""
            },
            "colorscale": [
             [
              0,
              "#0d0887"
             ],
             [
              0.1111111111111111,
              "#46039f"
             ],
             [
              0.2222222222222222,
              "#7201a8"
             ],
             [
              0.3333333333333333,
              "#9c179e"
             ],
             [
              0.4444444444444444,
              "#bd3786"
             ],
             [
              0.5555555555555556,
              "#d8576b"
             ],
             [
              0.6666666666666666,
              "#ed7953"
             ],
             [
              0.7777777777777778,
              "#fb9f3a"
             ],
             [
              0.8888888888888888,
              "#fdca26"
             ],
             [
              1,
              "#f0f921"
             ]
            ],
            "type": "histogram2dcontour"
           }
          ],
          "mesh3d": [
           {
            "colorbar": {
             "outlinewidth": 0,
             "ticks": ""
            },
            "type": "mesh3d"
           }
          ],
          "parcoords": [
           {
            "line": {
             "colorbar": {
              "outlinewidth": 0,
              "ticks": ""
             }
            },
            "type": "parcoords"
           }
          ],
          "pie": [
           {
            "automargin": true,
            "type": "pie"
           }
          ],
          "scatter": [
           {
            "marker": {
             "colorbar": {
              "outlinewidth": 0,
              "ticks": ""
             }
            },
            "type": "scatter"
           }
          ],
          "scatter3d": [
           {
            "line": {
             "colorbar": {
              "outlinewidth": 0,
              "ticks": ""
             }
            },
            "marker": {
             "colorbar": {
              "outlinewidth": 0,
              "ticks": ""
             }
            },
            "type": "scatter3d"
           }
          ],
          "scattercarpet": [
           {
            "marker": {
             "colorbar": {
              "outlinewidth": 0,
              "ticks": ""
             }
            },
            "type": "scattercarpet"
           }
          ],
          "scattergeo": [
           {
            "marker": {
             "colorbar": {
              "outlinewidth": 0,
              "ticks": ""
             }
            },
            "type": "scattergeo"
           }
          ],
          "scattergl": [
           {
            "marker": {
             "colorbar": {
              "outlinewidth": 0,
              "ticks": ""
             }
            },
            "type": "scattergl"
           }
          ],
          "scattermapbox": [
           {
            "marker": {
             "colorbar": {
              "outlinewidth": 0,
              "ticks": ""
             }
            },
            "type": "scattermapbox"
           }
          ],
          "scatterpolar": [
           {
            "marker": {
             "colorbar": {
              "outlinewidth": 0,
              "ticks": ""
             }
            },
            "type": "scatterpolar"
           }
          ],
          "scatterpolargl": [
           {
            "marker": {
             "colorbar": {
              "outlinewidth": 0,
              "ticks": ""
             }
            },
            "type": "scatterpolargl"
           }
          ],
          "scatterternary": [
           {
            "marker": {
             "colorbar": {
              "outlinewidth": 0,
              "ticks": ""
             }
            },
            "type": "scatterternary"
           }
          ],
          "surface": [
           {
            "colorbar": {
             "outlinewidth": 0,
             "ticks": ""
            },
            "colorscale": [
             [
              0,
              "#0d0887"
             ],
             [
              0.1111111111111111,
              "#46039f"
             ],
             [
              0.2222222222222222,
              "#7201a8"
             ],
             [
              0.3333333333333333,
              "#9c179e"
             ],
             [
              0.4444444444444444,
              "#bd3786"
             ],
             [
              0.5555555555555556,
              "#d8576b"
             ],
             [
              0.6666666666666666,
              "#ed7953"
             ],
             [
              0.7777777777777778,
              "#fb9f3a"
             ],
             [
              0.8888888888888888,
              "#fdca26"
             ],
             [
              1,
              "#f0f921"
             ]
            ],
            "type": "surface"
           }
          ],
          "table": [
           {
            "cells": {
             "fill": {
              "color": "#EBF0F8"
             },
             "line": {
              "color": "white"
             }
            },
            "header": {
             "fill": {
              "color": "#C8D4E3"
             },
             "line": {
              "color": "white"
             }
            },
            "type": "table"
           }
          ]
         },
         "layout": {
          "annotationdefaults": {
           "arrowcolor": "#2a3f5f",
           "arrowhead": 0,
           "arrowwidth": 1
          },
          "autotypenumbers": "strict",
          "coloraxis": {
           "colorbar": {
            "outlinewidth": 0,
            "ticks": ""
           }
          },
          "colorscale": {
           "diverging": [
            [
             0,
             "#8e0152"
            ],
            [
             0.1,
             "#c51b7d"
            ],
            [
             0.2,
             "#de77ae"
            ],
            [
             0.3,
             "#f1b6da"
            ],
            [
             0.4,
             "#fde0ef"
            ],
            [
             0.5,
             "#f7f7f7"
            ],
            [
             0.6,
             "#e6f5d0"
            ],
            [
             0.7,
             "#b8e186"
            ],
            [
             0.8,
             "#7fbc41"
            ],
            [
             0.9,
             "#4d9221"
            ],
            [
             1,
             "#276419"
            ]
           ],
           "sequential": [
            [
             0,
             "#0d0887"
            ],
            [
             0.1111111111111111,
             "#46039f"
            ],
            [
             0.2222222222222222,
             "#7201a8"
            ],
            [
             0.3333333333333333,
             "#9c179e"
            ],
            [
             0.4444444444444444,
             "#bd3786"
            ],
            [
             0.5555555555555556,
             "#d8576b"
            ],
            [
             0.6666666666666666,
             "#ed7953"
            ],
            [
             0.7777777777777778,
             "#fb9f3a"
            ],
            [
             0.8888888888888888,
             "#fdca26"
            ],
            [
             1,
             "#f0f921"
            ]
           ],
           "sequentialminus": [
            [
             0,
             "#0d0887"
            ],
            [
             0.1111111111111111,
             "#46039f"
            ],
            [
             0.2222222222222222,
             "#7201a8"
            ],
            [
             0.3333333333333333,
             "#9c179e"
            ],
            [
             0.4444444444444444,
             "#bd3786"
            ],
            [
             0.5555555555555556,
             "#d8576b"
            ],
            [
             0.6666666666666666,
             "#ed7953"
            ],
            [
             0.7777777777777778,
             "#fb9f3a"
            ],
            [
             0.8888888888888888,
             "#fdca26"
            ],
            [
             1,
             "#f0f921"
            ]
           ]
          },
          "colorway": [
           "#636efa",
           "#EF553B",
           "#00cc96",
           "#ab63fa",
           "#FFA15A",
           "#19d3f3",
           "#FF6692",
           "#B6E880",
           "#FF97FF",
           "#FECB52"
          ],
          "font": {
           "color": "#2a3f5f"
          },
          "geo": {
           "bgcolor": "white",
           "lakecolor": "white",
           "landcolor": "#E5ECF6",
           "showlakes": true,
           "showland": true,
           "subunitcolor": "white"
          },
          "hoverlabel": {
           "align": "left"
          },
          "hovermode": "closest",
          "mapbox": {
           "style": "light"
          },
          "paper_bgcolor": "white",
          "plot_bgcolor": "#E5ECF6",
          "polar": {
           "angularaxis": {
            "gridcolor": "white",
            "linecolor": "white",
            "ticks": ""
           },
           "bgcolor": "#E5ECF6",
           "radialaxis": {
            "gridcolor": "white",
            "linecolor": "white",
            "ticks": ""
           }
          },
          "scene": {
           "xaxis": {
            "backgroundcolor": "#E5ECF6",
            "gridcolor": "white",
            "gridwidth": 2,
            "linecolor": "white",
            "showbackground": true,
            "ticks": "",
            "zerolinecolor": "white"
           },
           "yaxis": {
            "backgroundcolor": "#E5ECF6",
            "gridcolor": "white",
            "gridwidth": 2,
            "linecolor": "white",
            "showbackground": true,
            "ticks": "",
            "zerolinecolor": "white"
           },
           "zaxis": {
            "backgroundcolor": "#E5ECF6",
            "gridcolor": "white",
            "gridwidth": 2,
            "linecolor": "white",
            "showbackground": true,
            "ticks": "",
            "zerolinecolor": "white"
           }
          },
          "shapedefaults": {
           "line": {
            "color": "#2a3f5f"
           }
          },
          "ternary": {
           "aaxis": {
            "gridcolor": "white",
            "linecolor": "white",
            "ticks": ""
           },
           "baxis": {
            "gridcolor": "white",
            "linecolor": "white",
            "ticks": ""
           },
           "bgcolor": "#E5ECF6",
           "caxis": {
            "gridcolor": "white",
            "linecolor": "white",
            "ticks": ""
           }
          },
          "title": {
           "x": 0.05
          },
          "xaxis": {
           "automargin": true,
           "gridcolor": "white",
           "linecolor": "white",
           "ticks": "",
           "title": {
            "standoff": 15
           },
           "zerolinecolor": "white",
           "zerolinewidth": 2
          },
          "yaxis": {
           "automargin": true,
           "gridcolor": "white",
           "linecolor": "white",
           "ticks": "",
           "title": {
            "standoff": 15
           },
           "zerolinecolor": "white",
           "zerolinewidth": 2
          }
         }
        },
        "title": {
         "text": "Telomere Length by Chromosome"
        },
        "xaxis": {
         "anchor": "y",
         "categoryarray": [
          "chr06p",
          "chrYq",
          "chr18p",
          "chr08q",
          "chr13p",
          "chr10p",
          "chr17q",
          "chr16p",
          "chr14p",
          "chr11p",
          "chr12q",
          "chr12p",
          "chr09p",
          "chr17p",
          "chr19p",
          "chr03q",
          "chrXq",
          "chr20q",
          "chr15q",
          "chr01q",
          "chr01p",
          "chr20p",
          "chr07p",
          "chr11q",
          "chr09q",
          "chr05p",
          "chr04q",
          "chr03p",
          "chr07q",
          "chr02q",
          "chr05q",
          "chr16q",
          "chr02p",
          "chr13q",
          "chr06q",
          "chr10q",
          "chr21p",
          "chr15p",
          "chrXp",
          "chr04p",
          "chr22p",
          "chr14q",
          "chr22q",
          "chr18q",
          "chrYp",
          "chr21q",
          "chr08p",
          "chr19q"
         ],
         "categoryorder": "array",
         "domain": [
          0,
          1
         ],
         "title": {
          "text": "chrom"
         }
        },
        "yaxis": {
         "anchor": "x",
         "domain": [
          0,
          1
         ],
         "title": {
          "text": "length"
         }
        }
       }
      },
      "text/html": [
       "<div>                            <div id=\"3c011f8a-54f7-4a92-b64e-1fa421af53e9\" class=\"plotly-graph-div\" style=\"height:525px; width:100%;\"></div>            <script type=\"text/javascript\">                require([\"plotly\"], function(Plotly) {                    window.PLOTLYENV=window.PLOTLYENV || {};                                    if (document.getElementById(\"3c011f8a-54f7-4a92-b64e-1fa421af53e9\")) {                    Plotly.newPlot(                        \"3c011f8a-54f7-4a92-b64e-1fa421af53e9\",                        [{\"hovertemplate\":\"chrom=%{x}<br>length=%{y}<extra></extra>\",\"legendgroup\":\"chr06p\",\"marker\":{\"color\":\"#636efa\",\"symbol\":\"circle\"},\"mode\":\"markers\",\"name\":\"chr06p\",\"orientation\":\"v\",\"showlegend\":true,\"x\":[\"chr06p\",\"chr06p\",\"chr06p\",\"chr06p\",\"chr06p\",\"chr06p\",\"chr06p\"],\"xaxis\":\"x\",\"y\":[70.0,119.0,120.0,4981.5,8651.0,13583.0,14321.0],\"yaxis\":\"y\",\"type\":\"scatter\"},{\"hovertemplate\":\"chrom=%{x}<br>length=%{y}<extra></extra>\",\"legendgroup\":\"chrYq\",\"marker\":{\"color\":\"#EF553B\",\"symbol\":\"circle\"},\"mode\":\"markers\",\"name\":\"chrYq\",\"orientation\":\"v\",\"showlegend\":true,\"x\":[\"chrYq\",\"chrYq\",\"chrYq\",\"chrYq\",\"chrYq\",\"chrYq\",\"chrYq\",\"chrYq\",\"chrYq\",\"chrYq\",\"chrYq\",\"chrYq\",\"chrYq\",\"chrYq\",\"chrYq\",\"chrYq\",\"chrYq\",\"chrYq\",\"chrYq\",\"chrYq\"],\"xaxis\":\"x\",\"y\":[93.0,4224.0,4340.0,4447.5,4481.0,4819.0,4849.0,4979.5,5056.0,5171.0,5224.0,5593.0,5751.0,6262.0,6460.5,6893.0,6909.0,7269.0,8224.5,9648.0],\"yaxis\":\"y\",\"type\":\"scatter\"},{\"hovertemplate\":\"chrom=%{x}<br>length=%{y}<extra></extra>\",\"legendgroup\":\"chr18p\",\"marker\":{\"color\":\"#00cc96\",\"symbol\":\"circle\"},\"mode\":\"markers\",\"name\":\"chr18p\",\"orientation\":\"v\",\"showlegend\":true,\"x\":[\"chr18p\",\"chr18p\",\"chr18p\",\"chr18p\",\"chr18p\",\"chr18p\",\"chr18p\",\"chr18p\",\"chr18p\",\"chr18p\",\"chr18p\",\"chr18p\",\"chr18p\",\"chr18p\",\"chr18p\",\"chr18p\",\"chr18p\",\"chr18p\",\"chr18p\",\"chr18p\"],\"xaxis\":\"x\",\"y\":[1284.0,1537.0,1721.0,1864.0,1905.0,1917.0,2008.5,2096.5,2399.0,2896.5,3058.0,3602.5,4300.0,4472.0,4519.0,4676.0,5012.0,5083.5,5915.5,6343.0],\"yaxis\":\"y\",\"type\":\"scatter\"},{\"hovertemplate\":\"chrom=%{x}<br>length=%{y}<extra></extra>\",\"legendgroup\":\"chr08q\",\"marker\":{\"color\":\"#ab63fa\",\"symbol\":\"circle\"},\"mode\":\"markers\",\"name\":\"chr08q\",\"orientation\":\"v\",\"showlegend\":true,\"x\":[\"chr08q\",\"chr08q\",\"chr08q\",\"chr08q\",\"chr08q\",\"chr08q\",\"chr08q\",\"chr08q\",\"chr08q\",\"chr08q\",\"chr08q\",\"chr08q\"],\"xaxis\":\"x\",\"y\":[2080.0,2195.0,3848.0,3899.0,3936.0,3998.0,4748.0,4928.0,5055.0,5335.5,5544.0,6364.5],\"yaxis\":\"y\",\"type\":\"scatter\"},{\"hovertemplate\":\"chrom=%{x}<br>length=%{y}<extra></extra>\",\"legendgroup\":\"chr13p\",\"marker\":{\"color\":\"#FFA15A\",\"symbol\":\"circle\"},\"mode\":\"markers\",\"name\":\"chr13p\",\"orientation\":\"v\",\"showlegend\":true,\"x\":[\"chr13p\",\"chr13p\",\"chr13p\",\"chr13p\",\"chr13p\",\"chr13p\",\"chr13p\",\"chr13p\",\"chr13p\",\"chr13p\",\"chr13p\"],\"xaxis\":\"x\",\"y\":[3155.5,3431.0,3864.0,3872.0,5175.5,5216.0,6257.0,6375.0,6771.5,7491.0,9339.0],\"yaxis\":\"y\",\"type\":\"scatter\"},{\"hovertemplate\":\"chrom=%{x}<br>length=%{y}<extra></extra>\",\"legendgroup\":\"chr10p\",\"marker\":{\"color\":\"#19d3f3\",\"symbol\":\"circle\"},\"mode\":\"markers\",\"name\":\"chr10p\",\"orientation\":\"v\",\"showlegend\":true,\"x\":[\"chr10p\",\"chr10p\",\"chr10p\",\"chr10p\",\"chr10p\",\"chr10p\",\"chr10p\",\"chr10p\",\"chr10p\",\"chr10p\",\"chr10p\",\"chr10p\",\"chr10p\",\"chr10p\",\"chr10p\",\"chr10p\",\"chr10p\",\"chr10p\",\"chr10p\",\"chr10p\"],\"xaxis\":\"x\",\"y\":[3503.0,3650.0,3728.0,4249.5,4549.0,4661.0,4693.5,4818.0,6497.0,6628.0,6636.0,6705.5,6927.0,7268.5,7435.5,7745.0,8199.0,8383.0,8443.0,9573.0],\"yaxis\":\"y\",\"type\":\"scatter\"},{\"hovertemplate\":\"chrom=%{x}<br>length=%{y}<extra></extra>\",\"legendgroup\":\"chr17q\",\"marker\":{\"color\":\"#FF6692\",\"symbol\":\"circle\"},\"mode\":\"markers\",\"name\":\"chr17q\",\"orientation\":\"v\",\"showlegend\":true,\"x\":[\"chr17q\",\"chr17q\",\"chr17q\",\"chr17q\",\"chr17q\",\"chr17q\",\"chr17q\",\"chr17q\",\"chr17q\",\"chr17q\",\"chr17q\",\"chr17q\",\"chr17q\",\"chr17q\",\"chr17q\",\"chr17q\",\"chr17q\",\"chr17q\",\"chr17q\",\"chr17q\"],\"xaxis\":\"x\",\"y\":[3591.0,4152.0,4463.0,4496.0,4517.0,4518.0,4633.0,4641.0,4645.0,4874.0,4896.0,5140.5,5171.5,5376.0,5680.5,5914.5,5965.0,6373.5,6738.5,6918.0],\"yaxis\":\"y\",\"type\":\"scatter\"},{\"hovertemplate\":\"chrom=%{x}<br>length=%{y}<extra></extra>\",\"legendgroup\":\"chr16p\",\"marker\":{\"color\":\"#B6E880\",\"symbol\":\"circle\"},\"mode\":\"markers\",\"name\":\"chr16p\",\"orientation\":\"v\",\"showlegend\":true,\"x\":[\"chr16p\",\"chr16p\",\"chr16p\",\"chr16p\",\"chr16p\",\"chr16p\",\"chr16p\",\"chr16p\",\"chr16p\",\"chr16p\",\"chr16p\",\"chr16p\",\"chr16p\",\"chr16p\",\"chr16p\",\"chr16p\",\"chr16p\",\"chr16p\",\"chr16p\",\"chr16p\"],\"xaxis\":\"x\",\"y\":[3623.0,4452.0,4609.0,4630.0,4715.0,4878.0,4904.0,5182.0,5248.5,5295.5,5460.0,5619.5,5743.0,5767.0,5984.0,6501.5,6646.5,7217.0,7353.0,7522.0],\"yaxis\":\"y\",\"type\":\"scatter\"},{\"hovertemplate\":\"chrom=%{x}<br>length=%{y}<extra></extra>\",\"legendgroup\":\"chr14p\",\"marker\":{\"color\":\"#FF97FF\",\"symbol\":\"circle\"},\"mode\":\"markers\",\"name\":\"chr14p\",\"orientation\":\"v\",\"showlegend\":true,\"x\":[\"chr14p\",\"chr14p\",\"chr14p\",\"chr14p\",\"chr14p\",\"chr14p\"],\"xaxis\":\"x\",\"y\":[3630.0,3762.0,4470.0,4806.0,5623.0,7255.0],\"yaxis\":\"y\",\"type\":\"scatter\"},{\"hovertemplate\":\"chrom=%{x}<br>length=%{y}<extra></extra>\",\"legendgroup\":\"chr11p\",\"marker\":{\"color\":\"#FECB52\",\"symbol\":\"circle\"},\"mode\":\"markers\",\"name\":\"chr11p\",\"orientation\":\"v\",\"showlegend\":true,\"x\":[\"chr11p\",\"chr11p\",\"chr11p\",\"chr11p\",\"chr11p\",\"chr11p\",\"chr11p\",\"chr11p\",\"chr11p\",\"chr11p\",\"chr11p\",\"chr11p\",\"chr11p\",\"chr11p\",\"chr11p\",\"chr11p\",\"chr11p\",\"chr11p\",\"chr11p\",\"chr11p\"],\"xaxis\":\"x\",\"y\":[3735.0,4306.0,4479.0,4598.0,4658.5,4720.5,4797.0,4934.0,4947.0,5012.0,5143.5,5172.0,5225.5,5607.0,5631.5,5801.0,6479.0,6723.5,7054.0,7238.0],\"yaxis\":\"y\",\"type\":\"scatter\"},{\"hovertemplate\":\"chrom=%{x}<br>length=%{y}<extra></extra>\",\"legendgroup\":\"chr12q\",\"marker\":{\"color\":\"#636efa\",\"symbol\":\"circle\"},\"mode\":\"markers\",\"name\":\"chr12q\",\"orientation\":\"v\",\"showlegend\":true,\"x\":[\"chr12q\",\"chr12q\",\"chr12q\",\"chr12q\",\"chr12q\",\"chr12q\",\"chr12q\",\"chr12q\",\"chr12q\",\"chr12q\",\"chr12q\",\"chr12q\",\"chr12q\",\"chr12q\",\"chr12q\",\"chr12q\",\"chr12q\",\"chr12q\",\"chr12q\",\"chr12q\"],\"xaxis\":\"x\",\"y\":[3759.0,5189.0,5558.0,5840.0,6352.5,6581.0,6703.0,6753.0,7887.0,8168.0,8408.0,8410.5,8567.5,8694.0,9102.0,9122.0,9264.0,9503.0,10071.0,11408.0],\"yaxis\":\"y\",\"type\":\"scatter\"},{\"hovertemplate\":\"chrom=%{x}<br>length=%{y}<extra></extra>\",\"legendgroup\":\"chr12p\",\"marker\":{\"color\":\"#EF553B\",\"symbol\":\"circle\"},\"mode\":\"markers\",\"name\":\"chr12p\",\"orientation\":\"v\",\"showlegend\":true,\"x\":[\"chr12p\",\"chr12p\",\"chr12p\",\"chr12p\",\"chr12p\",\"chr12p\",\"chr12p\",\"chr12p\",\"chr12p\",\"chr12p\",\"chr12p\",\"chr12p\",\"chr12p\",\"chr12p\",\"chr12p\",\"chr12p\",\"chr12p\",\"chr12p\",\"chr12p\",\"chr12p\"],\"xaxis\":\"x\",\"y\":[3890.0,4046.0,4219.0,4332.5,5033.5,5053.0,5086.0,5197.0,5239.0,5311.0,5327.0,5472.5,5576.5,5737.0,5852.0,5991.0,6107.0,6442.5,6887.5,7475.0],\"yaxis\":\"y\",\"type\":\"scatter\"},{\"hovertemplate\":\"chrom=%{x}<br>length=%{y}<extra></extra>\",\"legendgroup\":\"chr09p\",\"marker\":{\"color\":\"#00cc96\",\"symbol\":\"circle\"},\"mode\":\"markers\",\"name\":\"chr09p\",\"orientation\":\"v\",\"showlegend\":true,\"x\":[\"chr09p\",\"chr09p\",\"chr09p\",\"chr09p\",\"chr09p\",\"chr09p\",\"chr09p\",\"chr09p\",\"chr09p\",\"chr09p\",\"chr09p\",\"chr09p\",\"chr09p\",\"chr09p\",\"chr09p\",\"chr09p\",\"chr09p\",\"chr09p\",\"chr09p\",\"chr09p\"],\"xaxis\":\"x\",\"y\":[3997.0,4071.0,4085.0,4635.0,4675.0,4677.0,4945.5,5067.0,5136.5,5151.0,5264.5,5299.0,5465.0,5480.0,5577.0,5757.5,5938.5,6631.5,6816.5,6916.0],\"yaxis\":\"y\",\"type\":\"scatter\"},{\"hovertemplate\":\"chrom=%{x}<br>length=%{y}<extra></extra>\",\"legendgroup\":\"chr17p\",\"marker\":{\"color\":\"#ab63fa\",\"symbol\":\"circle\"},\"mode\":\"markers\",\"name\":\"chr17p\",\"orientation\":\"v\",\"showlegend\":true,\"x\":[\"chr17p\",\"chr17p\",\"chr17p\",\"chr17p\",\"chr17p\",\"chr17p\",\"chr17p\",\"chr17p\",\"chr17p\",\"chr17p\",\"chr17p\",\"chr17p\",\"chr17p\",\"chr17p\",\"chr17p\",\"chr17p\",\"chr17p\",\"chr17p\"],\"xaxis\":\"x\",\"y\":[4006.5,4161.0,4305.5,4490.0,4616.5,4626.5,4664.0,4769.0,4969.5,5013.5,5159.0,5435.5,5499.5,5789.0,6193.0,6225.5,6486.0,10682.0],\"yaxis\":\"y\",\"type\":\"scatter\"},{\"hovertemplate\":\"chrom=%{x}<br>length=%{y}<extra></extra>\",\"legendgroup\":\"chr19p\",\"marker\":{\"color\":\"#FFA15A\",\"symbol\":\"circle\"},\"mode\":\"markers\",\"name\":\"chr19p\",\"orientation\":\"v\",\"showlegend\":true,\"x\":[\"chr19p\",\"chr19p\",\"chr19p\",\"chr19p\",\"chr19p\",\"chr19p\",\"chr19p\",\"chr19p\",\"chr19p\",\"chr19p\",\"chr19p\",\"chr19p\",\"chr19p\",\"chr19p\",\"chr19p\",\"chr19p\",\"chr19p\",\"chr19p\",\"chr19p\",\"chr19p\"],\"xaxis\":\"x\",\"y\":[4094.0,4223.0,4262.0,4442.0,4461.0,4937.0,4979.0,5284.5,5378.0,5386.5,5551.0,5595.0,5847.0,5854.0,5934.5,6116.0,6158.0,6163.5,6270.0,7644.0],\"yaxis\":\"y\",\"type\":\"scatter\"},{\"hovertemplate\":\"chrom=%{x}<br>length=%{y}<extra></extra>\",\"legendgroup\":\"chr03q\",\"marker\":{\"color\":\"#19d3f3\",\"symbol\":\"circle\"},\"mode\":\"markers\",\"name\":\"chr03q\",\"orientation\":\"v\",\"showlegend\":true,\"x\":[\"chr03q\",\"chr03q\",\"chr03q\",\"chr03q\",\"chr03q\",\"chr03q\",\"chr03q\",\"chr03q\",\"chr03q\",\"chr03q\",\"chr03q\",\"chr03q\",\"chr03q\",\"chr03q\",\"chr03q\",\"chr03q\",\"chr03q\",\"chr03q\",\"chr03q\",\"chr03q\"],\"xaxis\":\"x\",\"y\":[4132.0,4584.0,4818.0,4869.0,4909.0,4914.0,4961.0,4979.0,5027.0,5159.0,5232.5,5281.0,5307.0,5426.0,6641.5,6738.0,6857.0,6884.0,6887.5,7264.0],\"yaxis\":\"y\",\"type\":\"scatter\"},{\"hovertemplate\":\"chrom=%{x}<br>length=%{y}<extra></extra>\",\"legendgroup\":\"chrXq\",\"marker\":{\"color\":\"#FF6692\",\"symbol\":\"circle\"},\"mode\":\"markers\",\"name\":\"chrXq\",\"orientation\":\"v\",\"showlegend\":true,\"x\":[\"chrXq\",\"chrXq\",\"chrXq\",\"chrXq\",\"chrXq\",\"chrXq\",\"chrXq\",\"chrXq\",\"chrXq\",\"chrXq\",\"chrXq\",\"chrXq\",\"chrXq\",\"chrXq\",\"chrXq\",\"chrXq\",\"chrXq\",\"chrXq\",\"chrXq\",\"chrXq\"],\"xaxis\":\"x\",\"y\":[4133.0,4502.0,4510.0,4835.0,4859.5,4952.0,5023.0,5032.5,5086.0,5289.0,5416.5,5552.0,5587.5,5644.0,5851.0,6031.0,6576.5,6862.0,7250.5,8331.0],\"yaxis\":\"y\",\"type\":\"scatter\"},{\"hovertemplate\":\"chrom=%{x}<br>length=%{y}<extra></extra>\",\"legendgroup\":\"chr20q\",\"marker\":{\"color\":\"#B6E880\",\"symbol\":\"circle\"},\"mode\":\"markers\",\"name\":\"chr20q\",\"orientation\":\"v\",\"showlegend\":true,\"x\":[\"chr20q\",\"chr20q\",\"chr20q\",\"chr20q\",\"chr20q\",\"chr20q\",\"chr20q\",\"chr20q\",\"chr20q\",\"chr20q\",\"chr20q\",\"chr20q\",\"chr20q\",\"chr20q\",\"chr20q\",\"chr20q\",\"chr20q\",\"chr20q\",\"chr20q\",\"chr20q\"],\"xaxis\":\"x\",\"y\":[4169.0,4196.0,4574.0,4596.0,4717.0,4726.0,4841.0,4997.0,5250.0,5342.0,5374.0,5452.5,5504.0,5524.0,5927.5,5955.5,6136.0,6304.5,7134.0,7768.0],\"yaxis\":\"y\",\"type\":\"scatter\"},{\"hovertemplate\":\"chrom=%{x}<br>length=%{y}<extra></extra>\",\"legendgroup\":\"chr15q\",\"marker\":{\"color\":\"#FF97FF\",\"symbol\":\"circle\"},\"mode\":\"markers\",\"name\":\"chr15q\",\"orientation\":\"v\",\"showlegend\":true,\"x\":[\"chr15q\",\"chr15q\",\"chr15q\",\"chr15q\",\"chr15q\",\"chr15q\",\"chr15q\",\"chr15q\",\"chr15q\",\"chr15q\",\"chr15q\",\"chr15q\",\"chr15q\",\"chr15q\",\"chr15q\",\"chr15q\",\"chr15q\",\"chr15q\",\"chr15q\",\"chr15q\"],\"xaxis\":\"x\",\"y\":[4208.5,4395.5,4401.0,4440.0,4554.5,4727.0,4772.0,4774.0,4909.0,5058.0,5098.0,5200.5,5598.0,5811.0,5813.5,5889.5,6775.0,7436.0,7736.0,8847.0],\"yaxis\":\"y\",\"type\":\"scatter\"},{\"hovertemplate\":\"chrom=%{x}<br>length=%{y}<extra></extra>\",\"legendgroup\":\"chr01q\",\"marker\":{\"color\":\"#FECB52\",\"symbol\":\"circle\"},\"mode\":\"markers\",\"name\":\"chr01q\",\"orientation\":\"v\",\"showlegend\":true,\"x\":[\"chr01q\",\"chr01q\",\"chr01q\",\"chr01q\",\"chr01q\",\"chr01q\",\"chr01q\",\"chr01q\",\"chr01q\",\"chr01q\",\"chr01q\",\"chr01q\",\"chr01q\",\"chr01q\",\"chr01q\",\"chr01q\",\"chr01q\",\"chr01q\",\"chr01q\",\"chr01q\"],\"xaxis\":\"x\",\"y\":[4240.0,4261.0,4709.0,4759.0,5204.0,5262.0,5612.0,5652.0,5755.0,5780.5,5835.0,5865.0,5907.0,6400.0,6649.0,6721.0,7932.0,7996.0,8536.5,8914.5],\"yaxis\":\"y\",\"type\":\"scatter\"},{\"hovertemplate\":\"chrom=%{x}<br>length=%{y}<extra></extra>\",\"legendgroup\":\"chr01p\",\"marker\":{\"color\":\"#636efa\",\"symbol\":\"circle\"},\"mode\":\"markers\",\"name\":\"chr01p\",\"orientation\":\"v\",\"showlegend\":true,\"x\":[\"chr01p\",\"chr01p\",\"chr01p\",\"chr01p\",\"chr01p\",\"chr01p\",\"chr01p\",\"chr01p\",\"chr01p\",\"chr01p\",\"chr01p\",\"chr01p\",\"chr01p\",\"chr01p\",\"chr01p\",\"chr01p\",\"chr01p\",\"chr01p\",\"chr01p\",\"chr01p\"],\"xaxis\":\"x\",\"y\":[4309.5,5064.0,5154.0,5189.0,5553.0,5556.0,5646.0,5718.0,5815.5,5818.0,5819.0,5855.0,6049.0,6101.5,6333.0,6426.0,7125.0,7723.0,7897.5,8139.5],\"yaxis\":\"y\",\"type\":\"scatter\"},{\"hovertemplate\":\"chrom=%{x}<br>length=%{y}<extra></extra>\",\"legendgroup\":\"chr20p\",\"marker\":{\"color\":\"#EF553B\",\"symbol\":\"circle\"},\"mode\":\"markers\",\"name\":\"chr20p\",\"orientation\":\"v\",\"showlegend\":true,\"x\":[\"chr20p\",\"chr20p\",\"chr20p\",\"chr20p\",\"chr20p\",\"chr20p\",\"chr20p\",\"chr20p\",\"chr20p\",\"chr20p\",\"chr20p\",\"chr20p\",\"chr20p\",\"chr20p\",\"chr20p\",\"chr20p\",\"chr20p\",\"chr20p\",\"chr20p\",\"chr20p\"],\"xaxis\":\"x\",\"y\":[4439.0,4740.5,4749.0,4788.0,4861.0,5006.5,5076.0,5174.0,5176.5,5415.0,5421.5,5499.5,5500.5,6235.0,6251.0,6401.0,6431.0,6437.5,7119.0,7399.5],\"yaxis\":\"y\",\"type\":\"scatter\"},{\"hovertemplate\":\"chrom=%{x}<br>length=%{y}<extra></extra>\",\"legendgroup\":\"chr07p\",\"marker\":{\"color\":\"#00cc96\",\"symbol\":\"circle\"},\"mode\":\"markers\",\"name\":\"chr07p\",\"orientation\":\"v\",\"showlegend\":true,\"x\":[\"chr07p\",\"chr07p\",\"chr07p\",\"chr07p\",\"chr07p\",\"chr07p\",\"chr07p\",\"chr07p\",\"chr07p\",\"chr07p\",\"chr07p\",\"chr07p\",\"chr07p\",\"chr07p\",\"chr07p\",\"chr07p\",\"chr07p\",\"chr07p\",\"chr07p\",\"chr07p\"],\"xaxis\":\"x\",\"y\":[4443.0,4507.0,4719.0,4866.0,4919.0,4942.0,5018.0,5053.0,5079.0,5198.0,5296.0,5702.0,5723.0,5856.0,5918.0,6016.0,6024.0,6201.0,7687.0,7711.0],\"yaxis\":\"y\",\"type\":\"scatter\"},{\"hovertemplate\":\"chrom=%{x}<br>length=%{y}<extra></extra>\",\"legendgroup\":\"chr11q\",\"marker\":{\"color\":\"#ab63fa\",\"symbol\":\"circle\"},\"mode\":\"markers\",\"name\":\"chr11q\",\"orientation\":\"v\",\"showlegend\":true,\"x\":[\"chr11q\",\"chr11q\",\"chr11q\",\"chr11q\",\"chr11q\",\"chr11q\",\"chr11q\",\"chr11q\",\"chr11q\",\"chr11q\",\"chr11q\",\"chr11q\",\"chr11q\",\"chr11q\",\"chr11q\",\"chr11q\",\"chr11q\",\"chr11q\",\"chr11q\",\"chr11q\"],\"xaxis\":\"x\",\"y\":[4450.0,4781.0,4810.0,4877.0,4946.0,4962.0,5224.0,5379.5,5457.0,5457.5,5546.0,5664.0,5689.0,5922.0,6064.0,7178.0,7227.0,7701.0,7748.0,7767.0],\"yaxis\":\"y\",\"type\":\"scatter\"},{\"hovertemplate\":\"chrom=%{x}<br>length=%{y}<extra></extra>\",\"legendgroup\":\"chr09q\",\"marker\":{\"color\":\"#FFA15A\",\"symbol\":\"circle\"},\"mode\":\"markers\",\"name\":\"chr09q\",\"orientation\":\"v\",\"showlegend\":true,\"x\":[\"chr09q\",\"chr09q\",\"chr09q\",\"chr09q\",\"chr09q\",\"chr09q\",\"chr09q\",\"chr09q\",\"chr09q\",\"chr09q\",\"chr09q\",\"chr09q\",\"chr09q\",\"chr09q\",\"chr09q\",\"chr09q\",\"chr09q\",\"chr09q\",\"chr09q\",\"chr09q\"],\"xaxis\":\"x\",\"y\":[4456.0,4615.0,4738.0,4807.0,4809.5,4993.0,5053.5,5201.5,5372.0,5472.0,5543.5,5627.0,5787.0,6253.0,6294.5,6314.0,6589.0,7039.0,7040.0,7734.0],\"yaxis\":\"y\",\"type\":\"scatter\"},{\"hovertemplate\":\"chrom=%{x}<br>length=%{y}<extra></extra>\",\"legendgroup\":\"chr05p\",\"marker\":{\"color\":\"#19d3f3\",\"symbol\":\"circle\"},\"mode\":\"markers\",\"name\":\"chr05p\",\"orientation\":\"v\",\"showlegend\":true,\"x\":[\"chr05p\",\"chr05p\",\"chr05p\",\"chr05p\",\"chr05p\",\"chr05p\",\"chr05p\",\"chr05p\",\"chr05p\",\"chr05p\",\"chr05p\",\"chr05p\",\"chr05p\",\"chr05p\",\"chr05p\",\"chr05p\",\"chr05p\",\"chr05p\",\"chr05p\",\"chr05p\"],\"xaxis\":\"x\",\"y\":[4474.0,4739.5,5710.0,5935.5,5985.0,6075.0,6107.0,6277.0,6658.5,6870.0,7136.5,7166.0,7181.0,7185.0,7197.0,7649.0,7810.0,7980.0,8122.0,8883.0],\"yaxis\":\"y\",\"type\":\"scatter\"},{\"hovertemplate\":\"chrom=%{x}<br>length=%{y}<extra></extra>\",\"legendgroup\":\"chr04q\",\"marker\":{\"color\":\"#FF6692\",\"symbol\":\"circle\"},\"mode\":\"markers\",\"name\":\"chr04q\",\"orientation\":\"v\",\"showlegend\":true,\"x\":[\"chr04q\",\"chr04q\",\"chr04q\",\"chr04q\",\"chr04q\",\"chr04q\",\"chr04q\",\"chr04q\",\"chr04q\",\"chr04q\",\"chr04q\",\"chr04q\",\"chr04q\",\"chr04q\",\"chr04q\",\"chr04q\",\"chr04q\",\"chr04q\",\"chr04q\",\"chr04q\"],\"xaxis\":\"x\",\"y\":[4675.5,5206.0,5330.0,5343.0,5656.0,5750.5,6198.5,6947.0,6964.0,7990.0,8264.0,10091.0,10259.0,14680.5,15565.5,16552.0,17149.0,19605.0,23649.5,24890.5],\"yaxis\":\"y\",\"type\":\"scatter\"},{\"hovertemplate\":\"chrom=%{x}<br>length=%{y}<extra></extra>\",\"legendgroup\":\"chr03p\",\"marker\":{\"color\":\"#B6E880\",\"symbol\":\"circle\"},\"mode\":\"markers\",\"name\":\"chr03p\",\"orientation\":\"v\",\"showlegend\":true,\"x\":[\"chr03p\",\"chr03p\",\"chr03p\",\"chr03p\",\"chr03p\",\"chr03p\",\"chr03p\",\"chr03p\",\"chr03p\",\"chr03p\",\"chr03p\",\"chr03p\",\"chr03p\",\"chr03p\",\"chr03p\",\"chr03p\",\"chr03p\",\"chr03p\",\"chr03p\",\"chr03p\"],\"xaxis\":\"x\",\"y\":[4678.0,4842.0,5211.0,5386.5,5837.0,5968.0,6070.0,6187.5,6391.0,6464.5,6901.5,7010.5,7025.5,7082.5,7273.0,7973.5,8657.0,8693.5,9040.0,9864.0],\"yaxis\":\"y\",\"type\":\"scatter\"},{\"hovertemplate\":\"chrom=%{x}<br>length=%{y}<extra></extra>\",\"legendgroup\":\"chr07q\",\"marker\":{\"color\":\"#FF97FF\",\"symbol\":\"circle\"},\"mode\":\"markers\",\"name\":\"chr07q\",\"orientation\":\"v\",\"showlegend\":true,\"x\":[\"chr07q\",\"chr07q\",\"chr07q\",\"chr07q\",\"chr07q\",\"chr07q\",\"chr07q\",\"chr07q\",\"chr07q\",\"chr07q\",\"chr07q\",\"chr07q\",\"chr07q\",\"chr07q\",\"chr07q\",\"chr07q\",\"chr07q\",\"chr07q\",\"chr07q\",\"chr07q\"],\"xaxis\":\"x\",\"y\":[4823.5,4984.5,5145.0,5168.0,5679.5,5850.5,5862.0,5933.0,6137.5,6173.0,6206.5,6443.0,6659.0,6722.0,6724.0,6809.0,6871.5,6990.5,7624.0,7837.0],\"yaxis\":\"y\",\"type\":\"scatter\"},{\"hovertemplate\":\"chrom=%{x}<br>length=%{y}<extra></extra>\",\"legendgroup\":\"chr02q\",\"marker\":{\"color\":\"#FECB52\",\"symbol\":\"circle\"},\"mode\":\"markers\",\"name\":\"chr02q\",\"orientation\":\"v\",\"showlegend\":true,\"x\":[\"chr02q\",\"chr02q\",\"chr02q\",\"chr02q\",\"chr02q\",\"chr02q\",\"chr02q\",\"chr02q\",\"chr02q\",\"chr02q\",\"chr02q\",\"chr02q\",\"chr02q\",\"chr02q\",\"chr02q\",\"chr02q\",\"chr02q\",\"chr02q\",\"chr02q\",\"chr02q\"],\"xaxis\":\"x\",\"y\":[4851.0,4923.5,4964.0,5054.0,5063.0,5191.5,5292.0,5342.0,5460.0,5747.0,6469.0,6766.0,6810.5,6864.0,7665.0,8218.0,9374.0,15049.5,16198.0,18246.0],\"yaxis\":\"y\",\"type\":\"scatter\"},{\"hovertemplate\":\"chrom=%{x}<br>length=%{y}<extra></extra>\",\"legendgroup\":\"chr05q\",\"marker\":{\"color\":\"#636efa\",\"symbol\":\"circle\"},\"mode\":\"markers\",\"name\":\"chr05q\",\"orientation\":\"v\",\"showlegend\":true,\"x\":[\"chr05q\",\"chr05q\",\"chr05q\",\"chr05q\",\"chr05q\",\"chr05q\",\"chr05q\",\"chr05q\",\"chr05q\",\"chr05q\",\"chr05q\",\"chr05q\",\"chr05q\",\"chr05q\",\"chr05q\",\"chr05q\",\"chr05q\",\"chr05q\",\"chr05q\",\"chr05q\"],\"xaxis\":\"x\",\"y\":[4947.0,5259.0,5477.0,5482.0,5525.5,5676.0,5948.0,6173.0,6227.0,6525.0,6552.0,6611.0,6990.0,7080.0,7119.0,7150.5,7368.0,7930.0,8284.0,8655.0],\"yaxis\":\"y\",\"type\":\"scatter\"},{\"hovertemplate\":\"chrom=%{x}<br>length=%{y}<extra></extra>\",\"legendgroup\":\"chr16q\",\"marker\":{\"color\":\"#EF553B\",\"symbol\":\"circle\"},\"mode\":\"markers\",\"name\":\"chr16q\",\"orientation\":\"v\",\"showlegend\":true,\"x\":[\"chr16q\",\"chr16q\",\"chr16q\",\"chr16q\",\"chr16q\",\"chr16q\",\"chr16q\",\"chr16q\",\"chr16q\",\"chr16q\",\"chr16q\",\"chr16q\",\"chr16q\",\"chr16q\",\"chr16q\",\"chr16q\",\"chr16q\",\"chr16q\",\"chr16q\",\"chr16q\"],\"xaxis\":\"x\",\"y\":[4955.5,5401.0,5799.0,5914.0,6059.0,6338.5,6408.0,6454.0,6823.0,6923.5,7229.0,7655.0,7718.0,7744.0,8086.0,8101.0,8144.5,8517.5,9827.0,16847.0],\"yaxis\":\"y\",\"type\":\"scatter\"},{\"hovertemplate\":\"chrom=%{x}<br>length=%{y}<extra></extra>\",\"legendgroup\":\"chr02p\",\"marker\":{\"color\":\"#00cc96\",\"symbol\":\"circle\"},\"mode\":\"markers\",\"name\":\"chr02p\",\"orientation\":\"v\",\"showlegend\":true,\"x\":[\"chr02p\",\"chr02p\",\"chr02p\",\"chr02p\",\"chr02p\",\"chr02p\",\"chr02p\",\"chr02p\",\"chr02p\",\"chr02p\",\"chr02p\",\"chr02p\",\"chr02p\",\"chr02p\",\"chr02p\",\"chr02p\",\"chr02p\",\"chr02p\",\"chr02p\",\"chr02p\"],\"xaxis\":\"x\",\"y\":[5110.0,5411.0,5521.0,5698.0,5699.0,5784.5,5842.0,5962.5,5974.0,6003.5,6099.5,6133.0,6199.0,6287.0,6326.0,7547.0,7646.5,7857.5,8352.0,8507.0],\"yaxis\":\"y\",\"type\":\"scatter\"},{\"hovertemplate\":\"chrom=%{x}<br>length=%{y}<extra></extra>\",\"legendgroup\":\"chr13q\",\"marker\":{\"color\":\"#ab63fa\",\"symbol\":\"circle\"},\"mode\":\"markers\",\"name\":\"chr13q\",\"orientation\":\"v\",\"showlegend\":true,\"x\":[\"chr13q\",\"chr13q\",\"chr13q\",\"chr13q\",\"chr13q\",\"chr13q\",\"chr13q\",\"chr13q\",\"chr13q\",\"chr13q\",\"chr13q\",\"chr13q\",\"chr13q\",\"chr13q\",\"chr13q\",\"chr13q\",\"chr13q\",\"chr13q\",\"chr13q\",\"chr13q\"],\"xaxis\":\"x\",\"y\":[5119.0,5165.0,5278.0,5282.5,5480.0,5515.0,5551.0,5733.0,5822.5,5892.0,6018.0,6207.0,6227.0,6491.0,6926.5,7056.0,7835.0,7997.0,8340.0,10365.0],\"yaxis\":\"y\",\"type\":\"scatter\"},{\"hovertemplate\":\"chrom=%{x}<br>length=%{y}<extra></extra>\",\"legendgroup\":\"chr06q\",\"marker\":{\"color\":\"#FFA15A\",\"symbol\":\"circle\"},\"mode\":\"markers\",\"name\":\"chr06q\",\"orientation\":\"v\",\"showlegend\":true,\"x\":[\"chr06q\",\"chr06q\",\"chr06q\",\"chr06q\",\"chr06q\",\"chr06q\",\"chr06q\",\"chr06q\",\"chr06q\",\"chr06q\",\"chr06q\",\"chr06q\",\"chr06q\",\"chr06q\",\"chr06q\",\"chr06q\",\"chr06q\",\"chr06q\",\"chr06q\",\"chr06q\"],\"xaxis\":\"x\",\"y\":[5303.5,5701.0,5775.5,5932.0,6134.5,6245.0,6282.0,6549.0,6602.0,6782.5,6976.0,6992.0,7000.0,7086.0,7183.0,7287.5,7471.0,8421.0,9115.0,9201.5],\"yaxis\":\"y\",\"type\":\"scatter\"},{\"hovertemplate\":\"chrom=%{x}<br>length=%{y}<extra></extra>\",\"legendgroup\":\"chr10q\",\"marker\":{\"color\":\"#19d3f3\",\"symbol\":\"circle\"},\"mode\":\"markers\",\"name\":\"chr10q\",\"orientation\":\"v\",\"showlegend\":true,\"x\":[\"chr10q\",\"chr10q\",\"chr10q\",\"chr10q\",\"chr10q\",\"chr10q\",\"chr10q\",\"chr10q\",\"chr10q\",\"chr10q\",\"chr10q\",\"chr10q\",\"chr10q\",\"chr10q\",\"chr10q\",\"chr10q\",\"chr10q\",\"chr10q\",\"chr10q\",\"chr10q\"],\"xaxis\":\"x\",\"y\":[5625.0,5901.0,6087.0,6448.0,6488.5,6519.0,6531.0,7616.5,7773.0,8015.0,8589.0,8630.0,9114.5,9225.0,9763.0,9942.0,9943.5,10861.0,20116.0,23712.0],\"yaxis\":\"y\",\"type\":\"scatter\"},{\"hovertemplate\":\"chrom=%{x}<br>length=%{y}<extra></extra>\",\"legendgroup\":\"chr21p\",\"marker\":{\"color\":\"#FF6692\",\"symbol\":\"circle\"},\"mode\":\"markers\",\"name\":\"chr21p\",\"orientation\":\"v\",\"showlegend\":true,\"x\":[\"chr21p\",\"chr21p\",\"chr21p\",\"chr21p\",\"chr21p\",\"chr21p\",\"chr21p\",\"chr21p\",\"chr21p\",\"chr21p\",\"chr21p\",\"chr21p\",\"chr21p\",\"chr21p\",\"chr21p\",\"chr21p\",\"chr21p\",\"chr21p\",\"chr21p\",\"chr21p\"],\"xaxis\":\"x\",\"y\":[5632.5,6298.0,6504.5,6800.0,6924.0,7142.0,7402.5,7623.5,7693.0,7941.0,8025.5,8117.0,8428.0,8548.0,8710.0,8807.0,8963.0,9211.0,9366.0,11188.0],\"yaxis\":\"y\",\"type\":\"scatter\"},{\"hovertemplate\":\"chrom=%{x}<br>length=%{y}<extra></extra>\",\"legendgroup\":\"chr15p\",\"marker\":{\"color\":\"#B6E880\",\"symbol\":\"circle\"},\"mode\":\"markers\",\"name\":\"chr15p\",\"orientation\":\"v\",\"showlegend\":true,\"x\":[\"chr15p\",\"chr15p\",\"chr15p\",\"chr15p\",\"chr15p\",\"chr15p\",\"chr15p\",\"chr15p\",\"chr15p\",\"chr15p\",\"chr15p\",\"chr15p\",\"chr15p\",\"chr15p\",\"chr15p\",\"chr15p\",\"chr15p\",\"chr15p\",\"chr15p\",\"chr15p\"],\"xaxis\":\"x\",\"y\":[5841.5,6603.0,6911.0,7128.5,7425.0,7657.0,7748.5,7828.0,7911.5,8345.0,8782.0,9183.0,9242.0,9431.0,9495.0,10503.5,11171.5,11483.5,11945.0,15668.5],\"yaxis\":\"y\",\"type\":\"scatter\"},{\"hovertemplate\":\"chrom=%{x}<br>length=%{y}<extra></extra>\",\"legendgroup\":\"chrXp\",\"marker\":{\"color\":\"#FF97FF\",\"symbol\":\"circle\"},\"mode\":\"markers\",\"name\":\"chrXp\",\"orientation\":\"v\",\"showlegend\":true,\"x\":[\"chrXp\",\"chrXp\",\"chrXp\",\"chrXp\",\"chrXp\",\"chrXp\",\"chrXp\",\"chrXp\",\"chrXp\",\"chrXp\",\"chrXp\",\"chrXp\",\"chrXp\",\"chrXp\",\"chrXp\",\"chrXp\",\"chrXp\",\"chrXp\",\"chrXp\",\"chrXp\"],\"xaxis\":\"x\",\"y\":[5927.0,6455.5,6943.0,7310.0,8081.0,8304.0,8607.0,9901.0,10471.0,10517.5,10806.0,11026.0,11104.0,11329.0,11922.0,11945.0,12542.0,12633.0,13204.0,16246.5],\"yaxis\":\"y\",\"type\":\"scatter\"},{\"hovertemplate\":\"chrom=%{x}<br>length=%{y}<extra></extra>\",\"legendgroup\":\"chr04p\",\"marker\":{\"color\":\"#FECB52\",\"symbol\":\"circle\"},\"mode\":\"markers\",\"name\":\"chr04p\",\"orientation\":\"v\",\"showlegend\":true,\"x\":[\"chr04p\",\"chr04p\",\"chr04p\",\"chr04p\",\"chr04p\",\"chr04p\",\"chr04p\",\"chr04p\",\"chr04p\",\"chr04p\",\"chr04p\",\"chr04p\",\"chr04p\",\"chr04p\",\"chr04p\",\"chr04p\",\"chr04p\",\"chr04p\",\"chr04p\",\"chr04p\"],\"xaxis\":\"x\",\"y\":[6609.0,6645.0,6675.5,6837.0,7086.0,7111.0,7312.0,7463.0,7522.0,7621.0,7698.5,8734.0,8877.0,10514.0,10629.0,10767.0,11020.0,16680.5,16792.0,17368.5],\"yaxis\":\"y\",\"type\":\"scatter\"},{\"hovertemplate\":\"chrom=%{x}<br>length=%{y}<extra></extra>\",\"legendgroup\":\"chr22p\",\"marker\":{\"color\":\"#636efa\",\"symbol\":\"circle\"},\"mode\":\"markers\",\"name\":\"chr22p\",\"orientation\":\"v\",\"showlegend\":true,\"x\":[\"chr22p\",\"chr22p\",\"chr22p\",\"chr22p\",\"chr22p\",\"chr22p\",\"chr22p\",\"chr22p\",\"chr22p\",\"chr22p\",\"chr22p\",\"chr22p\",\"chr22p\",\"chr22p\",\"chr22p\",\"chr22p\",\"chr22p\",\"chr22p\",\"chr22p\",\"chr22p\"],\"xaxis\":\"x\",\"y\":[6915.0,7821.5,8709.5,13594.5,16078.5,17932.5,19257.0,19362.0,19653.0,19847.0,20013.0,20194.0,20194.0,20940.5,21118.5,21714.5,22748.0,22882.5,22899.0,23837.5],\"yaxis\":\"y\",\"type\":\"scatter\"},{\"hovertemplate\":\"chrom=%{x}<br>length=%{y}<extra></extra>\",\"legendgroup\":\"chr14q\",\"marker\":{\"color\":\"#EF553B\",\"symbol\":\"circle\"},\"mode\":\"markers\",\"name\":\"chr14q\",\"orientation\":\"v\",\"showlegend\":true,\"x\":[\"chr14q\",\"chr14q\",\"chr14q\",\"chr14q\",\"chr14q\",\"chr14q\",\"chr14q\",\"chr14q\",\"chr14q\",\"chr14q\",\"chr14q\",\"chr14q\",\"chr14q\",\"chr14q\",\"chr14q\",\"chr14q\",\"chr14q\",\"chr14q\",\"chr14q\",\"chr14q\"],\"xaxis\":\"x\",\"y\":[7017.0,7592.5,7622.0,7918.5,7972.5,8181.0,8201.0,8225.0,8457.0,8684.5,8693.0,8825.0,8901.0,9217.5,9253.0,9291.0,9874.5,10070.0,10337.0,10827.0],\"yaxis\":\"y\",\"type\":\"scatter\"},{\"hovertemplate\":\"chrom=%{x}<br>length=%{y}<extra></extra>\",\"legendgroup\":\"chr22q\",\"marker\":{\"color\":\"#00cc96\",\"symbol\":\"circle\"},\"mode\":\"markers\",\"name\":\"chr22q\",\"orientation\":\"v\",\"showlegend\":true,\"x\":[\"chr22q\",\"chr22q\",\"chr22q\",\"chr22q\",\"chr22q\",\"chr22q\",\"chr22q\",\"chr22q\",\"chr22q\",\"chr22q\",\"chr22q\",\"chr22q\",\"chr22q\",\"chr22q\",\"chr22q\",\"chr22q\",\"chr22q\",\"chr22q\",\"chr22q\",\"chr22q\"],\"xaxis\":\"x\",\"y\":[7031.0,7369.5,7796.0,8346.5,8739.0,8824.0,10196.0,10909.0,13135.5,16527.0,18760.0,20581.0,20764.0,20849.0,21532.0,21635.0,23025.0,23858.0,23923.5,27326.0],\"yaxis\":\"y\",\"type\":\"scatter\"},{\"hovertemplate\":\"chrom=%{x}<br>length=%{y}<extra></extra>\",\"legendgroup\":\"chr18q\",\"marker\":{\"color\":\"#ab63fa\",\"symbol\":\"circle\"},\"mode\":\"markers\",\"name\":\"chr18q\",\"orientation\":\"v\",\"showlegend\":true,\"x\":[\"chr18q\",\"chr18q\",\"chr18q\",\"chr18q\",\"chr18q\",\"chr18q\",\"chr18q\",\"chr18q\",\"chr18q\",\"chr18q\",\"chr18q\",\"chr18q\",\"chr18q\",\"chr18q\",\"chr18q\",\"chr18q\",\"chr18q\",\"chr18q\",\"chr18q\",\"chr18q\"],\"xaxis\":\"x\",\"y\":[8363.0,9120.0,9349.0,9386.5,9833.0,9909.0,9916.0,9921.0,9933.0,10057.0,10167.5,10313.0,10338.0,10429.0,10719.0,11028.0,11176.5,11421.0,11784.0,12521.0],\"yaxis\":\"y\",\"type\":\"scatter\"},{\"hovertemplate\":\"chrom=%{x}<br>length=%{y}<extra></extra>\",\"legendgroup\":\"chrYp\",\"marker\":{\"color\":\"#FFA15A\",\"symbol\":\"circle\"},\"mode\":\"markers\",\"name\":\"chrYp\",\"orientation\":\"v\",\"showlegend\":true,\"x\":[\"chrYp\",\"chrYp\",\"chrYp\",\"chrYp\",\"chrYp\",\"chrYp\",\"chrYp\",\"chrYp\",\"chrYp\",\"chrYp\",\"chrYp\",\"chrYp\",\"chrYp\",\"chrYp\",\"chrYp\",\"chrYp\",\"chrYp\",\"chrYp\",\"chrYp\",\"chrYp\"],\"xaxis\":\"x\",\"y\":[9323.0,9476.5,9892.0,9999.0,10411.5,10509.5,10685.5,10938.5,10941.0,10956.5,11214.5,11571.0,11917.5,12363.0,12518.5,12805.0,13299.5,13705.0,14383.0,14944.0],\"yaxis\":\"y\",\"type\":\"scatter\"},{\"hovertemplate\":\"chrom=%{x}<br>length=%{y}<extra></extra>\",\"legendgroup\":\"chr21q\",\"marker\":{\"color\":\"#19d3f3\",\"symbol\":\"circle\"},\"mode\":\"markers\",\"name\":\"chr21q\",\"orientation\":\"v\",\"showlegend\":true,\"x\":[\"chr21q\",\"chr21q\",\"chr21q\",\"chr21q\",\"chr21q\",\"chr21q\",\"chr21q\",\"chr21q\",\"chr21q\",\"chr21q\",\"chr21q\",\"chr21q\",\"chr21q\",\"chr21q\",\"chr21q\",\"chr21q\",\"chr21q\",\"chr21q\",\"chr21q\",\"chr21q\"],\"xaxis\":\"x\",\"y\":[11115.0,11141.0,17246.0,19555.0,20548.0,20856.0,21205.5,21242.0,21246.5,21327.0,21339.0,21690.0,22016.0,22330.0,22704.0,22939.5,23309.0,24022.0,24367.0,24409.0],\"yaxis\":\"y\",\"type\":\"scatter\"},{\"hovertemplate\":\"chrom=%{x}<br>length=%{y}<extra></extra>\",\"legendgroup\":\"chr08p\",\"marker\":{\"color\":\"#FF6692\",\"symbol\":\"circle\"},\"mode\":\"markers\",\"name\":\"chr08p\",\"orientation\":\"v\",\"showlegend\":true,\"x\":[\"chr08p\",\"chr08p\",\"chr08p\",\"chr08p\",\"chr08p\",\"chr08p\",\"chr08p\",\"chr08p\",\"chr08p\",\"chr08p\",\"chr08p\",\"chr08p\",\"chr08p\",\"chr08p\",\"chr08p\",\"chr08p\"],\"xaxis\":\"x\",\"y\":[16956.5,18044.0,18456.0,18843.0,19074.5,19655.0,19913.5,19934.0,20143.0,20206.0,20381.0,21686.0,21783.5,21998.0,22626.0,23403.0],\"yaxis\":\"y\",\"type\":\"scatter\"},{\"hovertemplate\":\"chrom=%{x}<br>length=%{y}<extra></extra>\",\"legendgroup\":\"chr19q\",\"marker\":{\"color\":\"#B6E880\",\"symbol\":\"circle\"},\"mode\":\"markers\",\"name\":\"chr19q\",\"orientation\":\"v\",\"showlegend\":true,\"x\":[\"chr19q\",\"chr19q\",\"chr19q\",\"chr19q\",\"chr19q\",\"chr19q\",\"chr19q\",\"chr19q\",\"chr19q\",\"chr19q\",\"chr19q\",\"chr19q\",\"chr19q\",\"chr19q\",\"chr19q\",\"chr19q\",\"chr19q\",\"chr19q\",\"chr19q\",\"chr19q\"],\"xaxis\":\"x\",\"y\":[19743.5,20354.0,22393.0,22530.5,22852.5,23097.0,23872.0,24421.0,24528.0,25020.0,25227.5,25330.0,25605.0,25759.0,26660.5,27651.0,27740.0,29048.0,29574.0,31483.0],\"yaxis\":\"y\",\"type\":\"scatter\"}],                        {\"template\":{\"data\":{\"bar\":[{\"error_x\":{\"color\":\"#2a3f5f\"},\"error_y\":{\"color\":\"#2a3f5f\"},\"marker\":{\"line\":{\"color\":\"#E5ECF6\",\"width\":0.5},\"pattern\":{\"fillmode\":\"overlay\",\"size\":10,\"solidity\":0.2}},\"type\":\"bar\"}],\"barpolar\":[{\"marker\":{\"line\":{\"color\":\"#E5ECF6\",\"width\":0.5},\"pattern\":{\"fillmode\":\"overlay\",\"size\":10,\"solidity\":0.2}},\"type\":\"barpolar\"}],\"carpet\":[{\"aaxis\":{\"endlinecolor\":\"#2a3f5f\",\"gridcolor\":\"white\",\"linecolor\":\"white\",\"minorgridcolor\":\"white\",\"startlinecolor\":\"#2a3f5f\"},\"baxis\":{\"endlinecolor\":\"#2a3f5f\",\"gridcolor\":\"white\",\"linecolor\":\"white\",\"minorgridcolor\":\"white\",\"startlinecolor\":\"#2a3f5f\"},\"type\":\"carpet\"}],\"choropleth\":[{\"colorbar\":{\"outlinewidth\":0,\"ticks\":\"\"},\"type\":\"choropleth\"}],\"contour\":[{\"colorbar\":{\"outlinewidth\":0,\"ticks\":\"\"},\"colorscale\":[[0.0,\"#0d0887\"],[0.1111111111111111,\"#46039f\"],[0.2222222222222222,\"#7201a8\"],[0.3333333333333333,\"#9c179e\"],[0.4444444444444444,\"#bd3786\"],[0.5555555555555556,\"#d8576b\"],[0.6666666666666666,\"#ed7953\"],[0.7777777777777778,\"#fb9f3a\"],[0.8888888888888888,\"#fdca26\"],[1.0,\"#f0f921\"]],\"type\":\"contour\"}],\"contourcarpet\":[{\"colorbar\":{\"outlinewidth\":0,\"ticks\":\"\"},\"type\":\"contourcarpet\"}],\"heatmap\":[{\"colorbar\":{\"outlinewidth\":0,\"ticks\":\"\"},\"colorscale\":[[0.0,\"#0d0887\"],[0.1111111111111111,\"#46039f\"],[0.2222222222222222,\"#7201a8\"],[0.3333333333333333,\"#9c179e\"],[0.4444444444444444,\"#bd3786\"],[0.5555555555555556,\"#d8576b\"],[0.6666666666666666,\"#ed7953\"],[0.7777777777777778,\"#fb9f3a\"],[0.8888888888888888,\"#fdca26\"],[1.0,\"#f0f921\"]],\"type\":\"heatmap\"}],\"heatmapgl\":[{\"colorbar\":{\"outlinewidth\":0,\"ticks\":\"\"},\"colorscale\":[[0.0,\"#0d0887\"],[0.1111111111111111,\"#46039f\"],[0.2222222222222222,\"#7201a8\"],[0.3333333333333333,\"#9c179e\"],[0.4444444444444444,\"#bd3786\"],[0.5555555555555556,\"#d8576b\"],[0.6666666666666666,\"#ed7953\"],[0.7777777777777778,\"#fb9f3a\"],[0.8888888888888888,\"#fdca26\"],[1.0,\"#f0f921\"]],\"type\":\"heatmapgl\"}],\"histogram\":[{\"marker\":{\"pattern\":{\"fillmode\":\"overlay\",\"size\":10,\"solidity\":0.2}},\"type\":\"histogram\"}],\"histogram2d\":[{\"colorbar\":{\"outlinewidth\":0,\"ticks\":\"\"},\"colorscale\":[[0.0,\"#0d0887\"],[0.1111111111111111,\"#46039f\"],[0.2222222222222222,\"#7201a8\"],[0.3333333333333333,\"#9c179e\"],[0.4444444444444444,\"#bd3786\"],[0.5555555555555556,\"#d8576b\"],[0.6666666666666666,\"#ed7953\"],[0.7777777777777778,\"#fb9f3a\"],[0.8888888888888888,\"#fdca26\"],[1.0,\"#f0f921\"]],\"type\":\"histogram2d\"}],\"histogram2dcontour\":[{\"colorbar\":{\"outlinewidth\":0,\"ticks\":\"\"},\"colorscale\":[[0.0,\"#0d0887\"],[0.1111111111111111,\"#46039f\"],[0.2222222222222222,\"#7201a8\"],[0.3333333333333333,\"#9c179e\"],[0.4444444444444444,\"#bd3786\"],[0.5555555555555556,\"#d8576b\"],[0.6666666666666666,\"#ed7953\"],[0.7777777777777778,\"#fb9f3a\"],[0.8888888888888888,\"#fdca26\"],[1.0,\"#f0f921\"]],\"type\":\"histogram2dcontour\"}],\"mesh3d\":[{\"colorbar\":{\"outlinewidth\":0,\"ticks\":\"\"},\"type\":\"mesh3d\"}],\"parcoords\":[{\"line\":{\"colorbar\":{\"outlinewidth\":0,\"ticks\":\"\"}},\"type\":\"parcoords\"}],\"pie\":[{\"automargin\":true,\"type\":\"pie\"}],\"scatter\":[{\"marker\":{\"colorbar\":{\"outlinewidth\":0,\"ticks\":\"\"}},\"type\":\"scatter\"}],\"scatter3d\":[{\"line\":{\"colorbar\":{\"outlinewidth\":0,\"ticks\":\"\"}},\"marker\":{\"colorbar\":{\"outlinewidth\":0,\"ticks\":\"\"}},\"type\":\"scatter3d\"}],\"scattercarpet\":[{\"marker\":{\"colorbar\":{\"outlinewidth\":0,\"ticks\":\"\"}},\"type\":\"scattercarpet\"}],\"scattergeo\":[{\"marker\":{\"colorbar\":{\"outlinewidth\":0,\"ticks\":\"\"}},\"type\":\"scattergeo\"}],\"scattergl\":[{\"marker\":{\"colorbar\":{\"outlinewidth\":0,\"ticks\":\"\"}},\"type\":\"scattergl\"}],\"scattermapbox\":[{\"marker\":{\"colorbar\":{\"outlinewidth\":0,\"ticks\":\"\"}},\"type\":\"scattermapbox\"}],\"scatterpolar\":[{\"marker\":{\"colorbar\":{\"outlinewidth\":0,\"ticks\":\"\"}},\"type\":\"scatterpolar\"}],\"scatterpolargl\":[{\"marker\":{\"colorbar\":{\"outlinewidth\":0,\"ticks\":\"\"}},\"type\":\"scatterpolargl\"}],\"scatterternary\":[{\"marker\":{\"colorbar\":{\"outlinewidth\":0,\"ticks\":\"\"}},\"type\":\"scatterternary\"}],\"surface\":[{\"colorbar\":{\"outlinewidth\":0,\"ticks\":\"\"},\"colorscale\":[[0.0,\"#0d0887\"],[0.1111111111111111,\"#46039f\"],[0.2222222222222222,\"#7201a8\"],[0.3333333333333333,\"#9c179e\"],[0.4444444444444444,\"#bd3786\"],[0.5555555555555556,\"#d8576b\"],[0.6666666666666666,\"#ed7953\"],[0.7777777777777778,\"#fb9f3a\"],[0.8888888888888888,\"#fdca26\"],[1.0,\"#f0f921\"]],\"type\":\"surface\"}],\"table\":[{\"cells\":{\"fill\":{\"color\":\"#EBF0F8\"},\"line\":{\"color\":\"white\"}},\"header\":{\"fill\":{\"color\":\"#C8D4E3\"},\"line\":{\"color\":\"white\"}},\"type\":\"table\"}]},\"layout\":{\"annotationdefaults\":{\"arrowcolor\":\"#2a3f5f\",\"arrowhead\":0,\"arrowwidth\":1},\"autotypenumbers\":\"strict\",\"coloraxis\":{\"colorbar\":{\"outlinewidth\":0,\"ticks\":\"\"}},\"colorscale\":{\"diverging\":[[0,\"#8e0152\"],[0.1,\"#c51b7d\"],[0.2,\"#de77ae\"],[0.3,\"#f1b6da\"],[0.4,\"#fde0ef\"],[0.5,\"#f7f7f7\"],[0.6,\"#e6f5d0\"],[0.7,\"#b8e186\"],[0.8,\"#7fbc41\"],[0.9,\"#4d9221\"],[1,\"#276419\"]],\"sequential\":[[0.0,\"#0d0887\"],[0.1111111111111111,\"#46039f\"],[0.2222222222222222,\"#7201a8\"],[0.3333333333333333,\"#9c179e\"],[0.4444444444444444,\"#bd3786\"],[0.5555555555555556,\"#d8576b\"],[0.6666666666666666,\"#ed7953\"],[0.7777777777777778,\"#fb9f3a\"],[0.8888888888888888,\"#fdca26\"],[1.0,\"#f0f921\"]],\"sequentialminus\":[[0.0,\"#0d0887\"],[0.1111111111111111,\"#46039f\"],[0.2222222222222222,\"#7201a8\"],[0.3333333333333333,\"#9c179e\"],[0.4444444444444444,\"#bd3786\"],[0.5555555555555556,\"#d8576b\"],[0.6666666666666666,\"#ed7953\"],[0.7777777777777778,\"#fb9f3a\"],[0.8888888888888888,\"#fdca26\"],[1.0,\"#f0f921\"]]},\"colorway\":[\"#636efa\",\"#EF553B\",\"#00cc96\",\"#ab63fa\",\"#FFA15A\",\"#19d3f3\",\"#FF6692\",\"#B6E880\",\"#FF97FF\",\"#FECB52\"],\"font\":{\"color\":\"#2a3f5f\"},\"geo\":{\"bgcolor\":\"white\",\"lakecolor\":\"white\",\"landcolor\":\"#E5ECF6\",\"showlakes\":true,\"showland\":true,\"subunitcolor\":\"white\"},\"hoverlabel\":{\"align\":\"left\"},\"hovermode\":\"closest\",\"mapbox\":{\"style\":\"light\"},\"paper_bgcolor\":\"white\",\"plot_bgcolor\":\"#E5ECF6\",\"polar\":{\"angularaxis\":{\"gridcolor\":\"white\",\"linecolor\":\"white\",\"ticks\":\"\"},\"bgcolor\":\"#E5ECF6\",\"radialaxis\":{\"gridcolor\":\"white\",\"linecolor\":\"white\",\"ticks\":\"\"}},\"scene\":{\"xaxis\":{\"backgroundcolor\":\"#E5ECF6\",\"gridcolor\":\"white\",\"gridwidth\":2,\"linecolor\":\"white\",\"showbackground\":true,\"ticks\":\"\",\"zerolinecolor\":\"white\"},\"yaxis\":{\"backgroundcolor\":\"#E5ECF6\",\"gridcolor\":\"white\",\"gridwidth\":2,\"linecolor\":\"white\",\"showbackground\":true,\"ticks\":\"\",\"zerolinecolor\":\"white\"},\"zaxis\":{\"backgroundcolor\":\"#E5ECF6\",\"gridcolor\":\"white\",\"gridwidth\":2,\"linecolor\":\"white\",\"showbackground\":true,\"ticks\":\"\",\"zerolinecolor\":\"white\"}},\"shapedefaults\":{\"line\":{\"color\":\"#2a3f5f\"}},\"ternary\":{\"aaxis\":{\"gridcolor\":\"white\",\"linecolor\":\"white\",\"ticks\":\"\"},\"baxis\":{\"gridcolor\":\"white\",\"linecolor\":\"white\",\"ticks\":\"\"},\"bgcolor\":\"#E5ECF6\",\"caxis\":{\"gridcolor\":\"white\",\"linecolor\":\"white\",\"ticks\":\"\"}},\"title\":{\"x\":0.05},\"xaxis\":{\"automargin\":true,\"gridcolor\":\"white\",\"linecolor\":\"white\",\"ticks\":\"\",\"title\":{\"standoff\":15},\"zerolinecolor\":\"white\",\"zerolinewidth\":2},\"yaxis\":{\"automargin\":true,\"gridcolor\":\"white\",\"linecolor\":\"white\",\"ticks\":\"\",\"title\":{\"standoff\":15},\"zerolinecolor\":\"white\",\"zerolinewidth\":2}}},\"xaxis\":{\"anchor\":\"y\",\"domain\":[0.0,1.0],\"title\":{\"text\":\"chrom\"},\"categoryorder\":\"array\",\"categoryarray\":[\"chr06p\",\"chrYq\",\"chr18p\",\"chr08q\",\"chr13p\",\"chr10p\",\"chr17q\",\"chr16p\",\"chr14p\",\"chr11p\",\"chr12q\",\"chr12p\",\"chr09p\",\"chr17p\",\"chr19p\",\"chr03q\",\"chrXq\",\"chr20q\",\"chr15q\",\"chr01q\",\"chr01p\",\"chr20p\",\"chr07p\",\"chr11q\",\"chr09q\",\"chr05p\",\"chr04q\",\"chr03p\",\"chr07q\",\"chr02q\",\"chr05q\",\"chr16q\",\"chr02p\",\"chr13q\",\"chr06q\",\"chr10q\",\"chr21p\",\"chr15p\",\"chrXp\",\"chr04p\",\"chr22p\",\"chr14q\",\"chr22q\",\"chr18q\",\"chrYp\",\"chr21q\",\"chr08p\",\"chr19q\"]},\"yaxis\":{\"anchor\":\"x\",\"domain\":[0.0,1.0],\"title\":{\"text\":\"length\"}},\"legend\":{\"title\":{\"text\":\"chrom\"},\"tracegroupgap\":0},\"title\":{\"text\":\"Telomere Length by Chromosome\"}},                        {\"responsive\": true}                    ).then(function(){\n",
       "                            \n",
       "var gd = document.getElementById('3c011f8a-54f7-4a92-b64e-1fa421af53e9');\n",
       "var x = new MutationObserver(function (mutations, observer) {{\n",
       "        var display = window.getComputedStyle(gd).display;\n",
       "        if (!display || display === 'none') {{\n",
       "            console.log([gd, 'removed!']);\n",
       "            Plotly.purge(gd);\n",
       "            observer.disconnect();\n",
       "        }}\n",
       "}});\n",
       "\n",
       "// Listen for the removal of the full notebook cells\n",
       "var notebookContainer = gd.closest('#notebook-container');\n",
       "if (notebookContainer) {{\n",
       "    x.observe(notebookContainer, {childList: true});\n",
       "}}\n",
       "\n",
       "// Listen for the clearing of the current output cell\n",
       "var outputEl = gd.closest('.output');\n",
       "if (outputEl) {{\n",
       "    x.observe(outputEl, {childList: true});\n",
       "}}\n",
       "\n",
       "                        })                };                });            </script>        </div>"
      ]
     },
     "metadata": {},
     "output_type": "display_data"
    }
   ],
   "source": [
    "\n",
    "\n",
    "fig = px.scatter(masterdf.sort_values('length'), x='chrom', y='length',color ='chrom', \n",
    "             title = 'Telomere Length by Chromosome',)\n",
    "fig.show()"
   ]
  },
  {
   "cell_type": "code",
   "execution_count": 74,
   "id": "56c84bd0",
   "metadata": {},
   "outputs": [
    {
     "data": {
      "application/vnd.plotly.v1+json": {
       "config": {
        "plotlyServerURL": "https://plot.ly"
       },
       "data": [
        {
         "alignmentgroup": "True",
         "hovertemplate": "chrom=%{x}<br>length=%{y}<extra></extra>",
         "legendgroup": "chr01p",
         "marker": {
          "color": "#636efa"
         },
         "name": "chr01p",
         "notched": false,
         "offsetgroup": "chr01p",
         "orientation": "v",
         "showlegend": true,
         "type": "box",
         "x": [
          "chr01p",
          "chr01p",
          "chr01p",
          "chr01p",
          "chr01p",
          "chr01p",
          "chr01p",
          "chr01p",
          "chr01p",
          "chr01p",
          "chr01p",
          "chr01p",
          "chr01p",
          "chr01p",
          "chr01p",
          "chr01p",
          "chr01p",
          "chr01p",
          "chr01p",
          "chr01p"
         ],
         "x0": " ",
         "xaxis": "x",
         "y": [
          7723,
          5189,
          5718,
          6101.5,
          5815.5,
          5818,
          5855,
          5556,
          6426,
          7897.5,
          4309.5,
          5154,
          6049,
          5646,
          5064,
          5553,
          8139.5,
          5819,
          7125,
          6333
         ],
         "y0": " ",
         "yaxis": "y"
        },
        {
         "alignmentgroup": "True",
         "hovertemplate": "chrom=%{x}<br>length=%{y}<extra></extra>",
         "legendgroup": "chr01q",
         "marker": {
          "color": "#EF553B"
         },
         "name": "chr01q",
         "notched": false,
         "offsetgroup": "chr01q",
         "orientation": "v",
         "showlegend": true,
         "type": "box",
         "x": [
          "chr01q",
          "chr01q",
          "chr01q",
          "chr01q",
          "chr01q",
          "chr01q",
          "chr01q",
          "chr01q",
          "chr01q",
          "chr01q",
          "chr01q",
          "chr01q",
          "chr01q",
          "chr01q",
          "chr01q",
          "chr01q",
          "chr01q",
          "chr01q",
          "chr01q",
          "chr01q"
         ],
         "x0": " ",
         "xaxis": "x",
         "y": [
          4261,
          5865,
          5780.5,
          5262,
          8536.5,
          8914.5,
          6649,
          4759,
          5204,
          5612,
          5755,
          7996,
          5835,
          4240,
          7932,
          5907,
          6400,
          6721,
          5652,
          4709
         ],
         "y0": " ",
         "yaxis": "y"
        },
        {
         "alignmentgroup": "True",
         "hovertemplate": "chrom=%{x}<br>length=%{y}<extra></extra>",
         "legendgroup": "chr02p",
         "marker": {
          "color": "#00cc96"
         },
         "name": "chr02p",
         "notched": false,
         "offsetgroup": "chr02p",
         "orientation": "v",
         "showlegend": true,
         "type": "box",
         "x": [
          "chr02p",
          "chr02p",
          "chr02p",
          "chr02p",
          "chr02p",
          "chr02p",
          "chr02p",
          "chr02p",
          "chr02p",
          "chr02p",
          "chr02p",
          "chr02p",
          "chr02p",
          "chr02p",
          "chr02p",
          "chr02p",
          "chr02p",
          "chr02p",
          "chr02p",
          "chr02p"
         ],
         "x0": " ",
         "xaxis": "x",
         "y": [
          6326,
          7547,
          6133,
          6199,
          6099.5,
          5521,
          6287,
          5110,
          5784.5,
          6003.5,
          5962.5,
          5699,
          8352,
          5842,
          5974,
          5698,
          8507,
          7646.5,
          5411,
          7857.5
         ],
         "y0": " ",
         "yaxis": "y"
        },
        {
         "alignmentgroup": "True",
         "hovertemplate": "chrom=%{x}<br>length=%{y}<extra></extra>",
         "legendgroup": "chr02q",
         "marker": {
          "color": "#ab63fa"
         },
         "name": "chr02q",
         "notched": false,
         "offsetgroup": "chr02q",
         "orientation": "v",
         "showlegend": true,
         "type": "box",
         "x": [
          "chr02q",
          "chr02q",
          "chr02q",
          "chr02q",
          "chr02q",
          "chr02q",
          "chr02q",
          "chr02q",
          "chr02q",
          "chr02q",
          "chr02q",
          "chr02q",
          "chr02q",
          "chr02q",
          "chr02q",
          "chr02q",
          "chr02q",
          "chr02q",
          "chr02q",
          "chr02q"
         ],
         "x0": " ",
         "xaxis": "x",
         "y": [
          4964,
          5063,
          5054,
          6766,
          5747,
          6864,
          6469,
          5191.5,
          5460,
          5342,
          7665,
          18246,
          16198,
          6810.5,
          8218,
          15049.5,
          9374,
          4851,
          5292,
          4923.5
         ],
         "y0": " ",
         "yaxis": "y"
        },
        {
         "alignmentgroup": "True",
         "hovertemplate": "chrom=%{x}<br>length=%{y}<extra></extra>",
         "legendgroup": "chr03p",
         "marker": {
          "color": "#FFA15A"
         },
         "name": "chr03p",
         "notched": false,
         "offsetgroup": "chr03p",
         "orientation": "v",
         "showlegend": true,
         "type": "box",
         "x": [
          "chr03p",
          "chr03p",
          "chr03p",
          "chr03p",
          "chr03p",
          "chr03p",
          "chr03p",
          "chr03p",
          "chr03p",
          "chr03p",
          "chr03p",
          "chr03p",
          "chr03p",
          "chr03p",
          "chr03p",
          "chr03p",
          "chr03p",
          "chr03p",
          "chr03p",
          "chr03p"
         ],
         "x0": " ",
         "xaxis": "x",
         "y": [
          6901.5,
          5211,
          7273,
          6391,
          7010.5,
          6187.5,
          7082.5,
          6070,
          8657,
          8693.5,
          5386.5,
          5968,
          7973.5,
          9864,
          5837,
          9040,
          7025.5,
          6464.5,
          4678,
          4842
         ],
         "y0": " ",
         "yaxis": "y"
        },
        {
         "alignmentgroup": "True",
         "hovertemplate": "chrom=%{x}<br>length=%{y}<extra></extra>",
         "legendgroup": "chr03q",
         "marker": {
          "color": "#19d3f3"
         },
         "name": "chr03q",
         "notched": false,
         "offsetgroup": "chr03q",
         "orientation": "v",
         "showlegend": true,
         "type": "box",
         "x": [
          "chr03q",
          "chr03q",
          "chr03q",
          "chr03q",
          "chr03q",
          "chr03q",
          "chr03q",
          "chr03q",
          "chr03q",
          "chr03q",
          "chr03q",
          "chr03q",
          "chr03q",
          "chr03q",
          "chr03q",
          "chr03q",
          "chr03q",
          "chr03q",
          "chr03q",
          "chr03q"
         ],
         "x0": " ",
         "xaxis": "x",
         "y": [
          5232.5,
          6641.5,
          4818,
          4979,
          5426,
          5159,
          4961,
          4132,
          4914,
          6887.5,
          6884,
          4584,
          4909,
          5307,
          6857,
          5281,
          6738,
          4869,
          7264,
          5027
         ],
         "y0": " ",
         "yaxis": "y"
        },
        {
         "alignmentgroup": "True",
         "hovertemplate": "chrom=%{x}<br>length=%{y}<extra></extra>",
         "legendgroup": "chr04p",
         "marker": {
          "color": "#FF6692"
         },
         "name": "chr04p",
         "notched": false,
         "offsetgroup": "chr04p",
         "orientation": "v",
         "showlegend": true,
         "type": "box",
         "x": [
          "chr04p",
          "chr04p",
          "chr04p",
          "chr04p",
          "chr04p",
          "chr04p",
          "chr04p",
          "chr04p",
          "chr04p",
          "chr04p",
          "chr04p",
          "chr04p",
          "chr04p",
          "chr04p",
          "chr04p",
          "chr04p",
          "chr04p",
          "chr04p",
          "chr04p",
          "chr04p"
         ],
         "x0": " ",
         "xaxis": "x",
         "y": [
          17368.5,
          7698.5,
          8734,
          10629,
          7086,
          6645,
          16792,
          7111,
          10514,
          6609,
          16680.5,
          8877,
          6837,
          7522,
          11020,
          6675.5,
          7621,
          10767,
          7312,
          7463
         ],
         "y0": " ",
         "yaxis": "y"
        },
        {
         "alignmentgroup": "True",
         "hovertemplate": "chrom=%{x}<br>length=%{y}<extra></extra>",
         "legendgroup": "chr04q",
         "marker": {
          "color": "#B6E880"
         },
         "name": "chr04q",
         "notched": false,
         "offsetgroup": "chr04q",
         "orientation": "v",
         "showlegend": true,
         "type": "box",
         "x": [
          "chr04q",
          "chr04q",
          "chr04q",
          "chr04q",
          "chr04q",
          "chr04q",
          "chr04q",
          "chr04q",
          "chr04q",
          "chr04q",
          "chr04q",
          "chr04q",
          "chr04q",
          "chr04q",
          "chr04q",
          "chr04q",
          "chr04q",
          "chr04q",
          "chr04q",
          "chr04q"
         ],
         "x0": " ",
         "xaxis": "x",
         "y": [
          10091,
          6947,
          5656,
          6964,
          16552,
          24890.5,
          19605,
          15565.5,
          5343,
          14680.5,
          4675.5,
          8264,
          5206,
          5330,
          23649.5,
          10259,
          6198.5,
          17149,
          7990,
          5750.5
         ],
         "y0": " ",
         "yaxis": "y"
        },
        {
         "alignmentgroup": "True",
         "hovertemplate": "chrom=%{x}<br>length=%{y}<extra></extra>",
         "legendgroup": "chr05p",
         "marker": {
          "color": "#FF97FF"
         },
         "name": "chr05p",
         "notched": false,
         "offsetgroup": "chr05p",
         "orientation": "v",
         "showlegend": true,
         "type": "box",
         "x": [
          "chr05p",
          "chr05p",
          "chr05p",
          "chr05p",
          "chr05p",
          "chr05p",
          "chr05p",
          "chr05p",
          "chr05p",
          "chr05p",
          "chr05p",
          "chr05p",
          "chr05p",
          "chr05p",
          "chr05p",
          "chr05p",
          "chr05p",
          "chr05p",
          "chr05p",
          "chr05p"
         ],
         "x0": " ",
         "xaxis": "x",
         "y": [
          4739.5,
          7136.5,
          5710,
          6277,
          7197,
          7810,
          6075,
          4474,
          8122,
          7181,
          5985,
          6658.5,
          7649,
          7980,
          6870,
          7185,
          8883,
          6107,
          5935.5,
          7166
         ],
         "y0": " ",
         "yaxis": "y"
        },
        {
         "alignmentgroup": "True",
         "hovertemplate": "chrom=%{x}<br>length=%{y}<extra></extra>",
         "legendgroup": "chr05q",
         "marker": {
          "color": "#FECB52"
         },
         "name": "chr05q",
         "notched": false,
         "offsetgroup": "chr05q",
         "orientation": "v",
         "showlegend": true,
         "type": "box",
         "x": [
          "chr05q",
          "chr05q",
          "chr05q",
          "chr05q",
          "chr05q",
          "chr05q",
          "chr05q",
          "chr05q",
          "chr05q",
          "chr05q",
          "chr05q",
          "chr05q",
          "chr05q",
          "chr05q",
          "chr05q",
          "chr05q",
          "chr05q",
          "chr05q",
          "chr05q",
          "chr05q"
         ],
         "x0": " ",
         "xaxis": "x",
         "y": [
          5482,
          5676,
          6173,
          7368,
          8284,
          7930,
          6990,
          5525.5,
          4947,
          7150.5,
          5948,
          7119,
          5259,
          8655,
          6552,
          6611,
          6227,
          5477,
          6525,
          7080
         ],
         "y0": " ",
         "yaxis": "y"
        },
        {
         "alignmentgroup": "True",
         "hovertemplate": "chrom=%{x}<br>length=%{y}<extra></extra>",
         "legendgroup": "chr06p",
         "marker": {
          "color": "#636efa"
         },
         "name": "chr06p",
         "notched": false,
         "offsetgroup": "chr06p",
         "orientation": "v",
         "showlegend": true,
         "type": "box",
         "x": [
          "chr06p",
          "chr06p",
          "chr06p",
          "chr06p",
          "chr06p",
          "chr06p",
          "chr06p"
         ],
         "x0": " ",
         "xaxis": "x",
         "y": [
          119,
          13583,
          120,
          14321,
          70,
          8651,
          4981.5
         ],
         "y0": " ",
         "yaxis": "y"
        },
        {
         "alignmentgroup": "True",
         "hovertemplate": "chrom=%{x}<br>length=%{y}<extra></extra>",
         "legendgroup": "chr06q",
         "marker": {
          "color": "#EF553B"
         },
         "name": "chr06q",
         "notched": false,
         "offsetgroup": "chr06q",
         "orientation": "v",
         "showlegend": true,
         "type": "box",
         "x": [
          "chr06q",
          "chr06q",
          "chr06q",
          "chr06q",
          "chr06q",
          "chr06q",
          "chr06q",
          "chr06q",
          "chr06q",
          "chr06q",
          "chr06q",
          "chr06q",
          "chr06q",
          "chr06q",
          "chr06q",
          "chr06q",
          "chr06q",
          "chr06q",
          "chr06q",
          "chr06q"
         ],
         "x0": " ",
         "xaxis": "x",
         "y": [
          6549,
          5303.5,
          6782.5,
          6245,
          6602,
          7183,
          7287.5,
          7471,
          9115,
          7000,
          5932,
          8421,
          5775.5,
          6992,
          9201.5,
          6976,
          6134.5,
          5701,
          7086,
          6282
         ],
         "y0": " ",
         "yaxis": "y"
        },
        {
         "alignmentgroup": "True",
         "hovertemplate": "chrom=%{x}<br>length=%{y}<extra></extra>",
         "legendgroup": "chr07p",
         "marker": {
          "color": "#00cc96"
         },
         "name": "chr07p",
         "notched": false,
         "offsetgroup": "chr07p",
         "orientation": "v",
         "showlegend": true,
         "type": "box",
         "x": [
          "chr07p",
          "chr07p",
          "chr07p",
          "chr07p",
          "chr07p",
          "chr07p",
          "chr07p",
          "chr07p",
          "chr07p",
          "chr07p",
          "chr07p",
          "chr07p",
          "chr07p",
          "chr07p",
          "chr07p",
          "chr07p",
          "chr07p",
          "chr07p",
          "chr07p",
          "chr07p"
         ],
         "x0": " ",
         "xaxis": "x",
         "y": [
          5723,
          6024,
          4866,
          5018,
          4443,
          5296,
          6016,
          5856,
          5198,
          5079,
          4942,
          4919,
          5053,
          7687,
          5918,
          7711,
          6201,
          5702,
          4719,
          4507
         ],
         "y0": " ",
         "yaxis": "y"
        },
        {
         "alignmentgroup": "True",
         "hovertemplate": "chrom=%{x}<br>length=%{y}<extra></extra>",
         "legendgroup": "chr07q",
         "marker": {
          "color": "#ab63fa"
         },
         "name": "chr07q",
         "notched": false,
         "offsetgroup": "chr07q",
         "orientation": "v",
         "showlegend": true,
         "type": "box",
         "x": [
          "chr07q",
          "chr07q",
          "chr07q",
          "chr07q",
          "chr07q",
          "chr07q",
          "chr07q",
          "chr07q",
          "chr07q",
          "chr07q",
          "chr07q",
          "chr07q",
          "chr07q",
          "chr07q",
          "chr07q",
          "chr07q",
          "chr07q",
          "chr07q",
          "chr07q",
          "chr07q"
         ],
         "x0": " ",
         "xaxis": "x",
         "y": [
          6990.5,
          7624,
          4823.5,
          6724,
          6173,
          5850.5,
          5862,
          6206.5,
          5168,
          5933,
          4984.5,
          6659,
          6871.5,
          5679.5,
          5145,
          6809,
          6443,
          7837,
          6722,
          6137.5
         ],
         "y0": " ",
         "yaxis": "y"
        },
        {
         "alignmentgroup": "True",
         "hovertemplate": "chrom=%{x}<br>length=%{y}<extra></extra>",
         "legendgroup": "chr08p",
         "marker": {
          "color": "#FFA15A"
         },
         "name": "chr08p",
         "notched": false,
         "offsetgroup": "chr08p",
         "orientation": "v",
         "showlegend": true,
         "type": "box",
         "x": [
          "chr08p",
          "chr08p",
          "chr08p",
          "chr08p",
          "chr08p",
          "chr08p",
          "chr08p",
          "chr08p",
          "chr08p",
          "chr08p",
          "chr08p",
          "chr08p",
          "chr08p",
          "chr08p",
          "chr08p",
          "chr08p"
         ],
         "x0": " ",
         "xaxis": "x",
         "y": [
          20143,
          20206,
          21998,
          23403,
          21686,
          19913.5,
          18044,
          20381,
          16956.5,
          19655,
          19074.5,
          19934,
          22626,
          18456,
          18843,
          21783.5
         ],
         "y0": " ",
         "yaxis": "y"
        },
        {
         "alignmentgroup": "True",
         "hovertemplate": "chrom=%{x}<br>length=%{y}<extra></extra>",
         "legendgroup": "chr08q",
         "marker": {
          "color": "#19d3f3"
         },
         "name": "chr08q",
         "notched": false,
         "offsetgroup": "chr08q",
         "orientation": "v",
         "showlegend": true,
         "type": "box",
         "x": [
          "chr08q",
          "chr08q",
          "chr08q",
          "chr08q",
          "chr08q",
          "chr08q",
          "chr08q",
          "chr08q",
          "chr08q",
          "chr08q",
          "chr08q",
          "chr08q"
         ],
         "x0": " ",
         "xaxis": "x",
         "y": [
          3998,
          5335.5,
          4928,
          2080,
          3936,
          3848,
          6364.5,
          3899,
          5544,
          4748,
          2195,
          5055
         ],
         "y0": " ",
         "yaxis": "y"
        },
        {
         "alignmentgroup": "True",
         "hovertemplate": "chrom=%{x}<br>length=%{y}<extra></extra>",
         "legendgroup": "chr09p",
         "marker": {
          "color": "#FF6692"
         },
         "name": "chr09p",
         "notched": false,
         "offsetgroup": "chr09p",
         "orientation": "v",
         "showlegend": true,
         "type": "box",
         "x": [
          "chr09p",
          "chr09p",
          "chr09p",
          "chr09p",
          "chr09p",
          "chr09p",
          "chr09p",
          "chr09p",
          "chr09p",
          "chr09p",
          "chr09p",
          "chr09p",
          "chr09p",
          "chr09p",
          "chr09p",
          "chr09p",
          "chr09p",
          "chr09p",
          "chr09p",
          "chr09p"
         ],
         "x0": " ",
         "xaxis": "x",
         "y": [
          4085,
          5757.5,
          5938.5,
          5264.5,
          5480,
          5299,
          4635,
          5465,
          5151,
          4945.5,
          4071,
          5136.5,
          6631.5,
          4677,
          5067,
          5577,
          6916,
          3997,
          4675,
          6816.5
         ],
         "y0": " ",
         "yaxis": "y"
        },
        {
         "alignmentgroup": "True",
         "hovertemplate": "chrom=%{x}<br>length=%{y}<extra></extra>",
         "legendgroup": "chr09q",
         "marker": {
          "color": "#B6E880"
         },
         "name": "chr09q",
         "notched": false,
         "offsetgroup": "chr09q",
         "orientation": "v",
         "showlegend": true,
         "type": "box",
         "x": [
          "chr09q",
          "chr09q",
          "chr09q",
          "chr09q",
          "chr09q",
          "chr09q",
          "chr09q",
          "chr09q",
          "chr09q",
          "chr09q",
          "chr09q",
          "chr09q",
          "chr09q",
          "chr09q",
          "chr09q",
          "chr09q",
          "chr09q",
          "chr09q",
          "chr09q",
          "chr09q"
         ],
         "x0": " ",
         "xaxis": "x",
         "y": [
          6589,
          5472,
          4615,
          5787,
          7039,
          5372,
          6314,
          6253,
          5053.5,
          4456,
          7040,
          7734,
          4807,
          4993,
          4809.5,
          4738,
          6294.5,
          5627,
          5201.5,
          5543.5
         ],
         "y0": " ",
         "yaxis": "y"
        },
        {
         "alignmentgroup": "True",
         "hovertemplate": "chrom=%{x}<br>length=%{y}<extra></extra>",
         "legendgroup": "chr10p",
         "marker": {
          "color": "#FF97FF"
         },
         "name": "chr10p",
         "notched": false,
         "offsetgroup": "chr10p",
         "orientation": "v",
         "showlegend": true,
         "type": "box",
         "x": [
          "chr10p",
          "chr10p",
          "chr10p",
          "chr10p",
          "chr10p",
          "chr10p",
          "chr10p",
          "chr10p",
          "chr10p",
          "chr10p",
          "chr10p",
          "chr10p",
          "chr10p",
          "chr10p",
          "chr10p",
          "chr10p",
          "chr10p",
          "chr10p",
          "chr10p",
          "chr10p"
         ],
         "x0": " ",
         "xaxis": "x",
         "y": [
          4249.5,
          4693.5,
          9573,
          6497,
          6927,
          6705.5,
          8199,
          3650,
          3503,
          3728,
          8443,
          4818,
          6628,
          7745,
          7435.5,
          6636,
          7268.5,
          4549,
          4661,
          8383
         ],
         "y0": " ",
         "yaxis": "y"
        },
        {
         "alignmentgroup": "True",
         "hovertemplate": "chrom=%{x}<br>length=%{y}<extra></extra>",
         "legendgroup": "chr10q",
         "marker": {
          "color": "#FECB52"
         },
         "name": "chr10q",
         "notched": false,
         "offsetgroup": "chr10q",
         "orientation": "v",
         "showlegend": true,
         "type": "box",
         "x": [
          "chr10q",
          "chr10q",
          "chr10q",
          "chr10q",
          "chr10q",
          "chr10q",
          "chr10q",
          "chr10q",
          "chr10q",
          "chr10q",
          "chr10q",
          "chr10q",
          "chr10q",
          "chr10q",
          "chr10q",
          "chr10q",
          "chr10q",
          "chr10q",
          "chr10q",
          "chr10q"
         ],
         "x0": " ",
         "xaxis": "x",
         "y": [
          9225,
          6531,
          5901,
          5625,
          9942,
          6448,
          9943.5,
          6488.5,
          9763,
          8589,
          8015,
          23712,
          20116,
          8630,
          7773,
          6087,
          10861,
          9114.5,
          7616.5,
          6519
         ],
         "y0": " ",
         "yaxis": "y"
        },
        {
         "alignmentgroup": "True",
         "hovertemplate": "chrom=%{x}<br>length=%{y}<extra></extra>",
         "legendgroup": "chr11p",
         "marker": {
          "color": "#636efa"
         },
         "name": "chr11p",
         "notched": false,
         "offsetgroup": "chr11p",
         "orientation": "v",
         "showlegend": true,
         "type": "box",
         "x": [
          "chr11p",
          "chr11p",
          "chr11p",
          "chr11p",
          "chr11p",
          "chr11p",
          "chr11p",
          "chr11p",
          "chr11p",
          "chr11p",
          "chr11p",
          "chr11p",
          "chr11p",
          "chr11p",
          "chr11p",
          "chr11p",
          "chr11p",
          "chr11p",
          "chr11p",
          "chr11p"
         ],
         "x0": " ",
         "xaxis": "x",
         "y": [
          5607,
          4658.5,
          5143.5,
          6723.5,
          5801,
          5012,
          7238,
          4479,
          4720.5,
          5172,
          4598,
          5631.5,
          5225.5,
          4306,
          7054,
          6479,
          3735,
          4947,
          4797,
          4934
         ],
         "y0": " ",
         "yaxis": "y"
        },
        {
         "alignmentgroup": "True",
         "hovertemplate": "chrom=%{x}<br>length=%{y}<extra></extra>",
         "legendgroup": "chr11q",
         "marker": {
          "color": "#EF553B"
         },
         "name": "chr11q",
         "notched": false,
         "offsetgroup": "chr11q",
         "orientation": "v",
         "showlegend": true,
         "type": "box",
         "x": [
          "chr11q",
          "chr11q",
          "chr11q",
          "chr11q",
          "chr11q",
          "chr11q",
          "chr11q",
          "chr11q",
          "chr11q",
          "chr11q",
          "chr11q",
          "chr11q",
          "chr11q",
          "chr11q",
          "chr11q",
          "chr11q",
          "chr11q",
          "chr11q",
          "chr11q",
          "chr11q"
         ],
         "x0": " ",
         "xaxis": "x",
         "y": [
          7701,
          4810,
          4877,
          5457.5,
          5457,
          4781,
          4450,
          7227,
          5546,
          4946,
          7767,
          7748,
          7178,
          6064,
          5689,
          4962,
          5922,
          5664,
          5379.5,
          5224
         ],
         "y0": " ",
         "yaxis": "y"
        },
        {
         "alignmentgroup": "True",
         "hovertemplate": "chrom=%{x}<br>length=%{y}<extra></extra>",
         "legendgroup": "chr12p",
         "marker": {
          "color": "#00cc96"
         },
         "name": "chr12p",
         "notched": false,
         "offsetgroup": "chr12p",
         "orientation": "v",
         "showlegend": true,
         "type": "box",
         "x": [
          "chr12p",
          "chr12p",
          "chr12p",
          "chr12p",
          "chr12p",
          "chr12p",
          "chr12p",
          "chr12p",
          "chr12p",
          "chr12p",
          "chr12p",
          "chr12p",
          "chr12p",
          "chr12p",
          "chr12p",
          "chr12p",
          "chr12p",
          "chr12p",
          "chr12p",
          "chr12p"
         ],
         "x0": " ",
         "xaxis": "x",
         "y": [
          5327,
          4219,
          6107,
          5086,
          5737,
          4046,
          5472.5,
          5852,
          5311,
          5576.5,
          6442.5,
          7475,
          5239,
          5197,
          3890,
          4332.5,
          5033.5,
          5991,
          6887.5,
          5053
         ],
         "y0": " ",
         "yaxis": "y"
        },
        {
         "alignmentgroup": "True",
         "hovertemplate": "chrom=%{x}<br>length=%{y}<extra></extra>",
         "legendgroup": "chr12q",
         "marker": {
          "color": "#ab63fa"
         },
         "name": "chr12q",
         "notched": false,
         "offsetgroup": "chr12q",
         "orientation": "v",
         "showlegend": true,
         "type": "box",
         "x": [
          "chr12q",
          "chr12q",
          "chr12q",
          "chr12q",
          "chr12q",
          "chr12q",
          "chr12q",
          "chr12q",
          "chr12q",
          "chr12q",
          "chr12q",
          "chr12q",
          "chr12q",
          "chr12q",
          "chr12q",
          "chr12q",
          "chr12q",
          "chr12q",
          "chr12q",
          "chr12q"
         ],
         "x0": " ",
         "xaxis": "x",
         "y": [
          11408,
          9102,
          3759,
          7887,
          6703,
          9503,
          6753,
          5558,
          10071,
          8168,
          8567.5,
          8410.5,
          8408,
          8694,
          9122,
          5840,
          5189,
          6581,
          9264,
          6352.5
         ],
         "y0": " ",
         "yaxis": "y"
        },
        {
         "alignmentgroup": "True",
         "hovertemplate": "chrom=%{x}<br>length=%{y}<extra></extra>",
         "legendgroup": "chr13p",
         "marker": {
          "color": "#FFA15A"
         },
         "name": "chr13p",
         "notched": false,
         "offsetgroup": "chr13p",
         "orientation": "v",
         "showlegend": true,
         "type": "box",
         "x": [
          "chr13p",
          "chr13p",
          "chr13p",
          "chr13p",
          "chr13p",
          "chr13p",
          "chr13p",
          "chr13p",
          "chr13p",
          "chr13p",
          "chr13p"
         ],
         "x0": " ",
         "xaxis": "x",
         "y": [
          7491,
          5175.5,
          3864,
          6257,
          6771.5,
          5216,
          3872,
          3155.5,
          3431,
          6375,
          9339
         ],
         "y0": " ",
         "yaxis": "y"
        },
        {
         "alignmentgroup": "True",
         "hovertemplate": "chrom=%{x}<br>length=%{y}<extra></extra>",
         "legendgroup": "chr13q",
         "marker": {
          "color": "#19d3f3"
         },
         "name": "chr13q",
         "notched": false,
         "offsetgroup": "chr13q",
         "orientation": "v",
         "showlegend": true,
         "type": "box",
         "x": [
          "chr13q",
          "chr13q",
          "chr13q",
          "chr13q",
          "chr13q",
          "chr13q",
          "chr13q",
          "chr13q",
          "chr13q",
          "chr13q",
          "chr13q",
          "chr13q",
          "chr13q",
          "chr13q",
          "chr13q",
          "chr13q",
          "chr13q",
          "chr13q",
          "chr13q",
          "chr13q"
         ],
         "x0": " ",
         "xaxis": "x",
         "y": [
          7056,
          6018,
          5282.5,
          10365,
          6926.5,
          5822.5,
          7997,
          5119,
          6227,
          5480,
          5892,
          7835,
          6207,
          5278,
          5551,
          8340,
          5515,
          5165,
          5733,
          6491
         ],
         "y0": " ",
         "yaxis": "y"
        },
        {
         "alignmentgroup": "True",
         "hovertemplate": "chrom=%{x}<br>length=%{y}<extra></extra>",
         "legendgroup": "chr14p",
         "marker": {
          "color": "#FF6692"
         },
         "name": "chr14p",
         "notched": false,
         "offsetgroup": "chr14p",
         "orientation": "v",
         "showlegend": true,
         "type": "box",
         "x": [
          "chr14p",
          "chr14p",
          "chr14p",
          "chr14p",
          "chr14p",
          "chr14p"
         ],
         "x0": " ",
         "xaxis": "x",
         "y": [
          4470,
          3630,
          7255,
          4806,
          5623,
          3762
         ],
         "y0": " ",
         "yaxis": "y"
        },
        {
         "alignmentgroup": "True",
         "hovertemplate": "chrom=%{x}<br>length=%{y}<extra></extra>",
         "legendgroup": "chr14q",
         "marker": {
          "color": "#B6E880"
         },
         "name": "chr14q",
         "notched": false,
         "offsetgroup": "chr14q",
         "orientation": "v",
         "showlegend": true,
         "type": "box",
         "x": [
          "chr14q",
          "chr14q",
          "chr14q",
          "chr14q",
          "chr14q",
          "chr14q",
          "chr14q",
          "chr14q",
          "chr14q",
          "chr14q",
          "chr14q",
          "chr14q",
          "chr14q",
          "chr14q",
          "chr14q",
          "chr14q",
          "chr14q",
          "chr14q",
          "chr14q",
          "chr14q"
         ],
         "x0": " ",
         "xaxis": "x",
         "y": [
          10070,
          7017,
          8181,
          7918.5,
          10337,
          9291,
          7972.5,
          8693,
          8457,
          8225,
          8901,
          7592.5,
          9217.5,
          8684.5,
          8825,
          9874.5,
          10827,
          7622,
          9253,
          8201
         ],
         "y0": " ",
         "yaxis": "y"
        },
        {
         "alignmentgroup": "True",
         "hovertemplate": "chrom=%{x}<br>length=%{y}<extra></extra>",
         "legendgroup": "chr15p",
         "marker": {
          "color": "#FF97FF"
         },
         "name": "chr15p",
         "notched": false,
         "offsetgroup": "chr15p",
         "orientation": "v",
         "showlegend": true,
         "type": "box",
         "x": [
          "chr15p",
          "chr15p",
          "chr15p",
          "chr15p",
          "chr15p",
          "chr15p",
          "chr15p",
          "chr15p",
          "chr15p",
          "chr15p",
          "chr15p",
          "chr15p",
          "chr15p",
          "chr15p",
          "chr15p",
          "chr15p",
          "chr15p",
          "chr15p",
          "chr15p",
          "chr15p"
         ],
         "x0": " ",
         "xaxis": "x",
         "y": [
          9495,
          9183,
          5841.5,
          8345,
          6603,
          10503.5,
          7425,
          7828,
          11171.5,
          8782,
          9431,
          15668.5,
          7128.5,
          7911.5,
          6911,
          9242,
          11483.5,
          11945,
          7657,
          7748.5
         ],
         "y0": " ",
         "yaxis": "y"
        },
        {
         "alignmentgroup": "True",
         "hovertemplate": "chrom=%{x}<br>length=%{y}<extra></extra>",
         "legendgroup": "chr15q",
         "marker": {
          "color": "#FECB52"
         },
         "name": "chr15q",
         "notched": false,
         "offsetgroup": "chr15q",
         "orientation": "v",
         "showlegend": true,
         "type": "box",
         "x": [
          "chr15q",
          "chr15q",
          "chr15q",
          "chr15q",
          "chr15q",
          "chr15q",
          "chr15q",
          "chr15q",
          "chr15q",
          "chr15q",
          "chr15q",
          "chr15q",
          "chr15q",
          "chr15q",
          "chr15q",
          "chr15q",
          "chr15q",
          "chr15q",
          "chr15q",
          "chr15q"
         ],
         "x0": " ",
         "xaxis": "x",
         "y": [
          4440,
          5813.5,
          4401,
          5200.5,
          5098,
          4774,
          6775,
          4772,
          4208.5,
          4727,
          5058,
          4554.5,
          7436,
          5811,
          5598,
          5889.5,
          4395.5,
          8847,
          7736,
          4909
         ],
         "y0": " ",
         "yaxis": "y"
        },
        {
         "alignmentgroup": "True",
         "hovertemplate": "chrom=%{x}<br>length=%{y}<extra></extra>",
         "legendgroup": "chr16p",
         "marker": {
          "color": "#636efa"
         },
         "name": "chr16p",
         "notched": false,
         "offsetgroup": "chr16p",
         "orientation": "v",
         "showlegend": true,
         "type": "box",
         "x": [
          "chr16p",
          "chr16p",
          "chr16p",
          "chr16p",
          "chr16p",
          "chr16p",
          "chr16p",
          "chr16p",
          "chr16p",
          "chr16p",
          "chr16p",
          "chr16p",
          "chr16p",
          "chr16p",
          "chr16p",
          "chr16p",
          "chr16p",
          "chr16p",
          "chr16p",
          "chr16p"
         ],
         "x0": " ",
         "xaxis": "x",
         "y": [
          6501.5,
          5984,
          5182,
          4715,
          5460,
          7217,
          4452,
          4904,
          6646.5,
          5248.5,
          5619.5,
          5767,
          4630,
          5295.5,
          4609,
          7353,
          7522,
          4878,
          3623,
          5743
         ],
         "y0": " ",
         "yaxis": "y"
        },
        {
         "alignmentgroup": "True",
         "hovertemplate": "chrom=%{x}<br>length=%{y}<extra></extra>",
         "legendgroup": "chr16q",
         "marker": {
          "color": "#EF553B"
         },
         "name": "chr16q",
         "notched": false,
         "offsetgroup": "chr16q",
         "orientation": "v",
         "showlegend": true,
         "type": "box",
         "x": [
          "chr16q",
          "chr16q",
          "chr16q",
          "chr16q",
          "chr16q",
          "chr16q",
          "chr16q",
          "chr16q",
          "chr16q",
          "chr16q",
          "chr16q",
          "chr16q",
          "chr16q",
          "chr16q",
          "chr16q",
          "chr16q",
          "chr16q",
          "chr16q",
          "chr16q",
          "chr16q"
         ],
         "x0": " ",
         "xaxis": "x",
         "y": [
          5401,
          6059,
          6823,
          8144.5,
          6408,
          5799,
          9827,
          4955.5,
          7229,
          8086,
          8517.5,
          5914,
          6923.5,
          7655,
          16847,
          8101,
          7744,
          6338.5,
          7718,
          6454
         ],
         "y0": " ",
         "yaxis": "y"
        },
        {
         "alignmentgroup": "True",
         "hovertemplate": "chrom=%{x}<br>length=%{y}<extra></extra>",
         "legendgroup": "chr17p",
         "marker": {
          "color": "#00cc96"
         },
         "name": "chr17p",
         "notched": false,
         "offsetgroup": "chr17p",
         "orientation": "v",
         "showlegend": true,
         "type": "box",
         "x": [
          "chr17p",
          "chr17p",
          "chr17p",
          "chr17p",
          "chr17p",
          "chr17p",
          "chr17p",
          "chr17p",
          "chr17p",
          "chr17p",
          "chr17p",
          "chr17p",
          "chr17p",
          "chr17p",
          "chr17p",
          "chr17p",
          "chr17p",
          "chr17p"
         ],
         "x0": " ",
         "xaxis": "x",
         "y": [
          5499.5,
          4161,
          4490,
          4664,
          10682,
          5013.5,
          4769,
          6193,
          6486,
          5159,
          4006.5,
          5435.5,
          4969.5,
          5789,
          4626.5,
          6225.5,
          4616.5,
          4305.5
         ],
         "y0": " ",
         "yaxis": "y"
        },
        {
         "alignmentgroup": "True",
         "hovertemplate": "chrom=%{x}<br>length=%{y}<extra></extra>",
         "legendgroup": "chr17q",
         "marker": {
          "color": "#ab63fa"
         },
         "name": "chr17q",
         "notched": false,
         "offsetgroup": "chr17q",
         "orientation": "v",
         "showlegend": true,
         "type": "box",
         "x": [
          "chr17q",
          "chr17q",
          "chr17q",
          "chr17q",
          "chr17q",
          "chr17q",
          "chr17q",
          "chr17q",
          "chr17q",
          "chr17q",
          "chr17q",
          "chr17q",
          "chr17q",
          "chr17q",
          "chr17q",
          "chr17q",
          "chr17q",
          "chr17q",
          "chr17q",
          "chr17q"
         ],
         "x0": " ",
         "xaxis": "x",
         "y": [
          5171.5,
          5680.5,
          6738.5,
          3591,
          4496,
          5914.5,
          4463,
          4517,
          4641,
          5140.5,
          4152,
          4874,
          4518,
          5965,
          4633,
          5376,
          4645,
          6373.5,
          4896,
          6918
         ],
         "y0": " ",
         "yaxis": "y"
        },
        {
         "alignmentgroup": "True",
         "hovertemplate": "chrom=%{x}<br>length=%{y}<extra></extra>",
         "legendgroup": "chr18p",
         "marker": {
          "color": "#FFA15A"
         },
         "name": "chr18p",
         "notched": false,
         "offsetgroup": "chr18p",
         "orientation": "v",
         "showlegend": true,
         "type": "box",
         "x": [
          "chr18p",
          "chr18p",
          "chr18p",
          "chr18p",
          "chr18p",
          "chr18p",
          "chr18p",
          "chr18p",
          "chr18p",
          "chr18p",
          "chr18p",
          "chr18p",
          "chr18p",
          "chr18p",
          "chr18p",
          "chr18p",
          "chr18p",
          "chr18p",
          "chr18p",
          "chr18p"
         ],
         "x0": " ",
         "xaxis": "x",
         "y": [
          3602.5,
          1284,
          3058,
          4472,
          6343,
          1917,
          5915.5,
          2096.5,
          2399,
          5012,
          1721,
          4519,
          1864,
          4300,
          2008.5,
          1537,
          1905,
          2896.5,
          4676,
          5083.5
         ],
         "y0": " ",
         "yaxis": "y"
        },
        {
         "alignmentgroup": "True",
         "hovertemplate": "chrom=%{x}<br>length=%{y}<extra></extra>",
         "legendgroup": "chr18q",
         "marker": {
          "color": "#19d3f3"
         },
         "name": "chr18q",
         "notched": false,
         "offsetgroup": "chr18q",
         "orientation": "v",
         "showlegend": true,
         "type": "box",
         "x": [
          "chr18q",
          "chr18q",
          "chr18q",
          "chr18q",
          "chr18q",
          "chr18q",
          "chr18q",
          "chr18q",
          "chr18q",
          "chr18q",
          "chr18q",
          "chr18q",
          "chr18q",
          "chr18q",
          "chr18q",
          "chr18q",
          "chr18q",
          "chr18q",
          "chr18q",
          "chr18q"
         ],
         "x0": " ",
         "xaxis": "x",
         "y": [
          9386.5,
          10429,
          9349,
          11028,
          10338,
          12521,
          11176.5,
          11784,
          9916,
          9921,
          11421,
          8363,
          9933,
          9833,
          10313,
          9909,
          9120,
          10167.5,
          10057,
          10719
         ],
         "y0": " ",
         "yaxis": "y"
        },
        {
         "alignmentgroup": "True",
         "hovertemplate": "chrom=%{x}<br>length=%{y}<extra></extra>",
         "legendgroup": "chr19p",
         "marker": {
          "color": "#FF6692"
         },
         "name": "chr19p",
         "notched": false,
         "offsetgroup": "chr19p",
         "orientation": "v",
         "showlegend": true,
         "type": "box",
         "x": [
          "chr19p",
          "chr19p",
          "chr19p",
          "chr19p",
          "chr19p",
          "chr19p",
          "chr19p",
          "chr19p",
          "chr19p",
          "chr19p",
          "chr19p",
          "chr19p",
          "chr19p",
          "chr19p",
          "chr19p",
          "chr19p",
          "chr19p",
          "chr19p",
          "chr19p",
          "chr19p"
         ],
         "x0": " ",
         "xaxis": "x",
         "y": [
          4223,
          4461,
          5551,
          4094,
          6270,
          5854,
          5386.5,
          4979,
          4442,
          5934.5,
          5847,
          5595,
          6163.5,
          4262,
          7644,
          5378,
          4937,
          6116,
          5284.5,
          6158
         ],
         "y0": " ",
         "yaxis": "y"
        },
        {
         "alignmentgroup": "True",
         "hovertemplate": "chrom=%{x}<br>length=%{y}<extra></extra>",
         "legendgroup": "chr19q",
         "marker": {
          "color": "#B6E880"
         },
         "name": "chr19q",
         "notched": false,
         "offsetgroup": "chr19q",
         "orientation": "v",
         "showlegend": true,
         "type": "box",
         "x": [
          "chr19q",
          "chr19q",
          "chr19q",
          "chr19q",
          "chr19q",
          "chr19q",
          "chr19q",
          "chr19q",
          "chr19q",
          "chr19q",
          "chr19q",
          "chr19q",
          "chr19q",
          "chr19q",
          "chr19q",
          "chr19q",
          "chr19q",
          "chr19q",
          "chr19q",
          "chr19q"
         ],
         "x0": " ",
         "xaxis": "x",
         "y": [
          25759,
          29048,
          24528,
          31483,
          23097,
          19743.5,
          22393,
          22852.5,
          29574,
          23872,
          20354,
          24421,
          22530.5,
          25330,
          25020,
          27651,
          27740,
          26660.5,
          25605,
          25227.5
         ],
         "y0": " ",
         "yaxis": "y"
        },
        {
         "alignmentgroup": "True",
         "hovertemplate": "chrom=%{x}<br>length=%{y}<extra></extra>",
         "legendgroup": "chr20p",
         "marker": {
          "color": "#FF97FF"
         },
         "name": "chr20p",
         "notched": false,
         "offsetgroup": "chr20p",
         "orientation": "v",
         "showlegend": true,
         "type": "box",
         "x": [
          "chr20p",
          "chr20p",
          "chr20p",
          "chr20p",
          "chr20p",
          "chr20p",
          "chr20p",
          "chr20p",
          "chr20p",
          "chr20p",
          "chr20p",
          "chr20p",
          "chr20p",
          "chr20p",
          "chr20p",
          "chr20p",
          "chr20p",
          "chr20p",
          "chr20p",
          "chr20p"
         ],
         "x0": " ",
         "xaxis": "x",
         "y": [
          6437.5,
          6401,
          7399.5,
          5176.5,
          5500.5,
          4740.5,
          4749,
          4861,
          6431,
          7119,
          5076,
          5006.5,
          4439,
          5421.5,
          5499.5,
          6235,
          4788,
          5174,
          6251,
          5415
         ],
         "y0": " ",
         "yaxis": "y"
        },
        {
         "alignmentgroup": "True",
         "hovertemplate": "chrom=%{x}<br>length=%{y}<extra></extra>",
         "legendgroup": "chr20q",
         "marker": {
          "color": "#FECB52"
         },
         "name": "chr20q",
         "notched": false,
         "offsetgroup": "chr20q",
         "orientation": "v",
         "showlegend": true,
         "type": "box",
         "x": [
          "chr20q",
          "chr20q",
          "chr20q",
          "chr20q",
          "chr20q",
          "chr20q",
          "chr20q",
          "chr20q",
          "chr20q",
          "chr20q",
          "chr20q",
          "chr20q",
          "chr20q",
          "chr20q",
          "chr20q",
          "chr20q",
          "chr20q",
          "chr20q",
          "chr20q",
          "chr20q"
         ],
         "x0": " ",
         "xaxis": "x",
         "y": [
          4169,
          5927.5,
          5452.5,
          6304.5,
          4717,
          4196,
          5504,
          6136,
          4997,
          5374,
          4726,
          4841,
          7768,
          5955.5,
          4574,
          5250,
          7134,
          5342,
          4596,
          5524
         ],
         "y0": " ",
         "yaxis": "y"
        },
        {
         "alignmentgroup": "True",
         "hovertemplate": "chrom=%{x}<br>length=%{y}<extra></extra>",
         "legendgroup": "chr21p",
         "marker": {
          "color": "#636efa"
         },
         "name": "chr21p",
         "notched": false,
         "offsetgroup": "chr21p",
         "orientation": "v",
         "showlegend": true,
         "type": "box",
         "x": [
          "chr21p",
          "chr21p",
          "chr21p",
          "chr21p",
          "chr21p",
          "chr21p",
          "chr21p",
          "chr21p",
          "chr21p",
          "chr21p",
          "chr21p",
          "chr21p",
          "chr21p",
          "chr21p",
          "chr21p",
          "chr21p",
          "chr21p",
          "chr21p",
          "chr21p",
          "chr21p"
         ],
         "x0": " ",
         "xaxis": "x",
         "y": [
          7402.5,
          7142,
          6298,
          9211,
          8710,
          8117,
          8963,
          6504.5,
          7693,
          8025.5,
          6800,
          8548,
          5632.5,
          6924,
          8428,
          8807,
          11188,
          7623.5,
          7941,
          9366
         ],
         "y0": " ",
         "yaxis": "y"
        },
        {
         "alignmentgroup": "True",
         "hovertemplate": "chrom=%{x}<br>length=%{y}<extra></extra>",
         "legendgroup": "chr21q",
         "marker": {
          "color": "#EF553B"
         },
         "name": "chr21q",
         "notched": false,
         "offsetgroup": "chr21q",
         "orientation": "v",
         "showlegend": true,
         "type": "box",
         "x": [
          "chr21q",
          "chr21q",
          "chr21q",
          "chr21q",
          "chr21q",
          "chr21q",
          "chr21q",
          "chr21q",
          "chr21q",
          "chr21q",
          "chr21q",
          "chr21q",
          "chr21q",
          "chr21q",
          "chr21q",
          "chr21q",
          "chr21q",
          "chr21q",
          "chr21q",
          "chr21q"
         ],
         "x0": " ",
         "xaxis": "x",
         "y": [
          17246,
          22016,
          11141,
          23309,
          22939.5,
          21246.5,
          24409,
          24367,
          21205.5,
          11115,
          22704,
          21339,
          21327,
          24022,
          19555,
          20548,
          21242,
          22330,
          21690,
          20856
         ],
         "y0": " ",
         "yaxis": "y"
        },
        {
         "alignmentgroup": "True",
         "hovertemplate": "chrom=%{x}<br>length=%{y}<extra></extra>",
         "legendgroup": "chr22p",
         "marker": {
          "color": "#00cc96"
         },
         "name": "chr22p",
         "notched": false,
         "offsetgroup": "chr22p",
         "orientation": "v",
         "showlegend": true,
         "type": "box",
         "x": [
          "chr22p",
          "chr22p",
          "chr22p",
          "chr22p",
          "chr22p",
          "chr22p",
          "chr22p",
          "chr22p",
          "chr22p",
          "chr22p",
          "chr22p",
          "chr22p",
          "chr22p",
          "chr22p",
          "chr22p",
          "chr22p",
          "chr22p",
          "chr22p",
          "chr22p",
          "chr22p"
         ],
         "x0": " ",
         "xaxis": "x",
         "y": [
          19362,
          13594.5,
          21118.5,
          20194,
          8709.5,
          17932.5,
          7821.5,
          21714.5,
          16078.5,
          6915,
          19653,
          20194,
          23837.5,
          20013,
          20940.5,
          22748,
          22899,
          19257,
          19847,
          22882.5
         ],
         "y0": " ",
         "yaxis": "y"
        },
        {
         "alignmentgroup": "True",
         "hovertemplate": "chrom=%{x}<br>length=%{y}<extra></extra>",
         "legendgroup": "chr22q",
         "marker": {
          "color": "#ab63fa"
         },
         "name": "chr22q",
         "notched": false,
         "offsetgroup": "chr22q",
         "orientation": "v",
         "showlegend": true,
         "type": "box",
         "x": [
          "chr22q",
          "chr22q",
          "chr22q",
          "chr22q",
          "chr22q",
          "chr22q",
          "chr22q",
          "chr22q",
          "chr22q",
          "chr22q",
          "chr22q",
          "chr22q",
          "chr22q",
          "chr22q",
          "chr22q",
          "chr22q",
          "chr22q",
          "chr22q",
          "chr22q",
          "chr22q"
         ],
         "x0": " ",
         "xaxis": "x",
         "y": [
          8824,
          7369.5,
          21532,
          23923.5,
          13135.5,
          10196,
          23025,
          20764,
          27326,
          8346.5,
          7031,
          18760,
          23858,
          8739,
          20849,
          20581,
          16527,
          21635,
          7796,
          10909
         ],
         "y0": " ",
         "yaxis": "y"
        },
        {
         "alignmentgroup": "True",
         "hovertemplate": "chrom=%{x}<br>length=%{y}<extra></extra>",
         "legendgroup": "chrXp",
         "marker": {
          "color": "#FFA15A"
         },
         "name": "chrXp",
         "notched": false,
         "offsetgroup": "chrXp",
         "orientation": "v",
         "showlegend": true,
         "type": "box",
         "x": [
          "chrXp",
          "chrXp",
          "chrXp",
          "chrXp",
          "chrXp",
          "chrXp",
          "chrXp",
          "chrXp",
          "chrXp",
          "chrXp",
          "chrXp",
          "chrXp",
          "chrXp",
          "chrXp",
          "chrXp",
          "chrXp",
          "chrXp",
          "chrXp",
          "chrXp",
          "chrXp"
         ],
         "x0": " ",
         "xaxis": "x",
         "y": [
          6455.5,
          5927,
          16246.5,
          8607,
          11329,
          9901,
          8081,
          10517.5,
          8304,
          10471,
          6943,
          11945,
          12633,
          10806,
          11922,
          11104,
          7310,
          12542,
          13204,
          11026
         ],
         "y0": " ",
         "yaxis": "y"
        },
        {
         "alignmentgroup": "True",
         "hovertemplate": "chrom=%{x}<br>length=%{y}<extra></extra>",
         "legendgroup": "chrXq",
         "marker": {
          "color": "#19d3f3"
         },
         "name": "chrXq",
         "notched": false,
         "offsetgroup": "chrXq",
         "orientation": "v",
         "showlegend": true,
         "type": "box",
         "x": [
          "chrXq",
          "chrXq",
          "chrXq",
          "chrXq",
          "chrXq",
          "chrXq",
          "chrXq",
          "chrXq",
          "chrXq",
          "chrXq",
          "chrXq",
          "chrXq",
          "chrXq",
          "chrXq",
          "chrXq",
          "chrXq",
          "chrXq",
          "chrXq",
          "chrXq",
          "chrXq"
         ],
         "x0": " ",
         "xaxis": "x",
         "y": [
          4859.5,
          4835,
          4133,
          6576.5,
          5552,
          6862,
          5023,
          8331,
          5032.5,
          5416.5,
          4502,
          5587.5,
          5644,
          7250.5,
          6031,
          5086,
          5851,
          4510,
          5289,
          4952
         ],
         "y0": " ",
         "yaxis": "y"
        },
        {
         "alignmentgroup": "True",
         "hovertemplate": "chrom=%{x}<br>length=%{y}<extra></extra>",
         "legendgroup": "chrYp",
         "marker": {
          "color": "#FF6692"
         },
         "name": "chrYp",
         "notched": false,
         "offsetgroup": "chrYp",
         "orientation": "v",
         "showlegend": true,
         "type": "box",
         "x": [
          "chrYp",
          "chrYp",
          "chrYp",
          "chrYp",
          "chrYp",
          "chrYp",
          "chrYp",
          "chrYp",
          "chrYp",
          "chrYp",
          "chrYp",
          "chrYp",
          "chrYp",
          "chrYp",
          "chrYp",
          "chrYp",
          "chrYp",
          "chrYp",
          "chrYp",
          "chrYp"
         ],
         "x0": " ",
         "xaxis": "x",
         "y": [
          11571,
          12518.5,
          12805,
          14383,
          9476.5,
          10956.5,
          11214.5,
          13705,
          10938.5,
          11917.5,
          10411.5,
          13299.5,
          9892,
          10509.5,
          9999,
          10685.5,
          10941,
          14944,
          12363,
          9323
         ],
         "y0": " ",
         "yaxis": "y"
        },
        {
         "alignmentgroup": "True",
         "hovertemplate": "chrom=%{x}<br>length=%{y}<extra></extra>",
         "legendgroup": "chrYq",
         "marker": {
          "color": "#B6E880"
         },
         "name": "chrYq",
         "notched": false,
         "offsetgroup": "chrYq",
         "orientation": "v",
         "showlegend": true,
         "type": "box",
         "x": [
          "chrYq",
          "chrYq",
          "chrYq",
          "chrYq",
          "chrYq",
          "chrYq",
          "chrYq",
          "chrYq",
          "chrYq",
          "chrYq",
          "chrYq",
          "chrYq",
          "chrYq",
          "chrYq",
          "chrYq",
          "chrYq",
          "chrYq",
          "chrYq",
          "chrYq",
          "chrYq"
         ],
         "x0": " ",
         "xaxis": "x",
         "y": [
          4224,
          5171,
          9648,
          4979.5,
          4447.5,
          5056,
          6893,
          6909,
          7269,
          6262,
          5224,
          5593,
          4340,
          5751,
          6460.5,
          4849,
          8224.5,
          4481,
          4819,
          93
         ],
         "y0": " ",
         "yaxis": "y"
        }
       ],
       "layout": {
        "boxmode": "overlay",
        "legend": {
         "title": {
          "text": "chrom"
         },
         "tracegroupgap": 0
        },
        "template": {
         "data": {
          "bar": [
           {
            "error_x": {
             "color": "#2a3f5f"
            },
            "error_y": {
             "color": "#2a3f5f"
            },
            "marker": {
             "line": {
              "color": "#E5ECF6",
              "width": 0.5
             },
             "pattern": {
              "fillmode": "overlay",
              "size": 10,
              "solidity": 0.2
             }
            },
            "type": "bar"
           }
          ],
          "barpolar": [
           {
            "marker": {
             "line": {
              "color": "#E5ECF6",
              "width": 0.5
             },
             "pattern": {
              "fillmode": "overlay",
              "size": 10,
              "solidity": 0.2
             }
            },
            "type": "barpolar"
           }
          ],
          "carpet": [
           {
            "aaxis": {
             "endlinecolor": "#2a3f5f",
             "gridcolor": "white",
             "linecolor": "white",
             "minorgridcolor": "white",
             "startlinecolor": "#2a3f5f"
            },
            "baxis": {
             "endlinecolor": "#2a3f5f",
             "gridcolor": "white",
             "linecolor": "white",
             "minorgridcolor": "white",
             "startlinecolor": "#2a3f5f"
            },
            "type": "carpet"
           }
          ],
          "choropleth": [
           {
            "colorbar": {
             "outlinewidth": 0,
             "ticks": ""
            },
            "type": "choropleth"
           }
          ],
          "contour": [
           {
            "colorbar": {
             "outlinewidth": 0,
             "ticks": ""
            },
            "colorscale": [
             [
              0,
              "#0d0887"
             ],
             [
              0.1111111111111111,
              "#46039f"
             ],
             [
              0.2222222222222222,
              "#7201a8"
             ],
             [
              0.3333333333333333,
              "#9c179e"
             ],
             [
              0.4444444444444444,
              "#bd3786"
             ],
             [
              0.5555555555555556,
              "#d8576b"
             ],
             [
              0.6666666666666666,
              "#ed7953"
             ],
             [
              0.7777777777777778,
              "#fb9f3a"
             ],
             [
              0.8888888888888888,
              "#fdca26"
             ],
             [
              1,
              "#f0f921"
             ]
            ],
            "type": "contour"
           }
          ],
          "contourcarpet": [
           {
            "colorbar": {
             "outlinewidth": 0,
             "ticks": ""
            },
            "type": "contourcarpet"
           }
          ],
          "heatmap": [
           {
            "colorbar": {
             "outlinewidth": 0,
             "ticks": ""
            },
            "colorscale": [
             [
              0,
              "#0d0887"
             ],
             [
              0.1111111111111111,
              "#46039f"
             ],
             [
              0.2222222222222222,
              "#7201a8"
             ],
             [
              0.3333333333333333,
              "#9c179e"
             ],
             [
              0.4444444444444444,
              "#bd3786"
             ],
             [
              0.5555555555555556,
              "#d8576b"
             ],
             [
              0.6666666666666666,
              "#ed7953"
             ],
             [
              0.7777777777777778,
              "#fb9f3a"
             ],
             [
              0.8888888888888888,
              "#fdca26"
             ],
             [
              1,
              "#f0f921"
             ]
            ],
            "type": "heatmap"
           }
          ],
          "heatmapgl": [
           {
            "colorbar": {
             "outlinewidth": 0,
             "ticks": ""
            },
            "colorscale": [
             [
              0,
              "#0d0887"
             ],
             [
              0.1111111111111111,
              "#46039f"
             ],
             [
              0.2222222222222222,
              "#7201a8"
             ],
             [
              0.3333333333333333,
              "#9c179e"
             ],
             [
              0.4444444444444444,
              "#bd3786"
             ],
             [
              0.5555555555555556,
              "#d8576b"
             ],
             [
              0.6666666666666666,
              "#ed7953"
             ],
             [
              0.7777777777777778,
              "#fb9f3a"
             ],
             [
              0.8888888888888888,
              "#fdca26"
             ],
             [
              1,
              "#f0f921"
             ]
            ],
            "type": "heatmapgl"
           }
          ],
          "histogram": [
           {
            "marker": {
             "pattern": {
              "fillmode": "overlay",
              "size": 10,
              "solidity": 0.2
             }
            },
            "type": "histogram"
           }
          ],
          "histogram2d": [
           {
            "colorbar": {
             "outlinewidth": 0,
             "ticks": ""
            },
            "colorscale": [
             [
              0,
              "#0d0887"
             ],
             [
              0.1111111111111111,
              "#46039f"
             ],
             [
              0.2222222222222222,
              "#7201a8"
             ],
             [
              0.3333333333333333,
              "#9c179e"
             ],
             [
              0.4444444444444444,
              "#bd3786"
             ],
             [
              0.5555555555555556,
              "#d8576b"
             ],
             [
              0.6666666666666666,
              "#ed7953"
             ],
             [
              0.7777777777777778,
              "#fb9f3a"
             ],
             [
              0.8888888888888888,
              "#fdca26"
             ],
             [
              1,
              "#f0f921"
             ]
            ],
            "type": "histogram2d"
           }
          ],
          "histogram2dcontour": [
           {
            "colorbar": {
             "outlinewidth": 0,
             "ticks": ""
            },
            "colorscale": [
             [
              0,
              "#0d0887"
             ],
             [
              0.1111111111111111,
              "#46039f"
             ],
             [
              0.2222222222222222,
              "#7201a8"
             ],
             [
              0.3333333333333333,
              "#9c179e"
             ],
             [
              0.4444444444444444,
              "#bd3786"
             ],
             [
              0.5555555555555556,
              "#d8576b"
             ],
             [
              0.6666666666666666,
              "#ed7953"
             ],
             [
              0.7777777777777778,
              "#fb9f3a"
             ],
             [
              0.8888888888888888,
              "#fdca26"
             ],
             [
              1,
              "#f0f921"
             ]
            ],
            "type": "histogram2dcontour"
           }
          ],
          "mesh3d": [
           {
            "colorbar": {
             "outlinewidth": 0,
             "ticks": ""
            },
            "type": "mesh3d"
           }
          ],
          "parcoords": [
           {
            "line": {
             "colorbar": {
              "outlinewidth": 0,
              "ticks": ""
             }
            },
            "type": "parcoords"
           }
          ],
          "pie": [
           {
            "automargin": true,
            "type": "pie"
           }
          ],
          "scatter": [
           {
            "marker": {
             "colorbar": {
              "outlinewidth": 0,
              "ticks": ""
             }
            },
            "type": "scatter"
           }
          ],
          "scatter3d": [
           {
            "line": {
             "colorbar": {
              "outlinewidth": 0,
              "ticks": ""
             }
            },
            "marker": {
             "colorbar": {
              "outlinewidth": 0,
              "ticks": ""
             }
            },
            "type": "scatter3d"
           }
          ],
          "scattercarpet": [
           {
            "marker": {
             "colorbar": {
              "outlinewidth": 0,
              "ticks": ""
             }
            },
            "type": "scattercarpet"
           }
          ],
          "scattergeo": [
           {
            "marker": {
             "colorbar": {
              "outlinewidth": 0,
              "ticks": ""
             }
            },
            "type": "scattergeo"
           }
          ],
          "scattergl": [
           {
            "marker": {
             "colorbar": {
              "outlinewidth": 0,
              "ticks": ""
             }
            },
            "type": "scattergl"
           }
          ],
          "scattermapbox": [
           {
            "marker": {
             "colorbar": {
              "outlinewidth": 0,
              "ticks": ""
             }
            },
            "type": "scattermapbox"
           }
          ],
          "scatterpolar": [
           {
            "marker": {
             "colorbar": {
              "outlinewidth": 0,
              "ticks": ""
             }
            },
            "type": "scatterpolar"
           }
          ],
          "scatterpolargl": [
           {
            "marker": {
             "colorbar": {
              "outlinewidth": 0,
              "ticks": ""
             }
            },
            "type": "scatterpolargl"
           }
          ],
          "scatterternary": [
           {
            "marker": {
             "colorbar": {
              "outlinewidth": 0,
              "ticks": ""
             }
            },
            "type": "scatterternary"
           }
          ],
          "surface": [
           {
            "colorbar": {
             "outlinewidth": 0,
             "ticks": ""
            },
            "colorscale": [
             [
              0,
              "#0d0887"
             ],
             [
              0.1111111111111111,
              "#46039f"
             ],
             [
              0.2222222222222222,
              "#7201a8"
             ],
             [
              0.3333333333333333,
              "#9c179e"
             ],
             [
              0.4444444444444444,
              "#bd3786"
             ],
             [
              0.5555555555555556,
              "#d8576b"
             ],
             [
              0.6666666666666666,
              "#ed7953"
             ],
             [
              0.7777777777777778,
              "#fb9f3a"
             ],
             [
              0.8888888888888888,
              "#fdca26"
             ],
             [
              1,
              "#f0f921"
             ]
            ],
            "type": "surface"
           }
          ],
          "table": [
           {
            "cells": {
             "fill": {
              "color": "#EBF0F8"
             },
             "line": {
              "color": "white"
             }
            },
            "header": {
             "fill": {
              "color": "#C8D4E3"
             },
             "line": {
              "color": "white"
             }
            },
            "type": "table"
           }
          ]
         },
         "layout": {
          "annotationdefaults": {
           "arrowcolor": "#2a3f5f",
           "arrowhead": 0,
           "arrowwidth": 1
          },
          "autotypenumbers": "strict",
          "coloraxis": {
           "colorbar": {
            "outlinewidth": 0,
            "ticks": ""
           }
          },
          "colorscale": {
           "diverging": [
            [
             0,
             "#8e0152"
            ],
            [
             0.1,
             "#c51b7d"
            ],
            [
             0.2,
             "#de77ae"
            ],
            [
             0.3,
             "#f1b6da"
            ],
            [
             0.4,
             "#fde0ef"
            ],
            [
             0.5,
             "#f7f7f7"
            ],
            [
             0.6,
             "#e6f5d0"
            ],
            [
             0.7,
             "#b8e186"
            ],
            [
             0.8,
             "#7fbc41"
            ],
            [
             0.9,
             "#4d9221"
            ],
            [
             1,
             "#276419"
            ]
           ],
           "sequential": [
            [
             0,
             "#0d0887"
            ],
            [
             0.1111111111111111,
             "#46039f"
            ],
            [
             0.2222222222222222,
             "#7201a8"
            ],
            [
             0.3333333333333333,
             "#9c179e"
            ],
            [
             0.4444444444444444,
             "#bd3786"
            ],
            [
             0.5555555555555556,
             "#d8576b"
            ],
            [
             0.6666666666666666,
             "#ed7953"
            ],
            [
             0.7777777777777778,
             "#fb9f3a"
            ],
            [
             0.8888888888888888,
             "#fdca26"
            ],
            [
             1,
             "#f0f921"
            ]
           ],
           "sequentialminus": [
            [
             0,
             "#0d0887"
            ],
            [
             0.1111111111111111,
             "#46039f"
            ],
            [
             0.2222222222222222,
             "#7201a8"
            ],
            [
             0.3333333333333333,
             "#9c179e"
            ],
            [
             0.4444444444444444,
             "#bd3786"
            ],
            [
             0.5555555555555556,
             "#d8576b"
            ],
            [
             0.6666666666666666,
             "#ed7953"
            ],
            [
             0.7777777777777778,
             "#fb9f3a"
            ],
            [
             0.8888888888888888,
             "#fdca26"
            ],
            [
             1,
             "#f0f921"
            ]
           ]
          },
          "colorway": [
           "#636efa",
           "#EF553B",
           "#00cc96",
           "#ab63fa",
           "#FFA15A",
           "#19d3f3",
           "#FF6692",
           "#B6E880",
           "#FF97FF",
           "#FECB52"
          ],
          "font": {
           "color": "#2a3f5f"
          },
          "geo": {
           "bgcolor": "white",
           "lakecolor": "white",
           "landcolor": "#E5ECF6",
           "showlakes": true,
           "showland": true,
           "subunitcolor": "white"
          },
          "hoverlabel": {
           "align": "left"
          },
          "hovermode": "closest",
          "mapbox": {
           "style": "light"
          },
          "paper_bgcolor": "white",
          "plot_bgcolor": "#E5ECF6",
          "polar": {
           "angularaxis": {
            "gridcolor": "white",
            "linecolor": "white",
            "ticks": ""
           },
           "bgcolor": "#E5ECF6",
           "radialaxis": {
            "gridcolor": "white",
            "linecolor": "white",
            "ticks": ""
           }
          },
          "scene": {
           "xaxis": {
            "backgroundcolor": "#E5ECF6",
            "gridcolor": "white",
            "gridwidth": 2,
            "linecolor": "white",
            "showbackground": true,
            "ticks": "",
            "zerolinecolor": "white"
           },
           "yaxis": {
            "backgroundcolor": "#E5ECF6",
            "gridcolor": "white",
            "gridwidth": 2,
            "linecolor": "white",
            "showbackground": true,
            "ticks": "",
            "zerolinecolor": "white"
           },
           "zaxis": {
            "backgroundcolor": "#E5ECF6",
            "gridcolor": "white",
            "gridwidth": 2,
            "linecolor": "white",
            "showbackground": true,
            "ticks": "",
            "zerolinecolor": "white"
           }
          },
          "shapedefaults": {
           "line": {
            "color": "#2a3f5f"
           }
          },
          "ternary": {
           "aaxis": {
            "gridcolor": "white",
            "linecolor": "white",
            "ticks": ""
           },
           "baxis": {
            "gridcolor": "white",
            "linecolor": "white",
            "ticks": ""
           },
           "bgcolor": "#E5ECF6",
           "caxis": {
            "gridcolor": "white",
            "linecolor": "white",
            "ticks": ""
           }
          },
          "title": {
           "x": 0.05
          },
          "xaxis": {
           "automargin": true,
           "gridcolor": "white",
           "linecolor": "white",
           "ticks": "",
           "title": {
            "standoff": 15
           },
           "zerolinecolor": "white",
           "zerolinewidth": 2
          },
          "yaxis": {
           "automargin": true,
           "gridcolor": "white",
           "linecolor": "white",
           "ticks": "",
           "title": {
            "standoff": 15
           },
           "zerolinecolor": "white",
           "zerolinewidth": 2
          }
         }
        },
        "title": {
         "text": "Telomere Length by Chromosome"
        },
        "xaxis": {
         "anchor": "y",
         "categoryarray": [
          "chr01p",
          "chr01q",
          "chr02p",
          "chr02q",
          "chr03p",
          "chr03q",
          "chr04p",
          "chr04q",
          "chr05p",
          "chr05q",
          "chr06p",
          "chr06q",
          "chr07p",
          "chr07q",
          "chr08p",
          "chr08q",
          "chr09p",
          "chr09q",
          "chr10p",
          "chr10q",
          "chr11p",
          "chr11q",
          "chr12p",
          "chr12q",
          "chr13p",
          "chr13q",
          "chr14p",
          "chr14q",
          "chr15p",
          "chr15q",
          "chr16p",
          "chr16q",
          "chr17p",
          "chr17q",
          "chr18p",
          "chr18q",
          "chr19p",
          "chr19q",
          "chr20p",
          "chr20q",
          "chr21p",
          "chr21q",
          "chr22p",
          "chr22q",
          "chrXp",
          "chrXq",
          "chrYp",
          "chrYq"
         ],
         "categoryorder": "array",
         "domain": [
          0,
          1
         ],
         "title": {
          "text": "chrom"
         }
        },
        "yaxis": {
         "anchor": "x",
         "domain": [
          0,
          1
         ],
         "title": {
          "text": "length"
         }
        }
       }
      },
      "text/html": [
       "<div>                            <div id=\"6f140925-e3fd-4b74-bfc3-ce0eaec25ffe\" class=\"plotly-graph-div\" style=\"height:525px; width:100%;\"></div>            <script type=\"text/javascript\">                require([\"plotly\"], function(Plotly) {                    window.PLOTLYENV=window.PLOTLYENV || {};                                    if (document.getElementById(\"6f140925-e3fd-4b74-bfc3-ce0eaec25ffe\")) {                    Plotly.newPlot(                        \"6f140925-e3fd-4b74-bfc3-ce0eaec25ffe\",                        [{\"alignmentgroup\":\"True\",\"hovertemplate\":\"chrom=%{x}<br>length=%{y}<extra></extra>\",\"legendgroup\":\"chr01p\",\"marker\":{\"color\":\"#636efa\"},\"name\":\"chr01p\",\"notched\":false,\"offsetgroup\":\"chr01p\",\"orientation\":\"v\",\"showlegend\":true,\"x\":[\"chr01p\",\"chr01p\",\"chr01p\",\"chr01p\",\"chr01p\",\"chr01p\",\"chr01p\",\"chr01p\",\"chr01p\",\"chr01p\",\"chr01p\",\"chr01p\",\"chr01p\",\"chr01p\",\"chr01p\",\"chr01p\",\"chr01p\",\"chr01p\",\"chr01p\",\"chr01p\"],\"x0\":\" \",\"xaxis\":\"x\",\"y\":[7723.0,5189.0,5718.0,6101.5,5815.5,5818.0,5855.0,5556.0,6426.0,7897.5,4309.5,5154.0,6049.0,5646.0,5064.0,5553.0,8139.5,5819.0,7125.0,6333.0],\"y0\":\" \",\"yaxis\":\"y\",\"type\":\"box\"},{\"alignmentgroup\":\"True\",\"hovertemplate\":\"chrom=%{x}<br>length=%{y}<extra></extra>\",\"legendgroup\":\"chr01q\",\"marker\":{\"color\":\"#EF553B\"},\"name\":\"chr01q\",\"notched\":false,\"offsetgroup\":\"chr01q\",\"orientation\":\"v\",\"showlegend\":true,\"x\":[\"chr01q\",\"chr01q\",\"chr01q\",\"chr01q\",\"chr01q\",\"chr01q\",\"chr01q\",\"chr01q\",\"chr01q\",\"chr01q\",\"chr01q\",\"chr01q\",\"chr01q\",\"chr01q\",\"chr01q\",\"chr01q\",\"chr01q\",\"chr01q\",\"chr01q\",\"chr01q\"],\"x0\":\" \",\"xaxis\":\"x\",\"y\":[4261.0,5865.0,5780.5,5262.0,8536.5,8914.5,6649.0,4759.0,5204.0,5612.0,5755.0,7996.0,5835.0,4240.0,7932.0,5907.0,6400.0,6721.0,5652.0,4709.0],\"y0\":\" \",\"yaxis\":\"y\",\"type\":\"box\"},{\"alignmentgroup\":\"True\",\"hovertemplate\":\"chrom=%{x}<br>length=%{y}<extra></extra>\",\"legendgroup\":\"chr02p\",\"marker\":{\"color\":\"#00cc96\"},\"name\":\"chr02p\",\"notched\":false,\"offsetgroup\":\"chr02p\",\"orientation\":\"v\",\"showlegend\":true,\"x\":[\"chr02p\",\"chr02p\",\"chr02p\",\"chr02p\",\"chr02p\",\"chr02p\",\"chr02p\",\"chr02p\",\"chr02p\",\"chr02p\",\"chr02p\",\"chr02p\",\"chr02p\",\"chr02p\",\"chr02p\",\"chr02p\",\"chr02p\",\"chr02p\",\"chr02p\",\"chr02p\"],\"x0\":\" \",\"xaxis\":\"x\",\"y\":[6326.0,7547.0,6133.0,6199.0,6099.5,5521.0,6287.0,5110.0,5784.5,6003.5,5962.5,5699.0,8352.0,5842.0,5974.0,5698.0,8507.0,7646.5,5411.0,7857.5],\"y0\":\" \",\"yaxis\":\"y\",\"type\":\"box\"},{\"alignmentgroup\":\"True\",\"hovertemplate\":\"chrom=%{x}<br>length=%{y}<extra></extra>\",\"legendgroup\":\"chr02q\",\"marker\":{\"color\":\"#ab63fa\"},\"name\":\"chr02q\",\"notched\":false,\"offsetgroup\":\"chr02q\",\"orientation\":\"v\",\"showlegend\":true,\"x\":[\"chr02q\",\"chr02q\",\"chr02q\",\"chr02q\",\"chr02q\",\"chr02q\",\"chr02q\",\"chr02q\",\"chr02q\",\"chr02q\",\"chr02q\",\"chr02q\",\"chr02q\",\"chr02q\",\"chr02q\",\"chr02q\",\"chr02q\",\"chr02q\",\"chr02q\",\"chr02q\"],\"x0\":\" \",\"xaxis\":\"x\",\"y\":[4964.0,5063.0,5054.0,6766.0,5747.0,6864.0,6469.0,5191.5,5460.0,5342.0,7665.0,18246.0,16198.0,6810.5,8218.0,15049.5,9374.0,4851.0,5292.0,4923.5],\"y0\":\" \",\"yaxis\":\"y\",\"type\":\"box\"},{\"alignmentgroup\":\"True\",\"hovertemplate\":\"chrom=%{x}<br>length=%{y}<extra></extra>\",\"legendgroup\":\"chr03p\",\"marker\":{\"color\":\"#FFA15A\"},\"name\":\"chr03p\",\"notched\":false,\"offsetgroup\":\"chr03p\",\"orientation\":\"v\",\"showlegend\":true,\"x\":[\"chr03p\",\"chr03p\",\"chr03p\",\"chr03p\",\"chr03p\",\"chr03p\",\"chr03p\",\"chr03p\",\"chr03p\",\"chr03p\",\"chr03p\",\"chr03p\",\"chr03p\",\"chr03p\",\"chr03p\",\"chr03p\",\"chr03p\",\"chr03p\",\"chr03p\",\"chr03p\"],\"x0\":\" \",\"xaxis\":\"x\",\"y\":[6901.5,5211.0,7273.0,6391.0,7010.5,6187.5,7082.5,6070.0,8657.0,8693.5,5386.5,5968.0,7973.5,9864.0,5837.0,9040.0,7025.5,6464.5,4678.0,4842.0],\"y0\":\" \",\"yaxis\":\"y\",\"type\":\"box\"},{\"alignmentgroup\":\"True\",\"hovertemplate\":\"chrom=%{x}<br>length=%{y}<extra></extra>\",\"legendgroup\":\"chr03q\",\"marker\":{\"color\":\"#19d3f3\"},\"name\":\"chr03q\",\"notched\":false,\"offsetgroup\":\"chr03q\",\"orientation\":\"v\",\"showlegend\":true,\"x\":[\"chr03q\",\"chr03q\",\"chr03q\",\"chr03q\",\"chr03q\",\"chr03q\",\"chr03q\",\"chr03q\",\"chr03q\",\"chr03q\",\"chr03q\",\"chr03q\",\"chr03q\",\"chr03q\",\"chr03q\",\"chr03q\",\"chr03q\",\"chr03q\",\"chr03q\",\"chr03q\"],\"x0\":\" \",\"xaxis\":\"x\",\"y\":[5232.5,6641.5,4818.0,4979.0,5426.0,5159.0,4961.0,4132.0,4914.0,6887.5,6884.0,4584.0,4909.0,5307.0,6857.0,5281.0,6738.0,4869.0,7264.0,5027.0],\"y0\":\" \",\"yaxis\":\"y\",\"type\":\"box\"},{\"alignmentgroup\":\"True\",\"hovertemplate\":\"chrom=%{x}<br>length=%{y}<extra></extra>\",\"legendgroup\":\"chr04p\",\"marker\":{\"color\":\"#FF6692\"},\"name\":\"chr04p\",\"notched\":false,\"offsetgroup\":\"chr04p\",\"orientation\":\"v\",\"showlegend\":true,\"x\":[\"chr04p\",\"chr04p\",\"chr04p\",\"chr04p\",\"chr04p\",\"chr04p\",\"chr04p\",\"chr04p\",\"chr04p\",\"chr04p\",\"chr04p\",\"chr04p\",\"chr04p\",\"chr04p\",\"chr04p\",\"chr04p\",\"chr04p\",\"chr04p\",\"chr04p\",\"chr04p\"],\"x0\":\" \",\"xaxis\":\"x\",\"y\":[17368.5,7698.5,8734.0,10629.0,7086.0,6645.0,16792.0,7111.0,10514.0,6609.0,16680.5,8877.0,6837.0,7522.0,11020.0,6675.5,7621.0,10767.0,7312.0,7463.0],\"y0\":\" \",\"yaxis\":\"y\",\"type\":\"box\"},{\"alignmentgroup\":\"True\",\"hovertemplate\":\"chrom=%{x}<br>length=%{y}<extra></extra>\",\"legendgroup\":\"chr04q\",\"marker\":{\"color\":\"#B6E880\"},\"name\":\"chr04q\",\"notched\":false,\"offsetgroup\":\"chr04q\",\"orientation\":\"v\",\"showlegend\":true,\"x\":[\"chr04q\",\"chr04q\",\"chr04q\",\"chr04q\",\"chr04q\",\"chr04q\",\"chr04q\",\"chr04q\",\"chr04q\",\"chr04q\",\"chr04q\",\"chr04q\",\"chr04q\",\"chr04q\",\"chr04q\",\"chr04q\",\"chr04q\",\"chr04q\",\"chr04q\",\"chr04q\"],\"x0\":\" \",\"xaxis\":\"x\",\"y\":[10091.0,6947.0,5656.0,6964.0,16552.0,24890.5,19605.0,15565.5,5343.0,14680.5,4675.5,8264.0,5206.0,5330.0,23649.5,10259.0,6198.5,17149.0,7990.0,5750.5],\"y0\":\" \",\"yaxis\":\"y\",\"type\":\"box\"},{\"alignmentgroup\":\"True\",\"hovertemplate\":\"chrom=%{x}<br>length=%{y}<extra></extra>\",\"legendgroup\":\"chr05p\",\"marker\":{\"color\":\"#FF97FF\"},\"name\":\"chr05p\",\"notched\":false,\"offsetgroup\":\"chr05p\",\"orientation\":\"v\",\"showlegend\":true,\"x\":[\"chr05p\",\"chr05p\",\"chr05p\",\"chr05p\",\"chr05p\",\"chr05p\",\"chr05p\",\"chr05p\",\"chr05p\",\"chr05p\",\"chr05p\",\"chr05p\",\"chr05p\",\"chr05p\",\"chr05p\",\"chr05p\",\"chr05p\",\"chr05p\",\"chr05p\",\"chr05p\"],\"x0\":\" \",\"xaxis\":\"x\",\"y\":[4739.5,7136.5,5710.0,6277.0,7197.0,7810.0,6075.0,4474.0,8122.0,7181.0,5985.0,6658.5,7649.0,7980.0,6870.0,7185.0,8883.0,6107.0,5935.5,7166.0],\"y0\":\" \",\"yaxis\":\"y\",\"type\":\"box\"},{\"alignmentgroup\":\"True\",\"hovertemplate\":\"chrom=%{x}<br>length=%{y}<extra></extra>\",\"legendgroup\":\"chr05q\",\"marker\":{\"color\":\"#FECB52\"},\"name\":\"chr05q\",\"notched\":false,\"offsetgroup\":\"chr05q\",\"orientation\":\"v\",\"showlegend\":true,\"x\":[\"chr05q\",\"chr05q\",\"chr05q\",\"chr05q\",\"chr05q\",\"chr05q\",\"chr05q\",\"chr05q\",\"chr05q\",\"chr05q\",\"chr05q\",\"chr05q\",\"chr05q\",\"chr05q\",\"chr05q\",\"chr05q\",\"chr05q\",\"chr05q\",\"chr05q\",\"chr05q\"],\"x0\":\" \",\"xaxis\":\"x\",\"y\":[5482.0,5676.0,6173.0,7368.0,8284.0,7930.0,6990.0,5525.5,4947.0,7150.5,5948.0,7119.0,5259.0,8655.0,6552.0,6611.0,6227.0,5477.0,6525.0,7080.0],\"y0\":\" \",\"yaxis\":\"y\",\"type\":\"box\"},{\"alignmentgroup\":\"True\",\"hovertemplate\":\"chrom=%{x}<br>length=%{y}<extra></extra>\",\"legendgroup\":\"chr06p\",\"marker\":{\"color\":\"#636efa\"},\"name\":\"chr06p\",\"notched\":false,\"offsetgroup\":\"chr06p\",\"orientation\":\"v\",\"showlegend\":true,\"x\":[\"chr06p\",\"chr06p\",\"chr06p\",\"chr06p\",\"chr06p\",\"chr06p\",\"chr06p\"],\"x0\":\" \",\"xaxis\":\"x\",\"y\":[119.0,13583.0,120.0,14321.0,70.0,8651.0,4981.5],\"y0\":\" \",\"yaxis\":\"y\",\"type\":\"box\"},{\"alignmentgroup\":\"True\",\"hovertemplate\":\"chrom=%{x}<br>length=%{y}<extra></extra>\",\"legendgroup\":\"chr06q\",\"marker\":{\"color\":\"#EF553B\"},\"name\":\"chr06q\",\"notched\":false,\"offsetgroup\":\"chr06q\",\"orientation\":\"v\",\"showlegend\":true,\"x\":[\"chr06q\",\"chr06q\",\"chr06q\",\"chr06q\",\"chr06q\",\"chr06q\",\"chr06q\",\"chr06q\",\"chr06q\",\"chr06q\",\"chr06q\",\"chr06q\",\"chr06q\",\"chr06q\",\"chr06q\",\"chr06q\",\"chr06q\",\"chr06q\",\"chr06q\",\"chr06q\"],\"x0\":\" \",\"xaxis\":\"x\",\"y\":[6549.0,5303.5,6782.5,6245.0,6602.0,7183.0,7287.5,7471.0,9115.0,7000.0,5932.0,8421.0,5775.5,6992.0,9201.5,6976.0,6134.5,5701.0,7086.0,6282.0],\"y0\":\" \",\"yaxis\":\"y\",\"type\":\"box\"},{\"alignmentgroup\":\"True\",\"hovertemplate\":\"chrom=%{x}<br>length=%{y}<extra></extra>\",\"legendgroup\":\"chr07p\",\"marker\":{\"color\":\"#00cc96\"},\"name\":\"chr07p\",\"notched\":false,\"offsetgroup\":\"chr07p\",\"orientation\":\"v\",\"showlegend\":true,\"x\":[\"chr07p\",\"chr07p\",\"chr07p\",\"chr07p\",\"chr07p\",\"chr07p\",\"chr07p\",\"chr07p\",\"chr07p\",\"chr07p\",\"chr07p\",\"chr07p\",\"chr07p\",\"chr07p\",\"chr07p\",\"chr07p\",\"chr07p\",\"chr07p\",\"chr07p\",\"chr07p\"],\"x0\":\" \",\"xaxis\":\"x\",\"y\":[5723.0,6024.0,4866.0,5018.0,4443.0,5296.0,6016.0,5856.0,5198.0,5079.0,4942.0,4919.0,5053.0,7687.0,5918.0,7711.0,6201.0,5702.0,4719.0,4507.0],\"y0\":\" \",\"yaxis\":\"y\",\"type\":\"box\"},{\"alignmentgroup\":\"True\",\"hovertemplate\":\"chrom=%{x}<br>length=%{y}<extra></extra>\",\"legendgroup\":\"chr07q\",\"marker\":{\"color\":\"#ab63fa\"},\"name\":\"chr07q\",\"notched\":false,\"offsetgroup\":\"chr07q\",\"orientation\":\"v\",\"showlegend\":true,\"x\":[\"chr07q\",\"chr07q\",\"chr07q\",\"chr07q\",\"chr07q\",\"chr07q\",\"chr07q\",\"chr07q\",\"chr07q\",\"chr07q\",\"chr07q\",\"chr07q\",\"chr07q\",\"chr07q\",\"chr07q\",\"chr07q\",\"chr07q\",\"chr07q\",\"chr07q\",\"chr07q\"],\"x0\":\" \",\"xaxis\":\"x\",\"y\":[6990.5,7624.0,4823.5,6724.0,6173.0,5850.5,5862.0,6206.5,5168.0,5933.0,4984.5,6659.0,6871.5,5679.5,5145.0,6809.0,6443.0,7837.0,6722.0,6137.5],\"y0\":\" \",\"yaxis\":\"y\",\"type\":\"box\"},{\"alignmentgroup\":\"True\",\"hovertemplate\":\"chrom=%{x}<br>length=%{y}<extra></extra>\",\"legendgroup\":\"chr08p\",\"marker\":{\"color\":\"#FFA15A\"},\"name\":\"chr08p\",\"notched\":false,\"offsetgroup\":\"chr08p\",\"orientation\":\"v\",\"showlegend\":true,\"x\":[\"chr08p\",\"chr08p\",\"chr08p\",\"chr08p\",\"chr08p\",\"chr08p\",\"chr08p\",\"chr08p\",\"chr08p\",\"chr08p\",\"chr08p\",\"chr08p\",\"chr08p\",\"chr08p\",\"chr08p\",\"chr08p\"],\"x0\":\" \",\"xaxis\":\"x\",\"y\":[20143.0,20206.0,21998.0,23403.0,21686.0,19913.5,18044.0,20381.0,16956.5,19655.0,19074.5,19934.0,22626.0,18456.0,18843.0,21783.5],\"y0\":\" \",\"yaxis\":\"y\",\"type\":\"box\"},{\"alignmentgroup\":\"True\",\"hovertemplate\":\"chrom=%{x}<br>length=%{y}<extra></extra>\",\"legendgroup\":\"chr08q\",\"marker\":{\"color\":\"#19d3f3\"},\"name\":\"chr08q\",\"notched\":false,\"offsetgroup\":\"chr08q\",\"orientation\":\"v\",\"showlegend\":true,\"x\":[\"chr08q\",\"chr08q\",\"chr08q\",\"chr08q\",\"chr08q\",\"chr08q\",\"chr08q\",\"chr08q\",\"chr08q\",\"chr08q\",\"chr08q\",\"chr08q\"],\"x0\":\" \",\"xaxis\":\"x\",\"y\":[3998.0,5335.5,4928.0,2080.0,3936.0,3848.0,6364.5,3899.0,5544.0,4748.0,2195.0,5055.0],\"y0\":\" \",\"yaxis\":\"y\",\"type\":\"box\"},{\"alignmentgroup\":\"True\",\"hovertemplate\":\"chrom=%{x}<br>length=%{y}<extra></extra>\",\"legendgroup\":\"chr09p\",\"marker\":{\"color\":\"#FF6692\"},\"name\":\"chr09p\",\"notched\":false,\"offsetgroup\":\"chr09p\",\"orientation\":\"v\",\"showlegend\":true,\"x\":[\"chr09p\",\"chr09p\",\"chr09p\",\"chr09p\",\"chr09p\",\"chr09p\",\"chr09p\",\"chr09p\",\"chr09p\",\"chr09p\",\"chr09p\",\"chr09p\",\"chr09p\",\"chr09p\",\"chr09p\",\"chr09p\",\"chr09p\",\"chr09p\",\"chr09p\",\"chr09p\"],\"x0\":\" \",\"xaxis\":\"x\",\"y\":[4085.0,5757.5,5938.5,5264.5,5480.0,5299.0,4635.0,5465.0,5151.0,4945.5,4071.0,5136.5,6631.5,4677.0,5067.0,5577.0,6916.0,3997.0,4675.0,6816.5],\"y0\":\" \",\"yaxis\":\"y\",\"type\":\"box\"},{\"alignmentgroup\":\"True\",\"hovertemplate\":\"chrom=%{x}<br>length=%{y}<extra></extra>\",\"legendgroup\":\"chr09q\",\"marker\":{\"color\":\"#B6E880\"},\"name\":\"chr09q\",\"notched\":false,\"offsetgroup\":\"chr09q\",\"orientation\":\"v\",\"showlegend\":true,\"x\":[\"chr09q\",\"chr09q\",\"chr09q\",\"chr09q\",\"chr09q\",\"chr09q\",\"chr09q\",\"chr09q\",\"chr09q\",\"chr09q\",\"chr09q\",\"chr09q\",\"chr09q\",\"chr09q\",\"chr09q\",\"chr09q\",\"chr09q\",\"chr09q\",\"chr09q\",\"chr09q\"],\"x0\":\" \",\"xaxis\":\"x\",\"y\":[6589.0,5472.0,4615.0,5787.0,7039.0,5372.0,6314.0,6253.0,5053.5,4456.0,7040.0,7734.0,4807.0,4993.0,4809.5,4738.0,6294.5,5627.0,5201.5,5543.5],\"y0\":\" \",\"yaxis\":\"y\",\"type\":\"box\"},{\"alignmentgroup\":\"True\",\"hovertemplate\":\"chrom=%{x}<br>length=%{y}<extra></extra>\",\"legendgroup\":\"chr10p\",\"marker\":{\"color\":\"#FF97FF\"},\"name\":\"chr10p\",\"notched\":false,\"offsetgroup\":\"chr10p\",\"orientation\":\"v\",\"showlegend\":true,\"x\":[\"chr10p\",\"chr10p\",\"chr10p\",\"chr10p\",\"chr10p\",\"chr10p\",\"chr10p\",\"chr10p\",\"chr10p\",\"chr10p\",\"chr10p\",\"chr10p\",\"chr10p\",\"chr10p\",\"chr10p\",\"chr10p\",\"chr10p\",\"chr10p\",\"chr10p\",\"chr10p\"],\"x0\":\" \",\"xaxis\":\"x\",\"y\":[4249.5,4693.5,9573.0,6497.0,6927.0,6705.5,8199.0,3650.0,3503.0,3728.0,8443.0,4818.0,6628.0,7745.0,7435.5,6636.0,7268.5,4549.0,4661.0,8383.0],\"y0\":\" \",\"yaxis\":\"y\",\"type\":\"box\"},{\"alignmentgroup\":\"True\",\"hovertemplate\":\"chrom=%{x}<br>length=%{y}<extra></extra>\",\"legendgroup\":\"chr10q\",\"marker\":{\"color\":\"#FECB52\"},\"name\":\"chr10q\",\"notched\":false,\"offsetgroup\":\"chr10q\",\"orientation\":\"v\",\"showlegend\":true,\"x\":[\"chr10q\",\"chr10q\",\"chr10q\",\"chr10q\",\"chr10q\",\"chr10q\",\"chr10q\",\"chr10q\",\"chr10q\",\"chr10q\",\"chr10q\",\"chr10q\",\"chr10q\",\"chr10q\",\"chr10q\",\"chr10q\",\"chr10q\",\"chr10q\",\"chr10q\",\"chr10q\"],\"x0\":\" \",\"xaxis\":\"x\",\"y\":[9225.0,6531.0,5901.0,5625.0,9942.0,6448.0,9943.5,6488.5,9763.0,8589.0,8015.0,23712.0,20116.0,8630.0,7773.0,6087.0,10861.0,9114.5,7616.5,6519.0],\"y0\":\" \",\"yaxis\":\"y\",\"type\":\"box\"},{\"alignmentgroup\":\"True\",\"hovertemplate\":\"chrom=%{x}<br>length=%{y}<extra></extra>\",\"legendgroup\":\"chr11p\",\"marker\":{\"color\":\"#636efa\"},\"name\":\"chr11p\",\"notched\":false,\"offsetgroup\":\"chr11p\",\"orientation\":\"v\",\"showlegend\":true,\"x\":[\"chr11p\",\"chr11p\",\"chr11p\",\"chr11p\",\"chr11p\",\"chr11p\",\"chr11p\",\"chr11p\",\"chr11p\",\"chr11p\",\"chr11p\",\"chr11p\",\"chr11p\",\"chr11p\",\"chr11p\",\"chr11p\",\"chr11p\",\"chr11p\",\"chr11p\",\"chr11p\"],\"x0\":\" \",\"xaxis\":\"x\",\"y\":[5607.0,4658.5,5143.5,6723.5,5801.0,5012.0,7238.0,4479.0,4720.5,5172.0,4598.0,5631.5,5225.5,4306.0,7054.0,6479.0,3735.0,4947.0,4797.0,4934.0],\"y0\":\" \",\"yaxis\":\"y\",\"type\":\"box\"},{\"alignmentgroup\":\"True\",\"hovertemplate\":\"chrom=%{x}<br>length=%{y}<extra></extra>\",\"legendgroup\":\"chr11q\",\"marker\":{\"color\":\"#EF553B\"},\"name\":\"chr11q\",\"notched\":false,\"offsetgroup\":\"chr11q\",\"orientation\":\"v\",\"showlegend\":true,\"x\":[\"chr11q\",\"chr11q\",\"chr11q\",\"chr11q\",\"chr11q\",\"chr11q\",\"chr11q\",\"chr11q\",\"chr11q\",\"chr11q\",\"chr11q\",\"chr11q\",\"chr11q\",\"chr11q\",\"chr11q\",\"chr11q\",\"chr11q\",\"chr11q\",\"chr11q\",\"chr11q\"],\"x0\":\" \",\"xaxis\":\"x\",\"y\":[7701.0,4810.0,4877.0,5457.5,5457.0,4781.0,4450.0,7227.0,5546.0,4946.0,7767.0,7748.0,7178.0,6064.0,5689.0,4962.0,5922.0,5664.0,5379.5,5224.0],\"y0\":\" \",\"yaxis\":\"y\",\"type\":\"box\"},{\"alignmentgroup\":\"True\",\"hovertemplate\":\"chrom=%{x}<br>length=%{y}<extra></extra>\",\"legendgroup\":\"chr12p\",\"marker\":{\"color\":\"#00cc96\"},\"name\":\"chr12p\",\"notched\":false,\"offsetgroup\":\"chr12p\",\"orientation\":\"v\",\"showlegend\":true,\"x\":[\"chr12p\",\"chr12p\",\"chr12p\",\"chr12p\",\"chr12p\",\"chr12p\",\"chr12p\",\"chr12p\",\"chr12p\",\"chr12p\",\"chr12p\",\"chr12p\",\"chr12p\",\"chr12p\",\"chr12p\",\"chr12p\",\"chr12p\",\"chr12p\",\"chr12p\",\"chr12p\"],\"x0\":\" \",\"xaxis\":\"x\",\"y\":[5327.0,4219.0,6107.0,5086.0,5737.0,4046.0,5472.5,5852.0,5311.0,5576.5,6442.5,7475.0,5239.0,5197.0,3890.0,4332.5,5033.5,5991.0,6887.5,5053.0],\"y0\":\" \",\"yaxis\":\"y\",\"type\":\"box\"},{\"alignmentgroup\":\"True\",\"hovertemplate\":\"chrom=%{x}<br>length=%{y}<extra></extra>\",\"legendgroup\":\"chr12q\",\"marker\":{\"color\":\"#ab63fa\"},\"name\":\"chr12q\",\"notched\":false,\"offsetgroup\":\"chr12q\",\"orientation\":\"v\",\"showlegend\":true,\"x\":[\"chr12q\",\"chr12q\",\"chr12q\",\"chr12q\",\"chr12q\",\"chr12q\",\"chr12q\",\"chr12q\",\"chr12q\",\"chr12q\",\"chr12q\",\"chr12q\",\"chr12q\",\"chr12q\",\"chr12q\",\"chr12q\",\"chr12q\",\"chr12q\",\"chr12q\",\"chr12q\"],\"x0\":\" \",\"xaxis\":\"x\",\"y\":[11408.0,9102.0,3759.0,7887.0,6703.0,9503.0,6753.0,5558.0,10071.0,8168.0,8567.5,8410.5,8408.0,8694.0,9122.0,5840.0,5189.0,6581.0,9264.0,6352.5],\"y0\":\" \",\"yaxis\":\"y\",\"type\":\"box\"},{\"alignmentgroup\":\"True\",\"hovertemplate\":\"chrom=%{x}<br>length=%{y}<extra></extra>\",\"legendgroup\":\"chr13p\",\"marker\":{\"color\":\"#FFA15A\"},\"name\":\"chr13p\",\"notched\":false,\"offsetgroup\":\"chr13p\",\"orientation\":\"v\",\"showlegend\":true,\"x\":[\"chr13p\",\"chr13p\",\"chr13p\",\"chr13p\",\"chr13p\",\"chr13p\",\"chr13p\",\"chr13p\",\"chr13p\",\"chr13p\",\"chr13p\"],\"x0\":\" \",\"xaxis\":\"x\",\"y\":[7491.0,5175.5,3864.0,6257.0,6771.5,5216.0,3872.0,3155.5,3431.0,6375.0,9339.0],\"y0\":\" \",\"yaxis\":\"y\",\"type\":\"box\"},{\"alignmentgroup\":\"True\",\"hovertemplate\":\"chrom=%{x}<br>length=%{y}<extra></extra>\",\"legendgroup\":\"chr13q\",\"marker\":{\"color\":\"#19d3f3\"},\"name\":\"chr13q\",\"notched\":false,\"offsetgroup\":\"chr13q\",\"orientation\":\"v\",\"showlegend\":true,\"x\":[\"chr13q\",\"chr13q\",\"chr13q\",\"chr13q\",\"chr13q\",\"chr13q\",\"chr13q\",\"chr13q\",\"chr13q\",\"chr13q\",\"chr13q\",\"chr13q\",\"chr13q\",\"chr13q\",\"chr13q\",\"chr13q\",\"chr13q\",\"chr13q\",\"chr13q\",\"chr13q\"],\"x0\":\" \",\"xaxis\":\"x\",\"y\":[7056.0,6018.0,5282.5,10365.0,6926.5,5822.5,7997.0,5119.0,6227.0,5480.0,5892.0,7835.0,6207.0,5278.0,5551.0,8340.0,5515.0,5165.0,5733.0,6491.0],\"y0\":\" \",\"yaxis\":\"y\",\"type\":\"box\"},{\"alignmentgroup\":\"True\",\"hovertemplate\":\"chrom=%{x}<br>length=%{y}<extra></extra>\",\"legendgroup\":\"chr14p\",\"marker\":{\"color\":\"#FF6692\"},\"name\":\"chr14p\",\"notched\":false,\"offsetgroup\":\"chr14p\",\"orientation\":\"v\",\"showlegend\":true,\"x\":[\"chr14p\",\"chr14p\",\"chr14p\",\"chr14p\",\"chr14p\",\"chr14p\"],\"x0\":\" \",\"xaxis\":\"x\",\"y\":[4470.0,3630.0,7255.0,4806.0,5623.0,3762.0],\"y0\":\" \",\"yaxis\":\"y\",\"type\":\"box\"},{\"alignmentgroup\":\"True\",\"hovertemplate\":\"chrom=%{x}<br>length=%{y}<extra></extra>\",\"legendgroup\":\"chr14q\",\"marker\":{\"color\":\"#B6E880\"},\"name\":\"chr14q\",\"notched\":false,\"offsetgroup\":\"chr14q\",\"orientation\":\"v\",\"showlegend\":true,\"x\":[\"chr14q\",\"chr14q\",\"chr14q\",\"chr14q\",\"chr14q\",\"chr14q\",\"chr14q\",\"chr14q\",\"chr14q\",\"chr14q\",\"chr14q\",\"chr14q\",\"chr14q\",\"chr14q\",\"chr14q\",\"chr14q\",\"chr14q\",\"chr14q\",\"chr14q\",\"chr14q\"],\"x0\":\" \",\"xaxis\":\"x\",\"y\":[10070.0,7017.0,8181.0,7918.5,10337.0,9291.0,7972.5,8693.0,8457.0,8225.0,8901.0,7592.5,9217.5,8684.5,8825.0,9874.5,10827.0,7622.0,9253.0,8201.0],\"y0\":\" \",\"yaxis\":\"y\",\"type\":\"box\"},{\"alignmentgroup\":\"True\",\"hovertemplate\":\"chrom=%{x}<br>length=%{y}<extra></extra>\",\"legendgroup\":\"chr15p\",\"marker\":{\"color\":\"#FF97FF\"},\"name\":\"chr15p\",\"notched\":false,\"offsetgroup\":\"chr15p\",\"orientation\":\"v\",\"showlegend\":true,\"x\":[\"chr15p\",\"chr15p\",\"chr15p\",\"chr15p\",\"chr15p\",\"chr15p\",\"chr15p\",\"chr15p\",\"chr15p\",\"chr15p\",\"chr15p\",\"chr15p\",\"chr15p\",\"chr15p\",\"chr15p\",\"chr15p\",\"chr15p\",\"chr15p\",\"chr15p\",\"chr15p\"],\"x0\":\" \",\"xaxis\":\"x\",\"y\":[9495.0,9183.0,5841.5,8345.0,6603.0,10503.5,7425.0,7828.0,11171.5,8782.0,9431.0,15668.5,7128.5,7911.5,6911.0,9242.0,11483.5,11945.0,7657.0,7748.5],\"y0\":\" \",\"yaxis\":\"y\",\"type\":\"box\"},{\"alignmentgroup\":\"True\",\"hovertemplate\":\"chrom=%{x}<br>length=%{y}<extra></extra>\",\"legendgroup\":\"chr15q\",\"marker\":{\"color\":\"#FECB52\"},\"name\":\"chr15q\",\"notched\":false,\"offsetgroup\":\"chr15q\",\"orientation\":\"v\",\"showlegend\":true,\"x\":[\"chr15q\",\"chr15q\",\"chr15q\",\"chr15q\",\"chr15q\",\"chr15q\",\"chr15q\",\"chr15q\",\"chr15q\",\"chr15q\",\"chr15q\",\"chr15q\",\"chr15q\",\"chr15q\",\"chr15q\",\"chr15q\",\"chr15q\",\"chr15q\",\"chr15q\",\"chr15q\"],\"x0\":\" \",\"xaxis\":\"x\",\"y\":[4440.0,5813.5,4401.0,5200.5,5098.0,4774.0,6775.0,4772.0,4208.5,4727.0,5058.0,4554.5,7436.0,5811.0,5598.0,5889.5,4395.5,8847.0,7736.0,4909.0],\"y0\":\" \",\"yaxis\":\"y\",\"type\":\"box\"},{\"alignmentgroup\":\"True\",\"hovertemplate\":\"chrom=%{x}<br>length=%{y}<extra></extra>\",\"legendgroup\":\"chr16p\",\"marker\":{\"color\":\"#636efa\"},\"name\":\"chr16p\",\"notched\":false,\"offsetgroup\":\"chr16p\",\"orientation\":\"v\",\"showlegend\":true,\"x\":[\"chr16p\",\"chr16p\",\"chr16p\",\"chr16p\",\"chr16p\",\"chr16p\",\"chr16p\",\"chr16p\",\"chr16p\",\"chr16p\",\"chr16p\",\"chr16p\",\"chr16p\",\"chr16p\",\"chr16p\",\"chr16p\",\"chr16p\",\"chr16p\",\"chr16p\",\"chr16p\"],\"x0\":\" \",\"xaxis\":\"x\",\"y\":[6501.5,5984.0,5182.0,4715.0,5460.0,7217.0,4452.0,4904.0,6646.5,5248.5,5619.5,5767.0,4630.0,5295.5,4609.0,7353.0,7522.0,4878.0,3623.0,5743.0],\"y0\":\" \",\"yaxis\":\"y\",\"type\":\"box\"},{\"alignmentgroup\":\"True\",\"hovertemplate\":\"chrom=%{x}<br>length=%{y}<extra></extra>\",\"legendgroup\":\"chr16q\",\"marker\":{\"color\":\"#EF553B\"},\"name\":\"chr16q\",\"notched\":false,\"offsetgroup\":\"chr16q\",\"orientation\":\"v\",\"showlegend\":true,\"x\":[\"chr16q\",\"chr16q\",\"chr16q\",\"chr16q\",\"chr16q\",\"chr16q\",\"chr16q\",\"chr16q\",\"chr16q\",\"chr16q\",\"chr16q\",\"chr16q\",\"chr16q\",\"chr16q\",\"chr16q\",\"chr16q\",\"chr16q\",\"chr16q\",\"chr16q\",\"chr16q\"],\"x0\":\" \",\"xaxis\":\"x\",\"y\":[5401.0,6059.0,6823.0,8144.5,6408.0,5799.0,9827.0,4955.5,7229.0,8086.0,8517.5,5914.0,6923.5,7655.0,16847.0,8101.0,7744.0,6338.5,7718.0,6454.0],\"y0\":\" \",\"yaxis\":\"y\",\"type\":\"box\"},{\"alignmentgroup\":\"True\",\"hovertemplate\":\"chrom=%{x}<br>length=%{y}<extra></extra>\",\"legendgroup\":\"chr17p\",\"marker\":{\"color\":\"#00cc96\"},\"name\":\"chr17p\",\"notched\":false,\"offsetgroup\":\"chr17p\",\"orientation\":\"v\",\"showlegend\":true,\"x\":[\"chr17p\",\"chr17p\",\"chr17p\",\"chr17p\",\"chr17p\",\"chr17p\",\"chr17p\",\"chr17p\",\"chr17p\",\"chr17p\",\"chr17p\",\"chr17p\",\"chr17p\",\"chr17p\",\"chr17p\",\"chr17p\",\"chr17p\",\"chr17p\"],\"x0\":\" \",\"xaxis\":\"x\",\"y\":[5499.5,4161.0,4490.0,4664.0,10682.0,5013.5,4769.0,6193.0,6486.0,5159.0,4006.5,5435.5,4969.5,5789.0,4626.5,6225.5,4616.5,4305.5],\"y0\":\" \",\"yaxis\":\"y\",\"type\":\"box\"},{\"alignmentgroup\":\"True\",\"hovertemplate\":\"chrom=%{x}<br>length=%{y}<extra></extra>\",\"legendgroup\":\"chr17q\",\"marker\":{\"color\":\"#ab63fa\"},\"name\":\"chr17q\",\"notched\":false,\"offsetgroup\":\"chr17q\",\"orientation\":\"v\",\"showlegend\":true,\"x\":[\"chr17q\",\"chr17q\",\"chr17q\",\"chr17q\",\"chr17q\",\"chr17q\",\"chr17q\",\"chr17q\",\"chr17q\",\"chr17q\",\"chr17q\",\"chr17q\",\"chr17q\",\"chr17q\",\"chr17q\",\"chr17q\",\"chr17q\",\"chr17q\",\"chr17q\",\"chr17q\"],\"x0\":\" \",\"xaxis\":\"x\",\"y\":[5171.5,5680.5,6738.5,3591.0,4496.0,5914.5,4463.0,4517.0,4641.0,5140.5,4152.0,4874.0,4518.0,5965.0,4633.0,5376.0,4645.0,6373.5,4896.0,6918.0],\"y0\":\" \",\"yaxis\":\"y\",\"type\":\"box\"},{\"alignmentgroup\":\"True\",\"hovertemplate\":\"chrom=%{x}<br>length=%{y}<extra></extra>\",\"legendgroup\":\"chr18p\",\"marker\":{\"color\":\"#FFA15A\"},\"name\":\"chr18p\",\"notched\":false,\"offsetgroup\":\"chr18p\",\"orientation\":\"v\",\"showlegend\":true,\"x\":[\"chr18p\",\"chr18p\",\"chr18p\",\"chr18p\",\"chr18p\",\"chr18p\",\"chr18p\",\"chr18p\",\"chr18p\",\"chr18p\",\"chr18p\",\"chr18p\",\"chr18p\",\"chr18p\",\"chr18p\",\"chr18p\",\"chr18p\",\"chr18p\",\"chr18p\",\"chr18p\"],\"x0\":\" \",\"xaxis\":\"x\",\"y\":[3602.5,1284.0,3058.0,4472.0,6343.0,1917.0,5915.5,2096.5,2399.0,5012.0,1721.0,4519.0,1864.0,4300.0,2008.5,1537.0,1905.0,2896.5,4676.0,5083.5],\"y0\":\" \",\"yaxis\":\"y\",\"type\":\"box\"},{\"alignmentgroup\":\"True\",\"hovertemplate\":\"chrom=%{x}<br>length=%{y}<extra></extra>\",\"legendgroup\":\"chr18q\",\"marker\":{\"color\":\"#19d3f3\"},\"name\":\"chr18q\",\"notched\":false,\"offsetgroup\":\"chr18q\",\"orientation\":\"v\",\"showlegend\":true,\"x\":[\"chr18q\",\"chr18q\",\"chr18q\",\"chr18q\",\"chr18q\",\"chr18q\",\"chr18q\",\"chr18q\",\"chr18q\",\"chr18q\",\"chr18q\",\"chr18q\",\"chr18q\",\"chr18q\",\"chr18q\",\"chr18q\",\"chr18q\",\"chr18q\",\"chr18q\",\"chr18q\"],\"x0\":\" \",\"xaxis\":\"x\",\"y\":[9386.5,10429.0,9349.0,11028.0,10338.0,12521.0,11176.5,11784.0,9916.0,9921.0,11421.0,8363.0,9933.0,9833.0,10313.0,9909.0,9120.0,10167.5,10057.0,10719.0],\"y0\":\" \",\"yaxis\":\"y\",\"type\":\"box\"},{\"alignmentgroup\":\"True\",\"hovertemplate\":\"chrom=%{x}<br>length=%{y}<extra></extra>\",\"legendgroup\":\"chr19p\",\"marker\":{\"color\":\"#FF6692\"},\"name\":\"chr19p\",\"notched\":false,\"offsetgroup\":\"chr19p\",\"orientation\":\"v\",\"showlegend\":true,\"x\":[\"chr19p\",\"chr19p\",\"chr19p\",\"chr19p\",\"chr19p\",\"chr19p\",\"chr19p\",\"chr19p\",\"chr19p\",\"chr19p\",\"chr19p\",\"chr19p\",\"chr19p\",\"chr19p\",\"chr19p\",\"chr19p\",\"chr19p\",\"chr19p\",\"chr19p\",\"chr19p\"],\"x0\":\" \",\"xaxis\":\"x\",\"y\":[4223.0,4461.0,5551.0,4094.0,6270.0,5854.0,5386.5,4979.0,4442.0,5934.5,5847.0,5595.0,6163.5,4262.0,7644.0,5378.0,4937.0,6116.0,5284.5,6158.0],\"y0\":\" \",\"yaxis\":\"y\",\"type\":\"box\"},{\"alignmentgroup\":\"True\",\"hovertemplate\":\"chrom=%{x}<br>length=%{y}<extra></extra>\",\"legendgroup\":\"chr19q\",\"marker\":{\"color\":\"#B6E880\"},\"name\":\"chr19q\",\"notched\":false,\"offsetgroup\":\"chr19q\",\"orientation\":\"v\",\"showlegend\":true,\"x\":[\"chr19q\",\"chr19q\",\"chr19q\",\"chr19q\",\"chr19q\",\"chr19q\",\"chr19q\",\"chr19q\",\"chr19q\",\"chr19q\",\"chr19q\",\"chr19q\",\"chr19q\",\"chr19q\",\"chr19q\",\"chr19q\",\"chr19q\",\"chr19q\",\"chr19q\",\"chr19q\"],\"x0\":\" \",\"xaxis\":\"x\",\"y\":[25759.0,29048.0,24528.0,31483.0,23097.0,19743.5,22393.0,22852.5,29574.0,23872.0,20354.0,24421.0,22530.5,25330.0,25020.0,27651.0,27740.0,26660.5,25605.0,25227.5],\"y0\":\" \",\"yaxis\":\"y\",\"type\":\"box\"},{\"alignmentgroup\":\"True\",\"hovertemplate\":\"chrom=%{x}<br>length=%{y}<extra></extra>\",\"legendgroup\":\"chr20p\",\"marker\":{\"color\":\"#FF97FF\"},\"name\":\"chr20p\",\"notched\":false,\"offsetgroup\":\"chr20p\",\"orientation\":\"v\",\"showlegend\":true,\"x\":[\"chr20p\",\"chr20p\",\"chr20p\",\"chr20p\",\"chr20p\",\"chr20p\",\"chr20p\",\"chr20p\",\"chr20p\",\"chr20p\",\"chr20p\",\"chr20p\",\"chr20p\",\"chr20p\",\"chr20p\",\"chr20p\",\"chr20p\",\"chr20p\",\"chr20p\",\"chr20p\"],\"x0\":\" \",\"xaxis\":\"x\",\"y\":[6437.5,6401.0,7399.5,5176.5,5500.5,4740.5,4749.0,4861.0,6431.0,7119.0,5076.0,5006.5,4439.0,5421.5,5499.5,6235.0,4788.0,5174.0,6251.0,5415.0],\"y0\":\" \",\"yaxis\":\"y\",\"type\":\"box\"},{\"alignmentgroup\":\"True\",\"hovertemplate\":\"chrom=%{x}<br>length=%{y}<extra></extra>\",\"legendgroup\":\"chr20q\",\"marker\":{\"color\":\"#FECB52\"},\"name\":\"chr20q\",\"notched\":false,\"offsetgroup\":\"chr20q\",\"orientation\":\"v\",\"showlegend\":true,\"x\":[\"chr20q\",\"chr20q\",\"chr20q\",\"chr20q\",\"chr20q\",\"chr20q\",\"chr20q\",\"chr20q\",\"chr20q\",\"chr20q\",\"chr20q\",\"chr20q\",\"chr20q\",\"chr20q\",\"chr20q\",\"chr20q\",\"chr20q\",\"chr20q\",\"chr20q\",\"chr20q\"],\"x0\":\" \",\"xaxis\":\"x\",\"y\":[4169.0,5927.5,5452.5,6304.5,4717.0,4196.0,5504.0,6136.0,4997.0,5374.0,4726.0,4841.0,7768.0,5955.5,4574.0,5250.0,7134.0,5342.0,4596.0,5524.0],\"y0\":\" \",\"yaxis\":\"y\",\"type\":\"box\"},{\"alignmentgroup\":\"True\",\"hovertemplate\":\"chrom=%{x}<br>length=%{y}<extra></extra>\",\"legendgroup\":\"chr21p\",\"marker\":{\"color\":\"#636efa\"},\"name\":\"chr21p\",\"notched\":false,\"offsetgroup\":\"chr21p\",\"orientation\":\"v\",\"showlegend\":true,\"x\":[\"chr21p\",\"chr21p\",\"chr21p\",\"chr21p\",\"chr21p\",\"chr21p\",\"chr21p\",\"chr21p\",\"chr21p\",\"chr21p\",\"chr21p\",\"chr21p\",\"chr21p\",\"chr21p\",\"chr21p\",\"chr21p\",\"chr21p\",\"chr21p\",\"chr21p\",\"chr21p\"],\"x0\":\" \",\"xaxis\":\"x\",\"y\":[7402.5,7142.0,6298.0,9211.0,8710.0,8117.0,8963.0,6504.5,7693.0,8025.5,6800.0,8548.0,5632.5,6924.0,8428.0,8807.0,11188.0,7623.5,7941.0,9366.0],\"y0\":\" \",\"yaxis\":\"y\",\"type\":\"box\"},{\"alignmentgroup\":\"True\",\"hovertemplate\":\"chrom=%{x}<br>length=%{y}<extra></extra>\",\"legendgroup\":\"chr21q\",\"marker\":{\"color\":\"#EF553B\"},\"name\":\"chr21q\",\"notched\":false,\"offsetgroup\":\"chr21q\",\"orientation\":\"v\",\"showlegend\":true,\"x\":[\"chr21q\",\"chr21q\",\"chr21q\",\"chr21q\",\"chr21q\",\"chr21q\",\"chr21q\",\"chr21q\",\"chr21q\",\"chr21q\",\"chr21q\",\"chr21q\",\"chr21q\",\"chr21q\",\"chr21q\",\"chr21q\",\"chr21q\",\"chr21q\",\"chr21q\",\"chr21q\"],\"x0\":\" \",\"xaxis\":\"x\",\"y\":[17246.0,22016.0,11141.0,23309.0,22939.5,21246.5,24409.0,24367.0,21205.5,11115.0,22704.0,21339.0,21327.0,24022.0,19555.0,20548.0,21242.0,22330.0,21690.0,20856.0],\"y0\":\" \",\"yaxis\":\"y\",\"type\":\"box\"},{\"alignmentgroup\":\"True\",\"hovertemplate\":\"chrom=%{x}<br>length=%{y}<extra></extra>\",\"legendgroup\":\"chr22p\",\"marker\":{\"color\":\"#00cc96\"},\"name\":\"chr22p\",\"notched\":false,\"offsetgroup\":\"chr22p\",\"orientation\":\"v\",\"showlegend\":true,\"x\":[\"chr22p\",\"chr22p\",\"chr22p\",\"chr22p\",\"chr22p\",\"chr22p\",\"chr22p\",\"chr22p\",\"chr22p\",\"chr22p\",\"chr22p\",\"chr22p\",\"chr22p\",\"chr22p\",\"chr22p\",\"chr22p\",\"chr22p\",\"chr22p\",\"chr22p\",\"chr22p\"],\"x0\":\" \",\"xaxis\":\"x\",\"y\":[19362.0,13594.5,21118.5,20194.0,8709.5,17932.5,7821.5,21714.5,16078.5,6915.0,19653.0,20194.0,23837.5,20013.0,20940.5,22748.0,22899.0,19257.0,19847.0,22882.5],\"y0\":\" \",\"yaxis\":\"y\",\"type\":\"box\"},{\"alignmentgroup\":\"True\",\"hovertemplate\":\"chrom=%{x}<br>length=%{y}<extra></extra>\",\"legendgroup\":\"chr22q\",\"marker\":{\"color\":\"#ab63fa\"},\"name\":\"chr22q\",\"notched\":false,\"offsetgroup\":\"chr22q\",\"orientation\":\"v\",\"showlegend\":true,\"x\":[\"chr22q\",\"chr22q\",\"chr22q\",\"chr22q\",\"chr22q\",\"chr22q\",\"chr22q\",\"chr22q\",\"chr22q\",\"chr22q\",\"chr22q\",\"chr22q\",\"chr22q\",\"chr22q\",\"chr22q\",\"chr22q\",\"chr22q\",\"chr22q\",\"chr22q\",\"chr22q\"],\"x0\":\" \",\"xaxis\":\"x\",\"y\":[8824.0,7369.5,21532.0,23923.5,13135.5,10196.0,23025.0,20764.0,27326.0,8346.5,7031.0,18760.0,23858.0,8739.0,20849.0,20581.0,16527.0,21635.0,7796.0,10909.0],\"y0\":\" \",\"yaxis\":\"y\",\"type\":\"box\"},{\"alignmentgroup\":\"True\",\"hovertemplate\":\"chrom=%{x}<br>length=%{y}<extra></extra>\",\"legendgroup\":\"chrXp\",\"marker\":{\"color\":\"#FFA15A\"},\"name\":\"chrXp\",\"notched\":false,\"offsetgroup\":\"chrXp\",\"orientation\":\"v\",\"showlegend\":true,\"x\":[\"chrXp\",\"chrXp\",\"chrXp\",\"chrXp\",\"chrXp\",\"chrXp\",\"chrXp\",\"chrXp\",\"chrXp\",\"chrXp\",\"chrXp\",\"chrXp\",\"chrXp\",\"chrXp\",\"chrXp\",\"chrXp\",\"chrXp\",\"chrXp\",\"chrXp\",\"chrXp\"],\"x0\":\" \",\"xaxis\":\"x\",\"y\":[6455.5,5927.0,16246.5,8607.0,11329.0,9901.0,8081.0,10517.5,8304.0,10471.0,6943.0,11945.0,12633.0,10806.0,11922.0,11104.0,7310.0,12542.0,13204.0,11026.0],\"y0\":\" \",\"yaxis\":\"y\",\"type\":\"box\"},{\"alignmentgroup\":\"True\",\"hovertemplate\":\"chrom=%{x}<br>length=%{y}<extra></extra>\",\"legendgroup\":\"chrXq\",\"marker\":{\"color\":\"#19d3f3\"},\"name\":\"chrXq\",\"notched\":false,\"offsetgroup\":\"chrXq\",\"orientation\":\"v\",\"showlegend\":true,\"x\":[\"chrXq\",\"chrXq\",\"chrXq\",\"chrXq\",\"chrXq\",\"chrXq\",\"chrXq\",\"chrXq\",\"chrXq\",\"chrXq\",\"chrXq\",\"chrXq\",\"chrXq\",\"chrXq\",\"chrXq\",\"chrXq\",\"chrXq\",\"chrXq\",\"chrXq\",\"chrXq\"],\"x0\":\" \",\"xaxis\":\"x\",\"y\":[4859.5,4835.0,4133.0,6576.5,5552.0,6862.0,5023.0,8331.0,5032.5,5416.5,4502.0,5587.5,5644.0,7250.5,6031.0,5086.0,5851.0,4510.0,5289.0,4952.0],\"y0\":\" \",\"yaxis\":\"y\",\"type\":\"box\"},{\"alignmentgroup\":\"True\",\"hovertemplate\":\"chrom=%{x}<br>length=%{y}<extra></extra>\",\"legendgroup\":\"chrYp\",\"marker\":{\"color\":\"#FF6692\"},\"name\":\"chrYp\",\"notched\":false,\"offsetgroup\":\"chrYp\",\"orientation\":\"v\",\"showlegend\":true,\"x\":[\"chrYp\",\"chrYp\",\"chrYp\",\"chrYp\",\"chrYp\",\"chrYp\",\"chrYp\",\"chrYp\",\"chrYp\",\"chrYp\",\"chrYp\",\"chrYp\",\"chrYp\",\"chrYp\",\"chrYp\",\"chrYp\",\"chrYp\",\"chrYp\",\"chrYp\",\"chrYp\"],\"x0\":\" \",\"xaxis\":\"x\",\"y\":[11571.0,12518.5,12805.0,14383.0,9476.5,10956.5,11214.5,13705.0,10938.5,11917.5,10411.5,13299.5,9892.0,10509.5,9999.0,10685.5,10941.0,14944.0,12363.0,9323.0],\"y0\":\" \",\"yaxis\":\"y\",\"type\":\"box\"},{\"alignmentgroup\":\"True\",\"hovertemplate\":\"chrom=%{x}<br>length=%{y}<extra></extra>\",\"legendgroup\":\"chrYq\",\"marker\":{\"color\":\"#B6E880\"},\"name\":\"chrYq\",\"notched\":false,\"offsetgroup\":\"chrYq\",\"orientation\":\"v\",\"showlegend\":true,\"x\":[\"chrYq\",\"chrYq\",\"chrYq\",\"chrYq\",\"chrYq\",\"chrYq\",\"chrYq\",\"chrYq\",\"chrYq\",\"chrYq\",\"chrYq\",\"chrYq\",\"chrYq\",\"chrYq\",\"chrYq\",\"chrYq\",\"chrYq\",\"chrYq\",\"chrYq\",\"chrYq\"],\"x0\":\" \",\"xaxis\":\"x\",\"y\":[4224.0,5171.0,9648.0,4979.5,4447.5,5056.0,6893.0,6909.0,7269.0,6262.0,5224.0,5593.0,4340.0,5751.0,6460.5,4849.0,8224.5,4481.0,4819.0,93.0],\"y0\":\" \",\"yaxis\":\"y\",\"type\":\"box\"}],                        {\"template\":{\"data\":{\"bar\":[{\"error_x\":{\"color\":\"#2a3f5f\"},\"error_y\":{\"color\":\"#2a3f5f\"},\"marker\":{\"line\":{\"color\":\"#E5ECF6\",\"width\":0.5},\"pattern\":{\"fillmode\":\"overlay\",\"size\":10,\"solidity\":0.2}},\"type\":\"bar\"}],\"barpolar\":[{\"marker\":{\"line\":{\"color\":\"#E5ECF6\",\"width\":0.5},\"pattern\":{\"fillmode\":\"overlay\",\"size\":10,\"solidity\":0.2}},\"type\":\"barpolar\"}],\"carpet\":[{\"aaxis\":{\"endlinecolor\":\"#2a3f5f\",\"gridcolor\":\"white\",\"linecolor\":\"white\",\"minorgridcolor\":\"white\",\"startlinecolor\":\"#2a3f5f\"},\"baxis\":{\"endlinecolor\":\"#2a3f5f\",\"gridcolor\":\"white\",\"linecolor\":\"white\",\"minorgridcolor\":\"white\",\"startlinecolor\":\"#2a3f5f\"},\"type\":\"carpet\"}],\"choropleth\":[{\"colorbar\":{\"outlinewidth\":0,\"ticks\":\"\"},\"type\":\"choropleth\"}],\"contour\":[{\"colorbar\":{\"outlinewidth\":0,\"ticks\":\"\"},\"colorscale\":[[0.0,\"#0d0887\"],[0.1111111111111111,\"#46039f\"],[0.2222222222222222,\"#7201a8\"],[0.3333333333333333,\"#9c179e\"],[0.4444444444444444,\"#bd3786\"],[0.5555555555555556,\"#d8576b\"],[0.6666666666666666,\"#ed7953\"],[0.7777777777777778,\"#fb9f3a\"],[0.8888888888888888,\"#fdca26\"],[1.0,\"#f0f921\"]],\"type\":\"contour\"}],\"contourcarpet\":[{\"colorbar\":{\"outlinewidth\":0,\"ticks\":\"\"},\"type\":\"contourcarpet\"}],\"heatmap\":[{\"colorbar\":{\"outlinewidth\":0,\"ticks\":\"\"},\"colorscale\":[[0.0,\"#0d0887\"],[0.1111111111111111,\"#46039f\"],[0.2222222222222222,\"#7201a8\"],[0.3333333333333333,\"#9c179e\"],[0.4444444444444444,\"#bd3786\"],[0.5555555555555556,\"#d8576b\"],[0.6666666666666666,\"#ed7953\"],[0.7777777777777778,\"#fb9f3a\"],[0.8888888888888888,\"#fdca26\"],[1.0,\"#f0f921\"]],\"type\":\"heatmap\"}],\"heatmapgl\":[{\"colorbar\":{\"outlinewidth\":0,\"ticks\":\"\"},\"colorscale\":[[0.0,\"#0d0887\"],[0.1111111111111111,\"#46039f\"],[0.2222222222222222,\"#7201a8\"],[0.3333333333333333,\"#9c179e\"],[0.4444444444444444,\"#bd3786\"],[0.5555555555555556,\"#d8576b\"],[0.6666666666666666,\"#ed7953\"],[0.7777777777777778,\"#fb9f3a\"],[0.8888888888888888,\"#fdca26\"],[1.0,\"#f0f921\"]],\"type\":\"heatmapgl\"}],\"histogram\":[{\"marker\":{\"pattern\":{\"fillmode\":\"overlay\",\"size\":10,\"solidity\":0.2}},\"type\":\"histogram\"}],\"histogram2d\":[{\"colorbar\":{\"outlinewidth\":0,\"ticks\":\"\"},\"colorscale\":[[0.0,\"#0d0887\"],[0.1111111111111111,\"#46039f\"],[0.2222222222222222,\"#7201a8\"],[0.3333333333333333,\"#9c179e\"],[0.4444444444444444,\"#bd3786\"],[0.5555555555555556,\"#d8576b\"],[0.6666666666666666,\"#ed7953\"],[0.7777777777777778,\"#fb9f3a\"],[0.8888888888888888,\"#fdca26\"],[1.0,\"#f0f921\"]],\"type\":\"histogram2d\"}],\"histogram2dcontour\":[{\"colorbar\":{\"outlinewidth\":0,\"ticks\":\"\"},\"colorscale\":[[0.0,\"#0d0887\"],[0.1111111111111111,\"#46039f\"],[0.2222222222222222,\"#7201a8\"],[0.3333333333333333,\"#9c179e\"],[0.4444444444444444,\"#bd3786\"],[0.5555555555555556,\"#d8576b\"],[0.6666666666666666,\"#ed7953\"],[0.7777777777777778,\"#fb9f3a\"],[0.8888888888888888,\"#fdca26\"],[1.0,\"#f0f921\"]],\"type\":\"histogram2dcontour\"}],\"mesh3d\":[{\"colorbar\":{\"outlinewidth\":0,\"ticks\":\"\"},\"type\":\"mesh3d\"}],\"parcoords\":[{\"line\":{\"colorbar\":{\"outlinewidth\":0,\"ticks\":\"\"}},\"type\":\"parcoords\"}],\"pie\":[{\"automargin\":true,\"type\":\"pie\"}],\"scatter\":[{\"marker\":{\"colorbar\":{\"outlinewidth\":0,\"ticks\":\"\"}},\"type\":\"scatter\"}],\"scatter3d\":[{\"line\":{\"colorbar\":{\"outlinewidth\":0,\"ticks\":\"\"}},\"marker\":{\"colorbar\":{\"outlinewidth\":0,\"ticks\":\"\"}},\"type\":\"scatter3d\"}],\"scattercarpet\":[{\"marker\":{\"colorbar\":{\"outlinewidth\":0,\"ticks\":\"\"}},\"type\":\"scattercarpet\"}],\"scattergeo\":[{\"marker\":{\"colorbar\":{\"outlinewidth\":0,\"ticks\":\"\"}},\"type\":\"scattergeo\"}],\"scattergl\":[{\"marker\":{\"colorbar\":{\"outlinewidth\":0,\"ticks\":\"\"}},\"type\":\"scattergl\"}],\"scattermapbox\":[{\"marker\":{\"colorbar\":{\"outlinewidth\":0,\"ticks\":\"\"}},\"type\":\"scattermapbox\"}],\"scatterpolar\":[{\"marker\":{\"colorbar\":{\"outlinewidth\":0,\"ticks\":\"\"}},\"type\":\"scatterpolar\"}],\"scatterpolargl\":[{\"marker\":{\"colorbar\":{\"outlinewidth\":0,\"ticks\":\"\"}},\"type\":\"scatterpolargl\"}],\"scatterternary\":[{\"marker\":{\"colorbar\":{\"outlinewidth\":0,\"ticks\":\"\"}},\"type\":\"scatterternary\"}],\"surface\":[{\"colorbar\":{\"outlinewidth\":0,\"ticks\":\"\"},\"colorscale\":[[0.0,\"#0d0887\"],[0.1111111111111111,\"#46039f\"],[0.2222222222222222,\"#7201a8\"],[0.3333333333333333,\"#9c179e\"],[0.4444444444444444,\"#bd3786\"],[0.5555555555555556,\"#d8576b\"],[0.6666666666666666,\"#ed7953\"],[0.7777777777777778,\"#fb9f3a\"],[0.8888888888888888,\"#fdca26\"],[1.0,\"#f0f921\"]],\"type\":\"surface\"}],\"table\":[{\"cells\":{\"fill\":{\"color\":\"#EBF0F8\"},\"line\":{\"color\":\"white\"}},\"header\":{\"fill\":{\"color\":\"#C8D4E3\"},\"line\":{\"color\":\"white\"}},\"type\":\"table\"}]},\"layout\":{\"annotationdefaults\":{\"arrowcolor\":\"#2a3f5f\",\"arrowhead\":0,\"arrowwidth\":1},\"autotypenumbers\":\"strict\",\"coloraxis\":{\"colorbar\":{\"outlinewidth\":0,\"ticks\":\"\"}},\"colorscale\":{\"diverging\":[[0,\"#8e0152\"],[0.1,\"#c51b7d\"],[0.2,\"#de77ae\"],[0.3,\"#f1b6da\"],[0.4,\"#fde0ef\"],[0.5,\"#f7f7f7\"],[0.6,\"#e6f5d0\"],[0.7,\"#b8e186\"],[0.8,\"#7fbc41\"],[0.9,\"#4d9221\"],[1,\"#276419\"]],\"sequential\":[[0.0,\"#0d0887\"],[0.1111111111111111,\"#46039f\"],[0.2222222222222222,\"#7201a8\"],[0.3333333333333333,\"#9c179e\"],[0.4444444444444444,\"#bd3786\"],[0.5555555555555556,\"#d8576b\"],[0.6666666666666666,\"#ed7953\"],[0.7777777777777778,\"#fb9f3a\"],[0.8888888888888888,\"#fdca26\"],[1.0,\"#f0f921\"]],\"sequentialminus\":[[0.0,\"#0d0887\"],[0.1111111111111111,\"#46039f\"],[0.2222222222222222,\"#7201a8\"],[0.3333333333333333,\"#9c179e\"],[0.4444444444444444,\"#bd3786\"],[0.5555555555555556,\"#d8576b\"],[0.6666666666666666,\"#ed7953\"],[0.7777777777777778,\"#fb9f3a\"],[0.8888888888888888,\"#fdca26\"],[1.0,\"#f0f921\"]]},\"colorway\":[\"#636efa\",\"#EF553B\",\"#00cc96\",\"#ab63fa\",\"#FFA15A\",\"#19d3f3\",\"#FF6692\",\"#B6E880\",\"#FF97FF\",\"#FECB52\"],\"font\":{\"color\":\"#2a3f5f\"},\"geo\":{\"bgcolor\":\"white\",\"lakecolor\":\"white\",\"landcolor\":\"#E5ECF6\",\"showlakes\":true,\"showland\":true,\"subunitcolor\":\"white\"},\"hoverlabel\":{\"align\":\"left\"},\"hovermode\":\"closest\",\"mapbox\":{\"style\":\"light\"},\"paper_bgcolor\":\"white\",\"plot_bgcolor\":\"#E5ECF6\",\"polar\":{\"angularaxis\":{\"gridcolor\":\"white\",\"linecolor\":\"white\",\"ticks\":\"\"},\"bgcolor\":\"#E5ECF6\",\"radialaxis\":{\"gridcolor\":\"white\",\"linecolor\":\"white\",\"ticks\":\"\"}},\"scene\":{\"xaxis\":{\"backgroundcolor\":\"#E5ECF6\",\"gridcolor\":\"white\",\"gridwidth\":2,\"linecolor\":\"white\",\"showbackground\":true,\"ticks\":\"\",\"zerolinecolor\":\"white\"},\"yaxis\":{\"backgroundcolor\":\"#E5ECF6\",\"gridcolor\":\"white\",\"gridwidth\":2,\"linecolor\":\"white\",\"showbackground\":true,\"ticks\":\"\",\"zerolinecolor\":\"white\"},\"zaxis\":{\"backgroundcolor\":\"#E5ECF6\",\"gridcolor\":\"white\",\"gridwidth\":2,\"linecolor\":\"white\",\"showbackground\":true,\"ticks\":\"\",\"zerolinecolor\":\"white\"}},\"shapedefaults\":{\"line\":{\"color\":\"#2a3f5f\"}},\"ternary\":{\"aaxis\":{\"gridcolor\":\"white\",\"linecolor\":\"white\",\"ticks\":\"\"},\"baxis\":{\"gridcolor\":\"white\",\"linecolor\":\"white\",\"ticks\":\"\"},\"bgcolor\":\"#E5ECF6\",\"caxis\":{\"gridcolor\":\"white\",\"linecolor\":\"white\",\"ticks\":\"\"}},\"title\":{\"x\":0.05},\"xaxis\":{\"automargin\":true,\"gridcolor\":\"white\",\"linecolor\":\"white\",\"ticks\":\"\",\"title\":{\"standoff\":15},\"zerolinecolor\":\"white\",\"zerolinewidth\":2},\"yaxis\":{\"automargin\":true,\"gridcolor\":\"white\",\"linecolor\":\"white\",\"ticks\":\"\",\"title\":{\"standoff\":15},\"zerolinecolor\":\"white\",\"zerolinewidth\":2}}},\"xaxis\":{\"anchor\":\"y\",\"domain\":[0.0,1.0],\"title\":{\"text\":\"chrom\"},\"categoryorder\":\"array\",\"categoryarray\":[\"chr01p\",\"chr01q\",\"chr02p\",\"chr02q\",\"chr03p\",\"chr03q\",\"chr04p\",\"chr04q\",\"chr05p\",\"chr05q\",\"chr06p\",\"chr06q\",\"chr07p\",\"chr07q\",\"chr08p\",\"chr08q\",\"chr09p\",\"chr09q\",\"chr10p\",\"chr10q\",\"chr11p\",\"chr11q\",\"chr12p\",\"chr12q\",\"chr13p\",\"chr13q\",\"chr14p\",\"chr14q\",\"chr15p\",\"chr15q\",\"chr16p\",\"chr16q\",\"chr17p\",\"chr17q\",\"chr18p\",\"chr18q\",\"chr19p\",\"chr19q\",\"chr20p\",\"chr20q\",\"chr21p\",\"chr21q\",\"chr22p\",\"chr22q\",\"chrXp\",\"chrXq\",\"chrYp\",\"chrYq\"]},\"yaxis\":{\"anchor\":\"x\",\"domain\":[0.0,1.0],\"title\":{\"text\":\"length\"}},\"legend\":{\"title\":{\"text\":\"chrom\"},\"tracegroupgap\":0},\"title\":{\"text\":\"Telomere Length by Chromosome\"},\"boxmode\":\"overlay\"},                        {\"responsive\": true}                    ).then(function(){\n",
       "                            \n",
       "var gd = document.getElementById('6f140925-e3fd-4b74-bfc3-ce0eaec25ffe');\n",
       "var x = new MutationObserver(function (mutations, observer) {{\n",
       "        var display = window.getComputedStyle(gd).display;\n",
       "        if (!display || display === 'none') {{\n",
       "            console.log([gd, 'removed!']);\n",
       "            Plotly.purge(gd);\n",
       "            observer.disconnect();\n",
       "        }}\n",
       "}});\n",
       "\n",
       "// Listen for the removal of the full notebook cells\n",
       "var notebookContainer = gd.closest('#notebook-container');\n",
       "if (notebookContainer) {{\n",
       "    x.observe(notebookContainer, {childList: true});\n",
       "}}\n",
       "\n",
       "// Listen for the clearing of the current output cell\n",
       "var outputEl = gd.closest('.output');\n",
       "if (outputEl) {{\n",
       "    x.observe(outputEl, {childList: true});\n",
       "}}\n",
       "\n",
       "                        })                };                });            </script>        </div>"
      ]
     },
     "metadata": {},
     "output_type": "display_data"
    }
   ],
   "source": [
    "\n",
    "\n",
    "fig = px.box(masterdf.sort_values('chrom'), x='chrom', y='length',color ='chrom', title = 'Telomere Length by Chromosome')\n",
    "fig.show()"
   ]
  },
  {
   "cell_type": "code",
   "execution_count": 70,
   "id": "f9f54683",
   "metadata": {},
   "outputs": [
    {
     "data": {
      "application/vnd.plotly.v1+json": {
       "config": {
        "plotlyServerURL": "https://plot.ly"
       },
       "data": [
        {
         "alignmentgroup": "True",
         "hovertemplate": "chrom=%{x}<br>Qual=%{y}<extra></extra>",
         "legendgroup": "chr01p",
         "marker": {
          "color": "#636efa"
         },
         "name": "chr01p",
         "notched": false,
         "offsetgroup": "chr01p",
         "orientation": "v",
         "showlegend": true,
         "type": "box",
         "x": [
          "chr01p",
          "chr01p",
          "chr01p",
          "chr01p",
          "chr01p",
          "chr01p",
          "chr01p",
          "chr01p",
          "chr01p",
          "chr01p",
          "chr01p",
          "chr01p",
          "chr01p",
          "chr01p",
          "chr01p",
          "chr01p",
          "chr01p",
          "chr01p",
          "chr01p",
          "chr01p"
         ],
         "x0": " ",
         "xaxis": "x",
         "y": [
          20,
          12,
          12,
          44.5,
          7,
          30,
          7,
          15,
          9,
          2,
          19,
          21,
          16,
          14,
          1,
          10,
          13.5,
          7,
          1,
          7
         ],
         "y0": " ",
         "yaxis": "y"
        },
        {
         "alignmentgroup": "True",
         "hovertemplate": "chrom=%{x}<br>Qual=%{y}<extra></extra>",
         "legendgroup": "chr01q",
         "marker": {
          "color": "#EF553B"
         },
         "name": "chr01q",
         "notched": false,
         "offsetgroup": "chr01q",
         "orientation": "v",
         "showlegend": true,
         "type": "box",
         "x": [
          "chr01q",
          "chr01q",
          "chr01q",
          "chr01q",
          "chr01q",
          "chr01q",
          "chr01q",
          "chr01q",
          "chr01q",
          "chr01q",
          "chr01q",
          "chr01q",
          "chr01q",
          "chr01q",
          "chr01q",
          "chr01q",
          "chr01q",
          "chr01q",
          "chr01q",
          "chr01q"
         ],
         "x0": " ",
         "xaxis": "x",
         "y": [
          60,
          60,
          60,
          60,
          60,
          60,
          60,
          60,
          60,
          60,
          60,
          60,
          60,
          60,
          60,
          60,
          60,
          60,
          60,
          60
         ],
         "y0": " ",
         "yaxis": "y"
        },
        {
         "alignmentgroup": "True",
         "hovertemplate": "chrom=%{x}<br>Qual=%{y}<extra></extra>",
         "legendgroup": "chr02p",
         "marker": {
          "color": "#00cc96"
         },
         "name": "chr02p",
         "notched": false,
         "offsetgroup": "chr02p",
         "orientation": "v",
         "showlegend": true,
         "type": "box",
         "x": [
          "chr02p",
          "chr02p",
          "chr02p",
          "chr02p",
          "chr02p",
          "chr02p",
          "chr02p",
          "chr02p",
          "chr02p",
          "chr02p",
          "chr02p",
          "chr02p",
          "chr02p",
          "chr02p",
          "chr02p",
          "chr02p",
          "chr02p",
          "chr02p",
          "chr02p",
          "chr02p"
         ],
         "x0": " ",
         "xaxis": "x",
         "y": [
          60,
          60,
          60,
          60,
          60,
          60,
          60,
          60,
          60,
          60,
          60,
          60,
          60,
          60,
          60,
          60,
          60,
          60,
          60,
          60
         ],
         "y0": " ",
         "yaxis": "y"
        },
        {
         "alignmentgroup": "True",
         "hovertemplate": "chrom=%{x}<br>Qual=%{y}<extra></extra>",
         "legendgroup": "chr02q",
         "marker": {
          "color": "#ab63fa"
         },
         "name": "chr02q",
         "notched": false,
         "offsetgroup": "chr02q",
         "orientation": "v",
         "showlegend": true,
         "type": "box",
         "x": [
          "chr02q",
          "chr02q",
          "chr02q",
          "chr02q",
          "chr02q",
          "chr02q",
          "chr02q",
          "chr02q",
          "chr02q",
          "chr02q",
          "chr02q",
          "chr02q",
          "chr02q",
          "chr02q",
          "chr02q",
          "chr02q",
          "chr02q",
          "chr02q",
          "chr02q",
          "chr02q"
         ],
         "x0": " ",
         "xaxis": "x",
         "y": [
          49,
          44.5,
          44,
          42,
          42,
          37,
          37,
          47.5,
          54,
          33,
          44,
          28,
          39,
          24.5,
          60,
          25.5,
          30,
          42.5,
          7,
          60
         ],
         "y0": " ",
         "yaxis": "y"
        },
        {
         "alignmentgroup": "True",
         "hovertemplate": "chrom=%{x}<br>Qual=%{y}<extra></extra>",
         "legendgroup": "chr03p",
         "marker": {
          "color": "#FFA15A"
         },
         "name": "chr03p",
         "notched": false,
         "offsetgroup": "chr03p",
         "orientation": "v",
         "showlegend": true,
         "type": "box",
         "x": [
          "chr03p",
          "chr03p",
          "chr03p",
          "chr03p",
          "chr03p",
          "chr03p",
          "chr03p",
          "chr03p",
          "chr03p",
          "chr03p",
          "chr03p",
          "chr03p",
          "chr03p",
          "chr03p",
          "chr03p",
          "chr03p",
          "chr03p",
          "chr03p",
          "chr03p",
          "chr03p"
         ],
         "x0": " ",
         "xaxis": "x",
         "y": [
          60,
          60,
          60,
          60,
          60,
          60,
          60,
          60,
          60,
          60,
          60,
          60,
          60,
          60,
          60,
          60,
          60,
          60,
          60,
          60
         ],
         "y0": " ",
         "yaxis": "y"
        },
        {
         "alignmentgroup": "True",
         "hovertemplate": "chrom=%{x}<br>Qual=%{y}<extra></extra>",
         "legendgroup": "chr03q",
         "marker": {
          "color": "#19d3f3"
         },
         "name": "chr03q",
         "notched": false,
         "offsetgroup": "chr03q",
         "orientation": "v",
         "showlegend": true,
         "type": "box",
         "x": [
          "chr03q",
          "chr03q",
          "chr03q",
          "chr03q",
          "chr03q",
          "chr03q",
          "chr03q",
          "chr03q",
          "chr03q",
          "chr03q",
          "chr03q",
          "chr03q",
          "chr03q",
          "chr03q",
          "chr03q",
          "chr03q",
          "chr03q",
          "chr03q",
          "chr03q",
          "chr03q"
         ],
         "x0": " ",
         "xaxis": "x",
         "y": [
          24,
          17,
          22,
          7,
          14,
          1,
          14.5,
          24,
          1,
          20,
          2,
          2,
          1,
          13,
          18,
          14,
          18,
          1,
          1,
          1
         ],
         "y0": " ",
         "yaxis": "y"
        },
        {
         "alignmentgroup": "True",
         "hovertemplate": "chrom=%{x}<br>Qual=%{y}<extra></extra>",
         "legendgroup": "chr04p",
         "marker": {
          "color": "#FF6692"
         },
         "name": "chr04p",
         "notched": false,
         "offsetgroup": "chr04p",
         "orientation": "v",
         "showlegend": true,
         "type": "box",
         "x": [
          "chr04p",
          "chr04p",
          "chr04p",
          "chr04p",
          "chr04p",
          "chr04p",
          "chr04p",
          "chr04p",
          "chr04p",
          "chr04p",
          "chr04p",
          "chr04p",
          "chr04p",
          "chr04p",
          "chr04p",
          "chr04p",
          "chr04p",
          "chr04p",
          "chr04p",
          "chr04p"
         ],
         "x0": " ",
         "xaxis": "x",
         "y": [
          9,
          1,
          1,
          1,
          1,
          1,
          1,
          1,
          1,
          1,
          3.5,
          1,
          1,
          1,
          4,
          1,
          1,
          3,
          1,
          1
         ],
         "y0": " ",
         "yaxis": "y"
        },
        {
         "alignmentgroup": "True",
         "hovertemplate": "chrom=%{x}<br>Qual=%{y}<extra></extra>",
         "legendgroup": "chr04q",
         "marker": {
          "color": "#B6E880"
         },
         "name": "chr04q",
         "notched": false,
         "offsetgroup": "chr04q",
         "orientation": "v",
         "showlegend": true,
         "type": "box",
         "x": [
          "chr04q",
          "chr04q",
          "chr04q",
          "chr04q",
          "chr04q",
          "chr04q",
          "chr04q",
          "chr04q",
          "chr04q",
          "chr04q",
          "chr04q",
          "chr04q",
          "chr04q",
          "chr04q",
          "chr04q",
          "chr04q",
          "chr04q",
          "chr04q",
          "chr04q",
          "chr04q"
         ],
         "x0": " ",
         "xaxis": "x",
         "y": [
          60,
          1,
          60,
          60,
          60,
          60,
          60,
          60,
          1,
          60,
          1,
          60,
          60,
          60,
          60,
          60,
          4,
          60,
          60,
          10
         ],
         "y0": " ",
         "yaxis": "y"
        },
        {
         "alignmentgroup": "True",
         "hovertemplate": "chrom=%{x}<br>Qual=%{y}<extra></extra>",
         "legendgroup": "chr05p",
         "marker": {
          "color": "#FF97FF"
         },
         "name": "chr05p",
         "notched": false,
         "offsetgroup": "chr05p",
         "orientation": "v",
         "showlegend": true,
         "type": "box",
         "x": [
          "chr05p",
          "chr05p",
          "chr05p",
          "chr05p",
          "chr05p",
          "chr05p",
          "chr05p",
          "chr05p",
          "chr05p",
          "chr05p",
          "chr05p",
          "chr05p",
          "chr05p",
          "chr05p",
          "chr05p",
          "chr05p",
          "chr05p",
          "chr05p",
          "chr05p",
          "chr05p"
         ],
         "x0": " ",
         "xaxis": "x",
         "y": [
          60,
          60,
          60,
          60,
          60,
          60,
          60,
          60,
          60,
          60,
          60,
          60,
          60,
          60,
          60,
          60,
          60,
          60,
          60,
          60
         ],
         "y0": " ",
         "yaxis": "y"
        },
        {
         "alignmentgroup": "True",
         "hovertemplate": "chrom=%{x}<br>Qual=%{y}<extra></extra>",
         "legendgroup": "chr05q",
         "marker": {
          "color": "#FECB52"
         },
         "name": "chr05q",
         "notched": false,
         "offsetgroup": "chr05q",
         "orientation": "v",
         "showlegend": true,
         "type": "box",
         "x": [
          "chr05q",
          "chr05q",
          "chr05q",
          "chr05q",
          "chr05q",
          "chr05q",
          "chr05q",
          "chr05q",
          "chr05q",
          "chr05q",
          "chr05q",
          "chr05q",
          "chr05q",
          "chr05q",
          "chr05q",
          "chr05q",
          "chr05q",
          "chr05q",
          "chr05q",
          "chr05q"
         ],
         "x0": " ",
         "xaxis": "x",
         "y": [
          60,
          60,
          60,
          60,
          60,
          14,
          60,
          60,
          37,
          60,
          60,
          60,
          60,
          60,
          60,
          60,
          14,
          60,
          60,
          60
         ],
         "y0": " ",
         "yaxis": "y"
        },
        {
         "alignmentgroup": "True",
         "hovertemplate": "chrom=%{x}<br>Qual=%{y}<extra></extra>",
         "legendgroup": "chr06p",
         "marker": {
          "color": "#636efa"
         },
         "name": "chr06p",
         "notched": false,
         "offsetgroup": "chr06p",
         "orientation": "v",
         "showlegend": true,
         "type": "box",
         "x": [
          "chr06p",
          "chr06p",
          "chr06p",
          "chr06p",
          "chr06p",
          "chr06p",
          "chr06p"
         ],
         "x0": " ",
         "xaxis": "x",
         "y": [
          60,
          60,
          60,
          60,
          60,
          60,
          60
         ],
         "y0": " ",
         "yaxis": "y"
        },
        {
         "alignmentgroup": "True",
         "hovertemplate": "chrom=%{x}<br>Qual=%{y}<extra></extra>",
         "legendgroup": "chr06q",
         "marker": {
          "color": "#EF553B"
         },
         "name": "chr06q",
         "notched": false,
         "offsetgroup": "chr06q",
         "orientation": "v",
         "showlegend": true,
         "type": "box",
         "x": [
          "chr06q",
          "chr06q",
          "chr06q",
          "chr06q",
          "chr06q",
          "chr06q",
          "chr06q",
          "chr06q",
          "chr06q",
          "chr06q",
          "chr06q",
          "chr06q",
          "chr06q",
          "chr06q",
          "chr06q",
          "chr06q",
          "chr06q",
          "chr06q",
          "chr06q",
          "chr06q"
         ],
         "x0": " ",
         "xaxis": "x",
         "y": [
          60,
          60,
          60,
          60,
          37,
          43,
          60,
          60,
          60,
          59,
          48,
          18,
          60,
          44.5,
          52.5,
          55.5,
          26.5,
          60,
          50,
          60
         ],
         "y0": " ",
         "yaxis": "y"
        },
        {
         "alignmentgroup": "True",
         "hovertemplate": "chrom=%{x}<br>Qual=%{y}<extra></extra>",
         "legendgroup": "chr07p",
         "marker": {
          "color": "#00cc96"
         },
         "name": "chr07p",
         "notched": false,
         "offsetgroup": "chr07p",
         "orientation": "v",
         "showlegend": true,
         "type": "box",
         "x": [
          "chr07p",
          "chr07p",
          "chr07p",
          "chr07p",
          "chr07p",
          "chr07p",
          "chr07p",
          "chr07p",
          "chr07p",
          "chr07p",
          "chr07p",
          "chr07p",
          "chr07p",
          "chr07p",
          "chr07p",
          "chr07p",
          "chr07p",
          "chr07p",
          "chr07p",
          "chr07p"
         ],
         "x0": " ",
         "xaxis": "x",
         "y": [
          4.5,
          34.5,
          39.5,
          43,
          46.5,
          37,
          22,
          36,
          43,
          12,
          28,
          32,
          43,
          16,
          56.5,
          34,
          29,
          9,
          40,
          8
         ],
         "y0": " ",
         "yaxis": "y"
        },
        {
         "alignmentgroup": "True",
         "hovertemplate": "chrom=%{x}<br>Qual=%{y}<extra></extra>",
         "legendgroup": "chr07q",
         "marker": {
          "color": "#ab63fa"
         },
         "name": "chr07q",
         "notched": false,
         "offsetgroup": "chr07q",
         "orientation": "v",
         "showlegend": true,
         "type": "box",
         "x": [
          "chr07q",
          "chr07q",
          "chr07q",
          "chr07q",
          "chr07q",
          "chr07q",
          "chr07q",
          "chr07q",
          "chr07q",
          "chr07q",
          "chr07q",
          "chr07q",
          "chr07q",
          "chr07q",
          "chr07q",
          "chr07q",
          "chr07q",
          "chr07q",
          "chr07q",
          "chr07q"
         ],
         "x0": " ",
         "xaxis": "x",
         "y": [
          60,
          60,
          60,
          60,
          60,
          60,
          60,
          60,
          60,
          60,
          60,
          60,
          60,
          60,
          60,
          60,
          60,
          60,
          60,
          60
         ],
         "y0": " ",
         "yaxis": "y"
        },
        {
         "alignmentgroup": "True",
         "hovertemplate": "chrom=%{x}<br>Qual=%{y}<extra></extra>",
         "legendgroup": "chr08p",
         "marker": {
          "color": "#FFA15A"
         },
         "name": "chr08p",
         "notched": false,
         "offsetgroup": "chr08p",
         "orientation": "v",
         "showlegend": true,
         "type": "box",
         "x": [
          "chr08p",
          "chr08p",
          "chr08p",
          "chr08p",
          "chr08p",
          "chr08p",
          "chr08p",
          "chr08p",
          "chr08p",
          "chr08p",
          "chr08p",
          "chr08p",
          "chr08p",
          "chr08p",
          "chr08p",
          "chr08p"
         ],
         "x0": " ",
         "xaxis": "x",
         "y": [
          60,
          60,
          60,
          60,
          60,
          60,
          60,
          60,
          60,
          60,
          60,
          60,
          60,
          60,
          60,
          60
         ],
         "y0": " ",
         "yaxis": "y"
        },
        {
         "alignmentgroup": "True",
         "hovertemplate": "chrom=%{x}<br>Qual=%{y}<extra></extra>",
         "legendgroup": "chr08q",
         "marker": {
          "color": "#19d3f3"
         },
         "name": "chr08q",
         "notched": false,
         "offsetgroup": "chr08q",
         "orientation": "v",
         "showlegend": true,
         "type": "box",
         "x": [
          "chr08q",
          "chr08q",
          "chr08q",
          "chr08q",
          "chr08q",
          "chr08q",
          "chr08q",
          "chr08q",
          "chr08q",
          "chr08q",
          "chr08q",
          "chr08q"
         ],
         "x0": " ",
         "xaxis": "x",
         "y": [
          60,
          60,
          60,
          60,
          60,
          60,
          60,
          60,
          60,
          60,
          60,
          60
         ],
         "y0": " ",
         "yaxis": "y"
        },
        {
         "alignmentgroup": "True",
         "hovertemplate": "chrom=%{x}<br>Qual=%{y}<extra></extra>",
         "legendgroup": "chr09p",
         "marker": {
          "color": "#FF6692"
         },
         "name": "chr09p",
         "notched": false,
         "offsetgroup": "chr09p",
         "orientation": "v",
         "showlegend": true,
         "type": "box",
         "x": [
          "chr09p",
          "chr09p",
          "chr09p",
          "chr09p",
          "chr09p",
          "chr09p",
          "chr09p",
          "chr09p",
          "chr09p",
          "chr09p",
          "chr09p",
          "chr09p",
          "chr09p",
          "chr09p",
          "chr09p",
          "chr09p",
          "chr09p",
          "chr09p",
          "chr09p",
          "chr09p"
         ],
         "x0": " ",
         "xaxis": "x",
         "y": [
          1,
          1,
          1,
          1,
          5.5,
          1,
          1,
          1,
          1,
          1,
          1,
          1,
          1,
          5,
          1,
          1,
          1,
          1,
          1,
          1
         ],
         "y0": " ",
         "yaxis": "y"
        },
        {
         "alignmentgroup": "True",
         "hovertemplate": "chrom=%{x}<br>Qual=%{y}<extra></extra>",
         "legendgroup": "chr09q",
         "marker": {
          "color": "#B6E880"
         },
         "name": "chr09q",
         "notched": false,
         "offsetgroup": "chr09q",
         "orientation": "v",
         "showlegend": true,
         "type": "box",
         "x": [
          "chr09q",
          "chr09q",
          "chr09q",
          "chr09q",
          "chr09q",
          "chr09q",
          "chr09q",
          "chr09q",
          "chr09q",
          "chr09q",
          "chr09q",
          "chr09q",
          "chr09q",
          "chr09q",
          "chr09q",
          "chr09q",
          "chr09q",
          "chr09q",
          "chr09q",
          "chr09q"
         ],
         "x0": " ",
         "xaxis": "x",
         "y": [
          58.5,
          1,
          60,
          60,
          56,
          5,
          57.5,
          4,
          55,
          6.5,
          46,
          51,
          16,
          1,
          60,
          60,
          58.5,
          60,
          60,
          1
         ],
         "y0": " ",
         "yaxis": "y"
        },
        {
         "alignmentgroup": "True",
         "hovertemplate": "chrom=%{x}<br>Qual=%{y}<extra></extra>",
         "legendgroup": "chr10p",
         "marker": {
          "color": "#FF97FF"
         },
         "name": "chr10p",
         "notched": false,
         "offsetgroup": "chr10p",
         "orientation": "v",
         "showlegend": true,
         "type": "box",
         "x": [
          "chr10p",
          "chr10p",
          "chr10p",
          "chr10p",
          "chr10p",
          "chr10p",
          "chr10p",
          "chr10p",
          "chr10p",
          "chr10p",
          "chr10p",
          "chr10p",
          "chr10p",
          "chr10p",
          "chr10p",
          "chr10p",
          "chr10p",
          "chr10p",
          "chr10p",
          "chr10p"
         ],
         "x0": " ",
         "xaxis": "x",
         "y": [
          52.5,
          36.5,
          15,
          50,
          50,
          41.5,
          39,
          34,
          39,
          2,
          42,
          15.5,
          51,
          45.5,
          47,
          32,
          48,
          40,
          19,
          19.5
         ],
         "y0": " ",
         "yaxis": "y"
        },
        {
         "alignmentgroup": "True",
         "hovertemplate": "chrom=%{x}<br>Qual=%{y}<extra></extra>",
         "legendgroup": "chr10q",
         "marker": {
          "color": "#FECB52"
         },
         "name": "chr10q",
         "notched": false,
         "offsetgroup": "chr10q",
         "orientation": "v",
         "showlegend": true,
         "type": "box",
         "x": [
          "chr10q",
          "chr10q",
          "chr10q",
          "chr10q",
          "chr10q",
          "chr10q",
          "chr10q",
          "chr10q",
          "chr10q",
          "chr10q",
          "chr10q",
          "chr10q",
          "chr10q",
          "chr10q",
          "chr10q",
          "chr10q",
          "chr10q",
          "chr10q",
          "chr10q",
          "chr10q"
         ],
         "x0": " ",
         "xaxis": "x",
         "y": [
          11,
          60,
          35,
          47,
          35,
          60,
          60,
          60,
          60,
          60,
          60,
          60,
          53.5,
          60,
          30,
          1,
          17.5,
          27.5,
          60,
          26
         ],
         "y0": " ",
         "yaxis": "y"
        },
        {
         "alignmentgroup": "True",
         "hovertemplate": "chrom=%{x}<br>Qual=%{y}<extra></extra>",
         "legendgroup": "chr11p",
         "marker": {
          "color": "#636efa"
         },
         "name": "chr11p",
         "notched": false,
         "offsetgroup": "chr11p",
         "orientation": "v",
         "showlegend": true,
         "type": "box",
         "x": [
          "chr11p",
          "chr11p",
          "chr11p",
          "chr11p",
          "chr11p",
          "chr11p",
          "chr11p",
          "chr11p",
          "chr11p",
          "chr11p",
          "chr11p",
          "chr11p",
          "chr11p",
          "chr11p",
          "chr11p",
          "chr11p",
          "chr11p",
          "chr11p",
          "chr11p",
          "chr11p"
         ],
         "x0": " ",
         "xaxis": "x",
         "y": [
          21,
          15,
          26,
          19,
          25,
          29,
          21,
          24,
          26,
          23,
          25,
          31,
          29.5,
          25,
          22,
          16,
          1,
          21,
          28,
          30
         ],
         "y0": " ",
         "yaxis": "y"
        },
        {
         "alignmentgroup": "True",
         "hovertemplate": "chrom=%{x}<br>Qual=%{y}<extra></extra>",
         "legendgroup": "chr11q",
         "marker": {
          "color": "#EF553B"
         },
         "name": "chr11q",
         "notched": false,
         "offsetgroup": "chr11q",
         "orientation": "v",
         "showlegend": true,
         "type": "box",
         "x": [
          "chr11q",
          "chr11q",
          "chr11q",
          "chr11q",
          "chr11q",
          "chr11q",
          "chr11q",
          "chr11q",
          "chr11q",
          "chr11q",
          "chr11q",
          "chr11q",
          "chr11q",
          "chr11q",
          "chr11q",
          "chr11q",
          "chr11q",
          "chr11q",
          "chr11q",
          "chr11q"
         ],
         "x0": " ",
         "xaxis": "x",
         "y": [
          60,
          60,
          60,
          60,
          60,
          60,
          60,
          60,
          60,
          60,
          60,
          60,
          60,
          60,
          60,
          60,
          60,
          60,
          60,
          60
         ],
         "y0": " ",
         "yaxis": "y"
        },
        {
         "alignmentgroup": "True",
         "hovertemplate": "chrom=%{x}<br>Qual=%{y}<extra></extra>",
         "legendgroup": "chr12p",
         "marker": {
          "color": "#00cc96"
         },
         "name": "chr12p",
         "notched": false,
         "offsetgroup": "chr12p",
         "orientation": "v",
         "showlegend": true,
         "type": "box",
         "x": [
          "chr12p",
          "chr12p",
          "chr12p",
          "chr12p",
          "chr12p",
          "chr12p",
          "chr12p",
          "chr12p",
          "chr12p",
          "chr12p",
          "chr12p",
          "chr12p",
          "chr12p",
          "chr12p",
          "chr12p",
          "chr12p",
          "chr12p",
          "chr12p",
          "chr12p",
          "chr12p"
         ],
         "x0": " ",
         "xaxis": "x",
         "y": [
          11,
          1,
          2,
          1,
          4,
          24,
          1,
          1,
          1,
          1,
          7,
          5,
          2,
          16,
          1,
          19,
          3,
          1,
          1,
          10.5
         ],
         "y0": " ",
         "yaxis": "y"
        },
        {
         "alignmentgroup": "True",
         "hovertemplate": "chrom=%{x}<br>Qual=%{y}<extra></extra>",
         "legendgroup": "chr12q",
         "marker": {
          "color": "#ab63fa"
         },
         "name": "chr12q",
         "notched": false,
         "offsetgroup": "chr12q",
         "orientation": "v",
         "showlegend": true,
         "type": "box",
         "x": [
          "chr12q",
          "chr12q",
          "chr12q",
          "chr12q",
          "chr12q",
          "chr12q",
          "chr12q",
          "chr12q",
          "chr12q",
          "chr12q",
          "chr12q",
          "chr12q",
          "chr12q",
          "chr12q",
          "chr12q",
          "chr12q",
          "chr12q",
          "chr12q",
          "chr12q",
          "chr12q"
         ],
         "x0": " ",
         "xaxis": "x",
         "y": [
          60,
          60,
          60,
          60,
          60,
          60,
          60,
          60,
          60,
          60,
          60,
          60,
          60,
          60,
          60,
          60,
          60,
          60,
          60,
          60
         ],
         "y0": " ",
         "yaxis": "y"
        },
        {
         "alignmentgroup": "True",
         "hovertemplate": "chrom=%{x}<br>Qual=%{y}<extra></extra>",
         "legendgroup": "chr13p",
         "marker": {
          "color": "#FFA15A"
         },
         "name": "chr13p",
         "notched": false,
         "offsetgroup": "chr13p",
         "orientation": "v",
         "showlegend": true,
         "type": "box",
         "x": [
          "chr13p",
          "chr13p",
          "chr13p",
          "chr13p",
          "chr13p",
          "chr13p",
          "chr13p",
          "chr13p",
          "chr13p",
          "chr13p",
          "chr13p"
         ],
         "x0": " ",
         "xaxis": "x",
         "y": [
          60,
          60,
          60,
          60,
          60,
          60,
          60,
          60,
          60,
          60,
          34
         ],
         "y0": " ",
         "yaxis": "y"
        },
        {
         "alignmentgroup": "True",
         "hovertemplate": "chrom=%{x}<br>Qual=%{y}<extra></extra>",
         "legendgroup": "chr13q",
         "marker": {
          "color": "#19d3f3"
         },
         "name": "chr13q",
         "notched": false,
         "offsetgroup": "chr13q",
         "orientation": "v",
         "showlegend": true,
         "type": "box",
         "x": [
          "chr13q",
          "chr13q",
          "chr13q",
          "chr13q",
          "chr13q",
          "chr13q",
          "chr13q",
          "chr13q",
          "chr13q",
          "chr13q",
          "chr13q",
          "chr13q",
          "chr13q",
          "chr13q",
          "chr13q",
          "chr13q",
          "chr13q",
          "chr13q",
          "chr13q",
          "chr13q"
         ],
         "x0": " ",
         "xaxis": "x",
         "y": [
          60,
          60,
          60,
          60,
          60,
          60,
          60,
          60,
          60,
          60,
          60,
          60,
          60,
          60,
          60,
          60,
          60,
          60,
          60,
          60
         ],
         "y0": " ",
         "yaxis": "y"
        },
        {
         "alignmentgroup": "True",
         "hovertemplate": "chrom=%{x}<br>Qual=%{y}<extra></extra>",
         "legendgroup": "chr14p",
         "marker": {
          "color": "#FF6692"
         },
         "name": "chr14p",
         "notched": false,
         "offsetgroup": "chr14p",
         "orientation": "v",
         "showlegend": true,
         "type": "box",
         "x": [
          "chr14p",
          "chr14p",
          "chr14p",
          "chr14p",
          "chr14p",
          "chr14p"
         ],
         "x0": " ",
         "xaxis": "x",
         "y": [
          60,
          60,
          60,
          60,
          57,
          60
         ],
         "y0": " ",
         "yaxis": "y"
        },
        {
         "alignmentgroup": "True",
         "hovertemplate": "chrom=%{x}<br>Qual=%{y}<extra></extra>",
         "legendgroup": "chr14q",
         "marker": {
          "color": "#B6E880"
         },
         "name": "chr14q",
         "notched": false,
         "offsetgroup": "chr14q",
         "orientation": "v",
         "showlegend": true,
         "type": "box",
         "x": [
          "chr14q",
          "chr14q",
          "chr14q",
          "chr14q",
          "chr14q",
          "chr14q",
          "chr14q",
          "chr14q",
          "chr14q",
          "chr14q",
          "chr14q",
          "chr14q",
          "chr14q",
          "chr14q",
          "chr14q",
          "chr14q",
          "chr14q",
          "chr14q",
          "chr14q",
          "chr14q"
         ],
         "x0": " ",
         "xaxis": "x",
         "y": [
          60,
          60,
          60,
          60,
          60,
          60,
          60,
          60,
          60,
          60,
          60,
          60,
          60,
          60,
          60,
          60,
          60,
          60,
          60,
          60
         ],
         "y0": " ",
         "yaxis": "y"
        },
        {
         "alignmentgroup": "True",
         "hovertemplate": "chrom=%{x}<br>Qual=%{y}<extra></extra>",
         "legendgroup": "chr15p",
         "marker": {
          "color": "#FF97FF"
         },
         "name": "chr15p",
         "notched": false,
         "offsetgroup": "chr15p",
         "orientation": "v",
         "showlegend": true,
         "type": "box",
         "x": [
          "chr15p",
          "chr15p",
          "chr15p",
          "chr15p",
          "chr15p",
          "chr15p",
          "chr15p",
          "chr15p",
          "chr15p",
          "chr15p",
          "chr15p",
          "chr15p",
          "chr15p",
          "chr15p",
          "chr15p",
          "chr15p",
          "chr15p",
          "chr15p",
          "chr15p",
          "chr15p"
         ],
         "x0": " ",
         "xaxis": "x",
         "y": [
          3,
          3,
          12,
          5,
          4,
          4,
          3,
          4,
          5,
          2,
          5,
          3,
          9,
          6,
          2,
          2,
          1,
          7,
          4,
          1
         ],
         "y0": " ",
         "yaxis": "y"
        },
        {
         "alignmentgroup": "True",
         "hovertemplate": "chrom=%{x}<br>Qual=%{y}<extra></extra>",
         "legendgroup": "chr15q",
         "marker": {
          "color": "#FECB52"
         },
         "name": "chr15q",
         "notched": false,
         "offsetgroup": "chr15q",
         "orientation": "v",
         "showlegend": true,
         "type": "box",
         "x": [
          "chr15q",
          "chr15q",
          "chr15q",
          "chr15q",
          "chr15q",
          "chr15q",
          "chr15q",
          "chr15q",
          "chr15q",
          "chr15q",
          "chr15q",
          "chr15q",
          "chr15q",
          "chr15q",
          "chr15q",
          "chr15q",
          "chr15q",
          "chr15q",
          "chr15q",
          "chr15q"
         ],
         "x0": " ",
         "xaxis": "x",
         "y": [
          29,
          29,
          36,
          35,
          25,
          31,
          28.5,
          32,
          38.5,
          37,
          26,
          28,
          17,
          45.5,
          24.5,
          30,
          34,
          19,
          28,
          34
         ],
         "y0": " ",
         "yaxis": "y"
        },
        {
         "alignmentgroup": "True",
         "hovertemplate": "chrom=%{x}<br>Qual=%{y}<extra></extra>",
         "legendgroup": "chr16p",
         "marker": {
          "color": "#636efa"
         },
         "name": "chr16p",
         "notched": false,
         "offsetgroup": "chr16p",
         "orientation": "v",
         "showlegend": true,
         "type": "box",
         "x": [
          "chr16p",
          "chr16p",
          "chr16p",
          "chr16p",
          "chr16p",
          "chr16p",
          "chr16p",
          "chr16p",
          "chr16p",
          "chr16p",
          "chr16p",
          "chr16p",
          "chr16p",
          "chr16p",
          "chr16p",
          "chr16p",
          "chr16p",
          "chr16p",
          "chr16p",
          "chr16p"
         ],
         "x0": " ",
         "xaxis": "x",
         "y": [
          4.5,
          1,
          1,
          13,
          8,
          4,
          1,
          4,
          12,
          2,
          1.5,
          3,
          10,
          4,
          12,
          11,
          1,
          4,
          3,
          4
         ],
         "y0": " ",
         "yaxis": "y"
        },
        {
         "alignmentgroup": "True",
         "hovertemplate": "chrom=%{x}<br>Qual=%{y}<extra></extra>",
         "legendgroup": "chr16q",
         "marker": {
          "color": "#EF553B"
         },
         "name": "chr16q",
         "notched": false,
         "offsetgroup": "chr16q",
         "orientation": "v",
         "showlegend": true,
         "type": "box",
         "x": [
          "chr16q",
          "chr16q",
          "chr16q",
          "chr16q",
          "chr16q",
          "chr16q",
          "chr16q",
          "chr16q",
          "chr16q",
          "chr16q",
          "chr16q",
          "chr16q",
          "chr16q",
          "chr16q",
          "chr16q",
          "chr16q",
          "chr16q",
          "chr16q",
          "chr16q",
          "chr16q"
         ],
         "x0": " ",
         "xaxis": "x",
         "y": [
          16,
          3,
          21,
          33.5,
          25,
          32,
          28,
          15.5,
          19,
          24,
          18,
          43,
          33.5,
          15,
          51,
          21,
          33,
          34,
          33,
          24
         ],
         "y0": " ",
         "yaxis": "y"
        },
        {
         "alignmentgroup": "True",
         "hovertemplate": "chrom=%{x}<br>Qual=%{y}<extra></extra>",
         "legendgroup": "chr17p",
         "marker": {
          "color": "#00cc96"
         },
         "name": "chr17p",
         "notched": false,
         "offsetgroup": "chr17p",
         "orientation": "v",
         "showlegend": true,
         "type": "box",
         "x": [
          "chr17p",
          "chr17p",
          "chr17p",
          "chr17p",
          "chr17p",
          "chr17p",
          "chr17p",
          "chr17p",
          "chr17p",
          "chr17p",
          "chr17p",
          "chr17p",
          "chr17p",
          "chr17p",
          "chr17p",
          "chr17p",
          "chr17p",
          "chr17p"
         ],
         "x0": " ",
         "xaxis": "x",
         "y": [
          60,
          60,
          60,
          60,
          60,
          57.5,
          60,
          60,
          60,
          60,
          60,
          60,
          60,
          60,
          60,
          60,
          60,
          60
         ],
         "y0": " ",
         "yaxis": "y"
        },
        {
         "alignmentgroup": "True",
         "hovertemplate": "chrom=%{x}<br>Qual=%{y}<extra></extra>",
         "legendgroup": "chr17q",
         "marker": {
          "color": "#ab63fa"
         },
         "name": "chr17q",
         "notched": false,
         "offsetgroup": "chr17q",
         "orientation": "v",
         "showlegend": true,
         "type": "box",
         "x": [
          "chr17q",
          "chr17q",
          "chr17q",
          "chr17q",
          "chr17q",
          "chr17q",
          "chr17q",
          "chr17q",
          "chr17q",
          "chr17q",
          "chr17q",
          "chr17q",
          "chr17q",
          "chr17q",
          "chr17q",
          "chr17q",
          "chr17q",
          "chr17q",
          "chr17q",
          "chr17q"
         ],
         "x0": " ",
         "xaxis": "x",
         "y": [
          60,
          18,
          60,
          60,
          60,
          60,
          60,
          60,
          60,
          60,
          1,
          60,
          60,
          1,
          1,
          1,
          60,
          60,
          60,
          1
         ],
         "y0": " ",
         "yaxis": "y"
        },
        {
         "alignmentgroup": "True",
         "hovertemplate": "chrom=%{x}<br>Qual=%{y}<extra></extra>",
         "legendgroup": "chr18p",
         "marker": {
          "color": "#FFA15A"
         },
         "name": "chr18p",
         "notched": false,
         "offsetgroup": "chr18p",
         "orientation": "v",
         "showlegend": true,
         "type": "box",
         "x": [
          "chr18p",
          "chr18p",
          "chr18p",
          "chr18p",
          "chr18p",
          "chr18p",
          "chr18p",
          "chr18p",
          "chr18p",
          "chr18p",
          "chr18p",
          "chr18p",
          "chr18p",
          "chr18p",
          "chr18p",
          "chr18p",
          "chr18p",
          "chr18p",
          "chr18p",
          "chr18p"
         ],
         "x0": " ",
         "xaxis": "x",
         "y": [
          1,
          12.5,
          1,
          1,
          1,
          1,
          0.5,
          9,
          1,
          4,
          11,
          1,
          5,
          1,
          1,
          1,
          4.5,
          1,
          1,
          1.5
         ],
         "y0": " ",
         "yaxis": "y"
        },
        {
         "alignmentgroup": "True",
         "hovertemplate": "chrom=%{x}<br>Qual=%{y}<extra></extra>",
         "legendgroup": "chr18q",
         "marker": {
          "color": "#19d3f3"
         },
         "name": "chr18q",
         "notched": false,
         "offsetgroup": "chr18q",
         "orientation": "v",
         "showlegend": true,
         "type": "box",
         "x": [
          "chr18q",
          "chr18q",
          "chr18q",
          "chr18q",
          "chr18q",
          "chr18q",
          "chr18q",
          "chr18q",
          "chr18q",
          "chr18q",
          "chr18q",
          "chr18q",
          "chr18q",
          "chr18q",
          "chr18q",
          "chr18q",
          "chr18q",
          "chr18q",
          "chr18q",
          "chr18q"
         ],
         "x0": " ",
         "xaxis": "x",
         "y": [
          60,
          60,
          60,
          60,
          60,
          60,
          60,
          60,
          60,
          60,
          60,
          60,
          60,
          60,
          60,
          60,
          60,
          60,
          60,
          60
         ],
         "y0": " ",
         "yaxis": "y"
        },
        {
         "alignmentgroup": "True",
         "hovertemplate": "chrom=%{x}<br>Qual=%{y}<extra></extra>",
         "legendgroup": "chr19p",
         "marker": {
          "color": "#FF6692"
         },
         "name": "chr19p",
         "notched": false,
         "offsetgroup": "chr19p",
         "orientation": "v",
         "showlegend": true,
         "type": "box",
         "x": [
          "chr19p",
          "chr19p",
          "chr19p",
          "chr19p",
          "chr19p",
          "chr19p",
          "chr19p",
          "chr19p",
          "chr19p",
          "chr19p",
          "chr19p",
          "chr19p",
          "chr19p",
          "chr19p",
          "chr19p",
          "chr19p",
          "chr19p",
          "chr19p",
          "chr19p",
          "chr19p"
         ],
         "x0": " ",
         "xaxis": "x",
         "y": [
          1,
          35,
          13,
          1,
          9.5,
          1,
          1,
          1,
          1,
          1,
          1,
          1,
          1,
          1,
          1,
          9,
          1,
          1,
          1,
          1
         ],
         "y0": " ",
         "yaxis": "y"
        },
        {
         "alignmentgroup": "True",
         "hovertemplate": "chrom=%{x}<br>Qual=%{y}<extra></extra>",
         "legendgroup": "chr19q",
         "marker": {
          "color": "#B6E880"
         },
         "name": "chr19q",
         "notched": false,
         "offsetgroup": "chr19q",
         "orientation": "v",
         "showlegend": true,
         "type": "box",
         "x": [
          "chr19q",
          "chr19q",
          "chr19q",
          "chr19q",
          "chr19q",
          "chr19q",
          "chr19q",
          "chr19q",
          "chr19q",
          "chr19q",
          "chr19q",
          "chr19q",
          "chr19q",
          "chr19q",
          "chr19q",
          "chr19q",
          "chr19q",
          "chr19q",
          "chr19q",
          "chr19q"
         ],
         "x0": " ",
         "xaxis": "x",
         "y": [
          60,
          60,
          60,
          60,
          60,
          60,
          60,
          60,
          60,
          60,
          60,
          60,
          60,
          60,
          60,
          60,
          60,
          60,
          60,
          60
         ],
         "y0": " ",
         "yaxis": "y"
        },
        {
         "alignmentgroup": "True",
         "hovertemplate": "chrom=%{x}<br>Qual=%{y}<extra></extra>",
         "legendgroup": "chr20p",
         "marker": {
          "color": "#FF97FF"
         },
         "name": "chr20p",
         "notched": false,
         "offsetgroup": "chr20p",
         "orientation": "v",
         "showlegend": true,
         "type": "box",
         "x": [
          "chr20p",
          "chr20p",
          "chr20p",
          "chr20p",
          "chr20p",
          "chr20p",
          "chr20p",
          "chr20p",
          "chr20p",
          "chr20p",
          "chr20p",
          "chr20p",
          "chr20p",
          "chr20p",
          "chr20p",
          "chr20p",
          "chr20p",
          "chr20p",
          "chr20p",
          "chr20p"
         ],
         "x0": " ",
         "xaxis": "x",
         "y": [
          60,
          60,
          17.5,
          60,
          23,
          60,
          1,
          60,
          59,
          1,
          60,
          60,
          37,
          60,
          35.5,
          1,
          48,
          60,
          60,
          60
         ],
         "y0": " ",
         "yaxis": "y"
        },
        {
         "alignmentgroup": "True",
         "hovertemplate": "chrom=%{x}<br>Qual=%{y}<extra></extra>",
         "legendgroup": "chr20q",
         "marker": {
          "color": "#FECB52"
         },
         "name": "chr20q",
         "notched": false,
         "offsetgroup": "chr20q",
         "orientation": "v",
         "showlegend": true,
         "type": "box",
         "x": [
          "chr20q",
          "chr20q",
          "chr20q",
          "chr20q",
          "chr20q",
          "chr20q",
          "chr20q",
          "chr20q",
          "chr20q",
          "chr20q",
          "chr20q",
          "chr20q",
          "chr20q",
          "chr20q",
          "chr20q",
          "chr20q",
          "chr20q",
          "chr20q",
          "chr20q",
          "chr20q"
         ],
         "x0": " ",
         "xaxis": "x",
         "y": [
          1,
          1.5,
          1,
          1,
          6,
          6,
          5,
          1,
          20.5,
          2,
          8,
          1,
          1,
          16,
          1,
          1,
          5,
          1,
          8,
          1
         ],
         "y0": " ",
         "yaxis": "y"
        },
        {
         "alignmentgroup": "True",
         "hovertemplate": "chrom=%{x}<br>Qual=%{y}<extra></extra>",
         "legendgroup": "chr21p",
         "marker": {
          "color": "#636efa"
         },
         "name": "chr21p",
         "notched": false,
         "offsetgroup": "chr21p",
         "orientation": "v",
         "showlegend": true,
         "type": "box",
         "x": [
          "chr21p",
          "chr21p",
          "chr21p",
          "chr21p",
          "chr21p",
          "chr21p",
          "chr21p",
          "chr21p",
          "chr21p",
          "chr21p",
          "chr21p",
          "chr21p",
          "chr21p",
          "chr21p",
          "chr21p",
          "chr21p",
          "chr21p",
          "chr21p",
          "chr21p",
          "chr21p"
         ],
         "x0": " ",
         "xaxis": "x",
         "y": [
          4,
          3,
          4,
          4,
          3,
          3,
          4,
          2,
          8,
          4,
          2,
          2,
          3,
          5,
          3,
          2,
          5,
          5,
          4.5,
          3.5
         ],
         "y0": " ",
         "yaxis": "y"
        },
        {
         "alignmentgroup": "True",
         "hovertemplate": "chrom=%{x}<br>Qual=%{y}<extra></extra>",
         "legendgroup": "chr21q",
         "marker": {
          "color": "#EF553B"
         },
         "name": "chr21q",
         "notched": false,
         "offsetgroup": "chr21q",
         "orientation": "v",
         "showlegend": true,
         "type": "box",
         "x": [
          "chr21q",
          "chr21q",
          "chr21q",
          "chr21q",
          "chr21q",
          "chr21q",
          "chr21q",
          "chr21q",
          "chr21q",
          "chr21q",
          "chr21q",
          "chr21q",
          "chr21q",
          "chr21q",
          "chr21q",
          "chr21q",
          "chr21q",
          "chr21q",
          "chr21q",
          "chr21q"
         ],
         "x0": " ",
         "xaxis": "x",
         "y": [
          60,
          60,
          60,
          60,
          60,
          60,
          60,
          60,
          60,
          60,
          60,
          60,
          60,
          60,
          60,
          60,
          60,
          60,
          60,
          60
         ],
         "y0": " ",
         "yaxis": "y"
        },
        {
         "alignmentgroup": "True",
         "hovertemplate": "chrom=%{x}<br>Qual=%{y}<extra></extra>",
         "legendgroup": "chr22p",
         "marker": {
          "color": "#00cc96"
         },
         "name": "chr22p",
         "notched": false,
         "offsetgroup": "chr22p",
         "orientation": "v",
         "showlegend": true,
         "type": "box",
         "x": [
          "chr22p",
          "chr22p",
          "chr22p",
          "chr22p",
          "chr22p",
          "chr22p",
          "chr22p",
          "chr22p",
          "chr22p",
          "chr22p",
          "chr22p",
          "chr22p",
          "chr22p",
          "chr22p",
          "chr22p",
          "chr22p",
          "chr22p",
          "chr22p",
          "chr22p",
          "chr22p"
         ],
         "x0": " ",
         "xaxis": "x",
         "y": [
          3.5,
          4,
          1,
          1,
          6,
          5.5,
          7,
          2.5,
          1,
          9,
          5,
          14,
          1,
          2,
          2.5,
          2,
          1,
          2,
          2,
          1
         ],
         "y0": " ",
         "yaxis": "y"
        },
        {
         "alignmentgroup": "True",
         "hovertemplate": "chrom=%{x}<br>Qual=%{y}<extra></extra>",
         "legendgroup": "chr22q",
         "marker": {
          "color": "#ab63fa"
         },
         "name": "chr22q",
         "notched": false,
         "offsetgroup": "chr22q",
         "orientation": "v",
         "showlegend": true,
         "type": "box",
         "x": [
          "chr22q",
          "chr22q",
          "chr22q",
          "chr22q",
          "chr22q",
          "chr22q",
          "chr22q",
          "chr22q",
          "chr22q",
          "chr22q",
          "chr22q",
          "chr22q",
          "chr22q",
          "chr22q",
          "chr22q",
          "chr22q",
          "chr22q",
          "chr22q",
          "chr22q",
          "chr22q"
         ],
         "x0": " ",
         "xaxis": "x",
         "y": [
          60,
          60,
          60,
          60,
          60,
          60,
          60,
          60,
          60,
          60,
          60,
          60,
          60,
          60,
          60,
          60,
          60,
          60,
          60,
          60
         ],
         "y0": " ",
         "yaxis": "y"
        },
        {
         "alignmentgroup": "True",
         "hovertemplate": "chrom=%{x}<br>Qual=%{y}<extra></extra>",
         "legendgroup": "chrXp",
         "marker": {
          "color": "#FFA15A"
         },
         "name": "chrXp",
         "notched": false,
         "offsetgroup": "chrXp",
         "orientation": "v",
         "showlegend": true,
         "type": "box",
         "x": [
          "chrXp",
          "chrXp",
          "chrXp",
          "chrXp",
          "chrXp",
          "chrXp",
          "chrXp",
          "chrXp",
          "chrXp",
          "chrXp",
          "chrXp",
          "chrXp",
          "chrXp",
          "chrXp",
          "chrXp",
          "chrXp",
          "chrXp",
          "chrXp",
          "chrXp",
          "chrXp"
         ],
         "x0": " ",
         "xaxis": "x",
         "y": [
          54,
          1,
          60,
          33,
          60,
          60,
          58,
          50,
          1,
          37,
          25,
          60,
          46,
          58,
          60,
          60,
          58,
          33,
          60,
          60
         ],
         "y0": " ",
         "yaxis": "y"
        },
        {
         "alignmentgroup": "True",
         "hovertemplate": "chrom=%{x}<br>Qual=%{y}<extra></extra>",
         "legendgroup": "chrXq",
         "marker": {
          "color": "#19d3f3"
         },
         "name": "chrXq",
         "notched": false,
         "offsetgroup": "chrXq",
         "orientation": "v",
         "showlegend": true,
         "type": "box",
         "x": [
          "chrXq",
          "chrXq",
          "chrXq",
          "chrXq",
          "chrXq",
          "chrXq",
          "chrXq",
          "chrXq",
          "chrXq",
          "chrXq",
          "chrXq",
          "chrXq",
          "chrXq",
          "chrXq",
          "chrXq",
          "chrXq",
          "chrXq",
          "chrXq",
          "chrXq",
          "chrXq"
         ],
         "x0": " ",
         "xaxis": "x",
         "y": [
          1,
          1,
          1,
          1,
          1,
          1,
          1,
          1,
          1,
          1,
          1,
          1,
          1,
          1,
          1,
          1,
          1,
          1,
          1,
          1
         ],
         "y0": " ",
         "yaxis": "y"
        },
        {
         "alignmentgroup": "True",
         "hovertemplate": "chrom=%{x}<br>Qual=%{y}<extra></extra>",
         "legendgroup": "chrYp",
         "marker": {
          "color": "#FF6692"
         },
         "name": "chrYp",
         "notched": false,
         "offsetgroup": "chrYp",
         "orientation": "v",
         "showlegend": true,
         "type": "box",
         "x": [
          "chrYp",
          "chrYp",
          "chrYp",
          "chrYp",
          "chrYp",
          "chrYp",
          "chrYp",
          "chrYp",
          "chrYp",
          "chrYp",
          "chrYp",
          "chrYp",
          "chrYp",
          "chrYp",
          "chrYp",
          "chrYp",
          "chrYp",
          "chrYp",
          "chrYp",
          "chrYp"
         ],
         "x0": " ",
         "xaxis": "x",
         "y": [
          60,
          60,
          60,
          60,
          60,
          60,
          60,
          60,
          60,
          60,
          60,
          57,
          60,
          60,
          60,
          60,
          60,
          60,
          60,
          60
         ],
         "y0": " ",
         "yaxis": "y"
        },
        {
         "alignmentgroup": "True",
         "hovertemplate": "chrom=%{x}<br>Qual=%{y}<extra></extra>",
         "legendgroup": "chrYq",
         "marker": {
          "color": "#B6E880"
         },
         "name": "chrYq",
         "notched": false,
         "offsetgroup": "chrYq",
         "orientation": "v",
         "showlegend": true,
         "type": "box",
         "x": [
          "chrYq",
          "chrYq",
          "chrYq",
          "chrYq",
          "chrYq",
          "chrYq",
          "chrYq",
          "chrYq",
          "chrYq",
          "chrYq",
          "chrYq",
          "chrYq",
          "chrYq",
          "chrYq",
          "chrYq",
          "chrYq",
          "chrYq",
          "chrYq",
          "chrYq",
          "chrYq"
         ],
         "x0": " ",
         "xaxis": "x",
         "y": [
          1,
          1,
          1,
          2,
          1,
          1,
          1,
          1,
          3,
          1,
          1,
          6,
          1,
          1,
          4,
          4,
          1,
          1,
          4,
          2
         ],
         "y0": " ",
         "yaxis": "y"
        }
       ],
       "layout": {
        "boxmode": "overlay",
        "legend": {
         "title": {
          "text": "chrom"
         },
         "tracegroupgap": 0
        },
        "template": {
         "data": {
          "bar": [
           {
            "error_x": {
             "color": "#2a3f5f"
            },
            "error_y": {
             "color": "#2a3f5f"
            },
            "marker": {
             "line": {
              "color": "#E5ECF6",
              "width": 0.5
             },
             "pattern": {
              "fillmode": "overlay",
              "size": 10,
              "solidity": 0.2
             }
            },
            "type": "bar"
           }
          ],
          "barpolar": [
           {
            "marker": {
             "line": {
              "color": "#E5ECF6",
              "width": 0.5
             },
             "pattern": {
              "fillmode": "overlay",
              "size": 10,
              "solidity": 0.2
             }
            },
            "type": "barpolar"
           }
          ],
          "carpet": [
           {
            "aaxis": {
             "endlinecolor": "#2a3f5f",
             "gridcolor": "white",
             "linecolor": "white",
             "minorgridcolor": "white",
             "startlinecolor": "#2a3f5f"
            },
            "baxis": {
             "endlinecolor": "#2a3f5f",
             "gridcolor": "white",
             "linecolor": "white",
             "minorgridcolor": "white",
             "startlinecolor": "#2a3f5f"
            },
            "type": "carpet"
           }
          ],
          "choropleth": [
           {
            "colorbar": {
             "outlinewidth": 0,
             "ticks": ""
            },
            "type": "choropleth"
           }
          ],
          "contour": [
           {
            "colorbar": {
             "outlinewidth": 0,
             "ticks": ""
            },
            "colorscale": [
             [
              0,
              "#0d0887"
             ],
             [
              0.1111111111111111,
              "#46039f"
             ],
             [
              0.2222222222222222,
              "#7201a8"
             ],
             [
              0.3333333333333333,
              "#9c179e"
             ],
             [
              0.4444444444444444,
              "#bd3786"
             ],
             [
              0.5555555555555556,
              "#d8576b"
             ],
             [
              0.6666666666666666,
              "#ed7953"
             ],
             [
              0.7777777777777778,
              "#fb9f3a"
             ],
             [
              0.8888888888888888,
              "#fdca26"
             ],
             [
              1,
              "#f0f921"
             ]
            ],
            "type": "contour"
           }
          ],
          "contourcarpet": [
           {
            "colorbar": {
             "outlinewidth": 0,
             "ticks": ""
            },
            "type": "contourcarpet"
           }
          ],
          "heatmap": [
           {
            "colorbar": {
             "outlinewidth": 0,
             "ticks": ""
            },
            "colorscale": [
             [
              0,
              "#0d0887"
             ],
             [
              0.1111111111111111,
              "#46039f"
             ],
             [
              0.2222222222222222,
              "#7201a8"
             ],
             [
              0.3333333333333333,
              "#9c179e"
             ],
             [
              0.4444444444444444,
              "#bd3786"
             ],
             [
              0.5555555555555556,
              "#d8576b"
             ],
             [
              0.6666666666666666,
              "#ed7953"
             ],
             [
              0.7777777777777778,
              "#fb9f3a"
             ],
             [
              0.8888888888888888,
              "#fdca26"
             ],
             [
              1,
              "#f0f921"
             ]
            ],
            "type": "heatmap"
           }
          ],
          "heatmapgl": [
           {
            "colorbar": {
             "outlinewidth": 0,
             "ticks": ""
            },
            "colorscale": [
             [
              0,
              "#0d0887"
             ],
             [
              0.1111111111111111,
              "#46039f"
             ],
             [
              0.2222222222222222,
              "#7201a8"
             ],
             [
              0.3333333333333333,
              "#9c179e"
             ],
             [
              0.4444444444444444,
              "#bd3786"
             ],
             [
              0.5555555555555556,
              "#d8576b"
             ],
             [
              0.6666666666666666,
              "#ed7953"
             ],
             [
              0.7777777777777778,
              "#fb9f3a"
             ],
             [
              0.8888888888888888,
              "#fdca26"
             ],
             [
              1,
              "#f0f921"
             ]
            ],
            "type": "heatmapgl"
           }
          ],
          "histogram": [
           {
            "marker": {
             "pattern": {
              "fillmode": "overlay",
              "size": 10,
              "solidity": 0.2
             }
            },
            "type": "histogram"
           }
          ],
          "histogram2d": [
           {
            "colorbar": {
             "outlinewidth": 0,
             "ticks": ""
            },
            "colorscale": [
             [
              0,
              "#0d0887"
             ],
             [
              0.1111111111111111,
              "#46039f"
             ],
             [
              0.2222222222222222,
              "#7201a8"
             ],
             [
              0.3333333333333333,
              "#9c179e"
             ],
             [
              0.4444444444444444,
              "#bd3786"
             ],
             [
              0.5555555555555556,
              "#d8576b"
             ],
             [
              0.6666666666666666,
              "#ed7953"
             ],
             [
              0.7777777777777778,
              "#fb9f3a"
             ],
             [
              0.8888888888888888,
              "#fdca26"
             ],
             [
              1,
              "#f0f921"
             ]
            ],
            "type": "histogram2d"
           }
          ],
          "histogram2dcontour": [
           {
            "colorbar": {
             "outlinewidth": 0,
             "ticks": ""
            },
            "colorscale": [
             [
              0,
              "#0d0887"
             ],
             [
              0.1111111111111111,
              "#46039f"
             ],
             [
              0.2222222222222222,
              "#7201a8"
             ],
             [
              0.3333333333333333,
              "#9c179e"
             ],
             [
              0.4444444444444444,
              "#bd3786"
             ],
             [
              0.5555555555555556,
              "#d8576b"
             ],
             [
              0.6666666666666666,
              "#ed7953"
             ],
             [
              0.7777777777777778,
              "#fb9f3a"
             ],
             [
              0.8888888888888888,
              "#fdca26"
             ],
             [
              1,
              "#f0f921"
             ]
            ],
            "type": "histogram2dcontour"
           }
          ],
          "mesh3d": [
           {
            "colorbar": {
             "outlinewidth": 0,
             "ticks": ""
            },
            "type": "mesh3d"
           }
          ],
          "parcoords": [
           {
            "line": {
             "colorbar": {
              "outlinewidth": 0,
              "ticks": ""
             }
            },
            "type": "parcoords"
           }
          ],
          "pie": [
           {
            "automargin": true,
            "type": "pie"
           }
          ],
          "scatter": [
           {
            "marker": {
             "colorbar": {
              "outlinewidth": 0,
              "ticks": ""
             }
            },
            "type": "scatter"
           }
          ],
          "scatter3d": [
           {
            "line": {
             "colorbar": {
              "outlinewidth": 0,
              "ticks": ""
             }
            },
            "marker": {
             "colorbar": {
              "outlinewidth": 0,
              "ticks": ""
             }
            },
            "type": "scatter3d"
           }
          ],
          "scattercarpet": [
           {
            "marker": {
             "colorbar": {
              "outlinewidth": 0,
              "ticks": ""
             }
            },
            "type": "scattercarpet"
           }
          ],
          "scattergeo": [
           {
            "marker": {
             "colorbar": {
              "outlinewidth": 0,
              "ticks": ""
             }
            },
            "type": "scattergeo"
           }
          ],
          "scattergl": [
           {
            "marker": {
             "colorbar": {
              "outlinewidth": 0,
              "ticks": ""
             }
            },
            "type": "scattergl"
           }
          ],
          "scattermapbox": [
           {
            "marker": {
             "colorbar": {
              "outlinewidth": 0,
              "ticks": ""
             }
            },
            "type": "scattermapbox"
           }
          ],
          "scatterpolar": [
           {
            "marker": {
             "colorbar": {
              "outlinewidth": 0,
              "ticks": ""
             }
            },
            "type": "scatterpolar"
           }
          ],
          "scatterpolargl": [
           {
            "marker": {
             "colorbar": {
              "outlinewidth": 0,
              "ticks": ""
             }
            },
            "type": "scatterpolargl"
           }
          ],
          "scatterternary": [
           {
            "marker": {
             "colorbar": {
              "outlinewidth": 0,
              "ticks": ""
             }
            },
            "type": "scatterternary"
           }
          ],
          "surface": [
           {
            "colorbar": {
             "outlinewidth": 0,
             "ticks": ""
            },
            "colorscale": [
             [
              0,
              "#0d0887"
             ],
             [
              0.1111111111111111,
              "#46039f"
             ],
             [
              0.2222222222222222,
              "#7201a8"
             ],
             [
              0.3333333333333333,
              "#9c179e"
             ],
             [
              0.4444444444444444,
              "#bd3786"
             ],
             [
              0.5555555555555556,
              "#d8576b"
             ],
             [
              0.6666666666666666,
              "#ed7953"
             ],
             [
              0.7777777777777778,
              "#fb9f3a"
             ],
             [
              0.8888888888888888,
              "#fdca26"
             ],
             [
              1,
              "#f0f921"
             ]
            ],
            "type": "surface"
           }
          ],
          "table": [
           {
            "cells": {
             "fill": {
              "color": "#EBF0F8"
             },
             "line": {
              "color": "white"
             }
            },
            "header": {
             "fill": {
              "color": "#C8D4E3"
             },
             "line": {
              "color": "white"
             }
            },
            "type": "table"
           }
          ]
         },
         "layout": {
          "annotationdefaults": {
           "arrowcolor": "#2a3f5f",
           "arrowhead": 0,
           "arrowwidth": 1
          },
          "autotypenumbers": "strict",
          "coloraxis": {
           "colorbar": {
            "outlinewidth": 0,
            "ticks": ""
           }
          },
          "colorscale": {
           "diverging": [
            [
             0,
             "#8e0152"
            ],
            [
             0.1,
             "#c51b7d"
            ],
            [
             0.2,
             "#de77ae"
            ],
            [
             0.3,
             "#f1b6da"
            ],
            [
             0.4,
             "#fde0ef"
            ],
            [
             0.5,
             "#f7f7f7"
            ],
            [
             0.6,
             "#e6f5d0"
            ],
            [
             0.7,
             "#b8e186"
            ],
            [
             0.8,
             "#7fbc41"
            ],
            [
             0.9,
             "#4d9221"
            ],
            [
             1,
             "#276419"
            ]
           ],
           "sequential": [
            [
             0,
             "#0d0887"
            ],
            [
             0.1111111111111111,
             "#46039f"
            ],
            [
             0.2222222222222222,
             "#7201a8"
            ],
            [
             0.3333333333333333,
             "#9c179e"
            ],
            [
             0.4444444444444444,
             "#bd3786"
            ],
            [
             0.5555555555555556,
             "#d8576b"
            ],
            [
             0.6666666666666666,
             "#ed7953"
            ],
            [
             0.7777777777777778,
             "#fb9f3a"
            ],
            [
             0.8888888888888888,
             "#fdca26"
            ],
            [
             1,
             "#f0f921"
            ]
           ],
           "sequentialminus": [
            [
             0,
             "#0d0887"
            ],
            [
             0.1111111111111111,
             "#46039f"
            ],
            [
             0.2222222222222222,
             "#7201a8"
            ],
            [
             0.3333333333333333,
             "#9c179e"
            ],
            [
             0.4444444444444444,
             "#bd3786"
            ],
            [
             0.5555555555555556,
             "#d8576b"
            ],
            [
             0.6666666666666666,
             "#ed7953"
            ],
            [
             0.7777777777777778,
             "#fb9f3a"
            ],
            [
             0.8888888888888888,
             "#fdca26"
            ],
            [
             1,
             "#f0f921"
            ]
           ]
          },
          "colorway": [
           "#636efa",
           "#EF553B",
           "#00cc96",
           "#ab63fa",
           "#FFA15A",
           "#19d3f3",
           "#FF6692",
           "#B6E880",
           "#FF97FF",
           "#FECB52"
          ],
          "font": {
           "color": "#2a3f5f"
          },
          "geo": {
           "bgcolor": "white",
           "lakecolor": "white",
           "landcolor": "#E5ECF6",
           "showlakes": true,
           "showland": true,
           "subunitcolor": "white"
          },
          "hoverlabel": {
           "align": "left"
          },
          "hovermode": "closest",
          "mapbox": {
           "style": "light"
          },
          "paper_bgcolor": "white",
          "plot_bgcolor": "#E5ECF6",
          "polar": {
           "angularaxis": {
            "gridcolor": "white",
            "linecolor": "white",
            "ticks": ""
           },
           "bgcolor": "#E5ECF6",
           "radialaxis": {
            "gridcolor": "white",
            "linecolor": "white",
            "ticks": ""
           }
          },
          "scene": {
           "xaxis": {
            "backgroundcolor": "#E5ECF6",
            "gridcolor": "white",
            "gridwidth": 2,
            "linecolor": "white",
            "showbackground": true,
            "ticks": "",
            "zerolinecolor": "white"
           },
           "yaxis": {
            "backgroundcolor": "#E5ECF6",
            "gridcolor": "white",
            "gridwidth": 2,
            "linecolor": "white",
            "showbackground": true,
            "ticks": "",
            "zerolinecolor": "white"
           },
           "zaxis": {
            "backgroundcolor": "#E5ECF6",
            "gridcolor": "white",
            "gridwidth": 2,
            "linecolor": "white",
            "showbackground": true,
            "ticks": "",
            "zerolinecolor": "white"
           }
          },
          "shapedefaults": {
           "line": {
            "color": "#2a3f5f"
           }
          },
          "ternary": {
           "aaxis": {
            "gridcolor": "white",
            "linecolor": "white",
            "ticks": ""
           },
           "baxis": {
            "gridcolor": "white",
            "linecolor": "white",
            "ticks": ""
           },
           "bgcolor": "#E5ECF6",
           "caxis": {
            "gridcolor": "white",
            "linecolor": "white",
            "ticks": ""
           }
          },
          "title": {
           "x": 0.05
          },
          "xaxis": {
           "automargin": true,
           "gridcolor": "white",
           "linecolor": "white",
           "ticks": "",
           "title": {
            "standoff": 15
           },
           "zerolinecolor": "white",
           "zerolinewidth": 2
          },
          "yaxis": {
           "automargin": true,
           "gridcolor": "white",
           "linecolor": "white",
           "ticks": "",
           "title": {
            "standoff": 15
           },
           "zerolinecolor": "white",
           "zerolinewidth": 2
          }
         }
        },
        "title": {
         "text": "Quality by Chromosome"
        },
        "xaxis": {
         "anchor": "y",
         "categoryarray": [
          "chr01p",
          "chr01q",
          "chr02p",
          "chr02q",
          "chr03p",
          "chr03q",
          "chr04p",
          "chr04q",
          "chr05p",
          "chr05q",
          "chr06p",
          "chr06q",
          "chr07p",
          "chr07q",
          "chr08p",
          "chr08q",
          "chr09p",
          "chr09q",
          "chr10p",
          "chr10q",
          "chr11p",
          "chr11q",
          "chr12p",
          "chr12q",
          "chr13p",
          "chr13q",
          "chr14p",
          "chr14q",
          "chr15p",
          "chr15q",
          "chr16p",
          "chr16q",
          "chr17p",
          "chr17q",
          "chr18p",
          "chr18q",
          "chr19p",
          "chr19q",
          "chr20p",
          "chr20q",
          "chr21p",
          "chr21q",
          "chr22p",
          "chr22q",
          "chrXp",
          "chrXq",
          "chrYp",
          "chrYq"
         ],
         "categoryorder": "array",
         "domain": [
          0,
          1
         ],
         "title": {
          "text": "chrom"
         }
        },
        "yaxis": {
         "anchor": "x",
         "domain": [
          0,
          1
         ],
         "title": {
          "text": "Qual"
         }
        }
       }
      },
      "text/html": [
       "<div>                            <div id=\"52409dab-5317-4404-89c8-bca32e5d028c\" class=\"plotly-graph-div\" style=\"height:525px; width:100%;\"></div>            <script type=\"text/javascript\">                require([\"plotly\"], function(Plotly) {                    window.PLOTLYENV=window.PLOTLYENV || {};                                    if (document.getElementById(\"52409dab-5317-4404-89c8-bca32e5d028c\")) {                    Plotly.newPlot(                        \"52409dab-5317-4404-89c8-bca32e5d028c\",                        [{\"alignmentgroup\":\"True\",\"hovertemplate\":\"chrom=%{x}<br>Qual=%{y}<extra></extra>\",\"legendgroup\":\"chr01p\",\"marker\":{\"color\":\"#636efa\"},\"name\":\"chr01p\",\"notched\":false,\"offsetgroup\":\"chr01p\",\"orientation\":\"v\",\"showlegend\":true,\"x\":[\"chr01p\",\"chr01p\",\"chr01p\",\"chr01p\",\"chr01p\",\"chr01p\",\"chr01p\",\"chr01p\",\"chr01p\",\"chr01p\",\"chr01p\",\"chr01p\",\"chr01p\",\"chr01p\",\"chr01p\",\"chr01p\",\"chr01p\",\"chr01p\",\"chr01p\",\"chr01p\"],\"x0\":\" \",\"xaxis\":\"x\",\"y\":[20.0,12.0,12.0,44.5,7.0,30.0,7.0,15.0,9.0,2.0,19.0,21.0,16.0,14.0,1.0,10.0,13.5,7.0,1.0,7.0],\"y0\":\" \",\"yaxis\":\"y\",\"type\":\"box\"},{\"alignmentgroup\":\"True\",\"hovertemplate\":\"chrom=%{x}<br>Qual=%{y}<extra></extra>\",\"legendgroup\":\"chr01q\",\"marker\":{\"color\":\"#EF553B\"},\"name\":\"chr01q\",\"notched\":false,\"offsetgroup\":\"chr01q\",\"orientation\":\"v\",\"showlegend\":true,\"x\":[\"chr01q\",\"chr01q\",\"chr01q\",\"chr01q\",\"chr01q\",\"chr01q\",\"chr01q\",\"chr01q\",\"chr01q\",\"chr01q\",\"chr01q\",\"chr01q\",\"chr01q\",\"chr01q\",\"chr01q\",\"chr01q\",\"chr01q\",\"chr01q\",\"chr01q\",\"chr01q\"],\"x0\":\" \",\"xaxis\":\"x\",\"y\":[60.0,60.0,60.0,60.0,60.0,60.0,60.0,60.0,60.0,60.0,60.0,60.0,60.0,60.0,60.0,60.0,60.0,60.0,60.0,60.0],\"y0\":\" \",\"yaxis\":\"y\",\"type\":\"box\"},{\"alignmentgroup\":\"True\",\"hovertemplate\":\"chrom=%{x}<br>Qual=%{y}<extra></extra>\",\"legendgroup\":\"chr02p\",\"marker\":{\"color\":\"#00cc96\"},\"name\":\"chr02p\",\"notched\":false,\"offsetgroup\":\"chr02p\",\"orientation\":\"v\",\"showlegend\":true,\"x\":[\"chr02p\",\"chr02p\",\"chr02p\",\"chr02p\",\"chr02p\",\"chr02p\",\"chr02p\",\"chr02p\",\"chr02p\",\"chr02p\",\"chr02p\",\"chr02p\",\"chr02p\",\"chr02p\",\"chr02p\",\"chr02p\",\"chr02p\",\"chr02p\",\"chr02p\",\"chr02p\"],\"x0\":\" \",\"xaxis\":\"x\",\"y\":[60.0,60.0,60.0,60.0,60.0,60.0,60.0,60.0,60.0,60.0,60.0,60.0,60.0,60.0,60.0,60.0,60.0,60.0,60.0,60.0],\"y0\":\" \",\"yaxis\":\"y\",\"type\":\"box\"},{\"alignmentgroup\":\"True\",\"hovertemplate\":\"chrom=%{x}<br>Qual=%{y}<extra></extra>\",\"legendgroup\":\"chr02q\",\"marker\":{\"color\":\"#ab63fa\"},\"name\":\"chr02q\",\"notched\":false,\"offsetgroup\":\"chr02q\",\"orientation\":\"v\",\"showlegend\":true,\"x\":[\"chr02q\",\"chr02q\",\"chr02q\",\"chr02q\",\"chr02q\",\"chr02q\",\"chr02q\",\"chr02q\",\"chr02q\",\"chr02q\",\"chr02q\",\"chr02q\",\"chr02q\",\"chr02q\",\"chr02q\",\"chr02q\",\"chr02q\",\"chr02q\",\"chr02q\",\"chr02q\"],\"x0\":\" \",\"xaxis\":\"x\",\"y\":[49.0,44.5,44.0,42.0,42.0,37.0,37.0,47.5,54.0,33.0,44.0,28.0,39.0,24.5,60.0,25.5,30.0,42.5,7.0,60.0],\"y0\":\" \",\"yaxis\":\"y\",\"type\":\"box\"},{\"alignmentgroup\":\"True\",\"hovertemplate\":\"chrom=%{x}<br>Qual=%{y}<extra></extra>\",\"legendgroup\":\"chr03p\",\"marker\":{\"color\":\"#FFA15A\"},\"name\":\"chr03p\",\"notched\":false,\"offsetgroup\":\"chr03p\",\"orientation\":\"v\",\"showlegend\":true,\"x\":[\"chr03p\",\"chr03p\",\"chr03p\",\"chr03p\",\"chr03p\",\"chr03p\",\"chr03p\",\"chr03p\",\"chr03p\",\"chr03p\",\"chr03p\",\"chr03p\",\"chr03p\",\"chr03p\",\"chr03p\",\"chr03p\",\"chr03p\",\"chr03p\",\"chr03p\",\"chr03p\"],\"x0\":\" \",\"xaxis\":\"x\",\"y\":[60.0,60.0,60.0,60.0,60.0,60.0,60.0,60.0,60.0,60.0,60.0,60.0,60.0,60.0,60.0,60.0,60.0,60.0,60.0,60.0],\"y0\":\" \",\"yaxis\":\"y\",\"type\":\"box\"},{\"alignmentgroup\":\"True\",\"hovertemplate\":\"chrom=%{x}<br>Qual=%{y}<extra></extra>\",\"legendgroup\":\"chr03q\",\"marker\":{\"color\":\"#19d3f3\"},\"name\":\"chr03q\",\"notched\":false,\"offsetgroup\":\"chr03q\",\"orientation\":\"v\",\"showlegend\":true,\"x\":[\"chr03q\",\"chr03q\",\"chr03q\",\"chr03q\",\"chr03q\",\"chr03q\",\"chr03q\",\"chr03q\",\"chr03q\",\"chr03q\",\"chr03q\",\"chr03q\",\"chr03q\",\"chr03q\",\"chr03q\",\"chr03q\",\"chr03q\",\"chr03q\",\"chr03q\",\"chr03q\"],\"x0\":\" \",\"xaxis\":\"x\",\"y\":[24.0,17.0,22.0,7.0,14.0,1.0,14.5,24.0,1.0,20.0,2.0,2.0,1.0,13.0,18.0,14.0,18.0,1.0,1.0,1.0],\"y0\":\" \",\"yaxis\":\"y\",\"type\":\"box\"},{\"alignmentgroup\":\"True\",\"hovertemplate\":\"chrom=%{x}<br>Qual=%{y}<extra></extra>\",\"legendgroup\":\"chr04p\",\"marker\":{\"color\":\"#FF6692\"},\"name\":\"chr04p\",\"notched\":false,\"offsetgroup\":\"chr04p\",\"orientation\":\"v\",\"showlegend\":true,\"x\":[\"chr04p\",\"chr04p\",\"chr04p\",\"chr04p\",\"chr04p\",\"chr04p\",\"chr04p\",\"chr04p\",\"chr04p\",\"chr04p\",\"chr04p\",\"chr04p\",\"chr04p\",\"chr04p\",\"chr04p\",\"chr04p\",\"chr04p\",\"chr04p\",\"chr04p\",\"chr04p\"],\"x0\":\" \",\"xaxis\":\"x\",\"y\":[9.0,1.0,1.0,1.0,1.0,1.0,1.0,1.0,1.0,1.0,3.5,1.0,1.0,1.0,4.0,1.0,1.0,3.0,1.0,1.0],\"y0\":\" \",\"yaxis\":\"y\",\"type\":\"box\"},{\"alignmentgroup\":\"True\",\"hovertemplate\":\"chrom=%{x}<br>Qual=%{y}<extra></extra>\",\"legendgroup\":\"chr04q\",\"marker\":{\"color\":\"#B6E880\"},\"name\":\"chr04q\",\"notched\":false,\"offsetgroup\":\"chr04q\",\"orientation\":\"v\",\"showlegend\":true,\"x\":[\"chr04q\",\"chr04q\",\"chr04q\",\"chr04q\",\"chr04q\",\"chr04q\",\"chr04q\",\"chr04q\",\"chr04q\",\"chr04q\",\"chr04q\",\"chr04q\",\"chr04q\",\"chr04q\",\"chr04q\",\"chr04q\",\"chr04q\",\"chr04q\",\"chr04q\",\"chr04q\"],\"x0\":\" \",\"xaxis\":\"x\",\"y\":[60.0,1.0,60.0,60.0,60.0,60.0,60.0,60.0,1.0,60.0,1.0,60.0,60.0,60.0,60.0,60.0,4.0,60.0,60.0,10.0],\"y0\":\" \",\"yaxis\":\"y\",\"type\":\"box\"},{\"alignmentgroup\":\"True\",\"hovertemplate\":\"chrom=%{x}<br>Qual=%{y}<extra></extra>\",\"legendgroup\":\"chr05p\",\"marker\":{\"color\":\"#FF97FF\"},\"name\":\"chr05p\",\"notched\":false,\"offsetgroup\":\"chr05p\",\"orientation\":\"v\",\"showlegend\":true,\"x\":[\"chr05p\",\"chr05p\",\"chr05p\",\"chr05p\",\"chr05p\",\"chr05p\",\"chr05p\",\"chr05p\",\"chr05p\",\"chr05p\",\"chr05p\",\"chr05p\",\"chr05p\",\"chr05p\",\"chr05p\",\"chr05p\",\"chr05p\",\"chr05p\",\"chr05p\",\"chr05p\"],\"x0\":\" \",\"xaxis\":\"x\",\"y\":[60.0,60.0,60.0,60.0,60.0,60.0,60.0,60.0,60.0,60.0,60.0,60.0,60.0,60.0,60.0,60.0,60.0,60.0,60.0,60.0],\"y0\":\" \",\"yaxis\":\"y\",\"type\":\"box\"},{\"alignmentgroup\":\"True\",\"hovertemplate\":\"chrom=%{x}<br>Qual=%{y}<extra></extra>\",\"legendgroup\":\"chr05q\",\"marker\":{\"color\":\"#FECB52\"},\"name\":\"chr05q\",\"notched\":false,\"offsetgroup\":\"chr05q\",\"orientation\":\"v\",\"showlegend\":true,\"x\":[\"chr05q\",\"chr05q\",\"chr05q\",\"chr05q\",\"chr05q\",\"chr05q\",\"chr05q\",\"chr05q\",\"chr05q\",\"chr05q\",\"chr05q\",\"chr05q\",\"chr05q\",\"chr05q\",\"chr05q\",\"chr05q\",\"chr05q\",\"chr05q\",\"chr05q\",\"chr05q\"],\"x0\":\" \",\"xaxis\":\"x\",\"y\":[60.0,60.0,60.0,60.0,60.0,14.0,60.0,60.0,37.0,60.0,60.0,60.0,60.0,60.0,60.0,60.0,14.0,60.0,60.0,60.0],\"y0\":\" \",\"yaxis\":\"y\",\"type\":\"box\"},{\"alignmentgroup\":\"True\",\"hovertemplate\":\"chrom=%{x}<br>Qual=%{y}<extra></extra>\",\"legendgroup\":\"chr06p\",\"marker\":{\"color\":\"#636efa\"},\"name\":\"chr06p\",\"notched\":false,\"offsetgroup\":\"chr06p\",\"orientation\":\"v\",\"showlegend\":true,\"x\":[\"chr06p\",\"chr06p\",\"chr06p\",\"chr06p\",\"chr06p\",\"chr06p\",\"chr06p\"],\"x0\":\" \",\"xaxis\":\"x\",\"y\":[60.0,60.0,60.0,60.0,60.0,60.0,60.0],\"y0\":\" \",\"yaxis\":\"y\",\"type\":\"box\"},{\"alignmentgroup\":\"True\",\"hovertemplate\":\"chrom=%{x}<br>Qual=%{y}<extra></extra>\",\"legendgroup\":\"chr06q\",\"marker\":{\"color\":\"#EF553B\"},\"name\":\"chr06q\",\"notched\":false,\"offsetgroup\":\"chr06q\",\"orientation\":\"v\",\"showlegend\":true,\"x\":[\"chr06q\",\"chr06q\",\"chr06q\",\"chr06q\",\"chr06q\",\"chr06q\",\"chr06q\",\"chr06q\",\"chr06q\",\"chr06q\",\"chr06q\",\"chr06q\",\"chr06q\",\"chr06q\",\"chr06q\",\"chr06q\",\"chr06q\",\"chr06q\",\"chr06q\",\"chr06q\"],\"x0\":\" \",\"xaxis\":\"x\",\"y\":[60.0,60.0,60.0,60.0,37.0,43.0,60.0,60.0,60.0,59.0,48.0,18.0,60.0,44.5,52.5,55.5,26.5,60.0,50.0,60.0],\"y0\":\" \",\"yaxis\":\"y\",\"type\":\"box\"},{\"alignmentgroup\":\"True\",\"hovertemplate\":\"chrom=%{x}<br>Qual=%{y}<extra></extra>\",\"legendgroup\":\"chr07p\",\"marker\":{\"color\":\"#00cc96\"},\"name\":\"chr07p\",\"notched\":false,\"offsetgroup\":\"chr07p\",\"orientation\":\"v\",\"showlegend\":true,\"x\":[\"chr07p\",\"chr07p\",\"chr07p\",\"chr07p\",\"chr07p\",\"chr07p\",\"chr07p\",\"chr07p\",\"chr07p\",\"chr07p\",\"chr07p\",\"chr07p\",\"chr07p\",\"chr07p\",\"chr07p\",\"chr07p\",\"chr07p\",\"chr07p\",\"chr07p\",\"chr07p\"],\"x0\":\" \",\"xaxis\":\"x\",\"y\":[4.5,34.5,39.5,43.0,46.5,37.0,22.0,36.0,43.0,12.0,28.0,32.0,43.0,16.0,56.5,34.0,29.0,9.0,40.0,8.0],\"y0\":\" \",\"yaxis\":\"y\",\"type\":\"box\"},{\"alignmentgroup\":\"True\",\"hovertemplate\":\"chrom=%{x}<br>Qual=%{y}<extra></extra>\",\"legendgroup\":\"chr07q\",\"marker\":{\"color\":\"#ab63fa\"},\"name\":\"chr07q\",\"notched\":false,\"offsetgroup\":\"chr07q\",\"orientation\":\"v\",\"showlegend\":true,\"x\":[\"chr07q\",\"chr07q\",\"chr07q\",\"chr07q\",\"chr07q\",\"chr07q\",\"chr07q\",\"chr07q\",\"chr07q\",\"chr07q\",\"chr07q\",\"chr07q\",\"chr07q\",\"chr07q\",\"chr07q\",\"chr07q\",\"chr07q\",\"chr07q\",\"chr07q\",\"chr07q\"],\"x0\":\" \",\"xaxis\":\"x\",\"y\":[60.0,60.0,60.0,60.0,60.0,60.0,60.0,60.0,60.0,60.0,60.0,60.0,60.0,60.0,60.0,60.0,60.0,60.0,60.0,60.0],\"y0\":\" \",\"yaxis\":\"y\",\"type\":\"box\"},{\"alignmentgroup\":\"True\",\"hovertemplate\":\"chrom=%{x}<br>Qual=%{y}<extra></extra>\",\"legendgroup\":\"chr08p\",\"marker\":{\"color\":\"#FFA15A\"},\"name\":\"chr08p\",\"notched\":false,\"offsetgroup\":\"chr08p\",\"orientation\":\"v\",\"showlegend\":true,\"x\":[\"chr08p\",\"chr08p\",\"chr08p\",\"chr08p\",\"chr08p\",\"chr08p\",\"chr08p\",\"chr08p\",\"chr08p\",\"chr08p\",\"chr08p\",\"chr08p\",\"chr08p\",\"chr08p\",\"chr08p\",\"chr08p\"],\"x0\":\" \",\"xaxis\":\"x\",\"y\":[60.0,60.0,60.0,60.0,60.0,60.0,60.0,60.0,60.0,60.0,60.0,60.0,60.0,60.0,60.0,60.0],\"y0\":\" \",\"yaxis\":\"y\",\"type\":\"box\"},{\"alignmentgroup\":\"True\",\"hovertemplate\":\"chrom=%{x}<br>Qual=%{y}<extra></extra>\",\"legendgroup\":\"chr08q\",\"marker\":{\"color\":\"#19d3f3\"},\"name\":\"chr08q\",\"notched\":false,\"offsetgroup\":\"chr08q\",\"orientation\":\"v\",\"showlegend\":true,\"x\":[\"chr08q\",\"chr08q\",\"chr08q\",\"chr08q\",\"chr08q\",\"chr08q\",\"chr08q\",\"chr08q\",\"chr08q\",\"chr08q\",\"chr08q\",\"chr08q\"],\"x0\":\" \",\"xaxis\":\"x\",\"y\":[60.0,60.0,60.0,60.0,60.0,60.0,60.0,60.0,60.0,60.0,60.0,60.0],\"y0\":\" \",\"yaxis\":\"y\",\"type\":\"box\"},{\"alignmentgroup\":\"True\",\"hovertemplate\":\"chrom=%{x}<br>Qual=%{y}<extra></extra>\",\"legendgroup\":\"chr09p\",\"marker\":{\"color\":\"#FF6692\"},\"name\":\"chr09p\",\"notched\":false,\"offsetgroup\":\"chr09p\",\"orientation\":\"v\",\"showlegend\":true,\"x\":[\"chr09p\",\"chr09p\",\"chr09p\",\"chr09p\",\"chr09p\",\"chr09p\",\"chr09p\",\"chr09p\",\"chr09p\",\"chr09p\",\"chr09p\",\"chr09p\",\"chr09p\",\"chr09p\",\"chr09p\",\"chr09p\",\"chr09p\",\"chr09p\",\"chr09p\",\"chr09p\"],\"x0\":\" \",\"xaxis\":\"x\",\"y\":[1.0,1.0,1.0,1.0,5.5,1.0,1.0,1.0,1.0,1.0,1.0,1.0,1.0,5.0,1.0,1.0,1.0,1.0,1.0,1.0],\"y0\":\" \",\"yaxis\":\"y\",\"type\":\"box\"},{\"alignmentgroup\":\"True\",\"hovertemplate\":\"chrom=%{x}<br>Qual=%{y}<extra></extra>\",\"legendgroup\":\"chr09q\",\"marker\":{\"color\":\"#B6E880\"},\"name\":\"chr09q\",\"notched\":false,\"offsetgroup\":\"chr09q\",\"orientation\":\"v\",\"showlegend\":true,\"x\":[\"chr09q\",\"chr09q\",\"chr09q\",\"chr09q\",\"chr09q\",\"chr09q\",\"chr09q\",\"chr09q\",\"chr09q\",\"chr09q\",\"chr09q\",\"chr09q\",\"chr09q\",\"chr09q\",\"chr09q\",\"chr09q\",\"chr09q\",\"chr09q\",\"chr09q\",\"chr09q\"],\"x0\":\" \",\"xaxis\":\"x\",\"y\":[58.5,1.0,60.0,60.0,56.0,5.0,57.5,4.0,55.0,6.5,46.0,51.0,16.0,1.0,60.0,60.0,58.5,60.0,60.0,1.0],\"y0\":\" \",\"yaxis\":\"y\",\"type\":\"box\"},{\"alignmentgroup\":\"True\",\"hovertemplate\":\"chrom=%{x}<br>Qual=%{y}<extra></extra>\",\"legendgroup\":\"chr10p\",\"marker\":{\"color\":\"#FF97FF\"},\"name\":\"chr10p\",\"notched\":false,\"offsetgroup\":\"chr10p\",\"orientation\":\"v\",\"showlegend\":true,\"x\":[\"chr10p\",\"chr10p\",\"chr10p\",\"chr10p\",\"chr10p\",\"chr10p\",\"chr10p\",\"chr10p\",\"chr10p\",\"chr10p\",\"chr10p\",\"chr10p\",\"chr10p\",\"chr10p\",\"chr10p\",\"chr10p\",\"chr10p\",\"chr10p\",\"chr10p\",\"chr10p\"],\"x0\":\" \",\"xaxis\":\"x\",\"y\":[52.5,36.5,15.0,50.0,50.0,41.5,39.0,34.0,39.0,2.0,42.0,15.5,51.0,45.5,47.0,32.0,48.0,40.0,19.0,19.5],\"y0\":\" \",\"yaxis\":\"y\",\"type\":\"box\"},{\"alignmentgroup\":\"True\",\"hovertemplate\":\"chrom=%{x}<br>Qual=%{y}<extra></extra>\",\"legendgroup\":\"chr10q\",\"marker\":{\"color\":\"#FECB52\"},\"name\":\"chr10q\",\"notched\":false,\"offsetgroup\":\"chr10q\",\"orientation\":\"v\",\"showlegend\":true,\"x\":[\"chr10q\",\"chr10q\",\"chr10q\",\"chr10q\",\"chr10q\",\"chr10q\",\"chr10q\",\"chr10q\",\"chr10q\",\"chr10q\",\"chr10q\",\"chr10q\",\"chr10q\",\"chr10q\",\"chr10q\",\"chr10q\",\"chr10q\",\"chr10q\",\"chr10q\",\"chr10q\"],\"x0\":\" \",\"xaxis\":\"x\",\"y\":[11.0,60.0,35.0,47.0,35.0,60.0,60.0,60.0,60.0,60.0,60.0,60.0,53.5,60.0,30.0,1.0,17.5,27.5,60.0,26.0],\"y0\":\" \",\"yaxis\":\"y\",\"type\":\"box\"},{\"alignmentgroup\":\"True\",\"hovertemplate\":\"chrom=%{x}<br>Qual=%{y}<extra></extra>\",\"legendgroup\":\"chr11p\",\"marker\":{\"color\":\"#636efa\"},\"name\":\"chr11p\",\"notched\":false,\"offsetgroup\":\"chr11p\",\"orientation\":\"v\",\"showlegend\":true,\"x\":[\"chr11p\",\"chr11p\",\"chr11p\",\"chr11p\",\"chr11p\",\"chr11p\",\"chr11p\",\"chr11p\",\"chr11p\",\"chr11p\",\"chr11p\",\"chr11p\",\"chr11p\",\"chr11p\",\"chr11p\",\"chr11p\",\"chr11p\",\"chr11p\",\"chr11p\",\"chr11p\"],\"x0\":\" \",\"xaxis\":\"x\",\"y\":[21.0,15.0,26.0,19.0,25.0,29.0,21.0,24.0,26.0,23.0,25.0,31.0,29.5,25.0,22.0,16.0,1.0,21.0,28.0,30.0],\"y0\":\" \",\"yaxis\":\"y\",\"type\":\"box\"},{\"alignmentgroup\":\"True\",\"hovertemplate\":\"chrom=%{x}<br>Qual=%{y}<extra></extra>\",\"legendgroup\":\"chr11q\",\"marker\":{\"color\":\"#EF553B\"},\"name\":\"chr11q\",\"notched\":false,\"offsetgroup\":\"chr11q\",\"orientation\":\"v\",\"showlegend\":true,\"x\":[\"chr11q\",\"chr11q\",\"chr11q\",\"chr11q\",\"chr11q\",\"chr11q\",\"chr11q\",\"chr11q\",\"chr11q\",\"chr11q\",\"chr11q\",\"chr11q\",\"chr11q\",\"chr11q\",\"chr11q\",\"chr11q\",\"chr11q\",\"chr11q\",\"chr11q\",\"chr11q\"],\"x0\":\" \",\"xaxis\":\"x\",\"y\":[60.0,60.0,60.0,60.0,60.0,60.0,60.0,60.0,60.0,60.0,60.0,60.0,60.0,60.0,60.0,60.0,60.0,60.0,60.0,60.0],\"y0\":\" \",\"yaxis\":\"y\",\"type\":\"box\"},{\"alignmentgroup\":\"True\",\"hovertemplate\":\"chrom=%{x}<br>Qual=%{y}<extra></extra>\",\"legendgroup\":\"chr12p\",\"marker\":{\"color\":\"#00cc96\"},\"name\":\"chr12p\",\"notched\":false,\"offsetgroup\":\"chr12p\",\"orientation\":\"v\",\"showlegend\":true,\"x\":[\"chr12p\",\"chr12p\",\"chr12p\",\"chr12p\",\"chr12p\",\"chr12p\",\"chr12p\",\"chr12p\",\"chr12p\",\"chr12p\",\"chr12p\",\"chr12p\",\"chr12p\",\"chr12p\",\"chr12p\",\"chr12p\",\"chr12p\",\"chr12p\",\"chr12p\",\"chr12p\"],\"x0\":\" \",\"xaxis\":\"x\",\"y\":[11.0,1.0,2.0,1.0,4.0,24.0,1.0,1.0,1.0,1.0,7.0,5.0,2.0,16.0,1.0,19.0,3.0,1.0,1.0,10.5],\"y0\":\" \",\"yaxis\":\"y\",\"type\":\"box\"},{\"alignmentgroup\":\"True\",\"hovertemplate\":\"chrom=%{x}<br>Qual=%{y}<extra></extra>\",\"legendgroup\":\"chr12q\",\"marker\":{\"color\":\"#ab63fa\"},\"name\":\"chr12q\",\"notched\":false,\"offsetgroup\":\"chr12q\",\"orientation\":\"v\",\"showlegend\":true,\"x\":[\"chr12q\",\"chr12q\",\"chr12q\",\"chr12q\",\"chr12q\",\"chr12q\",\"chr12q\",\"chr12q\",\"chr12q\",\"chr12q\",\"chr12q\",\"chr12q\",\"chr12q\",\"chr12q\",\"chr12q\",\"chr12q\",\"chr12q\",\"chr12q\",\"chr12q\",\"chr12q\"],\"x0\":\" \",\"xaxis\":\"x\",\"y\":[60.0,60.0,60.0,60.0,60.0,60.0,60.0,60.0,60.0,60.0,60.0,60.0,60.0,60.0,60.0,60.0,60.0,60.0,60.0,60.0],\"y0\":\" \",\"yaxis\":\"y\",\"type\":\"box\"},{\"alignmentgroup\":\"True\",\"hovertemplate\":\"chrom=%{x}<br>Qual=%{y}<extra></extra>\",\"legendgroup\":\"chr13p\",\"marker\":{\"color\":\"#FFA15A\"},\"name\":\"chr13p\",\"notched\":false,\"offsetgroup\":\"chr13p\",\"orientation\":\"v\",\"showlegend\":true,\"x\":[\"chr13p\",\"chr13p\",\"chr13p\",\"chr13p\",\"chr13p\",\"chr13p\",\"chr13p\",\"chr13p\",\"chr13p\",\"chr13p\",\"chr13p\"],\"x0\":\" \",\"xaxis\":\"x\",\"y\":[60.0,60.0,60.0,60.0,60.0,60.0,60.0,60.0,60.0,60.0,34.0],\"y0\":\" \",\"yaxis\":\"y\",\"type\":\"box\"},{\"alignmentgroup\":\"True\",\"hovertemplate\":\"chrom=%{x}<br>Qual=%{y}<extra></extra>\",\"legendgroup\":\"chr13q\",\"marker\":{\"color\":\"#19d3f3\"},\"name\":\"chr13q\",\"notched\":false,\"offsetgroup\":\"chr13q\",\"orientation\":\"v\",\"showlegend\":true,\"x\":[\"chr13q\",\"chr13q\",\"chr13q\",\"chr13q\",\"chr13q\",\"chr13q\",\"chr13q\",\"chr13q\",\"chr13q\",\"chr13q\",\"chr13q\",\"chr13q\",\"chr13q\",\"chr13q\",\"chr13q\",\"chr13q\",\"chr13q\",\"chr13q\",\"chr13q\",\"chr13q\"],\"x0\":\" \",\"xaxis\":\"x\",\"y\":[60.0,60.0,60.0,60.0,60.0,60.0,60.0,60.0,60.0,60.0,60.0,60.0,60.0,60.0,60.0,60.0,60.0,60.0,60.0,60.0],\"y0\":\" \",\"yaxis\":\"y\",\"type\":\"box\"},{\"alignmentgroup\":\"True\",\"hovertemplate\":\"chrom=%{x}<br>Qual=%{y}<extra></extra>\",\"legendgroup\":\"chr14p\",\"marker\":{\"color\":\"#FF6692\"},\"name\":\"chr14p\",\"notched\":false,\"offsetgroup\":\"chr14p\",\"orientation\":\"v\",\"showlegend\":true,\"x\":[\"chr14p\",\"chr14p\",\"chr14p\",\"chr14p\",\"chr14p\",\"chr14p\"],\"x0\":\" \",\"xaxis\":\"x\",\"y\":[60.0,60.0,60.0,60.0,57.0,60.0],\"y0\":\" \",\"yaxis\":\"y\",\"type\":\"box\"},{\"alignmentgroup\":\"True\",\"hovertemplate\":\"chrom=%{x}<br>Qual=%{y}<extra></extra>\",\"legendgroup\":\"chr14q\",\"marker\":{\"color\":\"#B6E880\"},\"name\":\"chr14q\",\"notched\":false,\"offsetgroup\":\"chr14q\",\"orientation\":\"v\",\"showlegend\":true,\"x\":[\"chr14q\",\"chr14q\",\"chr14q\",\"chr14q\",\"chr14q\",\"chr14q\",\"chr14q\",\"chr14q\",\"chr14q\",\"chr14q\",\"chr14q\",\"chr14q\",\"chr14q\",\"chr14q\",\"chr14q\",\"chr14q\",\"chr14q\",\"chr14q\",\"chr14q\",\"chr14q\"],\"x0\":\" \",\"xaxis\":\"x\",\"y\":[60.0,60.0,60.0,60.0,60.0,60.0,60.0,60.0,60.0,60.0,60.0,60.0,60.0,60.0,60.0,60.0,60.0,60.0,60.0,60.0],\"y0\":\" \",\"yaxis\":\"y\",\"type\":\"box\"},{\"alignmentgroup\":\"True\",\"hovertemplate\":\"chrom=%{x}<br>Qual=%{y}<extra></extra>\",\"legendgroup\":\"chr15p\",\"marker\":{\"color\":\"#FF97FF\"},\"name\":\"chr15p\",\"notched\":false,\"offsetgroup\":\"chr15p\",\"orientation\":\"v\",\"showlegend\":true,\"x\":[\"chr15p\",\"chr15p\",\"chr15p\",\"chr15p\",\"chr15p\",\"chr15p\",\"chr15p\",\"chr15p\",\"chr15p\",\"chr15p\",\"chr15p\",\"chr15p\",\"chr15p\",\"chr15p\",\"chr15p\",\"chr15p\",\"chr15p\",\"chr15p\",\"chr15p\",\"chr15p\"],\"x0\":\" \",\"xaxis\":\"x\",\"y\":[3.0,3.0,12.0,5.0,4.0,4.0,3.0,4.0,5.0,2.0,5.0,3.0,9.0,6.0,2.0,2.0,1.0,7.0,4.0,1.0],\"y0\":\" \",\"yaxis\":\"y\",\"type\":\"box\"},{\"alignmentgroup\":\"True\",\"hovertemplate\":\"chrom=%{x}<br>Qual=%{y}<extra></extra>\",\"legendgroup\":\"chr15q\",\"marker\":{\"color\":\"#FECB52\"},\"name\":\"chr15q\",\"notched\":false,\"offsetgroup\":\"chr15q\",\"orientation\":\"v\",\"showlegend\":true,\"x\":[\"chr15q\",\"chr15q\",\"chr15q\",\"chr15q\",\"chr15q\",\"chr15q\",\"chr15q\",\"chr15q\",\"chr15q\",\"chr15q\",\"chr15q\",\"chr15q\",\"chr15q\",\"chr15q\",\"chr15q\",\"chr15q\",\"chr15q\",\"chr15q\",\"chr15q\",\"chr15q\"],\"x0\":\" \",\"xaxis\":\"x\",\"y\":[29.0,29.0,36.0,35.0,25.0,31.0,28.5,32.0,38.5,37.0,26.0,28.0,17.0,45.5,24.5,30.0,34.0,19.0,28.0,34.0],\"y0\":\" \",\"yaxis\":\"y\",\"type\":\"box\"},{\"alignmentgroup\":\"True\",\"hovertemplate\":\"chrom=%{x}<br>Qual=%{y}<extra></extra>\",\"legendgroup\":\"chr16p\",\"marker\":{\"color\":\"#636efa\"},\"name\":\"chr16p\",\"notched\":false,\"offsetgroup\":\"chr16p\",\"orientation\":\"v\",\"showlegend\":true,\"x\":[\"chr16p\",\"chr16p\",\"chr16p\",\"chr16p\",\"chr16p\",\"chr16p\",\"chr16p\",\"chr16p\",\"chr16p\",\"chr16p\",\"chr16p\",\"chr16p\",\"chr16p\",\"chr16p\",\"chr16p\",\"chr16p\",\"chr16p\",\"chr16p\",\"chr16p\",\"chr16p\"],\"x0\":\" \",\"xaxis\":\"x\",\"y\":[4.5,1.0,1.0,13.0,8.0,4.0,1.0,4.0,12.0,2.0,1.5,3.0,10.0,4.0,12.0,11.0,1.0,4.0,3.0,4.0],\"y0\":\" \",\"yaxis\":\"y\",\"type\":\"box\"},{\"alignmentgroup\":\"True\",\"hovertemplate\":\"chrom=%{x}<br>Qual=%{y}<extra></extra>\",\"legendgroup\":\"chr16q\",\"marker\":{\"color\":\"#EF553B\"},\"name\":\"chr16q\",\"notched\":false,\"offsetgroup\":\"chr16q\",\"orientation\":\"v\",\"showlegend\":true,\"x\":[\"chr16q\",\"chr16q\",\"chr16q\",\"chr16q\",\"chr16q\",\"chr16q\",\"chr16q\",\"chr16q\",\"chr16q\",\"chr16q\",\"chr16q\",\"chr16q\",\"chr16q\",\"chr16q\",\"chr16q\",\"chr16q\",\"chr16q\",\"chr16q\",\"chr16q\",\"chr16q\"],\"x0\":\" \",\"xaxis\":\"x\",\"y\":[16.0,3.0,21.0,33.5,25.0,32.0,28.0,15.5,19.0,24.0,18.0,43.0,33.5,15.0,51.0,21.0,33.0,34.0,33.0,24.0],\"y0\":\" \",\"yaxis\":\"y\",\"type\":\"box\"},{\"alignmentgroup\":\"True\",\"hovertemplate\":\"chrom=%{x}<br>Qual=%{y}<extra></extra>\",\"legendgroup\":\"chr17p\",\"marker\":{\"color\":\"#00cc96\"},\"name\":\"chr17p\",\"notched\":false,\"offsetgroup\":\"chr17p\",\"orientation\":\"v\",\"showlegend\":true,\"x\":[\"chr17p\",\"chr17p\",\"chr17p\",\"chr17p\",\"chr17p\",\"chr17p\",\"chr17p\",\"chr17p\",\"chr17p\",\"chr17p\",\"chr17p\",\"chr17p\",\"chr17p\",\"chr17p\",\"chr17p\",\"chr17p\",\"chr17p\",\"chr17p\"],\"x0\":\" \",\"xaxis\":\"x\",\"y\":[60.0,60.0,60.0,60.0,60.0,57.5,60.0,60.0,60.0,60.0,60.0,60.0,60.0,60.0,60.0,60.0,60.0,60.0],\"y0\":\" \",\"yaxis\":\"y\",\"type\":\"box\"},{\"alignmentgroup\":\"True\",\"hovertemplate\":\"chrom=%{x}<br>Qual=%{y}<extra></extra>\",\"legendgroup\":\"chr17q\",\"marker\":{\"color\":\"#ab63fa\"},\"name\":\"chr17q\",\"notched\":false,\"offsetgroup\":\"chr17q\",\"orientation\":\"v\",\"showlegend\":true,\"x\":[\"chr17q\",\"chr17q\",\"chr17q\",\"chr17q\",\"chr17q\",\"chr17q\",\"chr17q\",\"chr17q\",\"chr17q\",\"chr17q\",\"chr17q\",\"chr17q\",\"chr17q\",\"chr17q\",\"chr17q\",\"chr17q\",\"chr17q\",\"chr17q\",\"chr17q\",\"chr17q\"],\"x0\":\" \",\"xaxis\":\"x\",\"y\":[60.0,18.0,60.0,60.0,60.0,60.0,60.0,60.0,60.0,60.0,1.0,60.0,60.0,1.0,1.0,1.0,60.0,60.0,60.0,1.0],\"y0\":\" \",\"yaxis\":\"y\",\"type\":\"box\"},{\"alignmentgroup\":\"True\",\"hovertemplate\":\"chrom=%{x}<br>Qual=%{y}<extra></extra>\",\"legendgroup\":\"chr18p\",\"marker\":{\"color\":\"#FFA15A\"},\"name\":\"chr18p\",\"notched\":false,\"offsetgroup\":\"chr18p\",\"orientation\":\"v\",\"showlegend\":true,\"x\":[\"chr18p\",\"chr18p\",\"chr18p\",\"chr18p\",\"chr18p\",\"chr18p\",\"chr18p\",\"chr18p\",\"chr18p\",\"chr18p\",\"chr18p\",\"chr18p\",\"chr18p\",\"chr18p\",\"chr18p\",\"chr18p\",\"chr18p\",\"chr18p\",\"chr18p\",\"chr18p\"],\"x0\":\" \",\"xaxis\":\"x\",\"y\":[1.0,12.5,1.0,1.0,1.0,1.0,0.5,9.0,1.0,4.0,11.0,1.0,5.0,1.0,1.0,1.0,4.5,1.0,1.0,1.5],\"y0\":\" \",\"yaxis\":\"y\",\"type\":\"box\"},{\"alignmentgroup\":\"True\",\"hovertemplate\":\"chrom=%{x}<br>Qual=%{y}<extra></extra>\",\"legendgroup\":\"chr18q\",\"marker\":{\"color\":\"#19d3f3\"},\"name\":\"chr18q\",\"notched\":false,\"offsetgroup\":\"chr18q\",\"orientation\":\"v\",\"showlegend\":true,\"x\":[\"chr18q\",\"chr18q\",\"chr18q\",\"chr18q\",\"chr18q\",\"chr18q\",\"chr18q\",\"chr18q\",\"chr18q\",\"chr18q\",\"chr18q\",\"chr18q\",\"chr18q\",\"chr18q\",\"chr18q\",\"chr18q\",\"chr18q\",\"chr18q\",\"chr18q\",\"chr18q\"],\"x0\":\" \",\"xaxis\":\"x\",\"y\":[60.0,60.0,60.0,60.0,60.0,60.0,60.0,60.0,60.0,60.0,60.0,60.0,60.0,60.0,60.0,60.0,60.0,60.0,60.0,60.0],\"y0\":\" \",\"yaxis\":\"y\",\"type\":\"box\"},{\"alignmentgroup\":\"True\",\"hovertemplate\":\"chrom=%{x}<br>Qual=%{y}<extra></extra>\",\"legendgroup\":\"chr19p\",\"marker\":{\"color\":\"#FF6692\"},\"name\":\"chr19p\",\"notched\":false,\"offsetgroup\":\"chr19p\",\"orientation\":\"v\",\"showlegend\":true,\"x\":[\"chr19p\",\"chr19p\",\"chr19p\",\"chr19p\",\"chr19p\",\"chr19p\",\"chr19p\",\"chr19p\",\"chr19p\",\"chr19p\",\"chr19p\",\"chr19p\",\"chr19p\",\"chr19p\",\"chr19p\",\"chr19p\",\"chr19p\",\"chr19p\",\"chr19p\",\"chr19p\"],\"x0\":\" \",\"xaxis\":\"x\",\"y\":[1.0,35.0,13.0,1.0,9.5,1.0,1.0,1.0,1.0,1.0,1.0,1.0,1.0,1.0,1.0,9.0,1.0,1.0,1.0,1.0],\"y0\":\" \",\"yaxis\":\"y\",\"type\":\"box\"},{\"alignmentgroup\":\"True\",\"hovertemplate\":\"chrom=%{x}<br>Qual=%{y}<extra></extra>\",\"legendgroup\":\"chr19q\",\"marker\":{\"color\":\"#B6E880\"},\"name\":\"chr19q\",\"notched\":false,\"offsetgroup\":\"chr19q\",\"orientation\":\"v\",\"showlegend\":true,\"x\":[\"chr19q\",\"chr19q\",\"chr19q\",\"chr19q\",\"chr19q\",\"chr19q\",\"chr19q\",\"chr19q\",\"chr19q\",\"chr19q\",\"chr19q\",\"chr19q\",\"chr19q\",\"chr19q\",\"chr19q\",\"chr19q\",\"chr19q\",\"chr19q\",\"chr19q\",\"chr19q\"],\"x0\":\" \",\"xaxis\":\"x\",\"y\":[60.0,60.0,60.0,60.0,60.0,60.0,60.0,60.0,60.0,60.0,60.0,60.0,60.0,60.0,60.0,60.0,60.0,60.0,60.0,60.0],\"y0\":\" \",\"yaxis\":\"y\",\"type\":\"box\"},{\"alignmentgroup\":\"True\",\"hovertemplate\":\"chrom=%{x}<br>Qual=%{y}<extra></extra>\",\"legendgroup\":\"chr20p\",\"marker\":{\"color\":\"#FF97FF\"},\"name\":\"chr20p\",\"notched\":false,\"offsetgroup\":\"chr20p\",\"orientation\":\"v\",\"showlegend\":true,\"x\":[\"chr20p\",\"chr20p\",\"chr20p\",\"chr20p\",\"chr20p\",\"chr20p\",\"chr20p\",\"chr20p\",\"chr20p\",\"chr20p\",\"chr20p\",\"chr20p\",\"chr20p\",\"chr20p\",\"chr20p\",\"chr20p\",\"chr20p\",\"chr20p\",\"chr20p\",\"chr20p\"],\"x0\":\" \",\"xaxis\":\"x\",\"y\":[60.0,60.0,17.5,60.0,23.0,60.0,1.0,60.0,59.0,1.0,60.0,60.0,37.0,60.0,35.5,1.0,48.0,60.0,60.0,60.0],\"y0\":\" \",\"yaxis\":\"y\",\"type\":\"box\"},{\"alignmentgroup\":\"True\",\"hovertemplate\":\"chrom=%{x}<br>Qual=%{y}<extra></extra>\",\"legendgroup\":\"chr20q\",\"marker\":{\"color\":\"#FECB52\"},\"name\":\"chr20q\",\"notched\":false,\"offsetgroup\":\"chr20q\",\"orientation\":\"v\",\"showlegend\":true,\"x\":[\"chr20q\",\"chr20q\",\"chr20q\",\"chr20q\",\"chr20q\",\"chr20q\",\"chr20q\",\"chr20q\",\"chr20q\",\"chr20q\",\"chr20q\",\"chr20q\",\"chr20q\",\"chr20q\",\"chr20q\",\"chr20q\",\"chr20q\",\"chr20q\",\"chr20q\",\"chr20q\"],\"x0\":\" \",\"xaxis\":\"x\",\"y\":[1.0,1.5,1.0,1.0,6.0,6.0,5.0,1.0,20.5,2.0,8.0,1.0,1.0,16.0,1.0,1.0,5.0,1.0,8.0,1.0],\"y0\":\" \",\"yaxis\":\"y\",\"type\":\"box\"},{\"alignmentgroup\":\"True\",\"hovertemplate\":\"chrom=%{x}<br>Qual=%{y}<extra></extra>\",\"legendgroup\":\"chr21p\",\"marker\":{\"color\":\"#636efa\"},\"name\":\"chr21p\",\"notched\":false,\"offsetgroup\":\"chr21p\",\"orientation\":\"v\",\"showlegend\":true,\"x\":[\"chr21p\",\"chr21p\",\"chr21p\",\"chr21p\",\"chr21p\",\"chr21p\",\"chr21p\",\"chr21p\",\"chr21p\",\"chr21p\",\"chr21p\",\"chr21p\",\"chr21p\",\"chr21p\",\"chr21p\",\"chr21p\",\"chr21p\",\"chr21p\",\"chr21p\",\"chr21p\"],\"x0\":\" \",\"xaxis\":\"x\",\"y\":[4.0,3.0,4.0,4.0,3.0,3.0,4.0,2.0,8.0,4.0,2.0,2.0,3.0,5.0,3.0,2.0,5.0,5.0,4.5,3.5],\"y0\":\" \",\"yaxis\":\"y\",\"type\":\"box\"},{\"alignmentgroup\":\"True\",\"hovertemplate\":\"chrom=%{x}<br>Qual=%{y}<extra></extra>\",\"legendgroup\":\"chr21q\",\"marker\":{\"color\":\"#EF553B\"},\"name\":\"chr21q\",\"notched\":false,\"offsetgroup\":\"chr21q\",\"orientation\":\"v\",\"showlegend\":true,\"x\":[\"chr21q\",\"chr21q\",\"chr21q\",\"chr21q\",\"chr21q\",\"chr21q\",\"chr21q\",\"chr21q\",\"chr21q\",\"chr21q\",\"chr21q\",\"chr21q\",\"chr21q\",\"chr21q\",\"chr21q\",\"chr21q\",\"chr21q\",\"chr21q\",\"chr21q\",\"chr21q\"],\"x0\":\" \",\"xaxis\":\"x\",\"y\":[60.0,60.0,60.0,60.0,60.0,60.0,60.0,60.0,60.0,60.0,60.0,60.0,60.0,60.0,60.0,60.0,60.0,60.0,60.0,60.0],\"y0\":\" \",\"yaxis\":\"y\",\"type\":\"box\"},{\"alignmentgroup\":\"True\",\"hovertemplate\":\"chrom=%{x}<br>Qual=%{y}<extra></extra>\",\"legendgroup\":\"chr22p\",\"marker\":{\"color\":\"#00cc96\"},\"name\":\"chr22p\",\"notched\":false,\"offsetgroup\":\"chr22p\",\"orientation\":\"v\",\"showlegend\":true,\"x\":[\"chr22p\",\"chr22p\",\"chr22p\",\"chr22p\",\"chr22p\",\"chr22p\",\"chr22p\",\"chr22p\",\"chr22p\",\"chr22p\",\"chr22p\",\"chr22p\",\"chr22p\",\"chr22p\",\"chr22p\",\"chr22p\",\"chr22p\",\"chr22p\",\"chr22p\",\"chr22p\"],\"x0\":\" \",\"xaxis\":\"x\",\"y\":[3.5,4.0,1.0,1.0,6.0,5.5,7.0,2.5,1.0,9.0,5.0,14.0,1.0,2.0,2.5,2.0,1.0,2.0,2.0,1.0],\"y0\":\" \",\"yaxis\":\"y\",\"type\":\"box\"},{\"alignmentgroup\":\"True\",\"hovertemplate\":\"chrom=%{x}<br>Qual=%{y}<extra></extra>\",\"legendgroup\":\"chr22q\",\"marker\":{\"color\":\"#ab63fa\"},\"name\":\"chr22q\",\"notched\":false,\"offsetgroup\":\"chr22q\",\"orientation\":\"v\",\"showlegend\":true,\"x\":[\"chr22q\",\"chr22q\",\"chr22q\",\"chr22q\",\"chr22q\",\"chr22q\",\"chr22q\",\"chr22q\",\"chr22q\",\"chr22q\",\"chr22q\",\"chr22q\",\"chr22q\",\"chr22q\",\"chr22q\",\"chr22q\",\"chr22q\",\"chr22q\",\"chr22q\",\"chr22q\"],\"x0\":\" \",\"xaxis\":\"x\",\"y\":[60.0,60.0,60.0,60.0,60.0,60.0,60.0,60.0,60.0,60.0,60.0,60.0,60.0,60.0,60.0,60.0,60.0,60.0,60.0,60.0],\"y0\":\" \",\"yaxis\":\"y\",\"type\":\"box\"},{\"alignmentgroup\":\"True\",\"hovertemplate\":\"chrom=%{x}<br>Qual=%{y}<extra></extra>\",\"legendgroup\":\"chrXp\",\"marker\":{\"color\":\"#FFA15A\"},\"name\":\"chrXp\",\"notched\":false,\"offsetgroup\":\"chrXp\",\"orientation\":\"v\",\"showlegend\":true,\"x\":[\"chrXp\",\"chrXp\",\"chrXp\",\"chrXp\",\"chrXp\",\"chrXp\",\"chrXp\",\"chrXp\",\"chrXp\",\"chrXp\",\"chrXp\",\"chrXp\",\"chrXp\",\"chrXp\",\"chrXp\",\"chrXp\",\"chrXp\",\"chrXp\",\"chrXp\",\"chrXp\"],\"x0\":\" \",\"xaxis\":\"x\",\"y\":[54.0,1.0,60.0,33.0,60.0,60.0,58.0,50.0,1.0,37.0,25.0,60.0,46.0,58.0,60.0,60.0,58.0,33.0,60.0,60.0],\"y0\":\" \",\"yaxis\":\"y\",\"type\":\"box\"},{\"alignmentgroup\":\"True\",\"hovertemplate\":\"chrom=%{x}<br>Qual=%{y}<extra></extra>\",\"legendgroup\":\"chrXq\",\"marker\":{\"color\":\"#19d3f3\"},\"name\":\"chrXq\",\"notched\":false,\"offsetgroup\":\"chrXq\",\"orientation\":\"v\",\"showlegend\":true,\"x\":[\"chrXq\",\"chrXq\",\"chrXq\",\"chrXq\",\"chrXq\",\"chrXq\",\"chrXq\",\"chrXq\",\"chrXq\",\"chrXq\",\"chrXq\",\"chrXq\",\"chrXq\",\"chrXq\",\"chrXq\",\"chrXq\",\"chrXq\",\"chrXq\",\"chrXq\",\"chrXq\"],\"x0\":\" \",\"xaxis\":\"x\",\"y\":[1.0,1.0,1.0,1.0,1.0,1.0,1.0,1.0,1.0,1.0,1.0,1.0,1.0,1.0,1.0,1.0,1.0,1.0,1.0,1.0],\"y0\":\" \",\"yaxis\":\"y\",\"type\":\"box\"},{\"alignmentgroup\":\"True\",\"hovertemplate\":\"chrom=%{x}<br>Qual=%{y}<extra></extra>\",\"legendgroup\":\"chrYp\",\"marker\":{\"color\":\"#FF6692\"},\"name\":\"chrYp\",\"notched\":false,\"offsetgroup\":\"chrYp\",\"orientation\":\"v\",\"showlegend\":true,\"x\":[\"chrYp\",\"chrYp\",\"chrYp\",\"chrYp\",\"chrYp\",\"chrYp\",\"chrYp\",\"chrYp\",\"chrYp\",\"chrYp\",\"chrYp\",\"chrYp\",\"chrYp\",\"chrYp\",\"chrYp\",\"chrYp\",\"chrYp\",\"chrYp\",\"chrYp\",\"chrYp\"],\"x0\":\" \",\"xaxis\":\"x\",\"y\":[60.0,60.0,60.0,60.0,60.0,60.0,60.0,60.0,60.0,60.0,60.0,57.0,60.0,60.0,60.0,60.0,60.0,60.0,60.0,60.0],\"y0\":\" \",\"yaxis\":\"y\",\"type\":\"box\"},{\"alignmentgroup\":\"True\",\"hovertemplate\":\"chrom=%{x}<br>Qual=%{y}<extra></extra>\",\"legendgroup\":\"chrYq\",\"marker\":{\"color\":\"#B6E880\"},\"name\":\"chrYq\",\"notched\":false,\"offsetgroup\":\"chrYq\",\"orientation\":\"v\",\"showlegend\":true,\"x\":[\"chrYq\",\"chrYq\",\"chrYq\",\"chrYq\",\"chrYq\",\"chrYq\",\"chrYq\",\"chrYq\",\"chrYq\",\"chrYq\",\"chrYq\",\"chrYq\",\"chrYq\",\"chrYq\",\"chrYq\",\"chrYq\",\"chrYq\",\"chrYq\",\"chrYq\",\"chrYq\"],\"x0\":\" \",\"xaxis\":\"x\",\"y\":[1.0,1.0,1.0,2.0,1.0,1.0,1.0,1.0,3.0,1.0,1.0,6.0,1.0,1.0,4.0,4.0,1.0,1.0,4.0,2.0],\"y0\":\" \",\"yaxis\":\"y\",\"type\":\"box\"}],                        {\"template\":{\"data\":{\"bar\":[{\"error_x\":{\"color\":\"#2a3f5f\"},\"error_y\":{\"color\":\"#2a3f5f\"},\"marker\":{\"line\":{\"color\":\"#E5ECF6\",\"width\":0.5},\"pattern\":{\"fillmode\":\"overlay\",\"size\":10,\"solidity\":0.2}},\"type\":\"bar\"}],\"barpolar\":[{\"marker\":{\"line\":{\"color\":\"#E5ECF6\",\"width\":0.5},\"pattern\":{\"fillmode\":\"overlay\",\"size\":10,\"solidity\":0.2}},\"type\":\"barpolar\"}],\"carpet\":[{\"aaxis\":{\"endlinecolor\":\"#2a3f5f\",\"gridcolor\":\"white\",\"linecolor\":\"white\",\"minorgridcolor\":\"white\",\"startlinecolor\":\"#2a3f5f\"},\"baxis\":{\"endlinecolor\":\"#2a3f5f\",\"gridcolor\":\"white\",\"linecolor\":\"white\",\"minorgridcolor\":\"white\",\"startlinecolor\":\"#2a3f5f\"},\"type\":\"carpet\"}],\"choropleth\":[{\"colorbar\":{\"outlinewidth\":0,\"ticks\":\"\"},\"type\":\"choropleth\"}],\"contour\":[{\"colorbar\":{\"outlinewidth\":0,\"ticks\":\"\"},\"colorscale\":[[0.0,\"#0d0887\"],[0.1111111111111111,\"#46039f\"],[0.2222222222222222,\"#7201a8\"],[0.3333333333333333,\"#9c179e\"],[0.4444444444444444,\"#bd3786\"],[0.5555555555555556,\"#d8576b\"],[0.6666666666666666,\"#ed7953\"],[0.7777777777777778,\"#fb9f3a\"],[0.8888888888888888,\"#fdca26\"],[1.0,\"#f0f921\"]],\"type\":\"contour\"}],\"contourcarpet\":[{\"colorbar\":{\"outlinewidth\":0,\"ticks\":\"\"},\"type\":\"contourcarpet\"}],\"heatmap\":[{\"colorbar\":{\"outlinewidth\":0,\"ticks\":\"\"},\"colorscale\":[[0.0,\"#0d0887\"],[0.1111111111111111,\"#46039f\"],[0.2222222222222222,\"#7201a8\"],[0.3333333333333333,\"#9c179e\"],[0.4444444444444444,\"#bd3786\"],[0.5555555555555556,\"#d8576b\"],[0.6666666666666666,\"#ed7953\"],[0.7777777777777778,\"#fb9f3a\"],[0.8888888888888888,\"#fdca26\"],[1.0,\"#f0f921\"]],\"type\":\"heatmap\"}],\"heatmapgl\":[{\"colorbar\":{\"outlinewidth\":0,\"ticks\":\"\"},\"colorscale\":[[0.0,\"#0d0887\"],[0.1111111111111111,\"#46039f\"],[0.2222222222222222,\"#7201a8\"],[0.3333333333333333,\"#9c179e\"],[0.4444444444444444,\"#bd3786\"],[0.5555555555555556,\"#d8576b\"],[0.6666666666666666,\"#ed7953\"],[0.7777777777777778,\"#fb9f3a\"],[0.8888888888888888,\"#fdca26\"],[1.0,\"#f0f921\"]],\"type\":\"heatmapgl\"}],\"histogram\":[{\"marker\":{\"pattern\":{\"fillmode\":\"overlay\",\"size\":10,\"solidity\":0.2}},\"type\":\"histogram\"}],\"histogram2d\":[{\"colorbar\":{\"outlinewidth\":0,\"ticks\":\"\"},\"colorscale\":[[0.0,\"#0d0887\"],[0.1111111111111111,\"#46039f\"],[0.2222222222222222,\"#7201a8\"],[0.3333333333333333,\"#9c179e\"],[0.4444444444444444,\"#bd3786\"],[0.5555555555555556,\"#d8576b\"],[0.6666666666666666,\"#ed7953\"],[0.7777777777777778,\"#fb9f3a\"],[0.8888888888888888,\"#fdca26\"],[1.0,\"#f0f921\"]],\"type\":\"histogram2d\"}],\"histogram2dcontour\":[{\"colorbar\":{\"outlinewidth\":0,\"ticks\":\"\"},\"colorscale\":[[0.0,\"#0d0887\"],[0.1111111111111111,\"#46039f\"],[0.2222222222222222,\"#7201a8\"],[0.3333333333333333,\"#9c179e\"],[0.4444444444444444,\"#bd3786\"],[0.5555555555555556,\"#d8576b\"],[0.6666666666666666,\"#ed7953\"],[0.7777777777777778,\"#fb9f3a\"],[0.8888888888888888,\"#fdca26\"],[1.0,\"#f0f921\"]],\"type\":\"histogram2dcontour\"}],\"mesh3d\":[{\"colorbar\":{\"outlinewidth\":0,\"ticks\":\"\"},\"type\":\"mesh3d\"}],\"parcoords\":[{\"line\":{\"colorbar\":{\"outlinewidth\":0,\"ticks\":\"\"}},\"type\":\"parcoords\"}],\"pie\":[{\"automargin\":true,\"type\":\"pie\"}],\"scatter\":[{\"marker\":{\"colorbar\":{\"outlinewidth\":0,\"ticks\":\"\"}},\"type\":\"scatter\"}],\"scatter3d\":[{\"line\":{\"colorbar\":{\"outlinewidth\":0,\"ticks\":\"\"}},\"marker\":{\"colorbar\":{\"outlinewidth\":0,\"ticks\":\"\"}},\"type\":\"scatter3d\"}],\"scattercarpet\":[{\"marker\":{\"colorbar\":{\"outlinewidth\":0,\"ticks\":\"\"}},\"type\":\"scattercarpet\"}],\"scattergeo\":[{\"marker\":{\"colorbar\":{\"outlinewidth\":0,\"ticks\":\"\"}},\"type\":\"scattergeo\"}],\"scattergl\":[{\"marker\":{\"colorbar\":{\"outlinewidth\":0,\"ticks\":\"\"}},\"type\":\"scattergl\"}],\"scattermapbox\":[{\"marker\":{\"colorbar\":{\"outlinewidth\":0,\"ticks\":\"\"}},\"type\":\"scattermapbox\"}],\"scatterpolar\":[{\"marker\":{\"colorbar\":{\"outlinewidth\":0,\"ticks\":\"\"}},\"type\":\"scatterpolar\"}],\"scatterpolargl\":[{\"marker\":{\"colorbar\":{\"outlinewidth\":0,\"ticks\":\"\"}},\"type\":\"scatterpolargl\"}],\"scatterternary\":[{\"marker\":{\"colorbar\":{\"outlinewidth\":0,\"ticks\":\"\"}},\"type\":\"scatterternary\"}],\"surface\":[{\"colorbar\":{\"outlinewidth\":0,\"ticks\":\"\"},\"colorscale\":[[0.0,\"#0d0887\"],[0.1111111111111111,\"#46039f\"],[0.2222222222222222,\"#7201a8\"],[0.3333333333333333,\"#9c179e\"],[0.4444444444444444,\"#bd3786\"],[0.5555555555555556,\"#d8576b\"],[0.6666666666666666,\"#ed7953\"],[0.7777777777777778,\"#fb9f3a\"],[0.8888888888888888,\"#fdca26\"],[1.0,\"#f0f921\"]],\"type\":\"surface\"}],\"table\":[{\"cells\":{\"fill\":{\"color\":\"#EBF0F8\"},\"line\":{\"color\":\"white\"}},\"header\":{\"fill\":{\"color\":\"#C8D4E3\"},\"line\":{\"color\":\"white\"}},\"type\":\"table\"}]},\"layout\":{\"annotationdefaults\":{\"arrowcolor\":\"#2a3f5f\",\"arrowhead\":0,\"arrowwidth\":1},\"autotypenumbers\":\"strict\",\"coloraxis\":{\"colorbar\":{\"outlinewidth\":0,\"ticks\":\"\"}},\"colorscale\":{\"diverging\":[[0,\"#8e0152\"],[0.1,\"#c51b7d\"],[0.2,\"#de77ae\"],[0.3,\"#f1b6da\"],[0.4,\"#fde0ef\"],[0.5,\"#f7f7f7\"],[0.6,\"#e6f5d0\"],[0.7,\"#b8e186\"],[0.8,\"#7fbc41\"],[0.9,\"#4d9221\"],[1,\"#276419\"]],\"sequential\":[[0.0,\"#0d0887\"],[0.1111111111111111,\"#46039f\"],[0.2222222222222222,\"#7201a8\"],[0.3333333333333333,\"#9c179e\"],[0.4444444444444444,\"#bd3786\"],[0.5555555555555556,\"#d8576b\"],[0.6666666666666666,\"#ed7953\"],[0.7777777777777778,\"#fb9f3a\"],[0.8888888888888888,\"#fdca26\"],[1.0,\"#f0f921\"]],\"sequentialminus\":[[0.0,\"#0d0887\"],[0.1111111111111111,\"#46039f\"],[0.2222222222222222,\"#7201a8\"],[0.3333333333333333,\"#9c179e\"],[0.4444444444444444,\"#bd3786\"],[0.5555555555555556,\"#d8576b\"],[0.6666666666666666,\"#ed7953\"],[0.7777777777777778,\"#fb9f3a\"],[0.8888888888888888,\"#fdca26\"],[1.0,\"#f0f921\"]]},\"colorway\":[\"#636efa\",\"#EF553B\",\"#00cc96\",\"#ab63fa\",\"#FFA15A\",\"#19d3f3\",\"#FF6692\",\"#B6E880\",\"#FF97FF\",\"#FECB52\"],\"font\":{\"color\":\"#2a3f5f\"},\"geo\":{\"bgcolor\":\"white\",\"lakecolor\":\"white\",\"landcolor\":\"#E5ECF6\",\"showlakes\":true,\"showland\":true,\"subunitcolor\":\"white\"},\"hoverlabel\":{\"align\":\"left\"},\"hovermode\":\"closest\",\"mapbox\":{\"style\":\"light\"},\"paper_bgcolor\":\"white\",\"plot_bgcolor\":\"#E5ECF6\",\"polar\":{\"angularaxis\":{\"gridcolor\":\"white\",\"linecolor\":\"white\",\"ticks\":\"\"},\"bgcolor\":\"#E5ECF6\",\"radialaxis\":{\"gridcolor\":\"white\",\"linecolor\":\"white\",\"ticks\":\"\"}},\"scene\":{\"xaxis\":{\"backgroundcolor\":\"#E5ECF6\",\"gridcolor\":\"white\",\"gridwidth\":2,\"linecolor\":\"white\",\"showbackground\":true,\"ticks\":\"\",\"zerolinecolor\":\"white\"},\"yaxis\":{\"backgroundcolor\":\"#E5ECF6\",\"gridcolor\":\"white\",\"gridwidth\":2,\"linecolor\":\"white\",\"showbackground\":true,\"ticks\":\"\",\"zerolinecolor\":\"white\"},\"zaxis\":{\"backgroundcolor\":\"#E5ECF6\",\"gridcolor\":\"white\",\"gridwidth\":2,\"linecolor\":\"white\",\"showbackground\":true,\"ticks\":\"\",\"zerolinecolor\":\"white\"}},\"shapedefaults\":{\"line\":{\"color\":\"#2a3f5f\"}},\"ternary\":{\"aaxis\":{\"gridcolor\":\"white\",\"linecolor\":\"white\",\"ticks\":\"\"},\"baxis\":{\"gridcolor\":\"white\",\"linecolor\":\"white\",\"ticks\":\"\"},\"bgcolor\":\"#E5ECF6\",\"caxis\":{\"gridcolor\":\"white\",\"linecolor\":\"white\",\"ticks\":\"\"}},\"title\":{\"x\":0.05},\"xaxis\":{\"automargin\":true,\"gridcolor\":\"white\",\"linecolor\":\"white\",\"ticks\":\"\",\"title\":{\"standoff\":15},\"zerolinecolor\":\"white\",\"zerolinewidth\":2},\"yaxis\":{\"automargin\":true,\"gridcolor\":\"white\",\"linecolor\":\"white\",\"ticks\":\"\",\"title\":{\"standoff\":15},\"zerolinecolor\":\"white\",\"zerolinewidth\":2}}},\"xaxis\":{\"anchor\":\"y\",\"domain\":[0.0,1.0],\"title\":{\"text\":\"chrom\"},\"categoryorder\":\"array\",\"categoryarray\":[\"chr01p\",\"chr01q\",\"chr02p\",\"chr02q\",\"chr03p\",\"chr03q\",\"chr04p\",\"chr04q\",\"chr05p\",\"chr05q\",\"chr06p\",\"chr06q\",\"chr07p\",\"chr07q\",\"chr08p\",\"chr08q\",\"chr09p\",\"chr09q\",\"chr10p\",\"chr10q\",\"chr11p\",\"chr11q\",\"chr12p\",\"chr12q\",\"chr13p\",\"chr13q\",\"chr14p\",\"chr14q\",\"chr15p\",\"chr15q\",\"chr16p\",\"chr16q\",\"chr17p\",\"chr17q\",\"chr18p\",\"chr18q\",\"chr19p\",\"chr19q\",\"chr20p\",\"chr20q\",\"chr21p\",\"chr21q\",\"chr22p\",\"chr22q\",\"chrXp\",\"chrXq\",\"chrYp\",\"chrYq\"]},\"yaxis\":{\"anchor\":\"x\",\"domain\":[0.0,1.0],\"title\":{\"text\":\"Qual\"}},\"legend\":{\"title\":{\"text\":\"chrom\"},\"tracegroupgap\":0},\"title\":{\"text\":\"Quality by Chromosome\"},\"boxmode\":\"overlay\"},                        {\"responsive\": true}                    ).then(function(){\n",
       "                            \n",
       "var gd = document.getElementById('52409dab-5317-4404-89c8-bca32e5d028c');\n",
       "var x = new MutationObserver(function (mutations, observer) {{\n",
       "        var display = window.getComputedStyle(gd).display;\n",
       "        if (!display || display === 'none') {{\n",
       "            console.log([gd, 'removed!']);\n",
       "            Plotly.purge(gd);\n",
       "            observer.disconnect();\n",
       "        }}\n",
       "}});\n",
       "\n",
       "// Listen for the removal of the full notebook cells\n",
       "var notebookContainer = gd.closest('#notebook-container');\n",
       "if (notebookContainer) {{\n",
       "    x.observe(notebookContainer, {childList: true});\n",
       "}}\n",
       "\n",
       "// Listen for the clearing of the current output cell\n",
       "var outputEl = gd.closest('.output');\n",
       "if (outputEl) {{\n",
       "    x.observe(outputEl, {childList: true});\n",
       "}}\n",
       "\n",
       "                        })                };                });            </script>        </div>"
      ]
     },
     "metadata": {},
     "output_type": "display_data"
    }
   ],
   "source": [
    "\n",
    "\n",
    "fig = px.box(masterdf.sort_values('chrom'), x='chrom', y='Qual',color ='chrom',\n",
    "             title = 'Quality by Chromosome')\n",
    "fig.show()"
   ]
  },
  {
   "cell_type": "code",
   "execution_count": 65,
   "id": "b3c4c49c",
   "metadata": {},
   "outputs": [
    {
     "data": {
      "application/vnd.plotly.v1+json": {
       "config": {
        "plotlyServerURL": "https://plot.ly"
       },
       "data": [
        {
         "alignmentgroup": "True",
         "hovertemplate": "chrom=%{x}<br>Read_length=%{y}<extra></extra>",
         "legendgroup": "chr01p",
         "marker": {
          "color": "#636efa"
         },
         "name": "chr01p",
         "notched": false,
         "offsetgroup": "chr01p",
         "orientation": "v",
         "showlegend": true,
         "type": "box",
         "x": [
          "chr01p",
          "chr01p",
          "chr01p",
          "chr01p",
          "chr01p",
          "chr01p",
          "chr01p",
          "chr01p",
          "chr01p",
          "chr01p",
          "chr01p",
          "chr01p",
          "chr01p",
          "chr01p",
          "chr01p",
          "chr01p",
          "chr01p",
          "chr01p",
          "chr01p",
          "chr01p"
         ],
         "x0": " ",
         "xaxis": "x",
         "y": [
          34609,
          34114,
          24465,
          34731,
          31786.5,
          34023,
          30415,
          34294,
          30579,
          37598,
          32613.5,
          32838,
          34675,
          34100,
          33072,
          33768,
          35640.5,
          34233.5,
          24104,
          22884
         ],
         "y0": " ",
         "yaxis": "y"
        },
        {
         "alignmentgroup": "True",
         "hovertemplate": "chrom=%{x}<br>Read_length=%{y}<extra></extra>",
         "legendgroup": "chr01q",
         "marker": {
          "color": "#EF553B"
         },
         "name": "chr01q",
         "notched": false,
         "offsetgroup": "chr01q",
         "orientation": "v",
         "showlegend": true,
         "type": "box",
         "x": [
          "chr01q",
          "chr01q",
          "chr01q",
          "chr01q",
          "chr01q",
          "chr01q",
          "chr01q",
          "chr01q",
          "chr01q",
          "chr01q",
          "chr01q",
          "chr01q",
          "chr01q",
          "chr01q",
          "chr01q",
          "chr01q",
          "chr01q",
          "chr01q",
          "chr01q",
          "chr01q"
         ],
         "x0": " ",
         "xaxis": "x",
         "y": [
          29457,
          30075,
          24166.5,
          31371,
          25340.5,
          30013,
          26598,
          27151.5,
          29893.5,
          26055,
          27544,
          26857,
          34180,
          28396.5,
          34554,
          28156.5,
          41332.5,
          27674,
          33246,
          24469
         ],
         "y0": " ",
         "yaxis": "y"
        },
        {
         "alignmentgroup": "True",
         "hovertemplate": "chrom=%{x}<br>Read_length=%{y}<extra></extra>",
         "legendgroup": "chr02p",
         "marker": {
          "color": "#00cc96"
         },
         "name": "chr02p",
         "notched": false,
         "offsetgroup": "chr02p",
         "orientation": "v",
         "showlegend": true,
         "type": "box",
         "x": [
          "chr02p",
          "chr02p",
          "chr02p",
          "chr02p",
          "chr02p",
          "chr02p",
          "chr02p",
          "chr02p",
          "chr02p",
          "chr02p",
          "chr02p",
          "chr02p",
          "chr02p",
          "chr02p",
          "chr02p",
          "chr02p",
          "chr02p",
          "chr02p",
          "chr02p",
          "chr02p"
         ],
         "x0": " ",
         "xaxis": "x",
         "y": [
          27035,
          28903.5,
          26989,
          26369.5,
          27092,
          26697,
          26961.5,
          26153,
          26853,
          26789.5,
          27369,
          26816,
          27657,
          27168,
          26699,
          26525.5,
          28616.5,
          25990,
          26933,
          27186.5
         ],
         "y0": " ",
         "yaxis": "y"
        },
        {
         "alignmentgroup": "True",
         "hovertemplate": "chrom=%{x}<br>Read_length=%{y}<extra></extra>",
         "legendgroup": "chr02q",
         "marker": {
          "color": "#ab63fa"
         },
         "name": "chr02q",
         "notched": false,
         "offsetgroup": "chr02q",
         "orientation": "v",
         "showlegend": true,
         "type": "box",
         "x": [
          "chr02q",
          "chr02q",
          "chr02q",
          "chr02q",
          "chr02q",
          "chr02q",
          "chr02q",
          "chr02q",
          "chr02q",
          "chr02q",
          "chr02q",
          "chr02q",
          "chr02q",
          "chr02q",
          "chr02q",
          "chr02q",
          "chr02q",
          "chr02q",
          "chr02q",
          "chr02q"
         ],
         "x0": " ",
         "xaxis": "x",
         "y": [
          35214,
          34345.5,
          48641,
          50631.5,
          50817,
          48219,
          50146,
          20650,
          48666,
          49210,
          51877,
          48014,
          52966,
          48041.5,
          40151,
          52369.5,
          47114,
          27001,
          25011,
          48405.5
         ],
         "y0": " ",
         "yaxis": "y"
        },
        {
         "alignmentgroup": "True",
         "hovertemplate": "chrom=%{x}<br>Read_length=%{y}<extra></extra>",
         "legendgroup": "chr03p",
         "marker": {
          "color": "#FFA15A"
         },
         "name": "chr03p",
         "notched": false,
         "offsetgroup": "chr03p",
         "orientation": "v",
         "showlegend": true,
         "type": "box",
         "x": [
          "chr03p",
          "chr03p",
          "chr03p",
          "chr03p",
          "chr03p",
          "chr03p",
          "chr03p",
          "chr03p",
          "chr03p",
          "chr03p",
          "chr03p",
          "chr03p",
          "chr03p",
          "chr03p",
          "chr03p",
          "chr03p",
          "chr03p",
          "chr03p",
          "chr03p",
          "chr03p"
         ],
         "x0": " ",
         "xaxis": "x",
         "y": [
          19701.5,
          21297,
          19394,
          17397,
          17434.5,
          21087,
          17363.5,
          23583,
          22930.5,
          19397,
          21484.5,
          18993,
          19013.5,
          23167,
          20333,
          22817,
          22954.5,
          22935,
          15315.5,
          20153
         ],
         "y0": " ",
         "yaxis": "y"
        },
        {
         "alignmentgroup": "True",
         "hovertemplate": "chrom=%{x}<br>Read_length=%{y}<extra></extra>",
         "legendgroup": "chr03q",
         "marker": {
          "color": "#19d3f3"
         },
         "name": "chr03q",
         "notched": false,
         "offsetgroup": "chr03q",
         "orientation": "v",
         "showlegend": true,
         "type": "box",
         "x": [
          "chr03q",
          "chr03q",
          "chr03q",
          "chr03q",
          "chr03q",
          "chr03q",
          "chr03q",
          "chr03q",
          "chr03q",
          "chr03q",
          "chr03q",
          "chr03q",
          "chr03q",
          "chr03q",
          "chr03q",
          "chr03q",
          "chr03q",
          "chr03q",
          "chr03q",
          "chr03q"
         ],
         "x0": " ",
         "xaxis": "x",
         "y": [
          6981,
          8392,
          6621,
          6665,
          7179,
          6842,
          6738,
          6005,
          6710,
          8448.5,
          8513,
          6259,
          6540,
          7215,
          8666,
          6988,
          8399,
          6527.5,
          8825,
          6625
         ],
         "y0": " ",
         "yaxis": "y"
        },
        {
         "alignmentgroup": "True",
         "hovertemplate": "chrom=%{x}<br>Read_length=%{y}<extra></extra>",
         "legendgroup": "chr04p",
         "marker": {
          "color": "#FF6692"
         },
         "name": "chr04p",
         "notched": false,
         "offsetgroup": "chr04p",
         "orientation": "v",
         "showlegend": true,
         "type": "box",
         "x": [
          "chr04p",
          "chr04p",
          "chr04p",
          "chr04p",
          "chr04p",
          "chr04p",
          "chr04p",
          "chr04p",
          "chr04p",
          "chr04p",
          "chr04p",
          "chr04p",
          "chr04p",
          "chr04p",
          "chr04p",
          "chr04p",
          "chr04p",
          "chr04p",
          "chr04p",
          "chr04p"
         ],
         "x0": " ",
         "xaxis": "x",
         "y": [
          28582.5,
          25667,
          26605,
          23927.5,
          22221.5,
          18821.5,
          29132.5,
          19310,
          27051,
          18905,
          27961,
          24127,
          19770,
          16444,
          29171,
          21583.5,
          25562,
          23901,
          16948,
          20804
         ],
         "y0": " ",
         "yaxis": "y"
        },
        {
         "alignmentgroup": "True",
         "hovertemplate": "chrom=%{x}<br>Read_length=%{y}<extra></extra>",
         "legendgroup": "chr04q",
         "marker": {
          "color": "#B6E880"
         },
         "name": "chr04q",
         "notched": false,
         "offsetgroup": "chr04q",
         "orientation": "v",
         "showlegend": true,
         "type": "box",
         "x": [
          "chr04q",
          "chr04q",
          "chr04q",
          "chr04q",
          "chr04q",
          "chr04q",
          "chr04q",
          "chr04q",
          "chr04q",
          "chr04q",
          "chr04q",
          "chr04q",
          "chr04q",
          "chr04q",
          "chr04q",
          "chr04q",
          "chr04q",
          "chr04q",
          "chr04q",
          "chr04q"
         ],
         "x0": " ",
         "xaxis": "x",
         "y": [
          26006,
          10876,
          17309.5,
          19106,
          22278,
          27518.5,
          23323,
          24767.5,
          10520,
          23982,
          9484,
          24460,
          16759,
          14822,
          26341,
          22265.5,
          12420,
          17321,
          24311,
          8264
         ],
         "y0": " ",
         "yaxis": "y"
        },
        {
         "alignmentgroup": "True",
         "hovertemplate": "chrom=%{x}<br>Read_length=%{y}<extra></extra>",
         "legendgroup": "chr05p",
         "marker": {
          "color": "#FF97FF"
         },
         "name": "chr05p",
         "notched": false,
         "offsetgroup": "chr05p",
         "orientation": "v",
         "showlegend": true,
         "type": "box",
         "x": [
          "chr05p",
          "chr05p",
          "chr05p",
          "chr05p",
          "chr05p",
          "chr05p",
          "chr05p",
          "chr05p",
          "chr05p",
          "chr05p",
          "chr05p",
          "chr05p",
          "chr05p",
          "chr05p",
          "chr05p",
          "chr05p",
          "chr05p",
          "chr05p",
          "chr05p",
          "chr05p"
         ],
         "x0": " ",
         "xaxis": "x",
         "y": [
          15565.5,
          21476.5,
          23811.5,
          20908,
          24879,
          23036,
          24548,
          28349,
          24482,
          21201,
          24432,
          23783.5,
          22298.5,
          21066,
          24170,
          22138,
          22724,
          19074,
          25490,
          25270
         ],
         "y0": " ",
         "yaxis": "y"
        },
        {
         "alignmentgroup": "True",
         "hovertemplate": "chrom=%{x}<br>Read_length=%{y}<extra></extra>",
         "legendgroup": "chr05q",
         "marker": {
          "color": "#FECB52"
         },
         "name": "chr05q",
         "notched": false,
         "offsetgroup": "chr05q",
         "orientation": "v",
         "showlegend": true,
         "type": "box",
         "x": [
          "chr05q",
          "chr05q",
          "chr05q",
          "chr05q",
          "chr05q",
          "chr05q",
          "chr05q",
          "chr05q",
          "chr05q",
          "chr05q",
          "chr05q",
          "chr05q",
          "chr05q",
          "chr05q",
          "chr05q",
          "chr05q",
          "chr05q",
          "chr05q",
          "chr05q",
          "chr05q"
         ],
         "x0": " ",
         "xaxis": "x",
         "y": [
          35883,
          40955.5,
          37228,
          36077,
          37937,
          20625,
          39285.5,
          41537,
          20530,
          40916.5,
          41287.5,
          42552,
          41241,
          42066,
          34625,
          41078,
          37517,
          39835,
          40966.5,
          30853
         ],
         "y0": " ",
         "yaxis": "y"
        },
        {
         "alignmentgroup": "True",
         "hovertemplate": "chrom=%{x}<br>Read_length=%{y}<extra></extra>",
         "legendgroup": "chr06p",
         "marker": {
          "color": "#636efa"
         },
         "name": "chr06p",
         "notched": false,
         "offsetgroup": "chr06p",
         "orientation": "v",
         "showlegend": true,
         "type": "box",
         "x": [
          "chr06p",
          "chr06p",
          "chr06p",
          "chr06p",
          "chr06p",
          "chr06p",
          "chr06p"
         ],
         "x0": " ",
         "xaxis": "x",
         "y": [
          3078,
          27074,
          7507,
          29070,
          14897,
          20035.5,
          17848.5
         ],
         "y0": " ",
         "yaxis": "y"
        },
        {
         "alignmentgroup": "True",
         "hovertemplate": "chrom=%{x}<br>Read_length=%{y}<extra></extra>",
         "legendgroup": "chr06q",
         "marker": {
          "color": "#EF553B"
         },
         "name": "chr06q",
         "notched": false,
         "offsetgroup": "chr06q",
         "orientation": "v",
         "showlegend": true,
         "type": "box",
         "x": [
          "chr06q",
          "chr06q",
          "chr06q",
          "chr06q",
          "chr06q",
          "chr06q",
          "chr06q",
          "chr06q",
          "chr06q",
          "chr06q",
          "chr06q",
          "chr06q",
          "chr06q",
          "chr06q",
          "chr06q",
          "chr06q",
          "chr06q",
          "chr06q",
          "chr06q",
          "chr06q"
         ],
         "x0": " ",
         "xaxis": "x",
         "y": [
          17760,
          29868,
          24546.5,
          33813,
          33779,
          33638,
          34762.5,
          33012,
          28970,
          34563.5,
          30347,
          33677,
          31924,
          31965,
          29165,
          26218,
          22141,
          31763,
          25978,
          33374
         ],
         "y0": " ",
         "yaxis": "y"
        },
        {
         "alignmentgroup": "True",
         "hovertemplate": "chrom=%{x}<br>Read_length=%{y}<extra></extra>",
         "legendgroup": "chr07p",
         "marker": {
          "color": "#00cc96"
         },
         "name": "chr07p",
         "notched": false,
         "offsetgroup": "chr07p",
         "orientation": "v",
         "showlegend": true,
         "type": "box",
         "x": [
          "chr07p",
          "chr07p",
          "chr07p",
          "chr07p",
          "chr07p",
          "chr07p",
          "chr07p",
          "chr07p",
          "chr07p",
          "chr07p",
          "chr07p",
          "chr07p",
          "chr07p",
          "chr07p",
          "chr07p",
          "chr07p",
          "chr07p",
          "chr07p",
          "chr07p",
          "chr07p"
         ],
         "x0": " ",
         "xaxis": "x",
         "y": [
          20714.5,
          25718.5,
          27491,
          27555,
          28227,
          27381,
          32330.5,
          37081,
          36930,
          25967,
          28364,
          33615,
          30169,
          25755,
          42562,
          40707,
          25063,
          38227,
          41756,
          21456.5
         ],
         "y0": " ",
         "yaxis": "y"
        },
        {
         "alignmentgroup": "True",
         "hovertemplate": "chrom=%{x}<br>Read_length=%{y}<extra></extra>",
         "legendgroup": "chr07q",
         "marker": {
          "color": "#ab63fa"
         },
         "name": "chr07q",
         "notched": false,
         "offsetgroup": "chr07q",
         "orientation": "v",
         "showlegend": true,
         "type": "box",
         "x": [
          "chr07q",
          "chr07q",
          "chr07q",
          "chr07q",
          "chr07q",
          "chr07q",
          "chr07q",
          "chr07q",
          "chr07q",
          "chr07q",
          "chr07q",
          "chr07q",
          "chr07q",
          "chr07q",
          "chr07q",
          "chr07q",
          "chr07q",
          "chr07q",
          "chr07q",
          "chr07q"
         ],
         "x0": " ",
         "xaxis": "x",
         "y": [
          22284,
          24272,
          22663.5,
          23059.5,
          21104,
          22403,
          22668,
          23337,
          20789,
          22139,
          23259.5,
          22618,
          22903,
          22548,
          22141.5,
          24214,
          23495,
          24804,
          21541,
          19463.5
         ],
         "y0": " ",
         "yaxis": "y"
        },
        {
         "alignmentgroup": "True",
         "hovertemplate": "chrom=%{x}<br>Read_length=%{y}<extra></extra>",
         "legendgroup": "chr08p",
         "marker": {
          "color": "#FFA15A"
         },
         "name": "chr08p",
         "notched": false,
         "offsetgroup": "chr08p",
         "orientation": "v",
         "showlegend": true,
         "type": "box",
         "x": [
          "chr08p",
          "chr08p",
          "chr08p",
          "chr08p",
          "chr08p",
          "chr08p",
          "chr08p",
          "chr08p",
          "chr08p",
          "chr08p",
          "chr08p",
          "chr08p",
          "chr08p",
          "chr08p",
          "chr08p",
          "chr08p"
         ],
         "x0": " ",
         "xaxis": "x",
         "y": [
          26363,
          26386,
          28045,
          29681,
          27935.5,
          26158,
          24297,
          26406,
          23812,
          25763.5,
          25336,
          25929,
          28737,
          24701,
          24621,
          28027.5
         ],
         "y0": " ",
         "yaxis": "y"
        },
        {
         "alignmentgroup": "True",
         "hovertemplate": "chrom=%{x}<br>Read_length=%{y}<extra></extra>",
         "legendgroup": "chr08q",
         "marker": {
          "color": "#19d3f3"
         },
         "name": "chr08q",
         "notched": false,
         "offsetgroup": "chr08q",
         "orientation": "v",
         "showlegend": true,
         "type": "box",
         "x": [
          "chr08q",
          "chr08q",
          "chr08q",
          "chr08q",
          "chr08q",
          "chr08q",
          "chr08q",
          "chr08q",
          "chr08q",
          "chr08q",
          "chr08q",
          "chr08q"
         ],
         "x0": " ",
         "xaxis": "x",
         "y": [
          11994,
          22450,
          26217,
          31164,
          19357,
          24752.5,
          20517.5,
          18552,
          46054.5,
          26380,
          18853,
          22979
         ],
         "y0": " ",
         "yaxis": "y"
        },
        {
         "alignmentgroup": "True",
         "hovertemplate": "chrom=%{x}<br>Read_length=%{y}<extra></extra>",
         "legendgroup": "chr09p",
         "marker": {
          "color": "#FF6692"
         },
         "name": "chr09p",
         "notched": false,
         "offsetgroup": "chr09p",
         "orientation": "v",
         "showlegend": true,
         "type": "box",
         "x": [
          "chr09p",
          "chr09p",
          "chr09p",
          "chr09p",
          "chr09p",
          "chr09p",
          "chr09p",
          "chr09p",
          "chr09p",
          "chr09p",
          "chr09p",
          "chr09p",
          "chr09p",
          "chr09p",
          "chr09p",
          "chr09p",
          "chr09p",
          "chr09p",
          "chr09p",
          "chr09p"
         ],
         "x0": " ",
         "xaxis": "x",
         "y": [
          6315.5,
          8104.5,
          7999,
          7620.5,
          13530,
          7650,
          6896,
          7678.5,
          7498,
          7149.5,
          6184,
          7306.5,
          8826,
          6979,
          7371,
          7893.5,
          9055,
          5827,
          9030,
          9155.5
         ],
         "y0": " ",
         "yaxis": "y"
        },
        {
         "alignmentgroup": "True",
         "hovertemplate": "chrom=%{x}<br>Read_length=%{y}<extra></extra>",
         "legendgroup": "chr09q",
         "marker": {
          "color": "#B6E880"
         },
         "name": "chr09q",
         "notched": false,
         "offsetgroup": "chr09q",
         "orientation": "v",
         "showlegend": true,
         "type": "box",
         "x": [
          "chr09q",
          "chr09q",
          "chr09q",
          "chr09q",
          "chr09q",
          "chr09q",
          "chr09q",
          "chr09q",
          "chr09q",
          "chr09q",
          "chr09q",
          "chr09q",
          "chr09q",
          "chr09q",
          "chr09q",
          "chr09q",
          "chr09q",
          "chr09q",
          "chr09q",
          "chr09q"
         ],
         "x0": " ",
         "xaxis": "x",
         "y": [
          19301.5,
          10251,
          28015,
          31244,
          27232,
          24298,
          43273,
          19227,
          38367,
          11933,
          22886,
          19382.5,
          18791,
          10374.5,
          23633,
          32439,
          43214.5,
          43150,
          26720.5,
          9897.5
         ],
         "y0": " ",
         "yaxis": "y"
        },
        {
         "alignmentgroup": "True",
         "hovertemplate": "chrom=%{x}<br>Read_length=%{y}<extra></extra>",
         "legendgroup": "chr10p",
         "marker": {
          "color": "#FF97FF"
         },
         "name": "chr10p",
         "notched": false,
         "offsetgroup": "chr10p",
         "orientation": "v",
         "showlegend": true,
         "type": "box",
         "x": [
          "chr10p",
          "chr10p",
          "chr10p",
          "chr10p",
          "chr10p",
          "chr10p",
          "chr10p",
          "chr10p",
          "chr10p",
          "chr10p",
          "chr10p",
          "chr10p",
          "chr10p",
          "chr10p",
          "chr10p",
          "chr10p",
          "chr10p",
          "chr10p",
          "chr10p",
          "chr10p"
         ],
         "x0": " ",
         "xaxis": "x",
         "y": [
          14680,
          16099,
          21252,
          18605,
          18406,
          17673.5,
          18978,
          15679,
          14635,
          15499,
          20149,
          16818,
          18282,
          19175.5,
          19409,
          18278,
          19029.5,
          14646,
          17431,
          20263.5
         ],
         "y0": " ",
         "yaxis": "y"
        },
        {
         "alignmentgroup": "True",
         "hovertemplate": "chrom=%{x}<br>Read_length=%{y}<extra></extra>",
         "legendgroup": "chr10q",
         "marker": {
          "color": "#FECB52"
         },
         "name": "chr10q",
         "notched": false,
         "offsetgroup": "chr10q",
         "orientation": "v",
         "showlegend": true,
         "type": "box",
         "x": [
          "chr10q",
          "chr10q",
          "chr10q",
          "chr10q",
          "chr10q",
          "chr10q",
          "chr10q",
          "chr10q",
          "chr10q",
          "chr10q",
          "chr10q",
          "chr10q",
          "chr10q",
          "chr10q",
          "chr10q",
          "chr10q",
          "chr10q",
          "chr10q",
          "chr10q",
          "chr10q"
         ],
         "x0": " ",
         "xaxis": "x",
         "y": [
          18558.5,
          18243,
          15539,
          16282.5,
          20746,
          16104,
          23134,
          20812.5,
          22964,
          18986,
          18903,
          28669.5,
          23519,
          18606,
          15410,
          17358.5,
          22137,
          21700,
          19835.5,
          17839
         ],
         "y0": " ",
         "yaxis": "y"
        },
        {
         "alignmentgroup": "True",
         "hovertemplate": "chrom=%{x}<br>Read_length=%{y}<extra></extra>",
         "legendgroup": "chr11p",
         "marker": {
          "color": "#636efa"
         },
         "name": "chr11p",
         "notched": false,
         "offsetgroup": "chr11p",
         "orientation": "v",
         "showlegend": true,
         "type": "box",
         "x": [
          "chr11p",
          "chr11p",
          "chr11p",
          "chr11p",
          "chr11p",
          "chr11p",
          "chr11p",
          "chr11p",
          "chr11p",
          "chr11p",
          "chr11p",
          "chr11p",
          "chr11p",
          "chr11p",
          "chr11p",
          "chr11p",
          "chr11p",
          "chr11p",
          "chr11p",
          "chr11p"
         ],
         "x0": " ",
         "xaxis": "x",
         "y": [
          8042,
          7145.5,
          12259,
          8625,
          7299,
          8089,
          10235.5,
          6906,
          6509,
          7515,
          7204,
          7672.5,
          7554.5,
          6048,
          19278.5,
          8845,
          5266.5,
          6694,
          7081,
          6545
         ],
         "y0": " ",
         "yaxis": "y"
        },
        {
         "alignmentgroup": "True",
         "hovertemplate": "chrom=%{x}<br>Read_length=%{y}<extra></extra>",
         "legendgroup": "chr11q",
         "marker": {
          "color": "#EF553B"
         },
         "name": "chr11q",
         "notched": false,
         "offsetgroup": "chr11q",
         "orientation": "v",
         "showlegend": true,
         "type": "box",
         "x": [
          "chr11q",
          "chr11q",
          "chr11q",
          "chr11q",
          "chr11q",
          "chr11q",
          "chr11q",
          "chr11q",
          "chr11q",
          "chr11q",
          "chr11q",
          "chr11q",
          "chr11q",
          "chr11q",
          "chr11q",
          "chr11q",
          "chr11q",
          "chr11q",
          "chr11q",
          "chr11q"
         ],
         "x0": " ",
         "xaxis": "x",
         "y": [
          14083.5,
          11381,
          11300,
          11968.5,
          12197,
          10848,
          10798,
          13407,
          11987,
          11084,
          14484.5,
          13754,
          13372,
          12031,
          12296,
          10789,
          12050,
          12307,
          11765.5,
          11587
         ],
         "y0": " ",
         "yaxis": "y"
        },
        {
         "alignmentgroup": "True",
         "hovertemplate": "chrom=%{x}<br>Read_length=%{y}<extra></extra>",
         "legendgroup": "chr12p",
         "marker": {
          "color": "#00cc96"
         },
         "name": "chr12p",
         "notched": false,
         "offsetgroup": "chr12p",
         "orientation": "v",
         "showlegend": true,
         "type": "box",
         "x": [
          "chr12p",
          "chr12p",
          "chr12p",
          "chr12p",
          "chr12p",
          "chr12p",
          "chr12p",
          "chr12p",
          "chr12p",
          "chr12p",
          "chr12p",
          "chr12p",
          "chr12p",
          "chr12p",
          "chr12p",
          "chr12p",
          "chr12p",
          "chr12p",
          "chr12p",
          "chr12p"
         ],
         "x0": " ",
         "xaxis": "x",
         "y": [
          9053,
          6408,
          8423,
          7485,
          8063,
          19622,
          7710,
          8115,
          7355,
          11603.5,
          8971,
          10146.5,
          7591,
          15883,
          7528,
          19781,
          7301,
          8601.5,
          9583,
          17136.5
         ],
         "y0": " ",
         "yaxis": "y"
        },
        {
         "alignmentgroup": "True",
         "hovertemplate": "chrom=%{x}<br>Read_length=%{y}<extra></extra>",
         "legendgroup": "chr12q",
         "marker": {
          "color": "#ab63fa"
         },
         "name": "chr12q",
         "notched": false,
         "offsetgroup": "chr12q",
         "orientation": "v",
         "showlegend": true,
         "type": "box",
         "x": [
          "chr12q",
          "chr12q",
          "chr12q",
          "chr12q",
          "chr12q",
          "chr12q",
          "chr12q",
          "chr12q",
          "chr12q",
          "chr12q",
          "chr12q",
          "chr12q",
          "chr12q",
          "chr12q",
          "chr12q",
          "chr12q",
          "chr12q",
          "chr12q",
          "chr12q",
          "chr12q"
         ],
         "x0": " ",
         "xaxis": "x",
         "y": [
          21537,
          27571.5,
          18303.5,
          27313,
          24281,
          28061,
          21193,
          19568,
          20686,
          25647,
          25109.5,
          20918,
          19020,
          17518.5,
          23790,
          24656,
          14222,
          18523,
          22530,
          21595.5
         ],
         "y0": " ",
         "yaxis": "y"
        },
        {
         "alignmentgroup": "True",
         "hovertemplate": "chrom=%{x}<br>Read_length=%{y}<extra></extra>",
         "legendgroup": "chr13p",
         "marker": {
          "color": "#FFA15A"
         },
         "name": "chr13p",
         "notched": false,
         "offsetgroup": "chr13p",
         "orientation": "v",
         "showlegend": true,
         "type": "box",
         "x": [
          "chr13p",
          "chr13p",
          "chr13p",
          "chr13p",
          "chr13p",
          "chr13p",
          "chr13p",
          "chr13p",
          "chr13p",
          "chr13p",
          "chr13p"
         ],
         "x0": " ",
         "xaxis": "x",
         "y": [
          20726,
          22577.5,
          26026,
          15327,
          19704,
          20576,
          22714,
          18699,
          23133,
          14891.5,
          9549
         ],
         "y0": " ",
         "yaxis": "y"
        },
        {
         "alignmentgroup": "True",
         "hovertemplate": "chrom=%{x}<br>Read_length=%{y}<extra></extra>",
         "legendgroup": "chr13q",
         "marker": {
          "color": "#19d3f3"
         },
         "name": "chr13q",
         "notched": false,
         "offsetgroup": "chr13q",
         "orientation": "v",
         "showlegend": true,
         "type": "box",
         "x": [
          "chr13q",
          "chr13q",
          "chr13q",
          "chr13q",
          "chr13q",
          "chr13q",
          "chr13q",
          "chr13q",
          "chr13q",
          "chr13q",
          "chr13q",
          "chr13q",
          "chr13q",
          "chr13q",
          "chr13q",
          "chr13q",
          "chr13q",
          "chr13q",
          "chr13q",
          "chr13q"
         ],
         "x0": " ",
         "xaxis": "x",
         "y": [
          22397,
          35479.5,
          30379,
          20649,
          22823.5,
          28981.5,
          19185,
          26942,
          26885,
          31248,
          25945,
          32878,
          29416,
          27294,
          26929,
          26130,
          26926,
          25052.5,
          24740,
          22191
         ],
         "y0": " ",
         "yaxis": "y"
        },
        {
         "alignmentgroup": "True",
         "hovertemplate": "chrom=%{x}<br>Read_length=%{y}<extra></extra>",
         "legendgroup": "chr14p",
         "marker": {
          "color": "#FF6692"
         },
         "name": "chr14p",
         "notched": false,
         "offsetgroup": "chr14p",
         "orientation": "v",
         "showlegend": true,
         "type": "box",
         "x": [
          "chr14p",
          "chr14p",
          "chr14p",
          "chr14p",
          "chr14p",
          "chr14p"
         ],
         "x0": " ",
         "xaxis": "x",
         "y": [
          22484.5,
          16800,
          25542,
          20177,
          23195,
          31580
         ],
         "y0": " ",
         "yaxis": "y"
        },
        {
         "alignmentgroup": "True",
         "hovertemplate": "chrom=%{x}<br>Read_length=%{y}<extra></extra>",
         "legendgroup": "chr14q",
         "marker": {
          "color": "#B6E880"
         },
         "name": "chr14q",
         "notched": false,
         "offsetgroup": "chr14q",
         "orientation": "v",
         "showlegend": true,
         "type": "box",
         "x": [
          "chr14q",
          "chr14q",
          "chr14q",
          "chr14q",
          "chr14q",
          "chr14q",
          "chr14q",
          "chr14q",
          "chr14q",
          "chr14q",
          "chr14q",
          "chr14q",
          "chr14q",
          "chr14q",
          "chr14q",
          "chr14q",
          "chr14q",
          "chr14q",
          "chr14q",
          "chr14q"
         ],
         "x0": " ",
         "xaxis": "x",
         "y": [
          25016,
          21706,
          23163,
          22559.5,
          25083,
          23585,
          23147.5,
          23332,
          22959,
          22601,
          23428,
          22539,
          24229.5,
          23326,
          23582,
          24360,
          25271,
          22151,
          23773,
          22975
         ],
         "y0": " ",
         "yaxis": "y"
        },
        {
         "alignmentgroup": "True",
         "hovertemplate": "chrom=%{x}<br>Read_length=%{y}<extra></extra>",
         "legendgroup": "chr15p",
         "marker": {
          "color": "#FF97FF"
         },
         "name": "chr15p",
         "notched": false,
         "offsetgroup": "chr15p",
         "orientation": "v",
         "showlegend": true,
         "type": "box",
         "x": [
          "chr15p",
          "chr15p",
          "chr15p",
          "chr15p",
          "chr15p",
          "chr15p",
          "chr15p",
          "chr15p",
          "chr15p",
          "chr15p",
          "chr15p",
          "chr15p",
          "chr15p",
          "chr15p",
          "chr15p",
          "chr15p",
          "chr15p",
          "chr15p",
          "chr15p",
          "chr15p"
         ],
         "x0": " ",
         "xaxis": "x",
         "y": [
          27219,
          27094,
          18480,
          20055,
          23071,
          22748,
          21374,
          18903,
          25571,
          23004,
          26116.5,
          25108,
          19892.5,
          22510,
          21300,
          17738,
          27607,
          27838,
          25810,
          19457
         ],
         "y0": " ",
         "yaxis": "y"
        },
        {
         "alignmentgroup": "True",
         "hovertemplate": "chrom=%{x}<br>Read_length=%{y}<extra></extra>",
         "legendgroup": "chr15q",
         "marker": {
          "color": "#FECB52"
         },
         "name": "chr15q",
         "notched": false,
         "offsetgroup": "chr15q",
         "orientation": "v",
         "showlegend": true,
         "type": "box",
         "x": [
          "chr15q",
          "chr15q",
          "chr15q",
          "chr15q",
          "chr15q",
          "chr15q",
          "chr15q",
          "chr15q",
          "chr15q",
          "chr15q",
          "chr15q",
          "chr15q",
          "chr15q",
          "chr15q",
          "chr15q",
          "chr15q",
          "chr15q",
          "chr15q",
          "chr15q",
          "chr15q"
         ],
         "x0": " ",
         "xaxis": "x",
         "y": [
          6362,
          7928.5,
          6329,
          7513,
          7153,
          7160,
          8884.5,
          6627,
          6393.5,
          6665,
          7120,
          6792.5,
          9478,
          8077,
          7760,
          7843,
          6453.5,
          11539,
          9811,
          6998
         ],
         "y0": " ",
         "yaxis": "y"
        },
        {
         "alignmentgroup": "True",
         "hovertemplate": "chrom=%{x}<br>Read_length=%{y}<extra></extra>",
         "legendgroup": "chr16p",
         "marker": {
          "color": "#636efa"
         },
         "name": "chr16p",
         "notched": false,
         "offsetgroup": "chr16p",
         "orientation": "v",
         "showlegend": true,
         "type": "box",
         "x": [
          "chr16p",
          "chr16p",
          "chr16p",
          "chr16p",
          "chr16p",
          "chr16p",
          "chr16p",
          "chr16p",
          "chr16p",
          "chr16p",
          "chr16p",
          "chr16p",
          "chr16p",
          "chr16p",
          "chr16p",
          "chr16p",
          "chr16p",
          "chr16p",
          "chr16p",
          "chr16p"
         ],
         "x0": " ",
         "xaxis": "x",
         "y": [
          8829.5,
          8268,
          7418,
          7591,
          7864,
          11824,
          6031.5,
          7411,
          9132,
          7961.5,
          8181.5,
          8332,
          7214,
          7736.5,
          7184,
          11401,
          10009,
          7861,
          5783,
          8380
         ],
         "y0": " ",
         "yaxis": "y"
        },
        {
         "alignmentgroup": "True",
         "hovertemplate": "chrom=%{x}<br>Read_length=%{y}<extra></extra>",
         "legendgroup": "chr16q",
         "marker": {
          "color": "#EF553B"
         },
         "name": "chr16q",
         "notched": false,
         "offsetgroup": "chr16q",
         "orientation": "v",
         "showlegend": true,
         "type": "box",
         "x": [
          "chr16q",
          "chr16q",
          "chr16q",
          "chr16q",
          "chr16q",
          "chr16q",
          "chr16q",
          "chr16q",
          "chr16q",
          "chr16q",
          "chr16q",
          "chr16q",
          "chr16q",
          "chr16q",
          "chr16q",
          "chr16q",
          "chr16q",
          "chr16q",
          "chr16q",
          "chr16q"
         ],
         "x0": " ",
         "xaxis": "x",
         "y": [
          23448,
          20164,
          18355,
          25068.5,
          22184,
          22722.5,
          23928,
          24720,
          22461,
          25891,
          22446,
          25349,
          26694.5,
          24597,
          28262.5,
          19909,
          26268,
          27522.5,
          25824,
          22874
         ],
         "y0": " ",
         "yaxis": "y"
        },
        {
         "alignmentgroup": "True",
         "hovertemplate": "chrom=%{x}<br>Read_length=%{y}<extra></extra>",
         "legendgroup": "chr17p",
         "marker": {
          "color": "#00cc96"
         },
         "name": "chr17p",
         "notched": false,
         "offsetgroup": "chr17p",
         "orientation": "v",
         "showlegend": true,
         "type": "box",
         "x": [
          "chr17p",
          "chr17p",
          "chr17p",
          "chr17p",
          "chr17p",
          "chr17p",
          "chr17p",
          "chr17p",
          "chr17p",
          "chr17p",
          "chr17p",
          "chr17p",
          "chr17p",
          "chr17p",
          "chr17p",
          "chr17p",
          "chr17p",
          "chr17p"
         ],
         "x0": " ",
         "xaxis": "x",
         "y": [
          25722.5,
          24476,
          17471,
          14068,
          27662,
          38807,
          22500.5,
          26111,
          24685.5,
          19013,
          26258.5,
          24471.5,
          31641.5,
          28898,
          27008.5,
          21697,
          21076.5,
          23790
         ],
         "y0": " ",
         "yaxis": "y"
        },
        {
         "alignmentgroup": "True",
         "hovertemplate": "chrom=%{x}<br>Read_length=%{y}<extra></extra>",
         "legendgroup": "chr17q",
         "marker": {
          "color": "#ab63fa"
         },
         "name": "chr17q",
         "notched": false,
         "offsetgroup": "chr17q",
         "orientation": "v",
         "showlegend": true,
         "type": "box",
         "x": [
          "chr17q",
          "chr17q",
          "chr17q",
          "chr17q",
          "chr17q",
          "chr17q",
          "chr17q",
          "chr17q",
          "chr17q",
          "chr17q",
          "chr17q",
          "chr17q",
          "chr17q",
          "chr17q",
          "chr17q",
          "chr17q",
          "chr17q",
          "chr17q",
          "chr17q",
          "chr17q"
         ],
         "x0": " ",
         "xaxis": "x",
         "y": [
          19399.5,
          35921.5,
          26424,
          34076,
          20022,
          18620,
          19176,
          8361,
          25092,
          23104.5,
          14303,
          44411,
          26535.5,
          12996,
          9948.5,
          16874.5,
          15683,
          26528,
          32766,
          17108
         ],
         "y0": " ",
         "yaxis": "y"
        },
        {
         "alignmentgroup": "True",
         "hovertemplate": "chrom=%{x}<br>Read_length=%{y}<extra></extra>",
         "legendgroup": "chr18p",
         "marker": {
          "color": "#FFA15A"
         },
         "name": "chr18p",
         "notched": false,
         "offsetgroup": "chr18p",
         "orientation": "v",
         "showlegend": true,
         "type": "box",
         "x": [
          "chr18p",
          "chr18p",
          "chr18p",
          "chr18p",
          "chr18p",
          "chr18p",
          "chr18p",
          "chr18p",
          "chr18p",
          "chr18p",
          "chr18p",
          "chr18p",
          "chr18p",
          "chr18p",
          "chr18p",
          "chr18p",
          "chr18p",
          "chr18p",
          "chr18p",
          "chr18p"
         ],
         "x0": " ",
         "xaxis": "x",
         "y": [
          12238,
          8894.5,
          8457,
          7801,
          14708,
          13871,
          12483.5,
          10636,
          10038,
          11399,
          10332,
          12849,
          14206,
          14760,
          13573.5,
          9704,
          14164,
          11958,
          6096,
          8275.5
         ],
         "y0": " ",
         "yaxis": "y"
        },
        {
         "alignmentgroup": "True",
         "hovertemplate": "chrom=%{x}<br>Read_length=%{y}<extra></extra>",
         "legendgroup": "chr18q",
         "marker": {
          "color": "#19d3f3"
         },
         "name": "chr18q",
         "notched": false,
         "offsetgroup": "chr18q",
         "orientation": "v",
         "showlegend": true,
         "type": "box",
         "x": [
          "chr18q",
          "chr18q",
          "chr18q",
          "chr18q",
          "chr18q",
          "chr18q",
          "chr18q",
          "chr18q",
          "chr18q",
          "chr18q",
          "chr18q",
          "chr18q",
          "chr18q",
          "chr18q",
          "chr18q",
          "chr18q",
          "chr18q",
          "chr18q",
          "chr18q",
          "chr18q"
         ],
         "x0": " ",
         "xaxis": "x",
         "y": [
          38416.5,
          42094,
          29175,
          41862,
          41332.5,
          39107,
          27247.5,
          35733,
          40363.5,
          34697,
          41809.5,
          35051,
          33257.5,
          40199,
          33367,
          42325,
          40708,
          29975.5,
          23088.5,
          35915.5
         ],
         "y0": " ",
         "yaxis": "y"
        },
        {
         "alignmentgroup": "True",
         "hovertemplate": "chrom=%{x}<br>Read_length=%{y}<extra></extra>",
         "legendgroup": "chr19p",
         "marker": {
          "color": "#FF6692"
         },
         "name": "chr19p",
         "notched": false,
         "offsetgroup": "chr19p",
         "orientation": "v",
         "showlegend": true,
         "type": "box",
         "x": [
          "chr19p",
          "chr19p",
          "chr19p",
          "chr19p",
          "chr19p",
          "chr19p",
          "chr19p",
          "chr19p",
          "chr19p",
          "chr19p",
          "chr19p",
          "chr19p",
          "chr19p",
          "chr19p",
          "chr19p",
          "chr19p",
          "chr19p",
          "chr19p",
          "chr19p",
          "chr19p"
         ],
         "x0": " ",
         "xaxis": "x",
         "y": [
          6271,
          7104,
          19221.5,
          6087,
          8713,
          20934,
          7189.5,
          7681,
          6409,
          8510,
          8913,
          7229,
          9957.5,
          6915,
          21412,
          20862,
          15776,
          8196,
          7037,
          8824
         ],
         "y0": " ",
         "yaxis": "y"
        },
        {
         "alignmentgroup": "True",
         "hovertemplate": "chrom=%{x}<br>Read_length=%{y}<extra></extra>",
         "legendgroup": "chr19q",
         "marker": {
          "color": "#B6E880"
         },
         "name": "chr19q",
         "notched": false,
         "offsetgroup": "chr19q",
         "orientation": "v",
         "showlegend": true,
         "type": "box",
         "x": [
          "chr19q",
          "chr19q",
          "chr19q",
          "chr19q",
          "chr19q",
          "chr19q",
          "chr19q",
          "chr19q",
          "chr19q",
          "chr19q",
          "chr19q",
          "chr19q",
          "chr19q",
          "chr19q",
          "chr19q",
          "chr19q",
          "chr19q",
          "chr19q",
          "chr19q",
          "chr19q"
         ],
         "x0": " ",
         "xaxis": "x",
         "y": [
          31303.5,
          36117.5,
          27814,
          40233,
          25026,
          23518.5,
          25069,
          25870,
          35864,
          26542,
          24271,
          28216.5,
          26000,
          30346,
          28515,
          31269,
          38414.5,
          32545.5,
          29773,
          29636.5
         ],
         "y0": " ",
         "yaxis": "y"
        },
        {
         "alignmentgroup": "True",
         "hovertemplate": "chrom=%{x}<br>Read_length=%{y}<extra></extra>",
         "legendgroup": "chr20p",
         "marker": {
          "color": "#FF97FF"
         },
         "name": "chr20p",
         "notched": false,
         "offsetgroup": "chr20p",
         "orientation": "v",
         "showlegend": true,
         "type": "box",
         "x": [
          "chr20p",
          "chr20p",
          "chr20p",
          "chr20p",
          "chr20p",
          "chr20p",
          "chr20p",
          "chr20p",
          "chr20p",
          "chr20p",
          "chr20p",
          "chr20p",
          "chr20p",
          "chr20p",
          "chr20p",
          "chr20p",
          "chr20p",
          "chr20p",
          "chr20p",
          "chr20p"
         ],
         "x0": " ",
         "xaxis": "x",
         "y": [
          21659,
          19302,
          17157.5,
          27512.5,
          18305.5,
          19788.5,
          9606,
          19743,
          17945,
          15634,
          18321,
          23897,
          14405,
          20767,
          15142,
          10531,
          22963,
          15472.5,
          41229.5,
          18611
         ],
         "y0": " ",
         "yaxis": "y"
        },
        {
         "alignmentgroup": "True",
         "hovertemplate": "chrom=%{x}<br>Read_length=%{y}<extra></extra>",
         "legendgroup": "chr20q",
         "marker": {
          "color": "#FECB52"
         },
         "name": "chr20q",
         "notched": false,
         "offsetgroup": "chr20q",
         "orientation": "v",
         "showlegend": true,
         "type": "box",
         "x": [
          "chr20q",
          "chr20q",
          "chr20q",
          "chr20q",
          "chr20q",
          "chr20q",
          "chr20q",
          "chr20q",
          "chr20q",
          "chr20q",
          "chr20q",
          "chr20q",
          "chr20q",
          "chr20q",
          "chr20q",
          "chr20q",
          "chr20q",
          "chr20q",
          "chr20q",
          "chr20q"
         ],
         "x0": " ",
         "xaxis": "x",
         "y": [
          7796,
          10657.5,
          7511,
          8116,
          6696,
          6293,
          7478,
          10547,
          16462.5,
          8024,
          7197,
          6912,
          10627,
          16873.5,
          6547,
          7373.5,
          10741.5,
          7592,
          7013,
          8023.5
         ],
         "y0": " ",
         "yaxis": "y"
        },
        {
         "alignmentgroup": "True",
         "hovertemplate": "chrom=%{x}<br>Read_length=%{y}<extra></extra>",
         "legendgroup": "chr21p",
         "marker": {
          "color": "#636efa"
         },
         "name": "chr21p",
         "notched": false,
         "offsetgroup": "chr21p",
         "orientation": "v",
         "showlegend": true,
         "type": "box",
         "x": [
          "chr21p",
          "chr21p",
          "chr21p",
          "chr21p",
          "chr21p",
          "chr21p",
          "chr21p",
          "chr21p",
          "chr21p",
          "chr21p",
          "chr21p",
          "chr21p",
          "chr21p",
          "chr21p",
          "chr21p",
          "chr21p",
          "chr21p",
          "chr21p",
          "chr21p",
          "chr21p"
         ],
         "x0": " ",
         "xaxis": "x",
         "y": [
          21794.5,
          19600,
          19477.5,
          24678.5,
          20604,
          19484,
          22452,
          18824,
          25616.5,
          23697.5,
          21606,
          18084,
          19207,
          21778,
          19145,
          22347,
          24959,
          21738,
          25886.5,
          22253.5
         ],
         "y0": " ",
         "yaxis": "y"
        },
        {
         "alignmentgroup": "True",
         "hovertemplate": "chrom=%{x}<br>Read_length=%{y}<extra></extra>",
         "legendgroup": "chr21q",
         "marker": {
          "color": "#EF553B"
         },
         "name": "chr21q",
         "notched": false,
         "offsetgroup": "chr21q",
         "orientation": "v",
         "showlegend": true,
         "type": "box",
         "x": [
          "chr21q",
          "chr21q",
          "chr21q",
          "chr21q",
          "chr21q",
          "chr21q",
          "chr21q",
          "chr21q",
          "chr21q",
          "chr21q",
          "chr21q",
          "chr21q",
          "chr21q",
          "chr21q",
          "chr21q",
          "chr21q",
          "chr21q",
          "chr21q",
          "chr21q",
          "chr21q"
         ],
         "x0": " ",
         "xaxis": "x",
         "y": [
          24081.5,
          31739,
          23988,
          31780,
          32749.5,
          32178,
          34686,
          33033,
          30454.5,
          25494,
          27947,
          27268,
          31803,
          33778.5,
          22618,
          28091,
          28901.5,
          33282,
          29176,
          26846
         ],
         "y0": " ",
         "yaxis": "y"
        },
        {
         "alignmentgroup": "True",
         "hovertemplate": "chrom=%{x}<br>Read_length=%{y}<extra></extra>",
         "legendgroup": "chr22p",
         "marker": {
          "color": "#00cc96"
         },
         "name": "chr22p",
         "notched": false,
         "offsetgroup": "chr22p",
         "orientation": "v",
         "showlegend": true,
         "type": "box",
         "x": [
          "chr22p",
          "chr22p",
          "chr22p",
          "chr22p",
          "chr22p",
          "chr22p",
          "chr22p",
          "chr22p",
          "chr22p",
          "chr22p",
          "chr22p",
          "chr22p",
          "chr22p",
          "chr22p",
          "chr22p",
          "chr22p",
          "chr22p",
          "chr22p",
          "chr22p",
          "chr22p"
         ],
         "x0": " ",
         "xaxis": "x",
         "y": [
          26405.5,
          25405,
          29774,
          39720,
          24525,
          25099.5,
          25695,
          35352,
          38400,
          25236.5,
          27427,
          26636,
          34042.5,
          34557,
          33106.5,
          33124,
          27391.5,
          25094.5,
          29653,
          32043
         ],
         "y0": " ",
         "yaxis": "y"
        },
        {
         "alignmentgroup": "True",
         "hovertemplate": "chrom=%{x}<br>Read_length=%{y}<extra></extra>",
         "legendgroup": "chr22q",
         "marker": {
          "color": "#ab63fa"
         },
         "name": "chr22q",
         "notched": false,
         "offsetgroup": "chr22q",
         "orientation": "v",
         "showlegend": true,
         "type": "box",
         "x": [
          "chr22q",
          "chr22q",
          "chr22q",
          "chr22q",
          "chr22q",
          "chr22q",
          "chr22q",
          "chr22q",
          "chr22q",
          "chr22q",
          "chr22q",
          "chr22q",
          "chr22q",
          "chr22q",
          "chr22q",
          "chr22q",
          "chr22q",
          "chr22q",
          "chr22q",
          "chr22q"
         ],
         "x0": " ",
         "xaxis": "x",
         "y": [
          21499,
          21012,
          23890,
          26547,
          22844.5,
          25211.5,
          25475,
          26519,
          35535,
          20482.5,
          21934.5,
          22597,
          26101,
          24175,
          22455,
          23175,
          25374,
          25476,
          22723,
          22101
         ],
         "y0": " ",
         "yaxis": "y"
        },
        {
         "alignmentgroup": "True",
         "hovertemplate": "chrom=%{x}<br>Read_length=%{y}<extra></extra>",
         "legendgroup": "chrXp",
         "marker": {
          "color": "#FFA15A"
         },
         "name": "chrXp",
         "notched": false,
         "offsetgroup": "chrXp",
         "orientation": "v",
         "showlegend": true,
         "type": "box",
         "x": [
          "chrXp",
          "chrXp",
          "chrXp",
          "chrXp",
          "chrXp",
          "chrXp",
          "chrXp",
          "chrXp",
          "chrXp",
          "chrXp",
          "chrXp",
          "chrXp",
          "chrXp",
          "chrXp",
          "chrXp",
          "chrXp",
          "chrXp",
          "chrXp",
          "chrXp",
          "chrXp"
         ],
         "x0": " ",
         "xaxis": "x",
         "y": [
          21895.5,
          9315,
          27269.5,
          13183,
          23693,
          20772,
          19540,
          34111,
          43093,
          12540,
          35203,
          23310,
          38147,
          23456,
          15783,
          26467,
          25535,
          23682,
          24603,
          26350
         ],
         "y0": " ",
         "yaxis": "y"
        },
        {
         "alignmentgroup": "True",
         "hovertemplate": "chrom=%{x}<br>Read_length=%{y}<extra></extra>",
         "legendgroup": "chrXq",
         "marker": {
          "color": "#19d3f3"
         },
         "name": "chrXq",
         "notched": false,
         "offsetgroup": "chrXq",
         "orientation": "v",
         "showlegend": true,
         "type": "box",
         "x": [
          "chrXq",
          "chrXq",
          "chrXq",
          "chrXq",
          "chrXq",
          "chrXq",
          "chrXq",
          "chrXq",
          "chrXq",
          "chrXq",
          "chrXq",
          "chrXq",
          "chrXq",
          "chrXq",
          "chrXq",
          "chrXq",
          "chrXq",
          "chrXq",
          "chrXq",
          "chrXq"
         ],
         "x0": " ",
         "xaxis": "x",
         "y": [
          6576.5,
          6534,
          6431,
          8545.5,
          7330,
          8762,
          7132.5,
          10191.5,
          7036.5,
          7779.5,
          6508,
          7487.5,
          7583.5,
          9104.5,
          8025,
          7393,
          7633,
          6142,
          7438,
          6577
         ],
         "y0": " ",
         "yaxis": "y"
        },
        {
         "alignmentgroup": "True",
         "hovertemplate": "chrom=%{x}<br>Read_length=%{y}<extra></extra>",
         "legendgroup": "chrYp",
         "marker": {
          "color": "#FF6692"
         },
         "name": "chrYp",
         "notched": false,
         "offsetgroup": "chrYp",
         "orientation": "v",
         "showlegend": true,
         "type": "box",
         "x": [
          "chrYp",
          "chrYp",
          "chrYp",
          "chrYp",
          "chrYp",
          "chrYp",
          "chrYp",
          "chrYp",
          "chrYp",
          "chrYp",
          "chrYp",
          "chrYp",
          "chrYp",
          "chrYp",
          "chrYp",
          "chrYp",
          "chrYp",
          "chrYp",
          "chrYp",
          "chrYp"
         ],
         "x0": " ",
         "xaxis": "x",
         "y": [
          15919,
          24709,
          26486,
          23473.5,
          23513,
          30009,
          22343,
          23153,
          21185,
          21527.5,
          15410,
          21487.5,
          17338.5,
          26162,
          18499,
          18509.5,
          33091,
          22179,
          24996.5,
          24678
         ],
         "y0": " ",
         "yaxis": "y"
        },
        {
         "alignmentgroup": "True",
         "hovertemplate": "chrom=%{x}<br>Read_length=%{y}<extra></extra>",
         "legendgroup": "chrYq",
         "marker": {
          "color": "#B6E880"
         },
         "name": "chrYq",
         "notched": false,
         "offsetgroup": "chrYq",
         "orientation": "v",
         "showlegend": true,
         "type": "box",
         "x": [
          "chrYq",
          "chrYq",
          "chrYq",
          "chrYq",
          "chrYq",
          "chrYq",
          "chrYq",
          "chrYq",
          "chrYq",
          "chrYq",
          "chrYq",
          "chrYq",
          "chrYq",
          "chrYq",
          "chrYq",
          "chrYq",
          "chrYq",
          "chrYq",
          "chrYq",
          "chrYq"
         ],
         "x0": " ",
         "xaxis": "x",
         "y": [
          6220,
          7273,
          32158,
          19894.5,
          7495.5,
          7594,
          9093,
          8938.5,
          49289.5,
          8303,
          26862,
          7705,
          6356,
          9120,
          50954.5,
          6994,
          30442,
          6677,
          6760,
          40643
         ],
         "y0": " ",
         "yaxis": "y"
        }
       ],
       "layout": {
        "boxmode": "overlay",
        "legend": {
         "title": {
          "text": "chrom"
         },
         "tracegroupgap": 0
        },
        "template": {
         "data": {
          "bar": [
           {
            "error_x": {
             "color": "#2a3f5f"
            },
            "error_y": {
             "color": "#2a3f5f"
            },
            "marker": {
             "line": {
              "color": "#E5ECF6",
              "width": 0.5
             },
             "pattern": {
              "fillmode": "overlay",
              "size": 10,
              "solidity": 0.2
             }
            },
            "type": "bar"
           }
          ],
          "barpolar": [
           {
            "marker": {
             "line": {
              "color": "#E5ECF6",
              "width": 0.5
             },
             "pattern": {
              "fillmode": "overlay",
              "size": 10,
              "solidity": 0.2
             }
            },
            "type": "barpolar"
           }
          ],
          "carpet": [
           {
            "aaxis": {
             "endlinecolor": "#2a3f5f",
             "gridcolor": "white",
             "linecolor": "white",
             "minorgridcolor": "white",
             "startlinecolor": "#2a3f5f"
            },
            "baxis": {
             "endlinecolor": "#2a3f5f",
             "gridcolor": "white",
             "linecolor": "white",
             "minorgridcolor": "white",
             "startlinecolor": "#2a3f5f"
            },
            "type": "carpet"
           }
          ],
          "choropleth": [
           {
            "colorbar": {
             "outlinewidth": 0,
             "ticks": ""
            },
            "type": "choropleth"
           }
          ],
          "contour": [
           {
            "colorbar": {
             "outlinewidth": 0,
             "ticks": ""
            },
            "colorscale": [
             [
              0,
              "#0d0887"
             ],
             [
              0.1111111111111111,
              "#46039f"
             ],
             [
              0.2222222222222222,
              "#7201a8"
             ],
             [
              0.3333333333333333,
              "#9c179e"
             ],
             [
              0.4444444444444444,
              "#bd3786"
             ],
             [
              0.5555555555555556,
              "#d8576b"
             ],
             [
              0.6666666666666666,
              "#ed7953"
             ],
             [
              0.7777777777777778,
              "#fb9f3a"
             ],
             [
              0.8888888888888888,
              "#fdca26"
             ],
             [
              1,
              "#f0f921"
             ]
            ],
            "type": "contour"
           }
          ],
          "contourcarpet": [
           {
            "colorbar": {
             "outlinewidth": 0,
             "ticks": ""
            },
            "type": "contourcarpet"
           }
          ],
          "heatmap": [
           {
            "colorbar": {
             "outlinewidth": 0,
             "ticks": ""
            },
            "colorscale": [
             [
              0,
              "#0d0887"
             ],
             [
              0.1111111111111111,
              "#46039f"
             ],
             [
              0.2222222222222222,
              "#7201a8"
             ],
             [
              0.3333333333333333,
              "#9c179e"
             ],
             [
              0.4444444444444444,
              "#bd3786"
             ],
             [
              0.5555555555555556,
              "#d8576b"
             ],
             [
              0.6666666666666666,
              "#ed7953"
             ],
             [
              0.7777777777777778,
              "#fb9f3a"
             ],
             [
              0.8888888888888888,
              "#fdca26"
             ],
             [
              1,
              "#f0f921"
             ]
            ],
            "type": "heatmap"
           }
          ],
          "heatmapgl": [
           {
            "colorbar": {
             "outlinewidth": 0,
             "ticks": ""
            },
            "colorscale": [
             [
              0,
              "#0d0887"
             ],
             [
              0.1111111111111111,
              "#46039f"
             ],
             [
              0.2222222222222222,
              "#7201a8"
             ],
             [
              0.3333333333333333,
              "#9c179e"
             ],
             [
              0.4444444444444444,
              "#bd3786"
             ],
             [
              0.5555555555555556,
              "#d8576b"
             ],
             [
              0.6666666666666666,
              "#ed7953"
             ],
             [
              0.7777777777777778,
              "#fb9f3a"
             ],
             [
              0.8888888888888888,
              "#fdca26"
             ],
             [
              1,
              "#f0f921"
             ]
            ],
            "type": "heatmapgl"
           }
          ],
          "histogram": [
           {
            "marker": {
             "pattern": {
              "fillmode": "overlay",
              "size": 10,
              "solidity": 0.2
             }
            },
            "type": "histogram"
           }
          ],
          "histogram2d": [
           {
            "colorbar": {
             "outlinewidth": 0,
             "ticks": ""
            },
            "colorscale": [
             [
              0,
              "#0d0887"
             ],
             [
              0.1111111111111111,
              "#46039f"
             ],
             [
              0.2222222222222222,
              "#7201a8"
             ],
             [
              0.3333333333333333,
              "#9c179e"
             ],
             [
              0.4444444444444444,
              "#bd3786"
             ],
             [
              0.5555555555555556,
              "#d8576b"
             ],
             [
              0.6666666666666666,
              "#ed7953"
             ],
             [
              0.7777777777777778,
              "#fb9f3a"
             ],
             [
              0.8888888888888888,
              "#fdca26"
             ],
             [
              1,
              "#f0f921"
             ]
            ],
            "type": "histogram2d"
           }
          ],
          "histogram2dcontour": [
           {
            "colorbar": {
             "outlinewidth": 0,
             "ticks": ""
            },
            "colorscale": [
             [
              0,
              "#0d0887"
             ],
             [
              0.1111111111111111,
              "#46039f"
             ],
             [
              0.2222222222222222,
              "#7201a8"
             ],
             [
              0.3333333333333333,
              "#9c179e"
             ],
             [
              0.4444444444444444,
              "#bd3786"
             ],
             [
              0.5555555555555556,
              "#d8576b"
             ],
             [
              0.6666666666666666,
              "#ed7953"
             ],
             [
              0.7777777777777778,
              "#fb9f3a"
             ],
             [
              0.8888888888888888,
              "#fdca26"
             ],
             [
              1,
              "#f0f921"
             ]
            ],
            "type": "histogram2dcontour"
           }
          ],
          "mesh3d": [
           {
            "colorbar": {
             "outlinewidth": 0,
             "ticks": ""
            },
            "type": "mesh3d"
           }
          ],
          "parcoords": [
           {
            "line": {
             "colorbar": {
              "outlinewidth": 0,
              "ticks": ""
             }
            },
            "type": "parcoords"
           }
          ],
          "pie": [
           {
            "automargin": true,
            "type": "pie"
           }
          ],
          "scatter": [
           {
            "marker": {
             "colorbar": {
              "outlinewidth": 0,
              "ticks": ""
             }
            },
            "type": "scatter"
           }
          ],
          "scatter3d": [
           {
            "line": {
             "colorbar": {
              "outlinewidth": 0,
              "ticks": ""
             }
            },
            "marker": {
             "colorbar": {
              "outlinewidth": 0,
              "ticks": ""
             }
            },
            "type": "scatter3d"
           }
          ],
          "scattercarpet": [
           {
            "marker": {
             "colorbar": {
              "outlinewidth": 0,
              "ticks": ""
             }
            },
            "type": "scattercarpet"
           }
          ],
          "scattergeo": [
           {
            "marker": {
             "colorbar": {
              "outlinewidth": 0,
              "ticks": ""
             }
            },
            "type": "scattergeo"
           }
          ],
          "scattergl": [
           {
            "marker": {
             "colorbar": {
              "outlinewidth": 0,
              "ticks": ""
             }
            },
            "type": "scattergl"
           }
          ],
          "scattermapbox": [
           {
            "marker": {
             "colorbar": {
              "outlinewidth": 0,
              "ticks": ""
             }
            },
            "type": "scattermapbox"
           }
          ],
          "scatterpolar": [
           {
            "marker": {
             "colorbar": {
              "outlinewidth": 0,
              "ticks": ""
             }
            },
            "type": "scatterpolar"
           }
          ],
          "scatterpolargl": [
           {
            "marker": {
             "colorbar": {
              "outlinewidth": 0,
              "ticks": ""
             }
            },
            "type": "scatterpolargl"
           }
          ],
          "scatterternary": [
           {
            "marker": {
             "colorbar": {
              "outlinewidth": 0,
              "ticks": ""
             }
            },
            "type": "scatterternary"
           }
          ],
          "surface": [
           {
            "colorbar": {
             "outlinewidth": 0,
             "ticks": ""
            },
            "colorscale": [
             [
              0,
              "#0d0887"
             ],
             [
              0.1111111111111111,
              "#46039f"
             ],
             [
              0.2222222222222222,
              "#7201a8"
             ],
             [
              0.3333333333333333,
              "#9c179e"
             ],
             [
              0.4444444444444444,
              "#bd3786"
             ],
             [
              0.5555555555555556,
              "#d8576b"
             ],
             [
              0.6666666666666666,
              "#ed7953"
             ],
             [
              0.7777777777777778,
              "#fb9f3a"
             ],
             [
              0.8888888888888888,
              "#fdca26"
             ],
             [
              1,
              "#f0f921"
             ]
            ],
            "type": "surface"
           }
          ],
          "table": [
           {
            "cells": {
             "fill": {
              "color": "#EBF0F8"
             },
             "line": {
              "color": "white"
             }
            },
            "header": {
             "fill": {
              "color": "#C8D4E3"
             },
             "line": {
              "color": "white"
             }
            },
            "type": "table"
           }
          ]
         },
         "layout": {
          "annotationdefaults": {
           "arrowcolor": "#2a3f5f",
           "arrowhead": 0,
           "arrowwidth": 1
          },
          "autotypenumbers": "strict",
          "coloraxis": {
           "colorbar": {
            "outlinewidth": 0,
            "ticks": ""
           }
          },
          "colorscale": {
           "diverging": [
            [
             0,
             "#8e0152"
            ],
            [
             0.1,
             "#c51b7d"
            ],
            [
             0.2,
             "#de77ae"
            ],
            [
             0.3,
             "#f1b6da"
            ],
            [
             0.4,
             "#fde0ef"
            ],
            [
             0.5,
             "#f7f7f7"
            ],
            [
             0.6,
             "#e6f5d0"
            ],
            [
             0.7,
             "#b8e186"
            ],
            [
             0.8,
             "#7fbc41"
            ],
            [
             0.9,
             "#4d9221"
            ],
            [
             1,
             "#276419"
            ]
           ],
           "sequential": [
            [
             0,
             "#0d0887"
            ],
            [
             0.1111111111111111,
             "#46039f"
            ],
            [
             0.2222222222222222,
             "#7201a8"
            ],
            [
             0.3333333333333333,
             "#9c179e"
            ],
            [
             0.4444444444444444,
             "#bd3786"
            ],
            [
             0.5555555555555556,
             "#d8576b"
            ],
            [
             0.6666666666666666,
             "#ed7953"
            ],
            [
             0.7777777777777778,
             "#fb9f3a"
            ],
            [
             0.8888888888888888,
             "#fdca26"
            ],
            [
             1,
             "#f0f921"
            ]
           ],
           "sequentialminus": [
            [
             0,
             "#0d0887"
            ],
            [
             0.1111111111111111,
             "#46039f"
            ],
            [
             0.2222222222222222,
             "#7201a8"
            ],
            [
             0.3333333333333333,
             "#9c179e"
            ],
            [
             0.4444444444444444,
             "#bd3786"
            ],
            [
             0.5555555555555556,
             "#d8576b"
            ],
            [
             0.6666666666666666,
             "#ed7953"
            ],
            [
             0.7777777777777778,
             "#fb9f3a"
            ],
            [
             0.8888888888888888,
             "#fdca26"
            ],
            [
             1,
             "#f0f921"
            ]
           ]
          },
          "colorway": [
           "#636efa",
           "#EF553B",
           "#00cc96",
           "#ab63fa",
           "#FFA15A",
           "#19d3f3",
           "#FF6692",
           "#B6E880",
           "#FF97FF",
           "#FECB52"
          ],
          "font": {
           "color": "#2a3f5f"
          },
          "geo": {
           "bgcolor": "white",
           "lakecolor": "white",
           "landcolor": "#E5ECF6",
           "showlakes": true,
           "showland": true,
           "subunitcolor": "white"
          },
          "hoverlabel": {
           "align": "left"
          },
          "hovermode": "closest",
          "mapbox": {
           "style": "light"
          },
          "paper_bgcolor": "white",
          "plot_bgcolor": "#E5ECF6",
          "polar": {
           "angularaxis": {
            "gridcolor": "white",
            "linecolor": "white",
            "ticks": ""
           },
           "bgcolor": "#E5ECF6",
           "radialaxis": {
            "gridcolor": "white",
            "linecolor": "white",
            "ticks": ""
           }
          },
          "scene": {
           "xaxis": {
            "backgroundcolor": "#E5ECF6",
            "gridcolor": "white",
            "gridwidth": 2,
            "linecolor": "white",
            "showbackground": true,
            "ticks": "",
            "zerolinecolor": "white"
           },
           "yaxis": {
            "backgroundcolor": "#E5ECF6",
            "gridcolor": "white",
            "gridwidth": 2,
            "linecolor": "white",
            "showbackground": true,
            "ticks": "",
            "zerolinecolor": "white"
           },
           "zaxis": {
            "backgroundcolor": "#E5ECF6",
            "gridcolor": "white",
            "gridwidth": 2,
            "linecolor": "white",
            "showbackground": true,
            "ticks": "",
            "zerolinecolor": "white"
           }
          },
          "shapedefaults": {
           "line": {
            "color": "#2a3f5f"
           }
          },
          "ternary": {
           "aaxis": {
            "gridcolor": "white",
            "linecolor": "white",
            "ticks": ""
           },
           "baxis": {
            "gridcolor": "white",
            "linecolor": "white",
            "ticks": ""
           },
           "bgcolor": "#E5ECF6",
           "caxis": {
            "gridcolor": "white",
            "linecolor": "white",
            "ticks": ""
           }
          },
          "title": {
           "x": 0.05
          },
          "xaxis": {
           "automargin": true,
           "gridcolor": "white",
           "linecolor": "white",
           "ticks": "",
           "title": {
            "standoff": 15
           },
           "zerolinecolor": "white",
           "zerolinewidth": 2
          },
          "yaxis": {
           "automargin": true,
           "gridcolor": "white",
           "linecolor": "white",
           "ticks": "",
           "title": {
            "standoff": 15
           },
           "zerolinecolor": "white",
           "zerolinewidth": 2
          }
         }
        },
        "title": {
         "text": "Total Read Length by Chromosome"
        },
        "xaxis": {
         "anchor": "y",
         "categoryarray": [
          "chr01p",
          "chr01q",
          "chr02p",
          "chr02q",
          "chr03p",
          "chr03q",
          "chr04p",
          "chr04q",
          "chr05p",
          "chr05q",
          "chr06p",
          "chr06q",
          "chr07p",
          "chr07q",
          "chr08p",
          "chr08q",
          "chr09p",
          "chr09q",
          "chr10p",
          "chr10q",
          "chr11p",
          "chr11q",
          "chr12p",
          "chr12q",
          "chr13p",
          "chr13q",
          "chr14p",
          "chr14q",
          "chr15p",
          "chr15q",
          "chr16p",
          "chr16q",
          "chr17p",
          "chr17q",
          "chr18p",
          "chr18q",
          "chr19p",
          "chr19q",
          "chr20p",
          "chr20q",
          "chr21p",
          "chr21q",
          "chr22p",
          "chr22q",
          "chrXp",
          "chrXq",
          "chrYp",
          "chrYq"
         ],
         "categoryorder": "array",
         "domain": [
          0,
          1
         ],
         "title": {
          "text": "chrom"
         }
        },
        "yaxis": {
         "anchor": "x",
         "domain": [
          0,
          1
         ],
         "title": {
          "text": "Read_length"
         }
        }
       }
      },
      "text/html": [
       "<div>                            <div id=\"16bf30f0-e655-402b-9314-b16b6f001566\" class=\"plotly-graph-div\" style=\"height:525px; width:100%;\"></div>            <script type=\"text/javascript\">                require([\"plotly\"], function(Plotly) {                    window.PLOTLYENV=window.PLOTLYENV || {};                                    if (document.getElementById(\"16bf30f0-e655-402b-9314-b16b6f001566\")) {                    Plotly.newPlot(                        \"16bf30f0-e655-402b-9314-b16b6f001566\",                        [{\"alignmentgroup\":\"True\",\"hovertemplate\":\"chrom=%{x}<br>Read_length=%{y}<extra></extra>\",\"legendgroup\":\"chr01p\",\"marker\":{\"color\":\"#636efa\"},\"name\":\"chr01p\",\"notched\":false,\"offsetgroup\":\"chr01p\",\"orientation\":\"v\",\"showlegend\":true,\"x\":[\"chr01p\",\"chr01p\",\"chr01p\",\"chr01p\",\"chr01p\",\"chr01p\",\"chr01p\",\"chr01p\",\"chr01p\",\"chr01p\",\"chr01p\",\"chr01p\",\"chr01p\",\"chr01p\",\"chr01p\",\"chr01p\",\"chr01p\",\"chr01p\",\"chr01p\",\"chr01p\"],\"x0\":\" \",\"xaxis\":\"x\",\"y\":[34609.0,34114.0,24465.0,34731.0,31786.5,34023.0,30415.0,34294.0,30579.0,37598.0,32613.5,32838.0,34675.0,34100.0,33072.0,33768.0,35640.5,34233.5,24104.0,22884.0],\"y0\":\" \",\"yaxis\":\"y\",\"type\":\"box\"},{\"alignmentgroup\":\"True\",\"hovertemplate\":\"chrom=%{x}<br>Read_length=%{y}<extra></extra>\",\"legendgroup\":\"chr01q\",\"marker\":{\"color\":\"#EF553B\"},\"name\":\"chr01q\",\"notched\":false,\"offsetgroup\":\"chr01q\",\"orientation\":\"v\",\"showlegend\":true,\"x\":[\"chr01q\",\"chr01q\",\"chr01q\",\"chr01q\",\"chr01q\",\"chr01q\",\"chr01q\",\"chr01q\",\"chr01q\",\"chr01q\",\"chr01q\",\"chr01q\",\"chr01q\",\"chr01q\",\"chr01q\",\"chr01q\",\"chr01q\",\"chr01q\",\"chr01q\",\"chr01q\"],\"x0\":\" \",\"xaxis\":\"x\",\"y\":[29457.0,30075.0,24166.5,31371.0,25340.5,30013.0,26598.0,27151.5,29893.5,26055.0,27544.0,26857.0,34180.0,28396.5,34554.0,28156.5,41332.5,27674.0,33246.0,24469.0],\"y0\":\" \",\"yaxis\":\"y\",\"type\":\"box\"},{\"alignmentgroup\":\"True\",\"hovertemplate\":\"chrom=%{x}<br>Read_length=%{y}<extra></extra>\",\"legendgroup\":\"chr02p\",\"marker\":{\"color\":\"#00cc96\"},\"name\":\"chr02p\",\"notched\":false,\"offsetgroup\":\"chr02p\",\"orientation\":\"v\",\"showlegend\":true,\"x\":[\"chr02p\",\"chr02p\",\"chr02p\",\"chr02p\",\"chr02p\",\"chr02p\",\"chr02p\",\"chr02p\",\"chr02p\",\"chr02p\",\"chr02p\",\"chr02p\",\"chr02p\",\"chr02p\",\"chr02p\",\"chr02p\",\"chr02p\",\"chr02p\",\"chr02p\",\"chr02p\"],\"x0\":\" \",\"xaxis\":\"x\",\"y\":[27035.0,28903.5,26989.0,26369.5,27092.0,26697.0,26961.5,26153.0,26853.0,26789.5,27369.0,26816.0,27657.0,27168.0,26699.0,26525.5,28616.5,25990.0,26933.0,27186.5],\"y0\":\" \",\"yaxis\":\"y\",\"type\":\"box\"},{\"alignmentgroup\":\"True\",\"hovertemplate\":\"chrom=%{x}<br>Read_length=%{y}<extra></extra>\",\"legendgroup\":\"chr02q\",\"marker\":{\"color\":\"#ab63fa\"},\"name\":\"chr02q\",\"notched\":false,\"offsetgroup\":\"chr02q\",\"orientation\":\"v\",\"showlegend\":true,\"x\":[\"chr02q\",\"chr02q\",\"chr02q\",\"chr02q\",\"chr02q\",\"chr02q\",\"chr02q\",\"chr02q\",\"chr02q\",\"chr02q\",\"chr02q\",\"chr02q\",\"chr02q\",\"chr02q\",\"chr02q\",\"chr02q\",\"chr02q\",\"chr02q\",\"chr02q\",\"chr02q\"],\"x0\":\" \",\"xaxis\":\"x\",\"y\":[35214.0,34345.5,48641.0,50631.5,50817.0,48219.0,50146.0,20650.0,48666.0,49210.0,51877.0,48014.0,52966.0,48041.5,40151.0,52369.5,47114.0,27001.0,25011.0,48405.5],\"y0\":\" \",\"yaxis\":\"y\",\"type\":\"box\"},{\"alignmentgroup\":\"True\",\"hovertemplate\":\"chrom=%{x}<br>Read_length=%{y}<extra></extra>\",\"legendgroup\":\"chr03p\",\"marker\":{\"color\":\"#FFA15A\"},\"name\":\"chr03p\",\"notched\":false,\"offsetgroup\":\"chr03p\",\"orientation\":\"v\",\"showlegend\":true,\"x\":[\"chr03p\",\"chr03p\",\"chr03p\",\"chr03p\",\"chr03p\",\"chr03p\",\"chr03p\",\"chr03p\",\"chr03p\",\"chr03p\",\"chr03p\",\"chr03p\",\"chr03p\",\"chr03p\",\"chr03p\",\"chr03p\",\"chr03p\",\"chr03p\",\"chr03p\",\"chr03p\"],\"x0\":\" \",\"xaxis\":\"x\",\"y\":[19701.5,21297.0,19394.0,17397.0,17434.5,21087.0,17363.5,23583.0,22930.5,19397.0,21484.5,18993.0,19013.5,23167.0,20333.0,22817.0,22954.5,22935.0,15315.5,20153.0],\"y0\":\" \",\"yaxis\":\"y\",\"type\":\"box\"},{\"alignmentgroup\":\"True\",\"hovertemplate\":\"chrom=%{x}<br>Read_length=%{y}<extra></extra>\",\"legendgroup\":\"chr03q\",\"marker\":{\"color\":\"#19d3f3\"},\"name\":\"chr03q\",\"notched\":false,\"offsetgroup\":\"chr03q\",\"orientation\":\"v\",\"showlegend\":true,\"x\":[\"chr03q\",\"chr03q\",\"chr03q\",\"chr03q\",\"chr03q\",\"chr03q\",\"chr03q\",\"chr03q\",\"chr03q\",\"chr03q\",\"chr03q\",\"chr03q\",\"chr03q\",\"chr03q\",\"chr03q\",\"chr03q\",\"chr03q\",\"chr03q\",\"chr03q\",\"chr03q\"],\"x0\":\" \",\"xaxis\":\"x\",\"y\":[6981.0,8392.0,6621.0,6665.0,7179.0,6842.0,6738.0,6005.0,6710.0,8448.5,8513.0,6259.0,6540.0,7215.0,8666.0,6988.0,8399.0,6527.5,8825.0,6625.0],\"y0\":\" \",\"yaxis\":\"y\",\"type\":\"box\"},{\"alignmentgroup\":\"True\",\"hovertemplate\":\"chrom=%{x}<br>Read_length=%{y}<extra></extra>\",\"legendgroup\":\"chr04p\",\"marker\":{\"color\":\"#FF6692\"},\"name\":\"chr04p\",\"notched\":false,\"offsetgroup\":\"chr04p\",\"orientation\":\"v\",\"showlegend\":true,\"x\":[\"chr04p\",\"chr04p\",\"chr04p\",\"chr04p\",\"chr04p\",\"chr04p\",\"chr04p\",\"chr04p\",\"chr04p\",\"chr04p\",\"chr04p\",\"chr04p\",\"chr04p\",\"chr04p\",\"chr04p\",\"chr04p\",\"chr04p\",\"chr04p\",\"chr04p\",\"chr04p\"],\"x0\":\" \",\"xaxis\":\"x\",\"y\":[28582.5,25667.0,26605.0,23927.5,22221.5,18821.5,29132.5,19310.0,27051.0,18905.0,27961.0,24127.0,19770.0,16444.0,29171.0,21583.5,25562.0,23901.0,16948.0,20804.0],\"y0\":\" \",\"yaxis\":\"y\",\"type\":\"box\"},{\"alignmentgroup\":\"True\",\"hovertemplate\":\"chrom=%{x}<br>Read_length=%{y}<extra></extra>\",\"legendgroup\":\"chr04q\",\"marker\":{\"color\":\"#B6E880\"},\"name\":\"chr04q\",\"notched\":false,\"offsetgroup\":\"chr04q\",\"orientation\":\"v\",\"showlegend\":true,\"x\":[\"chr04q\",\"chr04q\",\"chr04q\",\"chr04q\",\"chr04q\",\"chr04q\",\"chr04q\",\"chr04q\",\"chr04q\",\"chr04q\",\"chr04q\",\"chr04q\",\"chr04q\",\"chr04q\",\"chr04q\",\"chr04q\",\"chr04q\",\"chr04q\",\"chr04q\",\"chr04q\"],\"x0\":\" \",\"xaxis\":\"x\",\"y\":[26006.0,10876.0,17309.5,19106.0,22278.0,27518.5,23323.0,24767.5,10520.0,23982.0,9484.0,24460.0,16759.0,14822.0,26341.0,22265.5,12420.0,17321.0,24311.0,8264.0],\"y0\":\" \",\"yaxis\":\"y\",\"type\":\"box\"},{\"alignmentgroup\":\"True\",\"hovertemplate\":\"chrom=%{x}<br>Read_length=%{y}<extra></extra>\",\"legendgroup\":\"chr05p\",\"marker\":{\"color\":\"#FF97FF\"},\"name\":\"chr05p\",\"notched\":false,\"offsetgroup\":\"chr05p\",\"orientation\":\"v\",\"showlegend\":true,\"x\":[\"chr05p\",\"chr05p\",\"chr05p\",\"chr05p\",\"chr05p\",\"chr05p\",\"chr05p\",\"chr05p\",\"chr05p\",\"chr05p\",\"chr05p\",\"chr05p\",\"chr05p\",\"chr05p\",\"chr05p\",\"chr05p\",\"chr05p\",\"chr05p\",\"chr05p\",\"chr05p\"],\"x0\":\" \",\"xaxis\":\"x\",\"y\":[15565.5,21476.5,23811.5,20908.0,24879.0,23036.0,24548.0,28349.0,24482.0,21201.0,24432.0,23783.5,22298.5,21066.0,24170.0,22138.0,22724.0,19074.0,25490.0,25270.0],\"y0\":\" \",\"yaxis\":\"y\",\"type\":\"box\"},{\"alignmentgroup\":\"True\",\"hovertemplate\":\"chrom=%{x}<br>Read_length=%{y}<extra></extra>\",\"legendgroup\":\"chr05q\",\"marker\":{\"color\":\"#FECB52\"},\"name\":\"chr05q\",\"notched\":false,\"offsetgroup\":\"chr05q\",\"orientation\":\"v\",\"showlegend\":true,\"x\":[\"chr05q\",\"chr05q\",\"chr05q\",\"chr05q\",\"chr05q\",\"chr05q\",\"chr05q\",\"chr05q\",\"chr05q\",\"chr05q\",\"chr05q\",\"chr05q\",\"chr05q\",\"chr05q\",\"chr05q\",\"chr05q\",\"chr05q\",\"chr05q\",\"chr05q\",\"chr05q\"],\"x0\":\" \",\"xaxis\":\"x\",\"y\":[35883.0,40955.5,37228.0,36077.0,37937.0,20625.0,39285.5,41537.0,20530.0,40916.5,41287.5,42552.0,41241.0,42066.0,34625.0,41078.0,37517.0,39835.0,40966.5,30853.0],\"y0\":\" \",\"yaxis\":\"y\",\"type\":\"box\"},{\"alignmentgroup\":\"True\",\"hovertemplate\":\"chrom=%{x}<br>Read_length=%{y}<extra></extra>\",\"legendgroup\":\"chr06p\",\"marker\":{\"color\":\"#636efa\"},\"name\":\"chr06p\",\"notched\":false,\"offsetgroup\":\"chr06p\",\"orientation\":\"v\",\"showlegend\":true,\"x\":[\"chr06p\",\"chr06p\",\"chr06p\",\"chr06p\",\"chr06p\",\"chr06p\",\"chr06p\"],\"x0\":\" \",\"xaxis\":\"x\",\"y\":[3078.0,27074.0,7507.0,29070.0,14897.0,20035.5,17848.5],\"y0\":\" \",\"yaxis\":\"y\",\"type\":\"box\"},{\"alignmentgroup\":\"True\",\"hovertemplate\":\"chrom=%{x}<br>Read_length=%{y}<extra></extra>\",\"legendgroup\":\"chr06q\",\"marker\":{\"color\":\"#EF553B\"},\"name\":\"chr06q\",\"notched\":false,\"offsetgroup\":\"chr06q\",\"orientation\":\"v\",\"showlegend\":true,\"x\":[\"chr06q\",\"chr06q\",\"chr06q\",\"chr06q\",\"chr06q\",\"chr06q\",\"chr06q\",\"chr06q\",\"chr06q\",\"chr06q\",\"chr06q\",\"chr06q\",\"chr06q\",\"chr06q\",\"chr06q\",\"chr06q\",\"chr06q\",\"chr06q\",\"chr06q\",\"chr06q\"],\"x0\":\" \",\"xaxis\":\"x\",\"y\":[17760.0,29868.0,24546.5,33813.0,33779.0,33638.0,34762.5,33012.0,28970.0,34563.5,30347.0,33677.0,31924.0,31965.0,29165.0,26218.0,22141.0,31763.0,25978.0,33374.0],\"y0\":\" \",\"yaxis\":\"y\",\"type\":\"box\"},{\"alignmentgroup\":\"True\",\"hovertemplate\":\"chrom=%{x}<br>Read_length=%{y}<extra></extra>\",\"legendgroup\":\"chr07p\",\"marker\":{\"color\":\"#00cc96\"},\"name\":\"chr07p\",\"notched\":false,\"offsetgroup\":\"chr07p\",\"orientation\":\"v\",\"showlegend\":true,\"x\":[\"chr07p\",\"chr07p\",\"chr07p\",\"chr07p\",\"chr07p\",\"chr07p\",\"chr07p\",\"chr07p\",\"chr07p\",\"chr07p\",\"chr07p\",\"chr07p\",\"chr07p\",\"chr07p\",\"chr07p\",\"chr07p\",\"chr07p\",\"chr07p\",\"chr07p\",\"chr07p\"],\"x0\":\" \",\"xaxis\":\"x\",\"y\":[20714.5,25718.5,27491.0,27555.0,28227.0,27381.0,32330.5,37081.0,36930.0,25967.0,28364.0,33615.0,30169.0,25755.0,42562.0,40707.0,25063.0,38227.0,41756.0,21456.5],\"y0\":\" \",\"yaxis\":\"y\",\"type\":\"box\"},{\"alignmentgroup\":\"True\",\"hovertemplate\":\"chrom=%{x}<br>Read_length=%{y}<extra></extra>\",\"legendgroup\":\"chr07q\",\"marker\":{\"color\":\"#ab63fa\"},\"name\":\"chr07q\",\"notched\":false,\"offsetgroup\":\"chr07q\",\"orientation\":\"v\",\"showlegend\":true,\"x\":[\"chr07q\",\"chr07q\",\"chr07q\",\"chr07q\",\"chr07q\",\"chr07q\",\"chr07q\",\"chr07q\",\"chr07q\",\"chr07q\",\"chr07q\",\"chr07q\",\"chr07q\",\"chr07q\",\"chr07q\",\"chr07q\",\"chr07q\",\"chr07q\",\"chr07q\",\"chr07q\"],\"x0\":\" \",\"xaxis\":\"x\",\"y\":[22284.0,24272.0,22663.5,23059.5,21104.0,22403.0,22668.0,23337.0,20789.0,22139.0,23259.5,22618.0,22903.0,22548.0,22141.5,24214.0,23495.0,24804.0,21541.0,19463.5],\"y0\":\" \",\"yaxis\":\"y\",\"type\":\"box\"},{\"alignmentgroup\":\"True\",\"hovertemplate\":\"chrom=%{x}<br>Read_length=%{y}<extra></extra>\",\"legendgroup\":\"chr08p\",\"marker\":{\"color\":\"#FFA15A\"},\"name\":\"chr08p\",\"notched\":false,\"offsetgroup\":\"chr08p\",\"orientation\":\"v\",\"showlegend\":true,\"x\":[\"chr08p\",\"chr08p\",\"chr08p\",\"chr08p\",\"chr08p\",\"chr08p\",\"chr08p\",\"chr08p\",\"chr08p\",\"chr08p\",\"chr08p\",\"chr08p\",\"chr08p\",\"chr08p\",\"chr08p\",\"chr08p\"],\"x0\":\" \",\"xaxis\":\"x\",\"y\":[26363.0,26386.0,28045.0,29681.0,27935.5,26158.0,24297.0,26406.0,23812.0,25763.5,25336.0,25929.0,28737.0,24701.0,24621.0,28027.5],\"y0\":\" \",\"yaxis\":\"y\",\"type\":\"box\"},{\"alignmentgroup\":\"True\",\"hovertemplate\":\"chrom=%{x}<br>Read_length=%{y}<extra></extra>\",\"legendgroup\":\"chr08q\",\"marker\":{\"color\":\"#19d3f3\"},\"name\":\"chr08q\",\"notched\":false,\"offsetgroup\":\"chr08q\",\"orientation\":\"v\",\"showlegend\":true,\"x\":[\"chr08q\",\"chr08q\",\"chr08q\",\"chr08q\",\"chr08q\",\"chr08q\",\"chr08q\",\"chr08q\",\"chr08q\",\"chr08q\",\"chr08q\",\"chr08q\"],\"x0\":\" \",\"xaxis\":\"x\",\"y\":[11994.0,22450.0,26217.0,31164.0,19357.0,24752.5,20517.5,18552.0,46054.5,26380.0,18853.0,22979.0],\"y0\":\" \",\"yaxis\":\"y\",\"type\":\"box\"},{\"alignmentgroup\":\"True\",\"hovertemplate\":\"chrom=%{x}<br>Read_length=%{y}<extra></extra>\",\"legendgroup\":\"chr09p\",\"marker\":{\"color\":\"#FF6692\"},\"name\":\"chr09p\",\"notched\":false,\"offsetgroup\":\"chr09p\",\"orientation\":\"v\",\"showlegend\":true,\"x\":[\"chr09p\",\"chr09p\",\"chr09p\",\"chr09p\",\"chr09p\",\"chr09p\",\"chr09p\",\"chr09p\",\"chr09p\",\"chr09p\",\"chr09p\",\"chr09p\",\"chr09p\",\"chr09p\",\"chr09p\",\"chr09p\",\"chr09p\",\"chr09p\",\"chr09p\",\"chr09p\"],\"x0\":\" \",\"xaxis\":\"x\",\"y\":[6315.5,8104.5,7999.0,7620.5,13530.0,7650.0,6896.0,7678.5,7498.0,7149.5,6184.0,7306.5,8826.0,6979.0,7371.0,7893.5,9055.0,5827.0,9030.0,9155.5],\"y0\":\" \",\"yaxis\":\"y\",\"type\":\"box\"},{\"alignmentgroup\":\"True\",\"hovertemplate\":\"chrom=%{x}<br>Read_length=%{y}<extra></extra>\",\"legendgroup\":\"chr09q\",\"marker\":{\"color\":\"#B6E880\"},\"name\":\"chr09q\",\"notched\":false,\"offsetgroup\":\"chr09q\",\"orientation\":\"v\",\"showlegend\":true,\"x\":[\"chr09q\",\"chr09q\",\"chr09q\",\"chr09q\",\"chr09q\",\"chr09q\",\"chr09q\",\"chr09q\",\"chr09q\",\"chr09q\",\"chr09q\",\"chr09q\",\"chr09q\",\"chr09q\",\"chr09q\",\"chr09q\",\"chr09q\",\"chr09q\",\"chr09q\",\"chr09q\"],\"x0\":\" \",\"xaxis\":\"x\",\"y\":[19301.5,10251.0,28015.0,31244.0,27232.0,24298.0,43273.0,19227.0,38367.0,11933.0,22886.0,19382.5,18791.0,10374.5,23633.0,32439.0,43214.5,43150.0,26720.5,9897.5],\"y0\":\" \",\"yaxis\":\"y\",\"type\":\"box\"},{\"alignmentgroup\":\"True\",\"hovertemplate\":\"chrom=%{x}<br>Read_length=%{y}<extra></extra>\",\"legendgroup\":\"chr10p\",\"marker\":{\"color\":\"#FF97FF\"},\"name\":\"chr10p\",\"notched\":false,\"offsetgroup\":\"chr10p\",\"orientation\":\"v\",\"showlegend\":true,\"x\":[\"chr10p\",\"chr10p\",\"chr10p\",\"chr10p\",\"chr10p\",\"chr10p\",\"chr10p\",\"chr10p\",\"chr10p\",\"chr10p\",\"chr10p\",\"chr10p\",\"chr10p\",\"chr10p\",\"chr10p\",\"chr10p\",\"chr10p\",\"chr10p\",\"chr10p\",\"chr10p\"],\"x0\":\" \",\"xaxis\":\"x\",\"y\":[14680.0,16099.0,21252.0,18605.0,18406.0,17673.5,18978.0,15679.0,14635.0,15499.0,20149.0,16818.0,18282.0,19175.5,19409.0,18278.0,19029.5,14646.0,17431.0,20263.5],\"y0\":\" \",\"yaxis\":\"y\",\"type\":\"box\"},{\"alignmentgroup\":\"True\",\"hovertemplate\":\"chrom=%{x}<br>Read_length=%{y}<extra></extra>\",\"legendgroup\":\"chr10q\",\"marker\":{\"color\":\"#FECB52\"},\"name\":\"chr10q\",\"notched\":false,\"offsetgroup\":\"chr10q\",\"orientation\":\"v\",\"showlegend\":true,\"x\":[\"chr10q\",\"chr10q\",\"chr10q\",\"chr10q\",\"chr10q\",\"chr10q\",\"chr10q\",\"chr10q\",\"chr10q\",\"chr10q\",\"chr10q\",\"chr10q\",\"chr10q\",\"chr10q\",\"chr10q\",\"chr10q\",\"chr10q\",\"chr10q\",\"chr10q\",\"chr10q\"],\"x0\":\" \",\"xaxis\":\"x\",\"y\":[18558.5,18243.0,15539.0,16282.5,20746.0,16104.0,23134.0,20812.5,22964.0,18986.0,18903.0,28669.5,23519.0,18606.0,15410.0,17358.5,22137.0,21700.0,19835.5,17839.0],\"y0\":\" \",\"yaxis\":\"y\",\"type\":\"box\"},{\"alignmentgroup\":\"True\",\"hovertemplate\":\"chrom=%{x}<br>Read_length=%{y}<extra></extra>\",\"legendgroup\":\"chr11p\",\"marker\":{\"color\":\"#636efa\"},\"name\":\"chr11p\",\"notched\":false,\"offsetgroup\":\"chr11p\",\"orientation\":\"v\",\"showlegend\":true,\"x\":[\"chr11p\",\"chr11p\",\"chr11p\",\"chr11p\",\"chr11p\",\"chr11p\",\"chr11p\",\"chr11p\",\"chr11p\",\"chr11p\",\"chr11p\",\"chr11p\",\"chr11p\",\"chr11p\",\"chr11p\",\"chr11p\",\"chr11p\",\"chr11p\",\"chr11p\",\"chr11p\"],\"x0\":\" \",\"xaxis\":\"x\",\"y\":[8042.0,7145.5,12259.0,8625.0,7299.0,8089.0,10235.5,6906.0,6509.0,7515.0,7204.0,7672.5,7554.5,6048.0,19278.5,8845.0,5266.5,6694.0,7081.0,6545.0],\"y0\":\" \",\"yaxis\":\"y\",\"type\":\"box\"},{\"alignmentgroup\":\"True\",\"hovertemplate\":\"chrom=%{x}<br>Read_length=%{y}<extra></extra>\",\"legendgroup\":\"chr11q\",\"marker\":{\"color\":\"#EF553B\"},\"name\":\"chr11q\",\"notched\":false,\"offsetgroup\":\"chr11q\",\"orientation\":\"v\",\"showlegend\":true,\"x\":[\"chr11q\",\"chr11q\",\"chr11q\",\"chr11q\",\"chr11q\",\"chr11q\",\"chr11q\",\"chr11q\",\"chr11q\",\"chr11q\",\"chr11q\",\"chr11q\",\"chr11q\",\"chr11q\",\"chr11q\",\"chr11q\",\"chr11q\",\"chr11q\",\"chr11q\",\"chr11q\"],\"x0\":\" \",\"xaxis\":\"x\",\"y\":[14083.5,11381.0,11300.0,11968.5,12197.0,10848.0,10798.0,13407.0,11987.0,11084.0,14484.5,13754.0,13372.0,12031.0,12296.0,10789.0,12050.0,12307.0,11765.5,11587.0],\"y0\":\" \",\"yaxis\":\"y\",\"type\":\"box\"},{\"alignmentgroup\":\"True\",\"hovertemplate\":\"chrom=%{x}<br>Read_length=%{y}<extra></extra>\",\"legendgroup\":\"chr12p\",\"marker\":{\"color\":\"#00cc96\"},\"name\":\"chr12p\",\"notched\":false,\"offsetgroup\":\"chr12p\",\"orientation\":\"v\",\"showlegend\":true,\"x\":[\"chr12p\",\"chr12p\",\"chr12p\",\"chr12p\",\"chr12p\",\"chr12p\",\"chr12p\",\"chr12p\",\"chr12p\",\"chr12p\",\"chr12p\",\"chr12p\",\"chr12p\",\"chr12p\",\"chr12p\",\"chr12p\",\"chr12p\",\"chr12p\",\"chr12p\",\"chr12p\"],\"x0\":\" \",\"xaxis\":\"x\",\"y\":[9053.0,6408.0,8423.0,7485.0,8063.0,19622.0,7710.0,8115.0,7355.0,11603.5,8971.0,10146.5,7591.0,15883.0,7528.0,19781.0,7301.0,8601.5,9583.0,17136.5],\"y0\":\" \",\"yaxis\":\"y\",\"type\":\"box\"},{\"alignmentgroup\":\"True\",\"hovertemplate\":\"chrom=%{x}<br>Read_length=%{y}<extra></extra>\",\"legendgroup\":\"chr12q\",\"marker\":{\"color\":\"#ab63fa\"},\"name\":\"chr12q\",\"notched\":false,\"offsetgroup\":\"chr12q\",\"orientation\":\"v\",\"showlegend\":true,\"x\":[\"chr12q\",\"chr12q\",\"chr12q\",\"chr12q\",\"chr12q\",\"chr12q\",\"chr12q\",\"chr12q\",\"chr12q\",\"chr12q\",\"chr12q\",\"chr12q\",\"chr12q\",\"chr12q\",\"chr12q\",\"chr12q\",\"chr12q\",\"chr12q\",\"chr12q\",\"chr12q\"],\"x0\":\" \",\"xaxis\":\"x\",\"y\":[21537.0,27571.5,18303.5,27313.0,24281.0,28061.0,21193.0,19568.0,20686.0,25647.0,25109.5,20918.0,19020.0,17518.5,23790.0,24656.0,14222.0,18523.0,22530.0,21595.5],\"y0\":\" \",\"yaxis\":\"y\",\"type\":\"box\"},{\"alignmentgroup\":\"True\",\"hovertemplate\":\"chrom=%{x}<br>Read_length=%{y}<extra></extra>\",\"legendgroup\":\"chr13p\",\"marker\":{\"color\":\"#FFA15A\"},\"name\":\"chr13p\",\"notched\":false,\"offsetgroup\":\"chr13p\",\"orientation\":\"v\",\"showlegend\":true,\"x\":[\"chr13p\",\"chr13p\",\"chr13p\",\"chr13p\",\"chr13p\",\"chr13p\",\"chr13p\",\"chr13p\",\"chr13p\",\"chr13p\",\"chr13p\"],\"x0\":\" \",\"xaxis\":\"x\",\"y\":[20726.0,22577.5,26026.0,15327.0,19704.0,20576.0,22714.0,18699.0,23133.0,14891.5,9549.0],\"y0\":\" \",\"yaxis\":\"y\",\"type\":\"box\"},{\"alignmentgroup\":\"True\",\"hovertemplate\":\"chrom=%{x}<br>Read_length=%{y}<extra></extra>\",\"legendgroup\":\"chr13q\",\"marker\":{\"color\":\"#19d3f3\"},\"name\":\"chr13q\",\"notched\":false,\"offsetgroup\":\"chr13q\",\"orientation\":\"v\",\"showlegend\":true,\"x\":[\"chr13q\",\"chr13q\",\"chr13q\",\"chr13q\",\"chr13q\",\"chr13q\",\"chr13q\",\"chr13q\",\"chr13q\",\"chr13q\",\"chr13q\",\"chr13q\",\"chr13q\",\"chr13q\",\"chr13q\",\"chr13q\",\"chr13q\",\"chr13q\",\"chr13q\",\"chr13q\"],\"x0\":\" \",\"xaxis\":\"x\",\"y\":[22397.0,35479.5,30379.0,20649.0,22823.5,28981.5,19185.0,26942.0,26885.0,31248.0,25945.0,32878.0,29416.0,27294.0,26929.0,26130.0,26926.0,25052.5,24740.0,22191.0],\"y0\":\" \",\"yaxis\":\"y\",\"type\":\"box\"},{\"alignmentgroup\":\"True\",\"hovertemplate\":\"chrom=%{x}<br>Read_length=%{y}<extra></extra>\",\"legendgroup\":\"chr14p\",\"marker\":{\"color\":\"#FF6692\"},\"name\":\"chr14p\",\"notched\":false,\"offsetgroup\":\"chr14p\",\"orientation\":\"v\",\"showlegend\":true,\"x\":[\"chr14p\",\"chr14p\",\"chr14p\",\"chr14p\",\"chr14p\",\"chr14p\"],\"x0\":\" \",\"xaxis\":\"x\",\"y\":[22484.5,16800.0,25542.0,20177.0,23195.0,31580.0],\"y0\":\" \",\"yaxis\":\"y\",\"type\":\"box\"},{\"alignmentgroup\":\"True\",\"hovertemplate\":\"chrom=%{x}<br>Read_length=%{y}<extra></extra>\",\"legendgroup\":\"chr14q\",\"marker\":{\"color\":\"#B6E880\"},\"name\":\"chr14q\",\"notched\":false,\"offsetgroup\":\"chr14q\",\"orientation\":\"v\",\"showlegend\":true,\"x\":[\"chr14q\",\"chr14q\",\"chr14q\",\"chr14q\",\"chr14q\",\"chr14q\",\"chr14q\",\"chr14q\",\"chr14q\",\"chr14q\",\"chr14q\",\"chr14q\",\"chr14q\",\"chr14q\",\"chr14q\",\"chr14q\",\"chr14q\",\"chr14q\",\"chr14q\",\"chr14q\"],\"x0\":\" \",\"xaxis\":\"x\",\"y\":[25016.0,21706.0,23163.0,22559.5,25083.0,23585.0,23147.5,23332.0,22959.0,22601.0,23428.0,22539.0,24229.5,23326.0,23582.0,24360.0,25271.0,22151.0,23773.0,22975.0],\"y0\":\" \",\"yaxis\":\"y\",\"type\":\"box\"},{\"alignmentgroup\":\"True\",\"hovertemplate\":\"chrom=%{x}<br>Read_length=%{y}<extra></extra>\",\"legendgroup\":\"chr15p\",\"marker\":{\"color\":\"#FF97FF\"},\"name\":\"chr15p\",\"notched\":false,\"offsetgroup\":\"chr15p\",\"orientation\":\"v\",\"showlegend\":true,\"x\":[\"chr15p\",\"chr15p\",\"chr15p\",\"chr15p\",\"chr15p\",\"chr15p\",\"chr15p\",\"chr15p\",\"chr15p\",\"chr15p\",\"chr15p\",\"chr15p\",\"chr15p\",\"chr15p\",\"chr15p\",\"chr15p\",\"chr15p\",\"chr15p\",\"chr15p\",\"chr15p\"],\"x0\":\" \",\"xaxis\":\"x\",\"y\":[27219.0,27094.0,18480.0,20055.0,23071.0,22748.0,21374.0,18903.0,25571.0,23004.0,26116.5,25108.0,19892.5,22510.0,21300.0,17738.0,27607.0,27838.0,25810.0,19457.0],\"y0\":\" \",\"yaxis\":\"y\",\"type\":\"box\"},{\"alignmentgroup\":\"True\",\"hovertemplate\":\"chrom=%{x}<br>Read_length=%{y}<extra></extra>\",\"legendgroup\":\"chr15q\",\"marker\":{\"color\":\"#FECB52\"},\"name\":\"chr15q\",\"notched\":false,\"offsetgroup\":\"chr15q\",\"orientation\":\"v\",\"showlegend\":true,\"x\":[\"chr15q\",\"chr15q\",\"chr15q\",\"chr15q\",\"chr15q\",\"chr15q\",\"chr15q\",\"chr15q\",\"chr15q\",\"chr15q\",\"chr15q\",\"chr15q\",\"chr15q\",\"chr15q\",\"chr15q\",\"chr15q\",\"chr15q\",\"chr15q\",\"chr15q\",\"chr15q\"],\"x0\":\" \",\"xaxis\":\"x\",\"y\":[6362.0,7928.5,6329.0,7513.0,7153.0,7160.0,8884.5,6627.0,6393.5,6665.0,7120.0,6792.5,9478.0,8077.0,7760.0,7843.0,6453.5,11539.0,9811.0,6998.0],\"y0\":\" \",\"yaxis\":\"y\",\"type\":\"box\"},{\"alignmentgroup\":\"True\",\"hovertemplate\":\"chrom=%{x}<br>Read_length=%{y}<extra></extra>\",\"legendgroup\":\"chr16p\",\"marker\":{\"color\":\"#636efa\"},\"name\":\"chr16p\",\"notched\":false,\"offsetgroup\":\"chr16p\",\"orientation\":\"v\",\"showlegend\":true,\"x\":[\"chr16p\",\"chr16p\",\"chr16p\",\"chr16p\",\"chr16p\",\"chr16p\",\"chr16p\",\"chr16p\",\"chr16p\",\"chr16p\",\"chr16p\",\"chr16p\",\"chr16p\",\"chr16p\",\"chr16p\",\"chr16p\",\"chr16p\",\"chr16p\",\"chr16p\",\"chr16p\"],\"x0\":\" \",\"xaxis\":\"x\",\"y\":[8829.5,8268.0,7418.0,7591.0,7864.0,11824.0,6031.5,7411.0,9132.0,7961.5,8181.5,8332.0,7214.0,7736.5,7184.0,11401.0,10009.0,7861.0,5783.0,8380.0],\"y0\":\" \",\"yaxis\":\"y\",\"type\":\"box\"},{\"alignmentgroup\":\"True\",\"hovertemplate\":\"chrom=%{x}<br>Read_length=%{y}<extra></extra>\",\"legendgroup\":\"chr16q\",\"marker\":{\"color\":\"#EF553B\"},\"name\":\"chr16q\",\"notched\":false,\"offsetgroup\":\"chr16q\",\"orientation\":\"v\",\"showlegend\":true,\"x\":[\"chr16q\",\"chr16q\",\"chr16q\",\"chr16q\",\"chr16q\",\"chr16q\",\"chr16q\",\"chr16q\",\"chr16q\",\"chr16q\",\"chr16q\",\"chr16q\",\"chr16q\",\"chr16q\",\"chr16q\",\"chr16q\",\"chr16q\",\"chr16q\",\"chr16q\",\"chr16q\"],\"x0\":\" \",\"xaxis\":\"x\",\"y\":[23448.0,20164.0,18355.0,25068.5,22184.0,22722.5,23928.0,24720.0,22461.0,25891.0,22446.0,25349.0,26694.5,24597.0,28262.5,19909.0,26268.0,27522.5,25824.0,22874.0],\"y0\":\" \",\"yaxis\":\"y\",\"type\":\"box\"},{\"alignmentgroup\":\"True\",\"hovertemplate\":\"chrom=%{x}<br>Read_length=%{y}<extra></extra>\",\"legendgroup\":\"chr17p\",\"marker\":{\"color\":\"#00cc96\"},\"name\":\"chr17p\",\"notched\":false,\"offsetgroup\":\"chr17p\",\"orientation\":\"v\",\"showlegend\":true,\"x\":[\"chr17p\",\"chr17p\",\"chr17p\",\"chr17p\",\"chr17p\",\"chr17p\",\"chr17p\",\"chr17p\",\"chr17p\",\"chr17p\",\"chr17p\",\"chr17p\",\"chr17p\",\"chr17p\",\"chr17p\",\"chr17p\",\"chr17p\",\"chr17p\"],\"x0\":\" \",\"xaxis\":\"x\",\"y\":[25722.5,24476.0,17471.0,14068.0,27662.0,38807.0,22500.5,26111.0,24685.5,19013.0,26258.5,24471.5,31641.5,28898.0,27008.5,21697.0,21076.5,23790.0],\"y0\":\" \",\"yaxis\":\"y\",\"type\":\"box\"},{\"alignmentgroup\":\"True\",\"hovertemplate\":\"chrom=%{x}<br>Read_length=%{y}<extra></extra>\",\"legendgroup\":\"chr17q\",\"marker\":{\"color\":\"#ab63fa\"},\"name\":\"chr17q\",\"notched\":false,\"offsetgroup\":\"chr17q\",\"orientation\":\"v\",\"showlegend\":true,\"x\":[\"chr17q\",\"chr17q\",\"chr17q\",\"chr17q\",\"chr17q\",\"chr17q\",\"chr17q\",\"chr17q\",\"chr17q\",\"chr17q\",\"chr17q\",\"chr17q\",\"chr17q\",\"chr17q\",\"chr17q\",\"chr17q\",\"chr17q\",\"chr17q\",\"chr17q\",\"chr17q\"],\"x0\":\" \",\"xaxis\":\"x\",\"y\":[19399.5,35921.5,26424.0,34076.0,20022.0,18620.0,19176.0,8361.0,25092.0,23104.5,14303.0,44411.0,26535.5,12996.0,9948.5,16874.5,15683.0,26528.0,32766.0,17108.0],\"y0\":\" \",\"yaxis\":\"y\",\"type\":\"box\"},{\"alignmentgroup\":\"True\",\"hovertemplate\":\"chrom=%{x}<br>Read_length=%{y}<extra></extra>\",\"legendgroup\":\"chr18p\",\"marker\":{\"color\":\"#FFA15A\"},\"name\":\"chr18p\",\"notched\":false,\"offsetgroup\":\"chr18p\",\"orientation\":\"v\",\"showlegend\":true,\"x\":[\"chr18p\",\"chr18p\",\"chr18p\",\"chr18p\",\"chr18p\",\"chr18p\",\"chr18p\",\"chr18p\",\"chr18p\",\"chr18p\",\"chr18p\",\"chr18p\",\"chr18p\",\"chr18p\",\"chr18p\",\"chr18p\",\"chr18p\",\"chr18p\",\"chr18p\",\"chr18p\"],\"x0\":\" \",\"xaxis\":\"x\",\"y\":[12238.0,8894.5,8457.0,7801.0,14708.0,13871.0,12483.5,10636.0,10038.0,11399.0,10332.0,12849.0,14206.0,14760.0,13573.5,9704.0,14164.0,11958.0,6096.0,8275.5],\"y0\":\" \",\"yaxis\":\"y\",\"type\":\"box\"},{\"alignmentgroup\":\"True\",\"hovertemplate\":\"chrom=%{x}<br>Read_length=%{y}<extra></extra>\",\"legendgroup\":\"chr18q\",\"marker\":{\"color\":\"#19d3f3\"},\"name\":\"chr18q\",\"notched\":false,\"offsetgroup\":\"chr18q\",\"orientation\":\"v\",\"showlegend\":true,\"x\":[\"chr18q\",\"chr18q\",\"chr18q\",\"chr18q\",\"chr18q\",\"chr18q\",\"chr18q\",\"chr18q\",\"chr18q\",\"chr18q\",\"chr18q\",\"chr18q\",\"chr18q\",\"chr18q\",\"chr18q\",\"chr18q\",\"chr18q\",\"chr18q\",\"chr18q\",\"chr18q\"],\"x0\":\" \",\"xaxis\":\"x\",\"y\":[38416.5,42094.0,29175.0,41862.0,41332.5,39107.0,27247.5,35733.0,40363.5,34697.0,41809.5,35051.0,33257.5,40199.0,33367.0,42325.0,40708.0,29975.5,23088.5,35915.5],\"y0\":\" \",\"yaxis\":\"y\",\"type\":\"box\"},{\"alignmentgroup\":\"True\",\"hovertemplate\":\"chrom=%{x}<br>Read_length=%{y}<extra></extra>\",\"legendgroup\":\"chr19p\",\"marker\":{\"color\":\"#FF6692\"},\"name\":\"chr19p\",\"notched\":false,\"offsetgroup\":\"chr19p\",\"orientation\":\"v\",\"showlegend\":true,\"x\":[\"chr19p\",\"chr19p\",\"chr19p\",\"chr19p\",\"chr19p\",\"chr19p\",\"chr19p\",\"chr19p\",\"chr19p\",\"chr19p\",\"chr19p\",\"chr19p\",\"chr19p\",\"chr19p\",\"chr19p\",\"chr19p\",\"chr19p\",\"chr19p\",\"chr19p\",\"chr19p\"],\"x0\":\" \",\"xaxis\":\"x\",\"y\":[6271.0,7104.0,19221.5,6087.0,8713.0,20934.0,7189.5,7681.0,6409.0,8510.0,8913.0,7229.0,9957.5,6915.0,21412.0,20862.0,15776.0,8196.0,7037.0,8824.0],\"y0\":\" \",\"yaxis\":\"y\",\"type\":\"box\"},{\"alignmentgroup\":\"True\",\"hovertemplate\":\"chrom=%{x}<br>Read_length=%{y}<extra></extra>\",\"legendgroup\":\"chr19q\",\"marker\":{\"color\":\"#B6E880\"},\"name\":\"chr19q\",\"notched\":false,\"offsetgroup\":\"chr19q\",\"orientation\":\"v\",\"showlegend\":true,\"x\":[\"chr19q\",\"chr19q\",\"chr19q\",\"chr19q\",\"chr19q\",\"chr19q\",\"chr19q\",\"chr19q\",\"chr19q\",\"chr19q\",\"chr19q\",\"chr19q\",\"chr19q\",\"chr19q\",\"chr19q\",\"chr19q\",\"chr19q\",\"chr19q\",\"chr19q\",\"chr19q\"],\"x0\":\" \",\"xaxis\":\"x\",\"y\":[31303.5,36117.5,27814.0,40233.0,25026.0,23518.5,25069.0,25870.0,35864.0,26542.0,24271.0,28216.5,26000.0,30346.0,28515.0,31269.0,38414.5,32545.5,29773.0,29636.5],\"y0\":\" \",\"yaxis\":\"y\",\"type\":\"box\"},{\"alignmentgroup\":\"True\",\"hovertemplate\":\"chrom=%{x}<br>Read_length=%{y}<extra></extra>\",\"legendgroup\":\"chr20p\",\"marker\":{\"color\":\"#FF97FF\"},\"name\":\"chr20p\",\"notched\":false,\"offsetgroup\":\"chr20p\",\"orientation\":\"v\",\"showlegend\":true,\"x\":[\"chr20p\",\"chr20p\",\"chr20p\",\"chr20p\",\"chr20p\",\"chr20p\",\"chr20p\",\"chr20p\",\"chr20p\",\"chr20p\",\"chr20p\",\"chr20p\",\"chr20p\",\"chr20p\",\"chr20p\",\"chr20p\",\"chr20p\",\"chr20p\",\"chr20p\",\"chr20p\"],\"x0\":\" \",\"xaxis\":\"x\",\"y\":[21659.0,19302.0,17157.5,27512.5,18305.5,19788.5,9606.0,19743.0,17945.0,15634.0,18321.0,23897.0,14405.0,20767.0,15142.0,10531.0,22963.0,15472.5,41229.5,18611.0],\"y0\":\" \",\"yaxis\":\"y\",\"type\":\"box\"},{\"alignmentgroup\":\"True\",\"hovertemplate\":\"chrom=%{x}<br>Read_length=%{y}<extra></extra>\",\"legendgroup\":\"chr20q\",\"marker\":{\"color\":\"#FECB52\"},\"name\":\"chr20q\",\"notched\":false,\"offsetgroup\":\"chr20q\",\"orientation\":\"v\",\"showlegend\":true,\"x\":[\"chr20q\",\"chr20q\",\"chr20q\",\"chr20q\",\"chr20q\",\"chr20q\",\"chr20q\",\"chr20q\",\"chr20q\",\"chr20q\",\"chr20q\",\"chr20q\",\"chr20q\",\"chr20q\",\"chr20q\",\"chr20q\",\"chr20q\",\"chr20q\",\"chr20q\",\"chr20q\"],\"x0\":\" \",\"xaxis\":\"x\",\"y\":[7796.0,10657.5,7511.0,8116.0,6696.0,6293.0,7478.0,10547.0,16462.5,8024.0,7197.0,6912.0,10627.0,16873.5,6547.0,7373.5,10741.5,7592.0,7013.0,8023.5],\"y0\":\" \",\"yaxis\":\"y\",\"type\":\"box\"},{\"alignmentgroup\":\"True\",\"hovertemplate\":\"chrom=%{x}<br>Read_length=%{y}<extra></extra>\",\"legendgroup\":\"chr21p\",\"marker\":{\"color\":\"#636efa\"},\"name\":\"chr21p\",\"notched\":false,\"offsetgroup\":\"chr21p\",\"orientation\":\"v\",\"showlegend\":true,\"x\":[\"chr21p\",\"chr21p\",\"chr21p\",\"chr21p\",\"chr21p\",\"chr21p\",\"chr21p\",\"chr21p\",\"chr21p\",\"chr21p\",\"chr21p\",\"chr21p\",\"chr21p\",\"chr21p\",\"chr21p\",\"chr21p\",\"chr21p\",\"chr21p\",\"chr21p\",\"chr21p\"],\"x0\":\" \",\"xaxis\":\"x\",\"y\":[21794.5,19600.0,19477.5,24678.5,20604.0,19484.0,22452.0,18824.0,25616.5,23697.5,21606.0,18084.0,19207.0,21778.0,19145.0,22347.0,24959.0,21738.0,25886.5,22253.5],\"y0\":\" \",\"yaxis\":\"y\",\"type\":\"box\"},{\"alignmentgroup\":\"True\",\"hovertemplate\":\"chrom=%{x}<br>Read_length=%{y}<extra></extra>\",\"legendgroup\":\"chr21q\",\"marker\":{\"color\":\"#EF553B\"},\"name\":\"chr21q\",\"notched\":false,\"offsetgroup\":\"chr21q\",\"orientation\":\"v\",\"showlegend\":true,\"x\":[\"chr21q\",\"chr21q\",\"chr21q\",\"chr21q\",\"chr21q\",\"chr21q\",\"chr21q\",\"chr21q\",\"chr21q\",\"chr21q\",\"chr21q\",\"chr21q\",\"chr21q\",\"chr21q\",\"chr21q\",\"chr21q\",\"chr21q\",\"chr21q\",\"chr21q\",\"chr21q\"],\"x0\":\" \",\"xaxis\":\"x\",\"y\":[24081.5,31739.0,23988.0,31780.0,32749.5,32178.0,34686.0,33033.0,30454.5,25494.0,27947.0,27268.0,31803.0,33778.5,22618.0,28091.0,28901.5,33282.0,29176.0,26846.0],\"y0\":\" \",\"yaxis\":\"y\",\"type\":\"box\"},{\"alignmentgroup\":\"True\",\"hovertemplate\":\"chrom=%{x}<br>Read_length=%{y}<extra></extra>\",\"legendgroup\":\"chr22p\",\"marker\":{\"color\":\"#00cc96\"},\"name\":\"chr22p\",\"notched\":false,\"offsetgroup\":\"chr22p\",\"orientation\":\"v\",\"showlegend\":true,\"x\":[\"chr22p\",\"chr22p\",\"chr22p\",\"chr22p\",\"chr22p\",\"chr22p\",\"chr22p\",\"chr22p\",\"chr22p\",\"chr22p\",\"chr22p\",\"chr22p\",\"chr22p\",\"chr22p\",\"chr22p\",\"chr22p\",\"chr22p\",\"chr22p\",\"chr22p\",\"chr22p\"],\"x0\":\" \",\"xaxis\":\"x\",\"y\":[26405.5,25405.0,29774.0,39720.0,24525.0,25099.5,25695.0,35352.0,38400.0,25236.5,27427.0,26636.0,34042.5,34557.0,33106.5,33124.0,27391.5,25094.5,29653.0,32043.0],\"y0\":\" \",\"yaxis\":\"y\",\"type\":\"box\"},{\"alignmentgroup\":\"True\",\"hovertemplate\":\"chrom=%{x}<br>Read_length=%{y}<extra></extra>\",\"legendgroup\":\"chr22q\",\"marker\":{\"color\":\"#ab63fa\"},\"name\":\"chr22q\",\"notched\":false,\"offsetgroup\":\"chr22q\",\"orientation\":\"v\",\"showlegend\":true,\"x\":[\"chr22q\",\"chr22q\",\"chr22q\",\"chr22q\",\"chr22q\",\"chr22q\",\"chr22q\",\"chr22q\",\"chr22q\",\"chr22q\",\"chr22q\",\"chr22q\",\"chr22q\",\"chr22q\",\"chr22q\",\"chr22q\",\"chr22q\",\"chr22q\",\"chr22q\",\"chr22q\"],\"x0\":\" \",\"xaxis\":\"x\",\"y\":[21499.0,21012.0,23890.0,26547.0,22844.5,25211.5,25475.0,26519.0,35535.0,20482.5,21934.5,22597.0,26101.0,24175.0,22455.0,23175.0,25374.0,25476.0,22723.0,22101.0],\"y0\":\" \",\"yaxis\":\"y\",\"type\":\"box\"},{\"alignmentgroup\":\"True\",\"hovertemplate\":\"chrom=%{x}<br>Read_length=%{y}<extra></extra>\",\"legendgroup\":\"chrXp\",\"marker\":{\"color\":\"#FFA15A\"},\"name\":\"chrXp\",\"notched\":false,\"offsetgroup\":\"chrXp\",\"orientation\":\"v\",\"showlegend\":true,\"x\":[\"chrXp\",\"chrXp\",\"chrXp\",\"chrXp\",\"chrXp\",\"chrXp\",\"chrXp\",\"chrXp\",\"chrXp\",\"chrXp\",\"chrXp\",\"chrXp\",\"chrXp\",\"chrXp\",\"chrXp\",\"chrXp\",\"chrXp\",\"chrXp\",\"chrXp\",\"chrXp\"],\"x0\":\" \",\"xaxis\":\"x\",\"y\":[21895.5,9315.0,27269.5,13183.0,23693.0,20772.0,19540.0,34111.0,43093.0,12540.0,35203.0,23310.0,38147.0,23456.0,15783.0,26467.0,25535.0,23682.0,24603.0,26350.0],\"y0\":\" \",\"yaxis\":\"y\",\"type\":\"box\"},{\"alignmentgroup\":\"True\",\"hovertemplate\":\"chrom=%{x}<br>Read_length=%{y}<extra></extra>\",\"legendgroup\":\"chrXq\",\"marker\":{\"color\":\"#19d3f3\"},\"name\":\"chrXq\",\"notched\":false,\"offsetgroup\":\"chrXq\",\"orientation\":\"v\",\"showlegend\":true,\"x\":[\"chrXq\",\"chrXq\",\"chrXq\",\"chrXq\",\"chrXq\",\"chrXq\",\"chrXq\",\"chrXq\",\"chrXq\",\"chrXq\",\"chrXq\",\"chrXq\",\"chrXq\",\"chrXq\",\"chrXq\",\"chrXq\",\"chrXq\",\"chrXq\",\"chrXq\",\"chrXq\"],\"x0\":\" \",\"xaxis\":\"x\",\"y\":[6576.5,6534.0,6431.0,8545.5,7330.0,8762.0,7132.5,10191.5,7036.5,7779.5,6508.0,7487.5,7583.5,9104.5,8025.0,7393.0,7633.0,6142.0,7438.0,6577.0],\"y0\":\" \",\"yaxis\":\"y\",\"type\":\"box\"},{\"alignmentgroup\":\"True\",\"hovertemplate\":\"chrom=%{x}<br>Read_length=%{y}<extra></extra>\",\"legendgroup\":\"chrYp\",\"marker\":{\"color\":\"#FF6692\"},\"name\":\"chrYp\",\"notched\":false,\"offsetgroup\":\"chrYp\",\"orientation\":\"v\",\"showlegend\":true,\"x\":[\"chrYp\",\"chrYp\",\"chrYp\",\"chrYp\",\"chrYp\",\"chrYp\",\"chrYp\",\"chrYp\",\"chrYp\",\"chrYp\",\"chrYp\",\"chrYp\",\"chrYp\",\"chrYp\",\"chrYp\",\"chrYp\",\"chrYp\",\"chrYp\",\"chrYp\",\"chrYp\"],\"x0\":\" \",\"xaxis\":\"x\",\"y\":[15919.0,24709.0,26486.0,23473.5,23513.0,30009.0,22343.0,23153.0,21185.0,21527.5,15410.0,21487.5,17338.5,26162.0,18499.0,18509.5,33091.0,22179.0,24996.5,24678.0],\"y0\":\" \",\"yaxis\":\"y\",\"type\":\"box\"},{\"alignmentgroup\":\"True\",\"hovertemplate\":\"chrom=%{x}<br>Read_length=%{y}<extra></extra>\",\"legendgroup\":\"chrYq\",\"marker\":{\"color\":\"#B6E880\"},\"name\":\"chrYq\",\"notched\":false,\"offsetgroup\":\"chrYq\",\"orientation\":\"v\",\"showlegend\":true,\"x\":[\"chrYq\",\"chrYq\",\"chrYq\",\"chrYq\",\"chrYq\",\"chrYq\",\"chrYq\",\"chrYq\",\"chrYq\",\"chrYq\",\"chrYq\",\"chrYq\",\"chrYq\",\"chrYq\",\"chrYq\",\"chrYq\",\"chrYq\",\"chrYq\",\"chrYq\",\"chrYq\"],\"x0\":\" \",\"xaxis\":\"x\",\"y\":[6220.0,7273.0,32158.0,19894.5,7495.5,7594.0,9093.0,8938.5,49289.5,8303.0,26862.0,7705.0,6356.0,9120.0,50954.5,6994.0,30442.0,6677.0,6760.0,40643.0],\"y0\":\" \",\"yaxis\":\"y\",\"type\":\"box\"}],                        {\"template\":{\"data\":{\"bar\":[{\"error_x\":{\"color\":\"#2a3f5f\"},\"error_y\":{\"color\":\"#2a3f5f\"},\"marker\":{\"line\":{\"color\":\"#E5ECF6\",\"width\":0.5},\"pattern\":{\"fillmode\":\"overlay\",\"size\":10,\"solidity\":0.2}},\"type\":\"bar\"}],\"barpolar\":[{\"marker\":{\"line\":{\"color\":\"#E5ECF6\",\"width\":0.5},\"pattern\":{\"fillmode\":\"overlay\",\"size\":10,\"solidity\":0.2}},\"type\":\"barpolar\"}],\"carpet\":[{\"aaxis\":{\"endlinecolor\":\"#2a3f5f\",\"gridcolor\":\"white\",\"linecolor\":\"white\",\"minorgridcolor\":\"white\",\"startlinecolor\":\"#2a3f5f\"},\"baxis\":{\"endlinecolor\":\"#2a3f5f\",\"gridcolor\":\"white\",\"linecolor\":\"white\",\"minorgridcolor\":\"white\",\"startlinecolor\":\"#2a3f5f\"},\"type\":\"carpet\"}],\"choropleth\":[{\"colorbar\":{\"outlinewidth\":0,\"ticks\":\"\"},\"type\":\"choropleth\"}],\"contour\":[{\"colorbar\":{\"outlinewidth\":0,\"ticks\":\"\"},\"colorscale\":[[0.0,\"#0d0887\"],[0.1111111111111111,\"#46039f\"],[0.2222222222222222,\"#7201a8\"],[0.3333333333333333,\"#9c179e\"],[0.4444444444444444,\"#bd3786\"],[0.5555555555555556,\"#d8576b\"],[0.6666666666666666,\"#ed7953\"],[0.7777777777777778,\"#fb9f3a\"],[0.8888888888888888,\"#fdca26\"],[1.0,\"#f0f921\"]],\"type\":\"contour\"}],\"contourcarpet\":[{\"colorbar\":{\"outlinewidth\":0,\"ticks\":\"\"},\"type\":\"contourcarpet\"}],\"heatmap\":[{\"colorbar\":{\"outlinewidth\":0,\"ticks\":\"\"},\"colorscale\":[[0.0,\"#0d0887\"],[0.1111111111111111,\"#46039f\"],[0.2222222222222222,\"#7201a8\"],[0.3333333333333333,\"#9c179e\"],[0.4444444444444444,\"#bd3786\"],[0.5555555555555556,\"#d8576b\"],[0.6666666666666666,\"#ed7953\"],[0.7777777777777778,\"#fb9f3a\"],[0.8888888888888888,\"#fdca26\"],[1.0,\"#f0f921\"]],\"type\":\"heatmap\"}],\"heatmapgl\":[{\"colorbar\":{\"outlinewidth\":0,\"ticks\":\"\"},\"colorscale\":[[0.0,\"#0d0887\"],[0.1111111111111111,\"#46039f\"],[0.2222222222222222,\"#7201a8\"],[0.3333333333333333,\"#9c179e\"],[0.4444444444444444,\"#bd3786\"],[0.5555555555555556,\"#d8576b\"],[0.6666666666666666,\"#ed7953\"],[0.7777777777777778,\"#fb9f3a\"],[0.8888888888888888,\"#fdca26\"],[1.0,\"#f0f921\"]],\"type\":\"heatmapgl\"}],\"histogram\":[{\"marker\":{\"pattern\":{\"fillmode\":\"overlay\",\"size\":10,\"solidity\":0.2}},\"type\":\"histogram\"}],\"histogram2d\":[{\"colorbar\":{\"outlinewidth\":0,\"ticks\":\"\"},\"colorscale\":[[0.0,\"#0d0887\"],[0.1111111111111111,\"#46039f\"],[0.2222222222222222,\"#7201a8\"],[0.3333333333333333,\"#9c179e\"],[0.4444444444444444,\"#bd3786\"],[0.5555555555555556,\"#d8576b\"],[0.6666666666666666,\"#ed7953\"],[0.7777777777777778,\"#fb9f3a\"],[0.8888888888888888,\"#fdca26\"],[1.0,\"#f0f921\"]],\"type\":\"histogram2d\"}],\"histogram2dcontour\":[{\"colorbar\":{\"outlinewidth\":0,\"ticks\":\"\"},\"colorscale\":[[0.0,\"#0d0887\"],[0.1111111111111111,\"#46039f\"],[0.2222222222222222,\"#7201a8\"],[0.3333333333333333,\"#9c179e\"],[0.4444444444444444,\"#bd3786\"],[0.5555555555555556,\"#d8576b\"],[0.6666666666666666,\"#ed7953\"],[0.7777777777777778,\"#fb9f3a\"],[0.8888888888888888,\"#fdca26\"],[1.0,\"#f0f921\"]],\"type\":\"histogram2dcontour\"}],\"mesh3d\":[{\"colorbar\":{\"outlinewidth\":0,\"ticks\":\"\"},\"type\":\"mesh3d\"}],\"parcoords\":[{\"line\":{\"colorbar\":{\"outlinewidth\":0,\"ticks\":\"\"}},\"type\":\"parcoords\"}],\"pie\":[{\"automargin\":true,\"type\":\"pie\"}],\"scatter\":[{\"marker\":{\"colorbar\":{\"outlinewidth\":0,\"ticks\":\"\"}},\"type\":\"scatter\"}],\"scatter3d\":[{\"line\":{\"colorbar\":{\"outlinewidth\":0,\"ticks\":\"\"}},\"marker\":{\"colorbar\":{\"outlinewidth\":0,\"ticks\":\"\"}},\"type\":\"scatter3d\"}],\"scattercarpet\":[{\"marker\":{\"colorbar\":{\"outlinewidth\":0,\"ticks\":\"\"}},\"type\":\"scattercarpet\"}],\"scattergeo\":[{\"marker\":{\"colorbar\":{\"outlinewidth\":0,\"ticks\":\"\"}},\"type\":\"scattergeo\"}],\"scattergl\":[{\"marker\":{\"colorbar\":{\"outlinewidth\":0,\"ticks\":\"\"}},\"type\":\"scattergl\"}],\"scattermapbox\":[{\"marker\":{\"colorbar\":{\"outlinewidth\":0,\"ticks\":\"\"}},\"type\":\"scattermapbox\"}],\"scatterpolar\":[{\"marker\":{\"colorbar\":{\"outlinewidth\":0,\"ticks\":\"\"}},\"type\":\"scatterpolar\"}],\"scatterpolargl\":[{\"marker\":{\"colorbar\":{\"outlinewidth\":0,\"ticks\":\"\"}},\"type\":\"scatterpolargl\"}],\"scatterternary\":[{\"marker\":{\"colorbar\":{\"outlinewidth\":0,\"ticks\":\"\"}},\"type\":\"scatterternary\"}],\"surface\":[{\"colorbar\":{\"outlinewidth\":0,\"ticks\":\"\"},\"colorscale\":[[0.0,\"#0d0887\"],[0.1111111111111111,\"#46039f\"],[0.2222222222222222,\"#7201a8\"],[0.3333333333333333,\"#9c179e\"],[0.4444444444444444,\"#bd3786\"],[0.5555555555555556,\"#d8576b\"],[0.6666666666666666,\"#ed7953\"],[0.7777777777777778,\"#fb9f3a\"],[0.8888888888888888,\"#fdca26\"],[1.0,\"#f0f921\"]],\"type\":\"surface\"}],\"table\":[{\"cells\":{\"fill\":{\"color\":\"#EBF0F8\"},\"line\":{\"color\":\"white\"}},\"header\":{\"fill\":{\"color\":\"#C8D4E3\"},\"line\":{\"color\":\"white\"}},\"type\":\"table\"}]},\"layout\":{\"annotationdefaults\":{\"arrowcolor\":\"#2a3f5f\",\"arrowhead\":0,\"arrowwidth\":1},\"autotypenumbers\":\"strict\",\"coloraxis\":{\"colorbar\":{\"outlinewidth\":0,\"ticks\":\"\"}},\"colorscale\":{\"diverging\":[[0,\"#8e0152\"],[0.1,\"#c51b7d\"],[0.2,\"#de77ae\"],[0.3,\"#f1b6da\"],[0.4,\"#fde0ef\"],[0.5,\"#f7f7f7\"],[0.6,\"#e6f5d0\"],[0.7,\"#b8e186\"],[0.8,\"#7fbc41\"],[0.9,\"#4d9221\"],[1,\"#276419\"]],\"sequential\":[[0.0,\"#0d0887\"],[0.1111111111111111,\"#46039f\"],[0.2222222222222222,\"#7201a8\"],[0.3333333333333333,\"#9c179e\"],[0.4444444444444444,\"#bd3786\"],[0.5555555555555556,\"#d8576b\"],[0.6666666666666666,\"#ed7953\"],[0.7777777777777778,\"#fb9f3a\"],[0.8888888888888888,\"#fdca26\"],[1.0,\"#f0f921\"]],\"sequentialminus\":[[0.0,\"#0d0887\"],[0.1111111111111111,\"#46039f\"],[0.2222222222222222,\"#7201a8\"],[0.3333333333333333,\"#9c179e\"],[0.4444444444444444,\"#bd3786\"],[0.5555555555555556,\"#d8576b\"],[0.6666666666666666,\"#ed7953\"],[0.7777777777777778,\"#fb9f3a\"],[0.8888888888888888,\"#fdca26\"],[1.0,\"#f0f921\"]]},\"colorway\":[\"#636efa\",\"#EF553B\",\"#00cc96\",\"#ab63fa\",\"#FFA15A\",\"#19d3f3\",\"#FF6692\",\"#B6E880\",\"#FF97FF\",\"#FECB52\"],\"font\":{\"color\":\"#2a3f5f\"},\"geo\":{\"bgcolor\":\"white\",\"lakecolor\":\"white\",\"landcolor\":\"#E5ECF6\",\"showlakes\":true,\"showland\":true,\"subunitcolor\":\"white\"},\"hoverlabel\":{\"align\":\"left\"},\"hovermode\":\"closest\",\"mapbox\":{\"style\":\"light\"},\"paper_bgcolor\":\"white\",\"plot_bgcolor\":\"#E5ECF6\",\"polar\":{\"angularaxis\":{\"gridcolor\":\"white\",\"linecolor\":\"white\",\"ticks\":\"\"},\"bgcolor\":\"#E5ECF6\",\"radialaxis\":{\"gridcolor\":\"white\",\"linecolor\":\"white\",\"ticks\":\"\"}},\"scene\":{\"xaxis\":{\"backgroundcolor\":\"#E5ECF6\",\"gridcolor\":\"white\",\"gridwidth\":2,\"linecolor\":\"white\",\"showbackground\":true,\"ticks\":\"\",\"zerolinecolor\":\"white\"},\"yaxis\":{\"backgroundcolor\":\"#E5ECF6\",\"gridcolor\":\"white\",\"gridwidth\":2,\"linecolor\":\"white\",\"showbackground\":true,\"ticks\":\"\",\"zerolinecolor\":\"white\"},\"zaxis\":{\"backgroundcolor\":\"#E5ECF6\",\"gridcolor\":\"white\",\"gridwidth\":2,\"linecolor\":\"white\",\"showbackground\":true,\"ticks\":\"\",\"zerolinecolor\":\"white\"}},\"shapedefaults\":{\"line\":{\"color\":\"#2a3f5f\"}},\"ternary\":{\"aaxis\":{\"gridcolor\":\"white\",\"linecolor\":\"white\",\"ticks\":\"\"},\"baxis\":{\"gridcolor\":\"white\",\"linecolor\":\"white\",\"ticks\":\"\"},\"bgcolor\":\"#E5ECF6\",\"caxis\":{\"gridcolor\":\"white\",\"linecolor\":\"white\",\"ticks\":\"\"}},\"title\":{\"x\":0.05},\"xaxis\":{\"automargin\":true,\"gridcolor\":\"white\",\"linecolor\":\"white\",\"ticks\":\"\",\"title\":{\"standoff\":15},\"zerolinecolor\":\"white\",\"zerolinewidth\":2},\"yaxis\":{\"automargin\":true,\"gridcolor\":\"white\",\"linecolor\":\"white\",\"ticks\":\"\",\"title\":{\"standoff\":15},\"zerolinecolor\":\"white\",\"zerolinewidth\":2}}},\"xaxis\":{\"anchor\":\"y\",\"domain\":[0.0,1.0],\"title\":{\"text\":\"chrom\"},\"categoryorder\":\"array\",\"categoryarray\":[\"chr01p\",\"chr01q\",\"chr02p\",\"chr02q\",\"chr03p\",\"chr03q\",\"chr04p\",\"chr04q\",\"chr05p\",\"chr05q\",\"chr06p\",\"chr06q\",\"chr07p\",\"chr07q\",\"chr08p\",\"chr08q\",\"chr09p\",\"chr09q\",\"chr10p\",\"chr10q\",\"chr11p\",\"chr11q\",\"chr12p\",\"chr12q\",\"chr13p\",\"chr13q\",\"chr14p\",\"chr14q\",\"chr15p\",\"chr15q\",\"chr16p\",\"chr16q\",\"chr17p\",\"chr17q\",\"chr18p\",\"chr18q\",\"chr19p\",\"chr19q\",\"chr20p\",\"chr20q\",\"chr21p\",\"chr21q\",\"chr22p\",\"chr22q\",\"chrXp\",\"chrXq\",\"chrYp\",\"chrYq\"]},\"yaxis\":{\"anchor\":\"x\",\"domain\":[0.0,1.0],\"title\":{\"text\":\"Read_length\"}},\"legend\":{\"title\":{\"text\":\"chrom\"},\"tracegroupgap\":0},\"title\":{\"text\":\"Total Read Length by Chromosome\"},\"boxmode\":\"overlay\"},                        {\"responsive\": true}                    ).then(function(){\n",
       "                            \n",
       "var gd = document.getElementById('16bf30f0-e655-402b-9314-b16b6f001566');\n",
       "var x = new MutationObserver(function (mutations, observer) {{\n",
       "        var display = window.getComputedStyle(gd).display;\n",
       "        if (!display || display === 'none') {{\n",
       "            console.log([gd, 'removed!']);\n",
       "            Plotly.purge(gd);\n",
       "            observer.disconnect();\n",
       "        }}\n",
       "}});\n",
       "\n",
       "// Listen for the removal of the full notebook cells\n",
       "var notebookContainer = gd.closest('#notebook-container');\n",
       "if (notebookContainer) {{\n",
       "    x.observe(notebookContainer, {childList: true});\n",
       "}}\n",
       "\n",
       "// Listen for the clearing of the current output cell\n",
       "var outputEl = gd.closest('.output');\n",
       "if (outputEl) {{\n",
       "    x.observe(outputEl, {childList: true});\n",
       "}}\n",
       "\n",
       "                        })                };                });            </script>        </div>"
      ]
     },
     "metadata": {},
     "output_type": "display_data"
    }
   ],
   "source": [
    "\n",
    "\n",
    "fig = px.box(masterdf.sort_values('chrom'), x='chrom', y='Read_length',color ='chrom',\n",
    "             title = 'Total Read Length by Chromosome')\n",
    "fig.show()"
   ]
  }
 ],
 "metadata": {
  "kernelspec": {
   "display_name": "Python 3",
   "language": "python",
   "name": "python3"
  },
  "language_info": {
   "codemirror_mode": {
    "name": "ipython",
    "version": 3
   },
   "file_extension": ".py",
   "mimetype": "text/x-python",
   "name": "python",
   "nbconvert_exporter": "python",
   "pygments_lexer": "ipython3",
   "version": "3.8.8"
  }
 },
 "nbformat": 4,
 "nbformat_minor": 5
}
